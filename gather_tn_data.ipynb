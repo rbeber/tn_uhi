{
 "cells": [
  {
   "cell_type": "markdown",
   "id": "fc629e13-fdc8-4a0e-8ff2-0a74b5bf6860",
   "metadata": {},
   "source": [
    "# get tn data"
   ]
  },
  {
   "cell_type": "markdown",
   "id": "fe10d543-4b31-4583-998b-605f75562fb2",
   "metadata": {},
   "source": [
    "- agglom-extent\n",
    "- dtm\n",
    "- station data\n",
    "- station location\n",
    "- landsat tiles\n"
   ]
  },
  {
   "cell_type": "markdown",
   "id": "1b07a714-c88d-43a2-9bfa-3e55b5f5103d",
   "metadata": {},
   "source": [
    "# agglomeration extent"
   ]
  },
  {
   "cell_type": "code",
   "execution_count": 1,
   "id": "9d3ebede-7a1c-4ca8-be2b-0c8c71529a0c",
   "metadata": {},
   "outputs": [],
   "source": [
    "# adige valley shape file\n",
    "# quick tool to get shapefile https://www.keene.edu/campus/maps/tool/\n",
    "# actually better https://geojson.io/#map=2/0/20\n"
   ]
  },
  {
   "cell_type": "code",
   "execution_count": null,
   "id": "4a40448f-07e1-471c-acfb-b525eaf1758d",
   "metadata": {},
   "outputs": [
    {
     "data": {
      "application/vnd.jupyter.widget-view+json": {
       "model_id": "7b099a8998ab4612b789b4946191197c",
       "version_major": 2,
       "version_minor": 0
      },
      "text/plain": [
       "Dropdown(description='Shapefile:', options=('POLYGON',), value='POLYGON')"
      ]
     },
     "metadata": {},
     "output_type": "display_data"
    },
    {
     "data": {
      "application/vnd.jupyter.widget-view+json": {
       "model_id": "ab58989b76454980ae1d2cbc86a094b3",
       "version_major": 2,
       "version_minor": 0
      },
      "text/plain": [
       "Button(button_style='success', description='Select shapefile', icon='check', style=ButtonStyle(), tooltip='Sel…"
      ]
     },
     "metadata": {},
     "output_type": "display_data"
    }
   ],
   "source": [
    "#import required packages\n",
    "import os, json\n",
    "import geopandas as gpd\n",
    "from ipywidgets import widgets\n",
    "from ipyleaflet import Map, GeoData, basemaps, LayersControl, ScaleControl, FullScreenControl, WidgetControl\n",
    "from ipywidgets import widgets, IntSlider, jslink\n",
    "#get shapefile name list\n",
    "shp_path = './data/raw/adige_valley/'\n",
    "shpList = [x[:-4] for x in os.listdir(shp_path) if x[-3:]=='shp']\n",
    "\n",
    "#dropdown widget\n",
    "selDrop = widgets.Dropdown(\n",
    "    options=shpList,\n",
    "    value=shpList[0],\n",
    "    description='Shapefile:',\n",
    "    disabled=False,\n",
    ")\n",
    "\n",
    "display(selDrop)\n",
    "\n",
    "#button widget\n",
    "selBot = widgets.Button(\n",
    "    description='Select shapefile',\n",
    "    disabled=False,\n",
    "    button_style='success', # 'success', 'info', 'warning', 'danger' or ''\n",
    "    tooltip='Select shapefile',\n",
    "    icon='check'\n",
    ")\n",
    "\n",
    "display(selBot)\n",
    "\n",
    "\n",
    "#map object\n",
    "m = Map(center=(46.0748, 11.1217), zoom = 10, \n",
    "        basemap = basemaps.OpenTopoMap)\n",
    "\n",
    "zoom_slider = IntSlider(description='Zoom level:', min=0, max=15, value=12)\n",
    "jslink((zoom_slider, 'value'), (m, 'zoom'))\n",
    "widgetControl = WidgetControl(widget=zoom_slider, position='topright')\n",
    "m.add_control(widgetControl)\n",
    "\n",
    "m.add_layer(basemaps.OpenStreetMap.Mapnik)\n",
    "m.add_control(ScaleControl(position='bottomleft'))\n",
    "m.add_control(FullScreenControl(position='topright'))\n",
    "m.add_control(LayersControl())\n",
    "\n",
    "selShp = 'POLYGON' #selDrop.value\n",
    "print(shp_path+'POLYGON'+'.shp')\n",
    "selDf = gpd.read_file(shp_path+'POLYGON'+'.shp')\n",
    "\n",
    "\n",
    "geoDf = selDf.to_crs(4326)\n",
    "lonCent = (geoDf.bounds.maxx + geoDf.bounds.minx).mean()/2\n",
    "latCent = (geoDf.bounds.maxy + geoDf.bounds.miny).mean()/2\n",
    "\n",
    "m.center = (latCent,lonCent)\n",
    "geoData = GeoData(geo_dataframe=geoDf, name=selShp)\n",
    "m.add_layer(geoData)\n",
    "    \n",
    "display(m)\n",
    "\n",
    "# #show map function\n",
    "# def showMap(selShp):\n",
    "\n",
    "#     selDf = gpd.read_file(shp_path+selShp+'.shp')\n",
    "\n",
    "\n",
    "#     geoDf = selDf.to_crs(4326)\n",
    "#     lonCent = (geoDf.bounds.maxx + geoDf.bounds.minx).mean()/2\n",
    "#     latCent = (geoDf.bounds.maxy + geoDf.bounds.miny).mean()/2\n",
    "\n",
    "#     m.center = (latCent,lonCent)\n",
    "#     geoData = GeoData(geo_dataframe=geoDf, name=selShp)\n",
    "#     m.add_layer(geoData)\n",
    "\n",
    "# #on click function\n",
    "# def on_button_clicked(b):\n",
    "#     showMap(selDrop.value)\n",
    "\n",
    "# selBot.on_click(on_button_clicked)"
   ]
  },
  {
   "cell_type": "markdown",
   "id": "960d2c2a-7245-4d04-82f4-acbdd1978759",
   "metadata": {},
   "source": [
    "# currently there is an issue with pandas installation\n",
    "https://github.com/geopandas/geopandas/issues/2556\n",
    "\n",
    "so going to skip for now the reandenring and just use conda env as compiled with uhi_ch1\n"
   ]
  },
  {
   "cell_type": "code",
   "execution_count": 2,
   "id": "9f90371e-2de0-49ff-b437-cefa994a8058",
   "metadata": {},
   "outputs": [
    {
     "data": {
      "text/plain": [
       "<module 'geopandas' from '/home/beber/miniconda3/envs/uhi_ch1/lib/python3.7/site-packages/geopandas/__init__.py'>"
      ]
     },
     "execution_count": 2,
     "metadata": {},
     "output_type": "execute_result"
    }
   ],
   "source": [
    "gpd"
   ]
  },
  {
   "cell_type": "code",
   "execution_count": 4,
   "id": "6212007d-103b-4c69-a2f2-ee31490b8903",
   "metadata": {},
   "outputs": [
    {
     "name": "stdout",
     "output_type": "stream",
     "text": [
      "\n",
      "SYSTEM INFO\n",
      "-----------\n",
      "python     : 3.7.12 | packaged by conda-forge | (default, Oct 26 2021, 06:08:53)  [GCC 9.4.0]\n",
      "executable : /home/beber/miniconda3/envs/uhi_ch1/bin/python\n",
      "machine    : Linux-5.15.0-56-generic-x86_64-with-debian-bookworm-sid\n",
      "\n",
      "GEOS, GDAL, PROJ INFO\n",
      "---------------------\n",
      "GEOS       : 3.8.1\n",
      "GEOS lib   : /home/beber/miniconda3/envs/uhi_ch1/lib/libgeos_c.so\n",
      "GDAL       : 2.4.4\n",
      "GDAL data dir: /home/beber/miniconda3/envs/uhi_ch1/share/gdal\n",
      "PROJ       : 7.0.0\n",
      "PROJ data dir: /home/beber/miniconda3/envs/uhi_ch1/share/proj\n",
      "\n",
      "PYTHON DEPENDENCIES\n",
      "-------------------\n",
      "geopandas  : 0.6.3\n",
      "pandas     : 1.0.5\n",
      "fiona      : 1.8.9.post2\n",
      "numpy      : 1.16.6\n",
      "shapely    : 1.7.1\n",
      "rtree      : 1.0.1\n",
      "pyproj     : 2.6.1.post1\n",
      "matplotlib : 3.3.4\n",
      "mapclassify: None\n",
      "pysal      : None\n",
      "geopy      : 2.3.0\n",
      "psycopg2   : None\n"
     ]
    }
   ],
   "source": [
    "gpd.show_versions()"
   ]
  },
  {
   "cell_type": "code",
   "execution_count": 1,
   "id": "1fe9b8db-ea9b-49c0-8876-07ccd11b81c7",
   "metadata": {},
   "outputs": [],
   "source": [
    "import geopandas as gpd"
   ]
  },
  {
   "cell_type": "code",
   "execution_count": 2,
   "id": "35ae74e4-2918-4ed1-825e-b40cbffdae1f",
   "metadata": {},
   "outputs": [],
   "source": [
    "selDf = gpd.read_file('./data/raw/agglom-extent/agglom-extent.shp')#, engine=\"pyogrio\")"
   ]
  },
  {
   "cell_type": "code",
   "execution_count": 3,
   "id": "2784cfa3",
   "metadata": {},
   "outputs": [
    {
     "data": {
      "text/html": [
       "<div>\n",
       "<style scoped>\n",
       "    .dataframe tbody tr th:only-of-type {\n",
       "        vertical-align: middle;\n",
       "    }\n",
       "\n",
       "    .dataframe tbody tr th {\n",
       "        vertical-align: top;\n",
       "    }\n",
       "\n",
       "    .dataframe thead th {\n",
       "        text-align: right;\n",
       "    }\n",
       "</style>\n",
       "<table border=\"1\" class=\"dataframe\">\n",
       "  <thead>\n",
       "    <tr style=\"text-align: right;\">\n",
       "      <th></th>\n",
       "      <th>FID</th>\n",
       "      <th>geometry</th>\n",
       "    </tr>\n",
       "  </thead>\n",
       "  <tbody>\n",
       "    <tr>\n",
       "      <th>0</th>\n",
       "      <td>0</td>\n",
       "      <td>POLYGON ((11.05748 45.92775, 11.08023 45.95449...</td>\n",
       "    </tr>\n",
       "  </tbody>\n",
       "</table>\n",
       "</div>"
      ],
      "text/plain": [
       "   FID                                           geometry\n",
       "0    0  POLYGON ((11.05748 45.92775, 11.08023 45.95449..."
      ]
     },
     "execution_count": 3,
     "metadata": {},
     "output_type": "execute_result"
    }
   ],
   "source": [
    "selDf"
   ]
  },
  {
   "cell_type": "code",
   "execution_count": 4,
   "id": "e270d65a",
   "metadata": {},
   "outputs": [],
   "source": [
    "# as environemnt is working, for time being keep as it is now"
   ]
  },
  {
   "cell_type": "code",
   "execution_count": null,
   "id": "017e9a18-d872-45ff-9b73-79bde4661f90",
   "metadata": {},
   "outputs": [],
   "source": [
    "gpd.read_file(gpd.datasets.get_path('naturalearth_lowres'), engine=\"pyogrio\")\n"
   ]
  },
  {
   "cell_type": "markdown",
   "id": "58c2f4d3-5e47-4f7d-bbb3-9d0392183f7b",
   "metadata": {},
   "source": [
    "## dtm tn "
   ]
  },
  {
   "cell_type": "code",
   "execution_count": null,
   "id": "0042b18d-f7d3-438d-bcc7-700a1410ef72",
   "metadata": {},
   "outputs": [],
   "source": []
  },
  {
   "cell_type": "markdown",
   "id": "eb57cbe7-7a0f-4b3a-a20c-3708f7174a00",
   "metadata": {},
   "source": [
    "\n",
    "## landsat tiles without clouds:"
   ]
  },
  {
   "cell_type": "code",
   "execution_count": 15,
   "id": "2764205f-0bd0-4cfb-829d-872e769b8e23",
   "metadata": {},
   "outputs": [
    {
     "data": {
      "text/html": [
       "<div>\n",
       "<style scoped>\n",
       "    .dataframe tbody tr th:only-of-type {\n",
       "        vertical-align: middle;\n",
       "    }\n",
       "\n",
       "    .dataframe tbody tr th {\n",
       "        vertical-align: top;\n",
       "    }\n",
       "\n",
       "    .dataframe thead th {\n",
       "        text-align: right;\n",
       "    }\n",
       "</style>\n",
       "<table border=\"1\" class=\"dataframe\">\n",
       "  <thead>\n",
       "    <tr style=\"text-align: right;\">\n",
       "      <th></th>\n",
       "      <th>0</th>\n",
       "    </tr>\n",
       "  </thead>\n",
       "  <tbody>\n",
       "    <tr>\n",
       "      <th>0</th>\n",
       "      <td>LC09_L1TP_193028_20220608_20220608_02_T1</td>\n",
       "    </tr>\n",
       "    <tr>\n",
       "      <th>1</th>\n",
       "      <td>LC09_L1TP_192028_20220617_20220618_02_T1</td>\n",
       "    </tr>\n",
       "    <tr>\n",
       "      <th>2</th>\n",
       "      <td>LC08_L1TP_192028_20220625_20220706_02_T1</td>\n",
       "    </tr>\n",
       "    <tr>\n",
       "      <th>3</th>\n",
       "      <td>LC08_L1TP_193028_20220702_20220708_02_T1</td>\n",
       "    </tr>\n",
       "    <tr>\n",
       "      <th>4</th>\n",
       "      <td>LC09_L1TP_192028_20220703_20220703_02_T1</td>\n",
       "    </tr>\n",
       "    <tr>\n",
       "      <th>5</th>\n",
       "      <td>LC08_L1TP_192028_20220711_20220722_02_T1</td>\n",
       "    </tr>\n",
       "    <tr>\n",
       "      <th>6</th>\n",
       "      <td>LC08_L1TP_193028_20220718_20220726_02_T1</td>\n",
       "    </tr>\n",
       "    <tr>\n",
       "      <th>7</th>\n",
       "      <td>LC09_L1TP_192028_20220719_20220719_02_T1</td>\n",
       "    </tr>\n",
       "    <tr>\n",
       "      <th>8</th>\n",
       "      <td>LC09_L1TP_193028_20220726_20220726_02_T1</td>\n",
       "    </tr>\n",
       "    <tr>\n",
       "      <th>9</th>\n",
       "      <td>LC08_L1TP_193028_20220803_20220806_02_T1</td>\n",
       "    </tr>\n",
       "    <tr>\n",
       "      <th>10</th>\n",
       "      <td>LC09_L1TP_192028_20220804_20220804_02_T1</td>\n",
       "    </tr>\n",
       "    <tr>\n",
       "      <th>11</th>\n",
       "      <td>LC08_L1TP_192028_20220828_20220909_02_T1</td>\n",
       "    </tr>\n",
       "    <tr>\n",
       "      <th>12</th>\n",
       "      <td>LC08_L1TP_193028_20220904_20220914_02_T1</td>\n",
       "    </tr>\n",
       "    <tr>\n",
       "      <th>13</th>\n",
       "      <td>LC09_L1TP_193028_20220912_20220912_02_T1</td>\n",
       "    </tr>\n",
       "    <tr>\n",
       "      <th>14</th>\n",
       "      <td>LC08_L1TP_192028_20220913_20220922_02_T1</td>\n",
       "    </tr>\n",
       "    <tr>\n",
       "      <th>15</th>\n",
       "      <td>LC08_L1TP_193028_20220920_20220928_02_T1</td>\n",
       "    </tr>\n",
       "    <tr>\n",
       "      <th>16</th>\n",
       "      <td>LC09_L1TP_192028_20220921_20220921_02_T1</td>\n",
       "    </tr>\n",
       "  </tbody>\n",
       "</table>\n",
       "</div>"
      ],
      "text/plain": [
       "                                           0\n",
       "0   LC09_L1TP_193028_20220608_20220608_02_T1\n",
       "1   LC09_L1TP_192028_20220617_20220618_02_T1\n",
       "2   LC08_L1TP_192028_20220625_20220706_02_T1\n",
       "3   LC08_L1TP_193028_20220702_20220708_02_T1\n",
       "4   LC09_L1TP_192028_20220703_20220703_02_T1\n",
       "5   LC08_L1TP_192028_20220711_20220722_02_T1\n",
       "6   LC08_L1TP_193028_20220718_20220726_02_T1\n",
       "7   LC09_L1TP_192028_20220719_20220719_02_T1\n",
       "8   LC09_L1TP_193028_20220726_20220726_02_T1\n",
       "9   LC08_L1TP_193028_20220803_20220806_02_T1\n",
       "10  LC09_L1TP_192028_20220804_20220804_02_T1\n",
       "11  LC08_L1TP_192028_20220828_20220909_02_T1\n",
       "12  LC08_L1TP_193028_20220904_20220914_02_T1\n",
       "13  LC09_L1TP_193028_20220912_20220912_02_T1\n",
       "14  LC08_L1TP_192028_20220913_20220922_02_T1\n",
       "15  LC08_L1TP_193028_20220920_20220928_02_T1\n",
       "16  LC09_L1TP_192028_20220921_20220921_02_T1"
      ]
     },
     "execution_count": 15,
     "metadata": {},
     "output_type": "execute_result"
    }
   ],
   "source": [
    "import pandas as pd\n",
    "\n",
    "lsat_tiles_list = pd.read_csv('./data/raw/landsat-tiles.csv', header= None)\n",
    "lsat_tiles_list"
   ]
  },
  {
   "cell_type": "code",
   "execution_count": 28,
   "id": "8b1c1021-c2d0-4526-aa01-805f64e36c6f",
   "metadata": {},
   "outputs": [
    {
     "data": {
      "text/html": [
       "<div>\n",
       "<style scoped>\n",
       "    .dataframe tbody tr th:only-of-type {\n",
       "        vertical-align: middle;\n",
       "    }\n",
       "\n",
       "    .dataframe tbody tr th {\n",
       "        vertical-align: top;\n",
       "    }\n",
       "\n",
       "    .dataframe thead th {\n",
       "        text-align: right;\n",
       "    }\n",
       "</style>\n",
       "<table border=\"1\" class=\"dataframe\">\n",
       "  <thead>\n",
       "    <tr style=\"text-align: right;\">\n",
       "      <th></th>\n",
       "      <th>0</th>\n",
       "      <th>PathRow</th>\n",
       "      <th>date</th>\n",
       "    </tr>\n",
       "  </thead>\n",
       "  <tbody>\n",
       "    <tr>\n",
       "      <th>0</th>\n",
       "      <td>LC09_L1TP_193028_20220608_20220608_02_T1</td>\n",
       "      <td>193028</td>\n",
       "      <td>2022-06-08</td>\n",
       "    </tr>\n",
       "    <tr>\n",
       "      <th>1</th>\n",
       "      <td>LC09_L1TP_192028_20220617_20220618_02_T1</td>\n",
       "      <td>192028</td>\n",
       "      <td>2022-06-17</td>\n",
       "    </tr>\n",
       "    <tr>\n",
       "      <th>2</th>\n",
       "      <td>LC08_L1TP_192028_20220625_20220706_02_T1</td>\n",
       "      <td>192028</td>\n",
       "      <td>2022-06-25</td>\n",
       "    </tr>\n",
       "    <tr>\n",
       "      <th>3</th>\n",
       "      <td>LC08_L1TP_193028_20220702_20220708_02_T1</td>\n",
       "      <td>193028</td>\n",
       "      <td>2022-07-02</td>\n",
       "    </tr>\n",
       "    <tr>\n",
       "      <th>4</th>\n",
       "      <td>LC09_L1TP_192028_20220703_20220703_02_T1</td>\n",
       "      <td>192028</td>\n",
       "      <td>2022-07-03</td>\n",
       "    </tr>\n",
       "    <tr>\n",
       "      <th>5</th>\n",
       "      <td>LC08_L1TP_192028_20220711_20220722_02_T1</td>\n",
       "      <td>192028</td>\n",
       "      <td>2022-07-11</td>\n",
       "    </tr>\n",
       "    <tr>\n",
       "      <th>6</th>\n",
       "      <td>LC08_L1TP_193028_20220718_20220726_02_T1</td>\n",
       "      <td>193028</td>\n",
       "      <td>2022-07-18</td>\n",
       "    </tr>\n",
       "    <tr>\n",
       "      <th>7</th>\n",
       "      <td>LC09_L1TP_192028_20220719_20220719_02_T1</td>\n",
       "      <td>192028</td>\n",
       "      <td>2022-07-19</td>\n",
       "    </tr>\n",
       "    <tr>\n",
       "      <th>8</th>\n",
       "      <td>LC09_L1TP_193028_20220726_20220726_02_T1</td>\n",
       "      <td>193028</td>\n",
       "      <td>2022-07-26</td>\n",
       "    </tr>\n",
       "    <tr>\n",
       "      <th>9</th>\n",
       "      <td>LC08_L1TP_193028_20220803_20220806_02_T1</td>\n",
       "      <td>193028</td>\n",
       "      <td>2022-08-03</td>\n",
       "    </tr>\n",
       "    <tr>\n",
       "      <th>10</th>\n",
       "      <td>LC09_L1TP_192028_20220804_20220804_02_T1</td>\n",
       "      <td>192028</td>\n",
       "      <td>2022-08-04</td>\n",
       "    </tr>\n",
       "    <tr>\n",
       "      <th>11</th>\n",
       "      <td>LC08_L1TP_192028_20220828_20220909_02_T1</td>\n",
       "      <td>192028</td>\n",
       "      <td>2022-08-28</td>\n",
       "    </tr>\n",
       "    <tr>\n",
       "      <th>12</th>\n",
       "      <td>LC08_L1TP_193028_20220904_20220914_02_T1</td>\n",
       "      <td>193028</td>\n",
       "      <td>2022-09-04</td>\n",
       "    </tr>\n",
       "    <tr>\n",
       "      <th>13</th>\n",
       "      <td>LC09_L1TP_193028_20220912_20220912_02_T1</td>\n",
       "      <td>193028</td>\n",
       "      <td>2022-09-12</td>\n",
       "    </tr>\n",
       "    <tr>\n",
       "      <th>14</th>\n",
       "      <td>LC08_L1TP_192028_20220913_20220922_02_T1</td>\n",
       "      <td>192028</td>\n",
       "      <td>2022-09-13</td>\n",
       "    </tr>\n",
       "    <tr>\n",
       "      <th>15</th>\n",
       "      <td>LC08_L1TP_193028_20220920_20220928_02_T1</td>\n",
       "      <td>193028</td>\n",
       "      <td>2022-09-20</td>\n",
       "    </tr>\n",
       "    <tr>\n",
       "      <th>16</th>\n",
       "      <td>LC09_L1TP_192028_20220921_20220921_02_T1</td>\n",
       "      <td>192028</td>\n",
       "      <td>2022-09-21</td>\n",
       "    </tr>\n",
       "  </tbody>\n",
       "</table>\n",
       "</div>"
      ],
      "text/plain": [
       "                                           0 PathRow       date\n",
       "0   LC09_L1TP_193028_20220608_20220608_02_T1  193028 2022-06-08\n",
       "1   LC09_L1TP_192028_20220617_20220618_02_T1  192028 2022-06-17\n",
       "2   LC08_L1TP_192028_20220625_20220706_02_T1  192028 2022-06-25\n",
       "3   LC08_L1TP_193028_20220702_20220708_02_T1  193028 2022-07-02\n",
       "4   LC09_L1TP_192028_20220703_20220703_02_T1  192028 2022-07-03\n",
       "5   LC08_L1TP_192028_20220711_20220722_02_T1  192028 2022-07-11\n",
       "6   LC08_L1TP_193028_20220718_20220726_02_T1  193028 2022-07-18\n",
       "7   LC09_L1TP_192028_20220719_20220719_02_T1  192028 2022-07-19\n",
       "8   LC09_L1TP_193028_20220726_20220726_02_T1  193028 2022-07-26\n",
       "9   LC08_L1TP_193028_20220803_20220806_02_T1  193028 2022-08-03\n",
       "10  LC09_L1TP_192028_20220804_20220804_02_T1  192028 2022-08-04\n",
       "11  LC08_L1TP_192028_20220828_20220909_02_T1  192028 2022-08-28\n",
       "12  LC08_L1TP_193028_20220904_20220914_02_T1  193028 2022-09-04\n",
       "13  LC09_L1TP_193028_20220912_20220912_02_T1  193028 2022-09-12\n",
       "14  LC08_L1TP_192028_20220913_20220922_02_T1  192028 2022-09-13\n",
       "15  LC08_L1TP_193028_20220920_20220928_02_T1  193028 2022-09-20\n",
       "16  LC09_L1TP_192028_20220921_20220921_02_T1  192028 2022-09-21"
      ]
     },
     "execution_count": 28,
     "metadata": {},
     "output_type": "execute_result"
    }
   ],
   "source": [
    "#extract Path Row Numbers\n",
    "lsat_tiles_list['PathRow']=lsat_tiles_list[0].str.extract('_(\\d{6})_')\n",
    "\n",
    "#extract date of acquisition\n",
    "lsat_tiles_list['date']=lsat_tiles_list[0].str.extract('_(\\d{8})_')\n",
    "lsat_tiles_list['date']=pd.to_datetime(lsat_tiles_list['date'],  format='%Y%m%d')\n",
    "\n",
    "lsat_tiles_list\n"
   ]
  },
  {
   "cell_type": "code",
   "execution_count": 33,
   "id": "42d4170d-0600-46de-826d-4671e2c72288",
   "metadata": {},
   "outputs": [
    {
     "data": {
      "text/plain": [
       "<AxesSubplot:>"
      ]
     },
     "execution_count": 33,
     "metadata": {},
     "output_type": "execute_result"
    },
    {
     "data": {
      "image/png": "[encoded data removed]",
      "text/plain": [
       "<Figure size 640x480 with 1 Axes>"
      ]
     },
     "metadata": {},
     "output_type": "display_data"
    }
   ],
   "source": [
    "lsat_tiles_list['date'].plot()"
   ]
  },
  {
   "cell_type": "code",
   "execution_count": 35,
   "id": "d07e1ece-ca31-4fde-acee-cd544c6e8e0f",
   "metadata": {},
   "outputs": [],
   "source": [
    "# average passing tim eof landsat 8 and 9 over Trento ( 46.066667, 11.116667) in descending mode (day) is about\n",
    "\n",
    "acq_time = '09:58:00'"
   ]
  },
  {
   "cell_type": "code",
   "execution_count": 36,
   "id": "6060bdbc-3072-447e-a133-86a0d317d029",
   "metadata": {},
   "outputs": [],
   "source": [
    "# extract temperature of that time form availabel stations"
   ]
  }
 ],
 "metadata": {
  "kernelspec": {
   "display_name": "Py_uhi",
   "language": "python",
   "name": "uhi"
  },
  "language_info": {
   "codemirror_mode": {
    "name": "ipython",
    "version": 3
   },
   "file_extension": ".py",
   "mimetype": "text/x-python",
   "name": "python",
   "nbconvert_exporter": "python",
   "pygments_lexer": "ipython3",
   "version": "3.7.12"
  }
 },
 "nbformat": 4,
 "nbformat_minor": 5
}
