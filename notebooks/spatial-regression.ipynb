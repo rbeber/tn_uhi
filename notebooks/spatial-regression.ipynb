{
 "cells": [
  {
   "cell_type": "code",
   "execution_count": 1,
   "metadata": {},
   "outputs": [],
   "source": [
    "#add wget to kernel, but this is the import wget NOT USED\n",
    "#import sys\n",
    "#!{sys.executable} -m pip install wget"
   ]
  },
  {
   "cell_type": "code",
   "execution_count": 2,
   "metadata": {},
   "outputs": [],
   "source": [
    "#to be run using\n",
    "#\n",
    "#mamba activate uhi_ch_less1  #From WSL\n",
    "#\n",
    "#jupyter notebook --port=8889 --no-browser  \n",
    "#\n",
    "# should be alrteady present thuis kernel\n",
    "#python -m ipykernel install --user --name uhi_ch_less1 --display-name \\ \"Py UHI\"\n",
    "#\n",
    "#"
   ]
  },
  {
   "cell_type": "code",
   "execution_count": 1,
   "metadata": {
    "scrolled": true
   },
   "outputs": [
    {
     "name": "stdout",
     "output_type": "stream",
     "text": [
      "make: Entering directory '/home/beber/fbk_sandbox/swiss_uhi/lausanne-heat-islands'\n",
      "mkdir data/interim/regression\n",
      "python lausanne_heat_islands/regression/make_landsat_features.py data/raw/landsat-tiles.csv \\\n",
      "\tdata/raw/agglom-extent/agglom-extent.shp data/interim/regression/landsat-features.nc\n",
      "Downloading salem-sample-data...\n",
      "LC08_L1TP_196028_20180525_20180605_01_T1_B3.TIF: : 83.9MB [00:02, 33.0MB/s]     \n",
      "LC08_L1TP_196028_20180525_20180605_01_T1_B4.TIF: : 86.0MB [00:02, 40.4MB/s]     \n",
      "LC08_L1TP_196028_20180525_20180605_01_T1_B5.TIF: : 101MB [00:02, 42.3MB/s]      \n",
      "LC08_L1TP_196028_20180525_20180605_01_T1_B10.TIF: : 66.1MB [00:01, 38.4MB/s]    \n",
      "LC08_L1TP_196028_20180525_20180605_01_T1_MTL.txt: : 1.05MB [00:00, 355MB/s]     \n",
      "/home/beber/miniconda3/envs/uhi_ch1/lib/python3.7/site-packages/pyproj/crs/crs.py:53: FutureWarning: '+init=<authority>:<code>' syntax is deprecated. '<authority>:<code>' is the preferred initialization method. When making the change, be mindful of axis order changes: https://pyproj4.github.io/pyproj/stable/gotchas.html#axis-order-changes-in-proj-6\n",
      "  return _prepare_from_string(\" \".join(pjargs))\n",
      "/home/beber/miniconda3/envs/uhi_ch1/lib/python3.7/site-packages/pyproj/crs/crs.py:53: FutureWarning: '+init=<authority>:<code>' syntax is deprecated. '<authority>:<code>' is the preferred initialization method. When making the change, be mindful of axis order changes: https://pyproj4.github.io/pyproj/stable/gotchas.html#axis-order-changes-in-proj-6\n",
      "  return _prepare_from_string(\" \".join(pjargs))\n",
      "LC08_L1TP_195028_20180619_20180703_01_T1_B3.TIF: : 87.0MB [00:03, 27.5MB/s]     \n",
      "LC08_L1TP_195028_20180619_20180703_01_T1_B4.TIF: : 89.1MB [00:02, 39.6MB/s]     \n",
      "LC08_L1TP_195028_20180619_20180703_01_T1_B5.TIF: : 103MB [00:03, 31.1MB/s]      \n",
      "LC08_L1TP_195028_20180619_20180703_01_T1_B10.TIF: : 68.2MB [00:02, 33.9MB/s]    \n",
      "LC08_L1TP_195028_20180619_20180703_01_T1_MTL.txt: : 1.05MB [00:00, 597MB/s]     \n",
      "/home/beber/miniconda3/envs/uhi_ch1/lib/python3.7/site-packages/pyproj/crs/crs.py:53: FutureWarning: '+init=<authority>:<code>' syntax is deprecated. '<authority>:<code>' is the preferred initialization method. When making the change, be mindful of axis order changes: https://pyproj4.github.io/pyproj/stable/gotchas.html#axis-order-changes-in-proj-6\n",
      "  return _prepare_from_string(\" \".join(pjargs))\n",
      "LC08_L1TP_196028_20180626_20180704_01_T1_B3.TIF: : 83.9MB [00:02, 33.9MB/s]     \n",
      "LC08_L1TP_196028_20180626_20180704_01_T1_B4.TIF: : 87.0MB [00:02, 41.8MB/s]     \n",
      "LC08_L1TP_196028_20180626_20180704_01_T1_B5.TIF: : 102MB [00:02, 41.1MB/s]      \n",
      "LC08_L1TP_196028_20180626_20180704_01_T1_B10.TIF: : 68.2MB [00:01, 35.4MB/s]    \n",
      "LC08_L1TP_196028_20180626_20180704_01_T1_MTL.txt: : 1.05MB [00:00, 1.08GB/s]    \n",
      "/home/beber/miniconda3/envs/uhi_ch1/lib/python3.7/site-packages/pyproj/crs/crs.py:53: FutureWarning: '+init=<authority>:<code>' syntax is deprecated. '<authority>:<code>' is the preferred initialization method. When making the change, be mindful of axis order changes: https://pyproj4.github.io/pyproj/stable/gotchas.html#axis-order-changes-in-proj-6\n",
      "  return _prepare_from_string(\" \".join(pjargs))\n",
      "LC08_L1TP_196028_20190613_20190619_01_T1_B3.TIF: : 82.8MB [00:02, 39.2MB/s]     \n",
      "LC08_L1TP_196028_20190613_20190619_01_T1_B4.TIF: : 86.0MB [00:02, 38.5MB/s]     \n",
      "LC08_L1TP_196028_20190613_20190619_01_T1_B5.TIF: : 102MB [00:02, 36.7MB/s]      \n",
      "LC08_L1TP_196028_20190613_20190619_01_T1_B10.TIF: : 66.1MB [00:01, 36.7MB/s]    \n",
      "LC08_L1TP_196028_20190613_20190619_01_T1_MTL.txt: : 1.05MB [00:00, 658MB/s]     \n",
      "/home/beber/miniconda3/envs/uhi_ch1/lib/python3.7/site-packages/pyproj/crs/crs.py:53: FutureWarning: '+init=<authority>:<code>' syntax is deprecated. '<authority>:<code>' is the preferred initialization method. When making the change, be mindful of axis order changes: https://pyproj4.github.io/pyproj/stable/gotchas.html#axis-order-changes-in-proj-6\n",
      "  return _prepare_from_string(\" \".join(pjargs))\n",
      "LC08_L1TP_196028_20190629_20190706_01_T1_B3.TIF: : 82.8MB [00:02, 35.4MB/s]     \n",
      "LC08_L1TP_196028_20190629_20190706_01_T1_B4.TIF: : 86.0MB [00:02, 39.4MB/s]     \n",
      "LC08_L1TP_196028_20190629_20190706_01_T1_B5.TIF: : 101MB [00:02, 40.4MB/s]      \n",
      "LC08_L1TP_196028_20190629_20190706_01_T1_B10.TIF: : 68.2MB [00:01, 34.1MB/s]    \n",
      "LC08_L1TP_196028_20190629_20190706_01_T1_MTL.txt: : 1.05MB [00:00, 377MB/s]     \n",
      "/home/beber/miniconda3/envs/uhi_ch1/lib/python3.7/site-packages/pyproj/crs/crs.py:53: FutureWarning: '+init=<authority>:<code>' syntax is deprecated. '<authority>:<code>' is the preferred initialization method. When making the change, be mindful of axis order changes: https://pyproj4.github.io/pyproj/stable/gotchas.html#axis-order-changes-in-proj-6\n",
      "  return _prepare_from_string(\" \".join(pjargs))\n",
      "LC08_L1TP_195028_20190724_20190801_01_T1_B3.TIF: : 83.9MB [00:02, 35.0MB/s]     \n",
      "LC08_L1TP_195028_20190724_20190801_01_T1_B4.TIF: : 87.0MB [00:02, 37.7MB/s]     \n",
      "LC08_L1TP_195028_20190724_20190801_01_T1_B5.TIF: : 101MB [00:02, 40.1MB/s]      \n",
      "LC08_L1TP_195028_20190724_20190801_01_T1_B10.TIF: : 68.2MB [00:01, 35.6MB/s]    \n",
      "LC08_L1TP_195028_20190724_20190801_01_T1_MTL.txt: : 1.05MB [00:00, 424MB/s]     \n",
      "/home/beber/miniconda3/envs/uhi_ch1/lib/python3.7/site-packages/pyproj/crs/crs.py:53: FutureWarning: '+init=<authority>:<code>' syntax is deprecated. '<authority>:<code>' is the preferred initialization method. When making the change, be mindful of axis order changes: https://pyproj4.github.io/pyproj/stable/gotchas.html#axis-order-changes-in-proj-6\n",
      "  return _prepare_from_string(\" \".join(pjargs))\n",
      "LC08_L1TP_195028_20190809_20190820_01_T1_B3.TIF: : 84.9MB [00:02, 37.3MB/s]     \n",
      "LC08_L1TP_195028_20190809_20190820_01_T1_B4.TIF: : 87.0MB [00:02, 40.4MB/s]     \n",
      "LC08_L1TP_195028_20190809_20190820_01_T1_B5.TIF: : 101MB [00:02, 41.1MB/s]      \n",
      "LC08_L1TP_195028_20190809_20190820_01_T1_B10.TIF: : 66.1MB [00:01, 33.8MB/s]    \n",
      "LC08_L1TP_195028_20190809_20190820_01_T1_MTL.txt: : 1.05MB [00:00, 477MB/s]     \n",
      "/home/beber/miniconda3/envs/uhi_ch1/lib/python3.7/site-packages/pyproj/crs/crs.py:53: FutureWarning: '+init=<authority>:<code>' syntax is deprecated. '<authority>:<code>' is the preferred initialization method. When making the change, be mindful of axis order changes: https://pyproj4.github.io/pyproj/stable/gotchas.html#axis-order-changes-in-proj-6\n",
      "  return _prepare_from_string(\" \".join(pjargs))\n",
      "LC08_L1TP_195028_20190825_20190903_01_T1_B3.TIF: : 80.7MB [00:02, 33.0MB/s]     \n",
      "LC08_L1TP_195028_20190825_20190903_01_T1_B4.TIF: : 82.8MB [00:02, 39.0MB/s]     \n",
      "LC08_L1TP_195028_20190825_20190903_01_T1_B5.TIF: : 99.6MB [00:02, 41.4MB/s]     \n",
      "LC08_L1TP_195028_20190825_20190903_01_T1_B10.TIF: : 66.1MB [00:01, 34.8MB/s]    \n",
      "LC08_L1TP_195028_20190825_20190903_01_T1_MTL.txt: : 1.05MB [00:00, 897MB/s]     \n",
      "/home/beber/miniconda3/envs/uhi_ch1/lib/python3.7/site-packages/pyproj/crs/crs.py:53: FutureWarning: '+init=<authority>:<code>' syntax is deprecated. '<authority>:<code>' is the preferred initialization method. When making the change, be mindful of axis order changes: https://pyproj4.github.io/pyproj/stable/gotchas.html#axis-order-changes-in-proj-6\n",
      "  return _prepare_from_string(\" \".join(pjargs))\n",
      "2023-01-05 12:03:59,328 - __main__ - INFO - dumped landsat features dataset to data/interim/regression/landsat-features.nc\n",
      "python lausanne_heat_islands/regression/make_regression_df.py data/raw/stations/station-locations.csv \\\n",
      "\tdata/interim/station-tair.csv data/interim/regression/landsat-features.nc data/interim/regression/regression-df.csv\n",
      "2023-01-05 12:04:00,690 - __main__ - INFO - dumped air temperature regression data frame to data/interim/regression/regression-df.csv\n",
      "make: Leaving directory '/home/beber/fbk_sandbox/swiss_uhi/lausanne-heat-islands'\n"
     ]
    }
   ],
   "source": [
    "!make -C .. regression_df"
   ]
  },
  {
   "cell_type": "code",
   "execution_count": 4,
   "metadata": {},
   "outputs": [
    {
     "name": "stdout",
     "output_type": "stream",
     "text": [
      "wget: missing URL\n",
      "Usage: wget [OPTION]... [URL]...\n",
      "\n",
      "Try `wget --help' for more options.\n"
     ]
    }
   ],
   "source": [
    "!wget"
   ]
  },
  {
   "cell_type": "code",
   "execution_count": 2,
   "metadata": {},
   "outputs": [],
   "source": [
    "import pandas as pd\n",
    "import statsmodels.api as sm\n",
    "import xarray as xr\n",
    "from sklearn import (ensemble, inspection, linear_model, metrics,\n",
    "                     model_selection, svm)\n",
    "from sklearn import utils as sk_utils\n",
    "\n",
    "from lausanne_heat_islands import utils"
   ]
  },
  {
   "cell_type": "code",
   "execution_count": 3,
   "metadata": {
    "autoscroll": false,
    "ein.hycell": false,
    "ein.tags": "worksheet-0",
    "slideshow": {
     "slide_type": "-"
    }
   },
   "outputs": [],
   "source": [
    "regression_df_filepath = '../data/interim/regression/regression-df.csv'"
   ]
  },
  {
   "cell_type": "code",
   "execution_count": 4,
   "metadata": {
    "autoscroll": false,
    "ein.hycell": false,
    "ein.tags": "worksheet-0",
    "slideshow": {
     "slide_type": "-"
    }
   },
   "outputs": [],
   "source": [
    "regression_df = pd.read_csv(regression_df_filepath, index_col=[0, 1])"
   ]
  },
  {
   "cell_type": "code",
   "execution_count": 5,
   "metadata": {
    "autoscroll": false,
    "ein.hycell": false,
    "ein.tags": "worksheet-0",
    "slideshow": {
     "slide_type": "-"
    }
   },
   "outputs": [],
   "source": [
    "def make_dataset(regression_df,\n",
    "                 features=None,\n",
    "                 target='tair_station',\n",
    "                 shuffle=True):\n",
    "    y = regression_df[target]\n",
    "    if features is None:\n",
    "        X = regression_df.drop(target, axis=1)\n",
    "    else:\n",
    "        X = regression_df[list(features)]\n",
    "\n",
    "    if shuffle:\n",
    "        X, y = sk_utils.shuffle(X, y)\n",
    "\n",
    "    return X, y"
   ]
  },
  {
   "cell_type": "code",
   "execution_count": 6,
   "metadata": {
    "autoscroll": false,
    "ein.hycell": false,
    "ein.tags": "worksheet-0",
    "slideshow": {
     "slide_type": "-"
    }
   },
   "outputs": [
    {
     "data": {
      "text/html": [
       "<div>\n",
       "<style scoped>\n",
       "    .dataframe tbody tr th:only-of-type {\n",
       "        vertical-align: middle;\n",
       "    }\n",
       "\n",
       "    .dataframe tbody tr th {\n",
       "        vertical-align: top;\n",
       "    }\n",
       "\n",
       "    .dataframe thead th {\n",
       "        text-align: right;\n",
       "    }\n",
       "</style>\n",
       "<table border=\"1\" class=\"dataframe\">\n",
       "  <thead>\n",
       "    <tr style=\"text-align: right;\">\n",
       "      <th></th>\n",
       "      <th></th>\n",
       "      <th>lst_0</th>\n",
       "      <th>ndwi_0</th>\n",
       "      <th>lst_200</th>\n",
       "      <th>ndwi_200</th>\n",
       "      <th>lst_400</th>\n",
       "      <th>ndwi_400</th>\n",
       "      <th>lst_600</th>\n",
       "      <th>ndwi_600</th>\n",
       "      <th>lst_800</th>\n",
       "      <th>ndwi_800</th>\n",
       "      <th>elev</th>\n",
       "      <th>tair_station</th>\n",
       "    </tr>\n",
       "  </thead>\n",
       "  <tbody>\n",
       "    <tr>\n",
       "      <th rowspan=\"5\" valign=\"top\">2018-05-25</th>\n",
       "      <th>BOURG-EN-LAVAUX</th>\n",
       "      <td>26.014134</td>\n",
       "      <td>-0.334515</td>\n",
       "      <td>26.754689</td>\n",
       "      <td>-0.266422</td>\n",
       "      <td>26.528556</td>\n",
       "      <td>-0.275616</td>\n",
       "      <td>26.043737</td>\n",
       "      <td>-0.260330</td>\n",
       "      <td>25.255805</td>\n",
       "      <td>-0.219232</td>\n",
       "      <td>519</td>\n",
       "      <td>21.1</td>\n",
       "    </tr>\n",
       "    <tr>\n",
       "      <th>BOVDCH</th>\n",
       "      <td>21.650461</td>\n",
       "      <td>-0.456614</td>\n",
       "      <td>21.830704</td>\n",
       "      <td>-0.392005</td>\n",
       "      <td>22.426036</td>\n",
       "      <td>-0.401703</td>\n",
       "      <td>22.464239</td>\n",
       "      <td>-0.406227</td>\n",
       "      <td>22.308259</td>\n",
       "      <td>-0.396235</td>\n",
       "      <td>680</td>\n",
       "      <td>17.3</td>\n",
       "    </tr>\n",
       "    <tr>\n",
       "      <th>BOVDMR</th>\n",
       "      <td>26.395785</td>\n",
       "      <td>-0.229706</td>\n",
       "      <td>26.079124</td>\n",
       "      <td>-0.269882</td>\n",
       "      <td>25.949049</td>\n",
       "      <td>-0.262776</td>\n",
       "      <td>25.356981</td>\n",
       "      <td>-0.217986</td>\n",
       "      <td>24.551374</td>\n",
       "      <td>-0.167194</td>\n",
       "      <td>380</td>\n",
       "      <td>21.2</td>\n",
       "    </tr>\n",
       "    <tr>\n",
       "      <th>BOVDSO</th>\n",
       "      <td>21.088022</td>\n",
       "      <td>-0.465147</td>\n",
       "      <td>21.477795</td>\n",
       "      <td>-0.417006</td>\n",
       "      <td>22.195320</td>\n",
       "      <td>-0.388652</td>\n",
       "      <td>22.970605</td>\n",
       "      <td>-0.376730</td>\n",
       "      <td>23.260748</td>\n",
       "      <td>-0.365749</td>\n",
       "      <td>500</td>\n",
       "      <td>19.8</td>\n",
       "    </tr>\n",
       "    <tr>\n",
       "      <th>MARCELIN</th>\n",
       "      <td>24.975926</td>\n",
       "      <td>-0.355455</td>\n",
       "      <td>25.100744</td>\n",
       "      <td>-0.343064</td>\n",
       "      <td>24.344891</td>\n",
       "      <td>-0.371353</td>\n",
       "      <td>24.286819</td>\n",
       "      <td>-0.371502</td>\n",
       "      <td>24.394364</td>\n",
       "      <td>-0.367017</td>\n",
       "      <td>436</td>\n",
       "      <td>18.5</td>\n",
       "    </tr>\n",
       "  </tbody>\n",
       "</table>\n",
       "</div>"
      ],
      "text/plain": [
       "                                lst_0    ndwi_0    lst_200  ndwi_200  \\\n",
       "2018-05-25 BOURG-EN-LAVAUX  26.014134 -0.334515  26.754689 -0.266422   \n",
       "           BOVDCH           21.650461 -0.456614  21.830704 -0.392005   \n",
       "           BOVDMR           26.395785 -0.229706  26.079124 -0.269882   \n",
       "           BOVDSO           21.088022 -0.465147  21.477795 -0.417006   \n",
       "           MARCELIN         24.975926 -0.355455  25.100744 -0.343064   \n",
       "\n",
       "                              lst_400  ndwi_400    lst_600  ndwi_600  \\\n",
       "2018-05-25 BOURG-EN-LAVAUX  26.528556 -0.275616  26.043737 -0.260330   \n",
       "           BOVDCH           22.426036 -0.401703  22.464239 -0.406227   \n",
       "           BOVDMR           25.949049 -0.262776  25.356981 -0.217986   \n",
       "           BOVDSO           22.195320 -0.388652  22.970605 -0.376730   \n",
       "           MARCELIN         24.344891 -0.371353  24.286819 -0.371502   \n",
       "\n",
       "                              lst_800  ndwi_800  elev  tair_station  \n",
       "2018-05-25 BOURG-EN-LAVAUX  25.255805 -0.219232   519          21.1  \n",
       "           BOVDCH           22.308259 -0.396235   680          17.3  \n",
       "           BOVDMR           24.551374 -0.167194   380          21.2  \n",
       "           BOVDSO           23.260748 -0.365749   500          19.8  \n",
       "           MARCELIN         24.394364 -0.367017   436          18.5  "
      ]
     },
     "execution_count": 6,
     "metadata": {},
     "output_type": "execute_result"
    }
   ],
   "source": [
    "regression_df.head()"
   ]
  },
  {
   "cell_type": "markdown",
   "metadata": {},
   "source": [
    "After dropping the missing observations, the total number of samples is:"
   ]
  },
  {
   "cell_type": "code",
   "execution_count": 7,
   "metadata": {
    "autoscroll": false,
    "ein.hycell": false,
    "ein.tags": "worksheet-0",
    "slideshow": {
     "slide_type": "-"
    }
   },
   "outputs": [
    {
     "data": {
      "text/plain": [
       "88"
      ]
     },
     "execution_count": 7,
     "metadata": {},
     "output_type": "execute_result"
    }
   ],
   "source": [
    "len(regression_df)"
   ]
  },
  {
   "cell_type": "markdown",
   "metadata": {
    "ein.tags": "worksheet-0",
    "slideshow": {
     "slide_type": "-"
    }
   },
   "source": [
    "## Model performance"
   ]
  },
  {
   "cell_type": "code",
   "execution_count": 8,
   "metadata": {},
   "outputs": [],
   "source": [
    "target = 'tair_station'\n",
    "\n",
    "model_dict = {\n",
    "    'lr': linear_model.LinearRegression,\n",
    "    'svm': svm.SVR,    \n",
    "    'rf': ensemble.RandomForestRegressor\n",
    "}"
   ]
  },
  {
   "cell_type": "code",
   "execution_count": 9,
   "metadata": {},
   "outputs": [],
   "source": [
    "#need to add localy since not in the last release\n",
    "# STATS\n",
    "#METRIC_COLUMNS = ['R^2', 'MAE', 'RMSE']\n",
    "\n",
    "#def compute_model_perf(obs, pred):\n",
    "#    return [\n",
    "#        metrics.r2_score(obs, pred),\n",
    "#        metrics.mean_absolute_error(obs, pred),\n",
    "#        metrics.mean_squared_error(obs, pred, squared=False)]\n",
    "\n",
    "# let's add them to utils\n",
    "#USUALLY DON'T DO THIS is a BAD idea\n",
    "#import types\n",
    "\n",
    "#M0 abshttps://stackoverflow.com/questions/972/adding-a-method-to-an-existing-object-instance\n",
    "#utils.compute_model_perf = compute_model_perf.__get__(utils)\n",
    "#M1\n",
    "#foo.sample_method = types.MethodType(sample_method, foo)\n",
    "#utils.compute_model_perf = types.MethodType(compute_model_perf, utils)\n",
    "\n",
    "\n",
    "\n"
   ]
  },
  {
   "cell_type": "code",
   "execution_count": 10,
   "metadata": {},
   "outputs": [
    {
     "data": {
      "text/html": [
       "<style  type=\"text/css\" >\n",
       "</style><table id=\"T_b5b92ae8_8ce8_11ed_a13d_3ce9f7fd7a6e\" ><caption>Table 1. Model performance with all samples</caption><thead>    <tr>        <th class=\"blank level0\" ></th>        <th class=\"col_heading level0 col0\" >R^2</th>        <th class=\"col_heading level0 col1\" >MAE</th>        <th class=\"col_heading level0 col2\" >RMSE</th>    </tr></thead><tbody>\n",
       "                <tr>\n",
       "                        <th id=\"T_b5b92ae8_8ce8_11ed_a13d_3ce9f7fd7a6elevel0_row0\" class=\"row_heading level0 row0\" >LinearRegression</th>\n",
       "                        <td id=\"T_b5b92ae8_8ce8_11ed_a13d_3ce9f7fd7a6erow0_col0\" class=\"data row0 col0\" >0.831891</td>\n",
       "                        <td id=\"T_b5b92ae8_8ce8_11ed_a13d_3ce9f7fd7a6erow0_col1\" class=\"data row0 col1\" >1.197609</td>\n",
       "                        <td id=\"T_b5b92ae8_8ce8_11ed_a13d_3ce9f7fd7a6erow0_col2\" class=\"data row0 col2\" >1.508089</td>\n",
       "            </tr>\n",
       "            <tr>\n",
       "                        <th id=\"T_b5b92ae8_8ce8_11ed_a13d_3ce9f7fd7a6elevel0_row1\" class=\"row_heading level0 row1\" >SVR</th>\n",
       "                        <td id=\"T_b5b92ae8_8ce8_11ed_a13d_3ce9f7fd7a6erow1_col0\" class=\"data row1 col0\" >0.014353</td>\n",
       "                        <td id=\"T_b5b92ae8_8ce8_11ed_a13d_3ce9f7fd7a6erow1_col1\" class=\"data row1 col1\" >2.670680</td>\n",
       "                        <td id=\"T_b5b92ae8_8ce8_11ed_a13d_3ce9f7fd7a6erow1_col2\" class=\"data row1 col2\" >3.651673</td>\n",
       "            </tr>\n",
       "            <tr>\n",
       "                        <th id=\"T_b5b92ae8_8ce8_11ed_a13d_3ce9f7fd7a6elevel0_row2\" class=\"row_heading level0 row2\" >RandomForestRegressor</th>\n",
       "                        <td id=\"T_b5b92ae8_8ce8_11ed_a13d_3ce9f7fd7a6erow2_col0\" class=\"data row2 col0\" >0.954655</td>\n",
       "                        <td id=\"T_b5b92ae8_8ce8_11ed_a13d_3ce9f7fd7a6erow2_col1\" class=\"data row2 col1\" >0.614578</td>\n",
       "                        <td id=\"T_b5b92ae8_8ce8_11ed_a13d_3ce9f7fd7a6erow2_col2\" class=\"data row2 col2\" >0.783242</td>\n",
       "            </tr>\n",
       "    </tbody></table>"
      ],
      "text/plain": [
       "<pandas.io.formats.style.Styler at 0x7fdc0f71cd10>"
      ]
     },
     "execution_count": 10,
     "metadata": {},
     "output_type": "execute_result"
    }
   ],
   "source": [
    "X, y = make_dataset(regression_df, target=target)\n",
    "\n",
    "model_perf_df = pd.DataFrame(columns=['R^2', 'MAE', 'RMSE'])\n",
    "for model_label in model_dict:\n",
    "    model = model_dict[model_label]\n",
    "    regr = model().fit(X, y)\n",
    "    y_pred = regr.predict(X)\n",
    "    model_perf_df.loc[model.__name__] = [metrics.r2_score(y, y_pred),\n",
    "                                        metrics.mean_absolute_error(y, y_pred),\n",
    "                                        metrics.mean_squared_error(y, y_pred, squared=False)]\n",
    "\n",
    "\n",
    "model_perf_df.style.set_caption('Table 1. Model performance with all samples')"
   ]
  },
  {
   "cell_type": "markdown",
   "metadata": {},
   "source": [
    "If all the samples are considered, the random forest regressor achieves the best fit with a coefficient of determination of $R^2 = 0.960$, followed by the $R^2 = 0.832$ achieved by the ordinary linear regression.\n",
    "\n",
    "### Cross validation"
   ]
  },
  {
   "cell_type": "code",
   "execution_count": 11,
   "metadata": {
    "autoscroll": false,
    "ein.hycell": false,
    "ein.tags": "worksheet-0",
    "slideshow": {
     "slide_type": "-"
    }
   },
   "outputs": [],
   "source": [
    "num_repetitions = 20\n",
    "num_folds = 3"
   ]
  },
  {
   "cell_type": "code",
   "execution_count": 12,
   "metadata": {},
   "outputs": [
    {
     "data": {
      "text/html": [
       "<style  type=\"text/css\" >\n",
       "</style><table id=\"T_b8eb8396_8ce8_11ed_a13d_3ce9f7fd7a6e\" ><caption>Table 2. Cross validation scores</caption><thead>    <tr>        <th class=\"blank level0\" ></th>        <th class=\"col_heading level0 col0\" >Cross validation R^2</th>    </tr></thead><tbody>\n",
       "                <tr>\n",
       "                        <th id=\"T_b8eb8396_8ce8_11ed_a13d_3ce9f7fd7a6elevel0_row0\" class=\"row_heading level0 row0\" >LinearRegression</th>\n",
       "                        <td id=\"T_b8eb8396_8ce8_11ed_a13d_3ce9f7fd7a6erow0_col0\" class=\"data row0 col0\" >0.750605</td>\n",
       "            </tr>\n",
       "            <tr>\n",
       "                        <th id=\"T_b8eb8396_8ce8_11ed_a13d_3ce9f7fd7a6elevel0_row1\" class=\"row_heading level0 row1\" >SVR</th>\n",
       "                        <td id=\"T_b8eb8396_8ce8_11ed_a13d_3ce9f7fd7a6erow1_col0\" class=\"data row1 col0\" >-0.045407</td>\n",
       "            </tr>\n",
       "            <tr>\n",
       "                        <th id=\"T_b8eb8396_8ce8_11ed_a13d_3ce9f7fd7a6elevel0_row2\" class=\"row_heading level0 row2\" >RandomForestRegressor</th>\n",
       "                        <td id=\"T_b8eb8396_8ce8_11ed_a13d_3ce9f7fd7a6erow2_col0\" class=\"data row2 col0\" >0.660262</td>\n",
       "            </tr>\n",
       "    </tbody></table>"
      ],
      "text/plain": [
       "<pandas.io.formats.style.Styler at 0x7fdc887e32d0>"
      ]
     },
     "execution_count": 12,
     "metadata": {},
     "output_type": "execute_result"
    }
   ],
   "source": [
    "accuracy_df = pd.DataFrame(columns=model_dict.keys(),\n",
    "                           index=range(num_repetitions))\n",
    "\n",
    "for i in range(num_repetitions):\n",
    "    X, y = make_dataset(regression_df, target=target)\n",
    "\n",
    "    for model_label in model_dict:\n",
    "        accuracy_df.loc[(i, model_label)] = model_selection.cross_val_score(\n",
    "            model_dict[model_label](), X, y, cv=num_folds).mean()\n",
    "\n",
    "# output a Table with nicer row/column labels\n",
    "pd.DataFrame({\n",
    "    'Cross validation R^2': accuracy_df.mean()\n",
    "}).rename(index=lambda model_label: model_dict[model_label].__name__\n",
    "          ).style.set_caption('Table 2. Cross validation scores')"
   ]
  },
  {
   "cell_type": "markdown",
   "metadata": {
    "ein.tags": "worksheet-0",
    "slideshow": {
     "slide_type": "-"
    }
   },
   "source": [
    "The cross validation suggests that the linear regression is more robust to missing data and also less likely to over-fit the observations than the random forest regressor.\n",
    "\n",
    "## Feature importance"
   ]
  },
  {
   "cell_type": "code",
   "execution_count": 13,
   "metadata": {},
   "outputs": [
    {
     "name": "stdout",
     "output_type": "stream",
     "text": [
      "<class 'sklearn.linear_model._base.LinearRegression'>\n",
      "          importances_mean  importances_std\n",
      "ndwi_600         32.932156         3.988577\n",
      "ndwi_400         18.836423         1.881660\n",
      "ndwi_800          9.760721         1.081204\n",
      "lst_400           6.375723         0.556753\n",
      "lst_800           4.771050         0.556346\n",
      "lst_600           1.806301         0.227270\n",
      "ndwi_200          0.907113         0.189841\n",
      "lst_0             0.538977         0.080159\n",
      "lst_200           0.196035         0.019534\n",
      "ndwi_0            0.083274         0.026225\n",
      "\n",
      "<class 'sklearn.svm._classes.SVR'>\n",
      "          importances_mean  importances_std\n",
      "elev          1.204455e-01     1.318738e-02\n",
      "lst_0         2.405972e-03     1.429368e-04\n",
      "lst_200       2.254740e-03     1.246114e-04\n",
      "lst_400       2.025192e-03     1.107899e-04\n",
      "lst_600       1.905919e-03     1.093988e-04\n",
      "lst_800       1.869762e-03     1.144435e-04\n",
      "ndwi_0        5.435470e-07     9.015415e-08\n",
      "ndwi_200      2.810167e-07     5.739243e-08\n",
      "ndwi_400      2.659628e-07     7.602155e-08\n",
      "ndwi_600      2.626729e-07     8.076822e-08\n",
      "\n",
      "<class 'sklearn.ensemble._forest.RandomForestRegressor'>\n",
      "          importances_mean  importances_std\n",
      "lst_200           0.306294         0.021068\n",
      "lst_400           0.102918         0.009529\n",
      "lst_0             0.096056         0.008908\n",
      "lst_800           0.082723         0.007563\n",
      "lst_600           0.065456         0.005684\n",
      "ndwi_200          0.034206         0.005683\n",
      "ndwi_800          0.017627         0.001486\n",
      "ndwi_600          0.014037         0.000463\n",
      "ndwi_400          0.012135         0.001794\n",
      "ndwi_0            0.012042         0.000916\n",
      "\n"
     ]
    }
   ],
   "source": [
    "X, y = make_dataset(regression_df, target=target)\n",
    "\n",
    "for model_label in model_dict:\n",
    "    model = model_dict[model_label]\n",
    "    regr = model().fit(X, y)\n",
    "\n",
    "    importance_df = pd.DataFrame(\n",
    "        inspection.permutation_importance(regr, X, y),\n",
    "        index=regression_df.drop(target, axis=1).columns,\n",
    "        columns=[f'importances_{param}' for param in ('mean', 'std')])\n",
    "    print(model)\n",
    "    print(\n",
    "        importance_df.sort_values(by='importances_mean',\n",
    "                                  ascending=False).head(10))\n",
    "    print()"
   ]
  },
  {
   "cell_type": "markdown",
   "metadata": {},
   "source": [
    "The feature importances change dramatically according to the regression model.\n",
    "\n",
    "In the case of linear regression, the feature importances can be futher assessed by a F-test of significance:"
   ]
  },
  {
   "cell_type": "code",
   "execution_count": 14,
   "metadata": {},
   "outputs": [
    {
     "data": {
      "text/html": [
       "<table class=\"simpletable\">\n",
       "<caption>Table 3. OLS regression results</caption>\n",
       "<tr>\n",
       "  <th>Dep. Variable:</th>      <td>tair_station</td>   <th>  R-squared:         </th> <td>   0.832</td>\n",
       "</tr>\n",
       "<tr>\n",
       "  <th>Model:</th>                   <td>OLS</td>       <th>  Adj. R-squared:    </th> <td>   0.808</td>\n",
       "</tr>\n",
       "<tr>\n",
       "  <th>Method:</th>             <td>Least Squares</td>  <th>  F-statistic:       </th> <td>   34.19</td>\n",
       "</tr>\n",
       "<tr>\n",
       "  <th>Date:</th>             <td>Thu, 05 Jan 2023</td> <th>  Prob (F-statistic):</th> <td>5.61e-25</td>\n",
       "</tr>\n",
       "<tr>\n",
       "  <th>Time:</th>                 <td>12:04:43</td>     <th>  Log-Likelihood:    </th> <td> -161.02</td>\n",
       "</tr>\n",
       "<tr>\n",
       "  <th>No. Observations:</th>      <td>    88</td>      <th>  AIC:               </th> <td>   346.0</td>\n",
       "</tr>\n",
       "<tr>\n",
       "  <th>Df Residuals:</th>          <td>    76</td>      <th>  BIC:               </th> <td>   375.8</td>\n",
       "</tr>\n",
       "<tr>\n",
       "  <th>Df Model:</th>              <td>    11</td>      <th>                     </th>     <td> </td>   \n",
       "</tr>\n",
       "<tr>\n",
       "  <th>Covariance Type:</th>      <td>nonrobust</td>    <th>                     </th>     <td> </td>   \n",
       "</tr>\n",
       "</table>\n",
       "<table class=\"simpletable\">\n",
       "<tr>\n",
       "      <td></td>        <th>coef</th>     <th>std err</th>      <th>t</th>      <th>P>|t|</th>  <th>[0.025</th>    <th>0.975]</th>  \n",
       "</tr>\n",
       "<tr>\n",
       "  <th>const</th>    <td>    1.1760</td> <td>    3.369</td> <td>    0.349</td> <td> 0.728</td> <td>   -5.534</td> <td>    7.886</td>\n",
       "</tr>\n",
       "<tr>\n",
       "  <th>lst_0</th>    <td>    0.4944</td> <td>    0.584</td> <td>    0.846</td> <td> 0.400</td> <td>   -0.669</td> <td>    1.658</td>\n",
       "</tr>\n",
       "<tr>\n",
       "  <th>ndwi_0</th>   <td>   -6.1852</td> <td>    5.127</td> <td>   -1.206</td> <td> 0.231</td> <td>  -16.396</td> <td>    4.026</td>\n",
       "</tr>\n",
       "<tr>\n",
       "  <th>lst_200</th>  <td>   -0.3267</td> <td>    0.885</td> <td>   -0.369</td> <td> 0.713</td> <td>   -2.089</td> <td>    1.435</td>\n",
       "</tr>\n",
       "<tr>\n",
       "  <th>ndwi_200</th> <td>  -28.5531</td> <td>   15.581</td> <td>   -1.833</td> <td> 0.071</td> <td>  -59.585</td> <td>    2.479</td>\n",
       "</tr>\n",
       "<tr>\n",
       "  <th>lst_400</th>  <td>   -1.9332</td> <td>    1.765</td> <td>   -1.095</td> <td> 0.277</td> <td>   -5.449</td> <td>    1.583</td>\n",
       "</tr>\n",
       "<tr>\n",
       "  <th>ndwi_400</th> <td>  124.2456</td> <td>   46.749</td> <td>    2.658</td> <td> 0.010</td> <td>   31.138</td> <td>  217.353</td>\n",
       "</tr>\n",
       "<tr>\n",
       "  <th>lst_600</th>  <td>    1.0526</td> <td>    2.963</td> <td>    0.355</td> <td> 0.723</td> <td>   -4.849</td> <td>    6.955</td>\n",
       "</tr>\n",
       "<tr>\n",
       "  <th>ndwi_600</th> <td> -156.7220</td> <td>   55.931</td> <td>   -2.802</td> <td> 0.006</td> <td> -268.119</td> <td>  -45.325</td>\n",
       "</tr>\n",
       "<tr>\n",
       "  <th>lst_800</th>  <td>    1.7306</td> <td>    1.685</td> <td>    1.027</td> <td> 0.308</td> <td>   -1.626</td> <td>    5.087</td>\n",
       "</tr>\n",
       "<tr>\n",
       "  <th>ndwi_800</th> <td>   85.4412</td> <td>   22.732</td> <td>    3.759</td> <td> 0.000</td> <td>   40.167</td> <td>  130.715</td>\n",
       "</tr>\n",
       "<tr>\n",
       "  <th>elev</th>     <td>   -0.0026</td> <td>    0.003</td> <td>   -0.810</td> <td> 0.420</td> <td>   -0.009</td> <td>    0.004</td>\n",
       "</tr>\n",
       "</table>\n",
       "<table class=\"simpletable\">\n",
       "<tr>\n",
       "  <th>Omnibus:</th>       <td> 3.766</td> <th>  Durbin-Watson:     </th> <td>   1.875</td>\n",
       "</tr>\n",
       "<tr>\n",
       "  <th>Prob(Omnibus):</th> <td> 0.152</td> <th>  Jarque-Bera (JB):  </th> <td>   3.337</td>\n",
       "</tr>\n",
       "<tr>\n",
       "  <th>Skew:</th>          <td> 0.475</td> <th>  Prob(JB):          </th> <td>   0.189</td>\n",
       "</tr>\n",
       "<tr>\n",
       "  <th>Kurtosis:</th>      <td> 3.086</td> <th>  Cond. No.          </th> <td>2.27e+05</td>\n",
       "</tr>\n",
       "</table><br/><br/>Notes:<br/>[1] Standard Errors assume that the covariance matrix of the errors is correctly specified.<br/>[2] The condition number is large, 2.27e+05. This might indicate that there are<br/>strong multicollinearity or other numerical problems."
      ],
      "text/plain": [
       "<class 'statsmodels.iolib.summary.Summary'>\n",
       "\"\"\"\n",
       "                       Table 3. OLS regression results                        \n",
       "==============================================================================\n",
       "Dep. Variable:           tair_station   R-squared:                       0.832\n",
       "Model:                            OLS   Adj. R-squared:                  0.808\n",
       "Method:                 Least Squares   F-statistic:                     34.19\n",
       "Date:                Thu, 05 Jan 2023   Prob (F-statistic):           5.61e-25\n",
       "Time:                        12:04:43   Log-Likelihood:                -161.02\n",
       "No. Observations:                  88   AIC:                             346.0\n",
       "Df Residuals:                      76   BIC:                             375.8\n",
       "Df Model:                          11                                         \n",
       "Covariance Type:            nonrobust                                         \n",
       "==============================================================================\n",
       "                 coef    std err          t      P>|t|      [0.025      0.975]\n",
       "------------------------------------------------------------------------------\n",
       "const          1.1760      3.369      0.349      0.728      -5.534       7.886\n",
       "lst_0          0.4944      0.584      0.846      0.400      -0.669       1.658\n",
       "ndwi_0        -6.1852      5.127     -1.206      0.231     -16.396       4.026\n",
       "lst_200       -0.3267      0.885     -0.369      0.713      -2.089       1.435\n",
       "ndwi_200     -28.5531     15.581     -1.833      0.071     -59.585       2.479\n",
       "lst_400       -1.9332      1.765     -1.095      0.277      -5.449       1.583\n",
       "ndwi_400     124.2456     46.749      2.658      0.010      31.138     217.353\n",
       "lst_600        1.0526      2.963      0.355      0.723      -4.849       6.955\n",
       "ndwi_600    -156.7220     55.931     -2.802      0.006    -268.119     -45.325\n",
       "lst_800        1.7306      1.685      1.027      0.308      -1.626       5.087\n",
       "ndwi_800      85.4412     22.732      3.759      0.000      40.167     130.715\n",
       "elev          -0.0026      0.003     -0.810      0.420      -0.009       0.004\n",
       "==============================================================================\n",
       "Omnibus:                        3.766   Durbin-Watson:                   1.875\n",
       "Prob(Omnibus):                  0.152   Jarque-Bera (JB):                3.337\n",
       "Skew:                           0.475   Prob(JB):                        0.189\n",
       "Kurtosis:                       3.086   Cond. No.                     2.27e+05\n",
       "==============================================================================\n",
       "\n",
       "Notes:\n",
       "[1] Standard Errors assume that the covariance matrix of the errors is correctly specified.\n",
       "[2] The condition number is large, 2.27e+05. This might indicate that there are\n",
       "strong multicollinearity or other numerical problems.\n",
       "\"\"\""
      ]
     },
     "execution_count": 14,
     "metadata": {},
     "output_type": "execute_result"
    }
   ],
   "source": [
    "est = sm.OLS(y, sm.add_constant(X))\n",
    "est.fit().summary(title='Table 3. OLS regression results')"
   ]
  },
  {
   "cell_type": "markdown",
   "metadata": {},
   "source": [
    "With a significance level of $p=0.05$, the results of the F-test suggest that the significant variables for the linear regression are the NDWI when spatially averaged over a 800m, 600m and 400m radius (in decreasing order of significance). The following most significant variable is the NDWI spatially averaged over a 200m radius ($p=0.071$) and without spatial averaging ($p=0.231$), and the LST spatially averaged over a 400m radius ($p=0.277$). With a $p=0.420$, the does not appear to be significant in this particular regression."
   ]
  },
  {
   "cell_type": "markdown",
   "metadata": {},
   "source": [
    "## Prediction with the chosen model"
   ]
  },
  {
   "cell_type": "code",
   "execution_count": 15,
   "metadata": {},
   "outputs": [],
   "source": [
    "X, y = make_dataset(regression_df, shuffle=False)\n",
    "\n",
    "# regr = ensemble.RandomForestRegressor().fit(X, y)\n",
    "regr = linear_model.LinearRegression().fit(X, y)\n",
    "\n",
    "y_pred = regr.predict(X)"
   ]
  },
  {
   "cell_type": "markdown",
   "metadata": {},
   "source": [
    "## Unraveling the error patterns"
   ]
  },
  {
   "cell_type": "code",
   "execution_count": 16,
   "metadata": {},
   "outputs": [],
   "source": [
    "comparison_df = regression_df.copy()\n",
    "\n",
    "comparison_df['obs'] = y\n",
    "comparison_df['pred'] = y_pred\n",
    "comparison_df['err'] = y_pred - y\n",
    "# comparison_df['sq_err'] = comparison_df['err']**2\n",
    "\n",
    "comparison_df['date'] = pd.to_datetime(comparison_df.index.get_level_values(0))\n",
    "comparison_df['station'] = comparison_df.index.get_level_values(1)"
   ]
  },
  {
   "cell_type": "code",
   "execution_count": 17,
   "metadata": {},
   "outputs": [
    {
     "data": {
      "image/png": "[encoded data removed]",
      "text/plain": [
       "<Figure size 640x480 with 1 Axes>"
      ]
     },
     "metadata": {},
     "output_type": "display_data"
    }
   ],
   "source": [
    "fig = utils.plot_pred_obs(comparison_df)\n",
    "fig.savefig('../reports/figures/spatial-regression-pred-obs.pdf')"
   ]
  },
  {
   "cell_type": "code",
   "execution_count": 18,
   "metadata": {},
   "outputs": [
    {
     "data": {
      "image/png": "[encoded data removed]",
      "text/plain": [
       "<Figure size 1280x480 with 2 Axes>"
      ]
     },
     "metadata": {},
     "output_type": "display_data"
    }
   ],
   "source": [
    "fig = utils.plot_err_elev_obs(comparison_df)\n",
    "fig.savefig('../reports/figures/spatial-regression-errors.pdf')"
   ]
  },
  {
   "cell_type": "markdown",
   "metadata": {},
   "source": [
    "### Plotting the maps predicted by the spatial regression"
   ]
  },
  {
   "cell_type": "code",
   "execution_count": 22,
   "metadata": {},
   "outputs": [
    {
     "name": "stdout",
     "output_type": "stream",
     "text": [
      "/mnt/c/Users/beber/FBK/0_prj/0_UHeatI/invest/published/lausanne-heat-islands/notebooks\n"
     ]
    }
   ],
   "source": [
    "!pwd"
   ]
  },
  {
   "cell_type": "code",
   "execution_count": 23,
   "metadata": {},
   "outputs": [
    {
     "name": "stdout",
     "output_type": "stream",
     "text": [
      "make: Entering directory '/mnt/c/Users/beber/FBK/0_prj/0_UHeatI/invest/published/lausanne-heat-islands'\n",
      "make: Nothing to be done for 'tair_regr_maps'.\n",
      "make: Leaving directory '/mnt/c/Users/beber/FBK/0_prj/0_UHeatI/invest/published/lausanne-heat-islands'\n"
     ]
    }
   ],
   "source": [
    "!make -C ../. tair_regr_maps"
   ]
  },
  {
   "cell_type": "code",
   "execution_count": 24,
   "metadata": {},
   "outputs": [
    {
     "name": "stdout",
     "output_type": "stream",
     "text": [
      "Help on module lausanne_heat_islands.utils in lausanne_heat_islands:\n",
      "\n",
      "NAME\n",
      "    lausanne_heat_islands.utils\n",
      "\n",
      "FUNCTIONS\n",
      "    get_ref_da(ref_geom, dst_res, dst_fill=0, dst_crs=None)\n",
      "    \n",
      "    plot_T_maps(T_da, station_location_df, num_cols=3, comparison_df=None, err_classes=None, **plot_kws)\n",
      "    \n",
      "    plot_comparison_hists(T_diff_da, station_tair_df)\n",
      "    \n",
      "    plot_err_elev_obs(comparison_df)\n",
      "    \n",
      "    plot_pred_obs(comparison_df)\n",
      "\n",
      "DATA\n",
      "    CRS = 'epsg:2056'\n",
      "    ERR_BOUNDARIES = [-12, -6, -2, 2, 6, 12]\n",
      "    ERR_CLASSES = [-5, -3, -1, 1, 3, 5]\n",
      "\n",
      "FILE\n",
      "    /mnt/c/Users/beber/FBK/0_prj/0_UHeatI/invest/published/lausanne-heat-islands/lausanne_heat_islands/utils.py\n",
      "\n",
      "\n"
     ]
    }
   ],
   "source": [
    "help(utils)"
   ]
  },
  {
   "cell_type": "code",
   "execution_count": 25,
   "metadata": {
    "scrolled": true
   },
   "outputs": [
    {
     "data": {
      "text/plain": [
       "['CRS',\n",
       " 'ERR_BOUNDARIES',\n",
       " 'ERR_CLASSES',\n",
       " '__builtins__',\n",
       " '__cached__',\n",
       " '__doc__',\n",
       " '__file__',\n",
       " '__loader__',\n",
       " '__name__',\n",
       " '__package__',\n",
       " '__spec__',\n",
       " '_calculate_transform',\n",
       " 'colors',\n",
       " 'geometry',\n",
       " 'get_ref_da',\n",
       " 'gpd',\n",
       " 'metrics',\n",
       " 'np',\n",
       " 'pd',\n",
       " 'plot_T_maps',\n",
       " 'plot_comparison_hists',\n",
       " 'plot_err_elev_obs',\n",
       " 'plot_pred_obs',\n",
       " 'plt',\n",
       " 'sns',\n",
       " 'transform',\n",
       " 'xr']"
      ]
     },
     "execution_count": 25,
     "metadata": {},
     "output_type": "execute_result"
    }
   ],
   "source": [
    "dir(utils)"
   ]
  },
  {
   "cell_type": "code",
   "execution_count": 19,
   "metadata": {},
   "outputs": [],
   "source": [
    "tair_regr_filepath = '../data/processed/tair-regr-maps.nc'\n",
    "station_locations_filepath = '../data/raw/stations/station-locations.csv'"
   ]
  },
  {
   "cell_type": "code",
   "execution_count": 24,
   "metadata": {},
   "outputs": [
    {
     "ename": "FileNotFoundError",
     "evalue": "[Errno 2] No such file or directory: b'/home/beber/fbk_sandbox/swiss_uhi/lausanne-heat-islands/data/processed/tair-regr-maps.nc'",
     "output_type": "error",
     "traceback": [
      "\u001b[0;31m---------------------------------------------------------------------------\u001b[0m",
      "\u001b[0;31mKeyError\u001b[0m                                  Traceback (most recent call last)",
      "\u001b[0;32m~/miniconda3/envs/uhi_ch1/lib/python3.7/site-packages/xarray/backends/file_manager.py\u001b[0m in \u001b[0;36m_acquire_with_cache_info\u001b[0;34m(self, needs_lock)\u001b[0m\n\u001b[1;32m    197\u001b[0m             \u001b[0;32mtry\u001b[0m\u001b[0;34m:\u001b[0m\u001b[0;34m\u001b[0m\u001b[0;34m\u001b[0m\u001b[0m\n\u001b[0;32m--> 198\u001b[0;31m                 \u001b[0mfile\u001b[0m \u001b[0;34m=\u001b[0m \u001b[0mself\u001b[0m\u001b[0;34m.\u001b[0m\u001b[0m_cache\u001b[0m\u001b[0;34m[\u001b[0m\u001b[0mself\u001b[0m\u001b[0;34m.\u001b[0m\u001b[0m_key\u001b[0m\u001b[0;34m]\u001b[0m\u001b[0;34m\u001b[0m\u001b[0;34m\u001b[0m\u001b[0m\n\u001b[0m\u001b[1;32m    199\u001b[0m             \u001b[0;32mexcept\u001b[0m \u001b[0mKeyError\u001b[0m\u001b[0;34m:\u001b[0m\u001b[0;34m\u001b[0m\u001b[0;34m\u001b[0m\u001b[0m\n",
      "\u001b[0;32m~/miniconda3/envs/uhi_ch1/lib/python3.7/site-packages/xarray/backends/lru_cache.py\u001b[0m in \u001b[0;36m__getitem__\u001b[0;34m(self, key)\u001b[0m\n\u001b[1;32m     52\u001b[0m         \u001b[0;32mwith\u001b[0m \u001b[0mself\u001b[0m\u001b[0;34m.\u001b[0m\u001b[0m_lock\u001b[0m\u001b[0;34m:\u001b[0m\u001b[0;34m\u001b[0m\u001b[0;34m\u001b[0m\u001b[0m\n\u001b[0;32m---> 53\u001b[0;31m             \u001b[0mvalue\u001b[0m \u001b[0;34m=\u001b[0m \u001b[0mself\u001b[0m\u001b[0;34m.\u001b[0m\u001b[0m_cache\u001b[0m\u001b[0;34m[\u001b[0m\u001b[0mkey\u001b[0m\u001b[0;34m]\u001b[0m\u001b[0;34m\u001b[0m\u001b[0;34m\u001b[0m\u001b[0m\n\u001b[0m\u001b[1;32m     54\u001b[0m             \u001b[0mself\u001b[0m\u001b[0;34m.\u001b[0m\u001b[0m_cache\u001b[0m\u001b[0;34m.\u001b[0m\u001b[0mmove_to_end\u001b[0m\u001b[0;34m(\u001b[0m\u001b[0mkey\u001b[0m\u001b[0;34m)\u001b[0m\u001b[0;34m\u001b[0m\u001b[0;34m\u001b[0m\u001b[0m\n",
      "\u001b[0;31mKeyError\u001b[0m: [<class 'netCDF4._netCDF4.Dataset'>, ('/home/beber/fbk_sandbox/swiss_uhi/lausanne-heat-islands/data/processed/tair-regr-maps.nc',), 'r', (('clobber', True), ('diskless', False), ('format', 'NETCDF4'), ('persist', False))]",
      "\nDuring handling of the above exception, another exception occurred:\n",
      "\u001b[0;31mFileNotFoundError\u001b[0m                         Traceback (most recent call last)",
      "\u001b[0;32m/tmp/ipykernel_3048588/2956144760.py\u001b[0m in \u001b[0;36m<module>\u001b[0;34m\u001b[0m\n\u001b[0;32m----> 1\u001b[0;31m \u001b[0mT_regr_da\u001b[0m \u001b[0;34m=\u001b[0m \u001b[0mxr\u001b[0m\u001b[0;34m.\u001b[0m\u001b[0mopen_dataarray\u001b[0m\u001b[0;34m(\u001b[0m\u001b[0mtair_regr_filepath\u001b[0m\u001b[0;34m)\u001b[0m\u001b[0;34m\u001b[0m\u001b[0;34m\u001b[0m\u001b[0m\n\u001b[0m\u001b[1;32m      2\u001b[0m \u001b[0mstation_location_df\u001b[0m \u001b[0;34m=\u001b[0m \u001b[0mpd\u001b[0m\u001b[0;34m.\u001b[0m\u001b[0mread_csv\u001b[0m\u001b[0;34m(\u001b[0m\u001b[0mstation_locations_filepath\u001b[0m\u001b[0;34m,\u001b[0m \u001b[0mindex_col\u001b[0m\u001b[0;34m=\u001b[0m\u001b[0;34m'stn'\u001b[0m\u001b[0;34m)\u001b[0m\u001b[0;34m\u001b[0m\u001b[0;34m\u001b[0m\u001b[0m\n",
      "\u001b[0;32m~/miniconda3/envs/uhi_ch1/lib/python3.7/site-packages/xarray/backends/api.py\u001b[0m in \u001b[0;36mopen_dataarray\u001b[0;34m(filename_or_obj, group, decode_cf, mask_and_scale, decode_times, autoclose, concat_characters, decode_coords, engine, chunks, lock, cache, drop_variables, backend_kwargs, use_cftime)\u001b[0m\n\u001b[1;32m    671\u001b[0m         \u001b[0mdrop_variables\u001b[0m\u001b[0;34m=\u001b[0m\u001b[0mdrop_variables\u001b[0m\u001b[0;34m,\u001b[0m\u001b[0;34m\u001b[0m\u001b[0;34m\u001b[0m\u001b[0m\n\u001b[1;32m    672\u001b[0m         \u001b[0mbackend_kwargs\u001b[0m\u001b[0;34m=\u001b[0m\u001b[0mbackend_kwargs\u001b[0m\u001b[0;34m,\u001b[0m\u001b[0;34m\u001b[0m\u001b[0;34m\u001b[0m\u001b[0m\n\u001b[0;32m--> 673\u001b[0;31m         \u001b[0muse_cftime\u001b[0m\u001b[0;34m=\u001b[0m\u001b[0muse_cftime\u001b[0m\u001b[0;34m,\u001b[0m\u001b[0;34m\u001b[0m\u001b[0;34m\u001b[0m\u001b[0m\n\u001b[0m\u001b[1;32m    674\u001b[0m     )\n\u001b[1;32m    675\u001b[0m \u001b[0;34m\u001b[0m\u001b[0m\n",
      "\u001b[0;32m~/miniconda3/envs/uhi_ch1/lib/python3.7/site-packages/xarray/backends/api.py\u001b[0m in \u001b[0;36mopen_dataset\u001b[0;34m(filename_or_obj, group, decode_cf, mask_and_scale, decode_times, autoclose, concat_characters, decode_coords, engine, chunks, lock, cache, drop_variables, backend_kwargs, use_cftime)\u001b[0m\n\u001b[1;32m    500\u001b[0m         \u001b[0;32mif\u001b[0m \u001b[0mengine\u001b[0m \u001b[0;34m==\u001b[0m \u001b[0;34m\"netcdf4\"\u001b[0m\u001b[0;34m:\u001b[0m\u001b[0;34m\u001b[0m\u001b[0;34m\u001b[0m\u001b[0m\n\u001b[1;32m    501\u001b[0m             store = backends.NetCDF4DataStore.open(\n\u001b[0;32m--> 502\u001b[0;31m                 \u001b[0mfilename_or_obj\u001b[0m\u001b[0;34m,\u001b[0m \u001b[0mgroup\u001b[0m\u001b[0;34m=\u001b[0m\u001b[0mgroup\u001b[0m\u001b[0;34m,\u001b[0m \u001b[0mlock\u001b[0m\u001b[0;34m=\u001b[0m\u001b[0mlock\u001b[0m\u001b[0;34m,\u001b[0m \u001b[0;34m**\u001b[0m\u001b[0mbackend_kwargs\u001b[0m\u001b[0;34m\u001b[0m\u001b[0;34m\u001b[0m\u001b[0m\n\u001b[0m\u001b[1;32m    503\u001b[0m             )\n\u001b[1;32m    504\u001b[0m         \u001b[0;32melif\u001b[0m \u001b[0mengine\u001b[0m \u001b[0;34m==\u001b[0m \u001b[0;34m\"scipy\"\u001b[0m\u001b[0;34m:\u001b[0m\u001b[0;34m\u001b[0m\u001b[0;34m\u001b[0m\u001b[0m\n",
      "\u001b[0;32m~/miniconda3/envs/uhi_ch1/lib/python3.7/site-packages/xarray/backends/netCDF4_.py\u001b[0m in \u001b[0;36mopen\u001b[0;34m(cls, filename, mode, format, group, clobber, diskless, persist, lock, lock_maker, autoclose)\u001b[0m\n\u001b[1;32m    356\u001b[0m             \u001b[0mnetCDF4\u001b[0m\u001b[0;34m.\u001b[0m\u001b[0mDataset\u001b[0m\u001b[0;34m,\u001b[0m \u001b[0mfilename\u001b[0m\u001b[0;34m,\u001b[0m \u001b[0mmode\u001b[0m\u001b[0;34m=\u001b[0m\u001b[0mmode\u001b[0m\u001b[0;34m,\u001b[0m \u001b[0mkwargs\u001b[0m\u001b[0;34m=\u001b[0m\u001b[0mkwargs\u001b[0m\u001b[0;34m\u001b[0m\u001b[0;34m\u001b[0m\u001b[0m\n\u001b[1;32m    357\u001b[0m         )\n\u001b[0;32m--> 358\u001b[0;31m         \u001b[0;32mreturn\u001b[0m \u001b[0mcls\u001b[0m\u001b[0;34m(\u001b[0m\u001b[0mmanager\u001b[0m\u001b[0;34m,\u001b[0m \u001b[0mgroup\u001b[0m\u001b[0;34m=\u001b[0m\u001b[0mgroup\u001b[0m\u001b[0;34m,\u001b[0m \u001b[0mmode\u001b[0m\u001b[0;34m=\u001b[0m\u001b[0mmode\u001b[0m\u001b[0;34m,\u001b[0m \u001b[0mlock\u001b[0m\u001b[0;34m=\u001b[0m\u001b[0mlock\u001b[0m\u001b[0;34m,\u001b[0m \u001b[0mautoclose\u001b[0m\u001b[0;34m=\u001b[0m\u001b[0mautoclose\u001b[0m\u001b[0;34m)\u001b[0m\u001b[0;34m\u001b[0m\u001b[0;34m\u001b[0m\u001b[0m\n\u001b[0m\u001b[1;32m    359\u001b[0m \u001b[0;34m\u001b[0m\u001b[0m\n\u001b[1;32m    360\u001b[0m     \u001b[0;32mdef\u001b[0m \u001b[0m_acquire\u001b[0m\u001b[0;34m(\u001b[0m\u001b[0mself\u001b[0m\u001b[0;34m,\u001b[0m \u001b[0mneeds_lock\u001b[0m\u001b[0;34m=\u001b[0m\u001b[0;32mTrue\u001b[0m\u001b[0;34m)\u001b[0m\u001b[0;34m:\u001b[0m\u001b[0;34m\u001b[0m\u001b[0;34m\u001b[0m\u001b[0m\n",
      "\u001b[0;32m~/miniconda3/envs/uhi_ch1/lib/python3.7/site-packages/xarray/backends/netCDF4_.py\u001b[0m in \u001b[0;36m__init__\u001b[0;34m(self, manager, group, mode, lock, autoclose)\u001b[0m\n\u001b[1;32m    312\u001b[0m         \u001b[0mself\u001b[0m\u001b[0;34m.\u001b[0m\u001b[0m_group\u001b[0m \u001b[0;34m=\u001b[0m \u001b[0mgroup\u001b[0m\u001b[0;34m\u001b[0m\u001b[0;34m\u001b[0m\u001b[0m\n\u001b[1;32m    313\u001b[0m         \u001b[0mself\u001b[0m\u001b[0;34m.\u001b[0m\u001b[0m_mode\u001b[0m \u001b[0;34m=\u001b[0m \u001b[0mmode\u001b[0m\u001b[0;34m\u001b[0m\u001b[0;34m\u001b[0m\u001b[0m\n\u001b[0;32m--> 314\u001b[0;31m         \u001b[0mself\u001b[0m\u001b[0;34m.\u001b[0m\u001b[0mformat\u001b[0m \u001b[0;34m=\u001b[0m \u001b[0mself\u001b[0m\u001b[0;34m.\u001b[0m\u001b[0mds\u001b[0m\u001b[0;34m.\u001b[0m\u001b[0mdata_model\u001b[0m\u001b[0;34m\u001b[0m\u001b[0;34m\u001b[0m\u001b[0m\n\u001b[0m\u001b[1;32m    315\u001b[0m         \u001b[0mself\u001b[0m\u001b[0;34m.\u001b[0m\u001b[0m_filename\u001b[0m \u001b[0;34m=\u001b[0m \u001b[0mself\u001b[0m\u001b[0;34m.\u001b[0m\u001b[0mds\u001b[0m\u001b[0;34m.\u001b[0m\u001b[0mfilepath\u001b[0m\u001b[0;34m(\u001b[0m\u001b[0;34m)\u001b[0m\u001b[0;34m\u001b[0m\u001b[0;34m\u001b[0m\u001b[0m\n\u001b[1;32m    316\u001b[0m         \u001b[0mself\u001b[0m\u001b[0;34m.\u001b[0m\u001b[0mis_remote\u001b[0m \u001b[0;34m=\u001b[0m \u001b[0mis_remote_uri\u001b[0m\u001b[0;34m(\u001b[0m\u001b[0mself\u001b[0m\u001b[0;34m.\u001b[0m\u001b[0m_filename\u001b[0m\u001b[0;34m)\u001b[0m\u001b[0;34m\u001b[0m\u001b[0;34m\u001b[0m\u001b[0m\n",
      "\u001b[0;32m~/miniconda3/envs/uhi_ch1/lib/python3.7/site-packages/xarray/backends/netCDF4_.py\u001b[0m in \u001b[0;36mds\u001b[0;34m(self)\u001b[0m\n\u001b[1;32m    365\u001b[0m     \u001b[0;34m@\u001b[0m\u001b[0mproperty\u001b[0m\u001b[0;34m\u001b[0m\u001b[0;34m\u001b[0m\u001b[0m\n\u001b[1;32m    366\u001b[0m     \u001b[0;32mdef\u001b[0m \u001b[0mds\u001b[0m\u001b[0;34m(\u001b[0m\u001b[0mself\u001b[0m\u001b[0;34m)\u001b[0m\u001b[0;34m:\u001b[0m\u001b[0;34m\u001b[0m\u001b[0;34m\u001b[0m\u001b[0m\n\u001b[0;32m--> 367\u001b[0;31m         \u001b[0;32mreturn\u001b[0m \u001b[0mself\u001b[0m\u001b[0;34m.\u001b[0m\u001b[0m_acquire\u001b[0m\u001b[0;34m(\u001b[0m\u001b[0;34m)\u001b[0m\u001b[0;34m\u001b[0m\u001b[0;34m\u001b[0m\u001b[0m\n\u001b[0m\u001b[1;32m    368\u001b[0m \u001b[0;34m\u001b[0m\u001b[0m\n\u001b[1;32m    369\u001b[0m     \u001b[0;32mdef\u001b[0m \u001b[0mopen_store_variable\u001b[0m\u001b[0;34m(\u001b[0m\u001b[0mself\u001b[0m\u001b[0;34m,\u001b[0m \u001b[0mname\u001b[0m\u001b[0;34m,\u001b[0m \u001b[0mvar\u001b[0m\u001b[0;34m)\u001b[0m\u001b[0;34m:\u001b[0m\u001b[0;34m\u001b[0m\u001b[0;34m\u001b[0m\u001b[0m\n",
      "\u001b[0;32m~/miniconda3/envs/uhi_ch1/lib/python3.7/site-packages/xarray/backends/netCDF4_.py\u001b[0m in \u001b[0;36m_acquire\u001b[0;34m(self, needs_lock)\u001b[0m\n\u001b[1;32m    359\u001b[0m \u001b[0;34m\u001b[0m\u001b[0m\n\u001b[1;32m    360\u001b[0m     \u001b[0;32mdef\u001b[0m \u001b[0m_acquire\u001b[0m\u001b[0;34m(\u001b[0m\u001b[0mself\u001b[0m\u001b[0;34m,\u001b[0m \u001b[0mneeds_lock\u001b[0m\u001b[0;34m=\u001b[0m\u001b[0;32mTrue\u001b[0m\u001b[0;34m)\u001b[0m\u001b[0;34m:\u001b[0m\u001b[0;34m\u001b[0m\u001b[0;34m\u001b[0m\u001b[0m\n\u001b[0;32m--> 361\u001b[0;31m         \u001b[0;32mwith\u001b[0m \u001b[0mself\u001b[0m\u001b[0;34m.\u001b[0m\u001b[0m_manager\u001b[0m\u001b[0;34m.\u001b[0m\u001b[0macquire_context\u001b[0m\u001b[0;34m(\u001b[0m\u001b[0mneeds_lock\u001b[0m\u001b[0;34m)\u001b[0m \u001b[0;32mas\u001b[0m \u001b[0mroot\u001b[0m\u001b[0;34m:\u001b[0m\u001b[0;34m\u001b[0m\u001b[0;34m\u001b[0m\u001b[0m\n\u001b[0m\u001b[1;32m    362\u001b[0m             \u001b[0mds\u001b[0m \u001b[0;34m=\u001b[0m \u001b[0m_nc4_require_group\u001b[0m\u001b[0;34m(\u001b[0m\u001b[0mroot\u001b[0m\u001b[0;34m,\u001b[0m \u001b[0mself\u001b[0m\u001b[0;34m.\u001b[0m\u001b[0m_group\u001b[0m\u001b[0;34m,\u001b[0m \u001b[0mself\u001b[0m\u001b[0;34m.\u001b[0m\u001b[0m_mode\u001b[0m\u001b[0;34m)\u001b[0m\u001b[0;34m\u001b[0m\u001b[0;34m\u001b[0m\u001b[0m\n\u001b[1;32m    363\u001b[0m         \u001b[0;32mreturn\u001b[0m \u001b[0mds\u001b[0m\u001b[0;34m\u001b[0m\u001b[0;34m\u001b[0m\u001b[0m\n",
      "\u001b[0;32m~/miniconda3/envs/uhi_ch1/lib/python3.7/contextlib.py\u001b[0m in \u001b[0;36m__enter__\u001b[0;34m(self)\u001b[0m\n\u001b[1;32m    110\u001b[0m         \u001b[0;32mdel\u001b[0m \u001b[0mself\u001b[0m\u001b[0;34m.\u001b[0m\u001b[0margs\u001b[0m\u001b[0;34m,\u001b[0m \u001b[0mself\u001b[0m\u001b[0;34m.\u001b[0m\u001b[0mkwds\u001b[0m\u001b[0;34m,\u001b[0m \u001b[0mself\u001b[0m\u001b[0;34m.\u001b[0m\u001b[0mfunc\u001b[0m\u001b[0;34m\u001b[0m\u001b[0;34m\u001b[0m\u001b[0m\n\u001b[1;32m    111\u001b[0m         \u001b[0;32mtry\u001b[0m\u001b[0;34m:\u001b[0m\u001b[0;34m\u001b[0m\u001b[0;34m\u001b[0m\u001b[0m\n\u001b[0;32m--> 112\u001b[0;31m             \u001b[0;32mreturn\u001b[0m \u001b[0mnext\u001b[0m\u001b[0;34m(\u001b[0m\u001b[0mself\u001b[0m\u001b[0;34m.\u001b[0m\u001b[0mgen\u001b[0m\u001b[0;34m)\u001b[0m\u001b[0;34m\u001b[0m\u001b[0;34m\u001b[0m\u001b[0m\n\u001b[0m\u001b[1;32m    113\u001b[0m         \u001b[0;32mexcept\u001b[0m \u001b[0mStopIteration\u001b[0m\u001b[0;34m:\u001b[0m\u001b[0;34m\u001b[0m\u001b[0;34m\u001b[0m\u001b[0m\n\u001b[1;32m    114\u001b[0m             \u001b[0;32mraise\u001b[0m \u001b[0mRuntimeError\u001b[0m\u001b[0;34m(\u001b[0m\u001b[0;34m\"generator didn't yield\"\u001b[0m\u001b[0;34m)\u001b[0m \u001b[0;32mfrom\u001b[0m \u001b[0;32mNone\u001b[0m\u001b[0;34m\u001b[0m\u001b[0;34m\u001b[0m\u001b[0m\n",
      "\u001b[0;32m~/miniconda3/envs/uhi_ch1/lib/python3.7/site-packages/xarray/backends/file_manager.py\u001b[0m in \u001b[0;36macquire_context\u001b[0;34m(self, needs_lock)\u001b[0m\n\u001b[1;32m    184\u001b[0m     \u001b[0;32mdef\u001b[0m \u001b[0macquire_context\u001b[0m\u001b[0;34m(\u001b[0m\u001b[0mself\u001b[0m\u001b[0;34m,\u001b[0m \u001b[0mneeds_lock\u001b[0m\u001b[0;34m=\u001b[0m\u001b[0;32mTrue\u001b[0m\u001b[0;34m)\u001b[0m\u001b[0;34m:\u001b[0m\u001b[0;34m\u001b[0m\u001b[0;34m\u001b[0m\u001b[0m\n\u001b[1;32m    185\u001b[0m         \u001b[0;34m\"\"\"Context manager for acquiring a file.\"\"\"\u001b[0m\u001b[0;34m\u001b[0m\u001b[0;34m\u001b[0m\u001b[0m\n\u001b[0;32m--> 186\u001b[0;31m         \u001b[0mfile\u001b[0m\u001b[0;34m,\u001b[0m \u001b[0mcached\u001b[0m \u001b[0;34m=\u001b[0m \u001b[0mself\u001b[0m\u001b[0;34m.\u001b[0m\u001b[0m_acquire_with_cache_info\u001b[0m\u001b[0;34m(\u001b[0m\u001b[0mneeds_lock\u001b[0m\u001b[0;34m)\u001b[0m\u001b[0;34m\u001b[0m\u001b[0;34m\u001b[0m\u001b[0m\n\u001b[0m\u001b[1;32m    187\u001b[0m         \u001b[0;32mtry\u001b[0m\u001b[0;34m:\u001b[0m\u001b[0;34m\u001b[0m\u001b[0;34m\u001b[0m\u001b[0m\n\u001b[1;32m    188\u001b[0m             \u001b[0;32myield\u001b[0m \u001b[0mfile\u001b[0m\u001b[0;34m\u001b[0m\u001b[0;34m\u001b[0m\u001b[0m\n",
      "\u001b[0;32m~/miniconda3/envs/uhi_ch1/lib/python3.7/site-packages/xarray/backends/file_manager.py\u001b[0m in \u001b[0;36m_acquire_with_cache_info\u001b[0;34m(self, needs_lock)\u001b[0m\n\u001b[1;32m    202\u001b[0m                     \u001b[0mkwargs\u001b[0m \u001b[0;34m=\u001b[0m \u001b[0mkwargs\u001b[0m\u001b[0;34m.\u001b[0m\u001b[0mcopy\u001b[0m\u001b[0;34m(\u001b[0m\u001b[0;34m)\u001b[0m\u001b[0;34m\u001b[0m\u001b[0;34m\u001b[0m\u001b[0m\n\u001b[1;32m    203\u001b[0m                     \u001b[0mkwargs\u001b[0m\u001b[0;34m[\u001b[0m\u001b[0;34m\"mode\"\u001b[0m\u001b[0;34m]\u001b[0m \u001b[0;34m=\u001b[0m \u001b[0mself\u001b[0m\u001b[0;34m.\u001b[0m\u001b[0m_mode\u001b[0m\u001b[0;34m\u001b[0m\u001b[0;34m\u001b[0m\u001b[0m\n\u001b[0;32m--> 204\u001b[0;31m                 \u001b[0mfile\u001b[0m \u001b[0;34m=\u001b[0m \u001b[0mself\u001b[0m\u001b[0;34m.\u001b[0m\u001b[0m_opener\u001b[0m\u001b[0;34m(\u001b[0m\u001b[0;34m*\u001b[0m\u001b[0mself\u001b[0m\u001b[0;34m.\u001b[0m\u001b[0m_args\u001b[0m\u001b[0;34m,\u001b[0m \u001b[0;34m**\u001b[0m\u001b[0mkwargs\u001b[0m\u001b[0;34m)\u001b[0m\u001b[0;34m\u001b[0m\u001b[0;34m\u001b[0m\u001b[0m\n\u001b[0m\u001b[1;32m    205\u001b[0m                 \u001b[0;32mif\u001b[0m \u001b[0mself\u001b[0m\u001b[0;34m.\u001b[0m\u001b[0m_mode\u001b[0m \u001b[0;34m==\u001b[0m \u001b[0;34m\"w\"\u001b[0m\u001b[0;34m:\u001b[0m\u001b[0;34m\u001b[0m\u001b[0;34m\u001b[0m\u001b[0m\n\u001b[1;32m    206\u001b[0m                     \u001b[0;31m# ensure file doesn't get overriden when opened again\u001b[0m\u001b[0;34m\u001b[0m\u001b[0;34m\u001b[0m\u001b[0;34m\u001b[0m\u001b[0m\n",
      "\u001b[0;32mnetCDF4/_netCDF4.pyx\u001b[0m in \u001b[0;36mnetCDF4._netCDF4.Dataset.__init__\u001b[0;34m()\u001b[0m\n",
      "\u001b[0;32mnetCDF4/_netCDF4.pyx\u001b[0m in \u001b[0;36mnetCDF4._netCDF4._ensure_nc_success\u001b[0;34m()\u001b[0m\n",
      "\u001b[0;31mFileNotFoundError\u001b[0m: [Errno 2] No such file or directory: b'/home/beber/fbk_sandbox/swiss_uhi/lausanne-heat-islands/data/processed/tair-regr-maps.nc'"
     ]
    }
   ],
   "source": [
    "T_regr_da = xr.open_dataarray(tair_regr_filepath)\n",
    "station_location_df = pd.read_csv(station_locations_filepath, index_col='stn')"
   ]
  },
  {
   "cell_type": "code",
   "execution_count": 21,
   "metadata": {},
   "outputs": [
    {
     "ename": "NameError",
     "evalue": "name 'station_location_df' is not defined",
     "output_type": "error",
     "traceback": [
      "\u001b[0;31m---------------------------------------------------------------------------\u001b[0m",
      "\u001b[0;31mNameError\u001b[0m                                 Traceback (most recent call last)",
      "\u001b[0;32m/tmp/ipykernel_3048588/776088161.py\u001b[0m in \u001b[0;36m<module>\u001b[0;34m\u001b[0m\n\u001b[0;32m----> 1\u001b[0;31m \u001b[0mstation_location_df\u001b[0m\u001b[0;34m\u001b[0m\u001b[0;34m\u001b[0m\u001b[0m\n\u001b[0m",
      "\u001b[0;31mNameError\u001b[0m: name 'station_location_df' is not defined"
     ]
    }
   ],
   "source": [
    "station_location_df"
   ]
  },
  {
   "cell_type": "code",
   "execution_count": 23,
   "metadata": {
    "scrolled": true
   },
   "outputs": [
    {
     "ename": "NameError",
     "evalue": "name 'T_regr_da' is not defined",
     "output_type": "error",
     "traceback": [
      "\u001b[0;31m---------------------------------------------------------------------------\u001b[0m",
      "\u001b[0;31mNameError\u001b[0m                                 Traceback (most recent call last)",
      "\u001b[0;32m/tmp/ipykernel_3048588/3918600589.py\u001b[0m in \u001b[0;36m<module>\u001b[0;34m\u001b[0m\n\u001b[0;32m----> 1\u001b[0;31m \u001b[0mT_regr_da\u001b[0m\u001b[0;34m\u001b[0m\u001b[0;34m\u001b[0m\u001b[0m\n\u001b[0m",
      "\u001b[0;31mNameError\u001b[0m: name 'T_regr_da' is not defined"
     ]
    }
   ],
   "source": [
    "T_regr_da"
   ]
  },
  {
   "cell_type": "code",
   "execution_count": 30,
   "metadata": {},
   "outputs": [],
   "source": [
    "abba=comparison_df.copy()"
   ]
  },
  {
   "cell_type": "code",
   "execution_count": 22,
   "metadata": {},
   "outputs": [
    {
     "ename": "NameError",
     "evalue": "name 'T_regr_da' is not defined",
     "output_type": "error",
     "traceback": [
      "\u001b[0;31m---------------------------------------------------------------------------\u001b[0m",
      "\u001b[0;31mNameError\u001b[0m                                 Traceback (most recent call last)",
      "\u001b[0;32m/tmp/ipykernel_3048588/3634706440.py\u001b[0m in \u001b[0;36m<module>\u001b[0;34m\u001b[0m\n\u001b[1;32m      1\u001b[0m \u001b[0;31m#Need to fix the plot!!!\u001b[0m\u001b[0;34m\u001b[0m\u001b[0;34m\u001b[0m\u001b[0;34m\u001b[0m\u001b[0m\n\u001b[0;32m----> 2\u001b[0;31m g=utils.plot_T_maps(T_regr_da,\n\u001b[0m\u001b[1;32m      3\u001b[0m                       \u001b[0mstation_location_df\u001b[0m\u001b[0;34m,\u001b[0m\u001b[0;34m\u001b[0m\u001b[0;34m\u001b[0m\u001b[0m\n\u001b[1;32m      4\u001b[0m                       comparison_df=abba)\n\u001b[1;32m      5\u001b[0m \u001b[0;34m\u001b[0m\u001b[0m\n",
      "\u001b[0;31mNameError\u001b[0m: name 'T_regr_da' is not defined"
     ]
    }
   ],
   "source": [
    "#Need to fix the plot!!!\n",
    "g=utils.plot_T_maps(T_regr_da,\n",
    "                      station_location_df,\n",
    "                      comparison_df=abba)\n",
    "\n",
    "g.fig.savefig('../reports/figures/spatial-regression-maps.png')"
   ]
  },
  {
   "cell_type": "markdown",
   "metadata": {},
   "source": [
    "# check integrity of T_regr_da"
   ]
  },
  {
   "cell_type": "code",
   "execution_count": 32,
   "metadata": {},
   "outputs": [],
   "source": [
    "#first try run on default data\n",
    "airtemps = xr.tutorial.open_dataset(\"air_temperature\")\n",
    "air = airtemps.air - 273.15\n",
    "air.attrs = airtemps.air.attrs\n",
    "air.attrs[\"units\"] = \"deg C\""
   ]
  },
  {
   "cell_type": "code",
   "execution_count": 33,
   "metadata": {},
   "outputs": [
    {
     "data": {
      "text/html": [
       "<pre>&lt;xarray.DataArray &#x27;air&#x27; (time: 2920, lat: 25, lon: 53)&gt;\n",
       "array([[[-31.949997, -30.649994, -29.649994, ..., -40.350006,\n",
       "         -37.649994, -34.550003],\n",
       "        [-29.350006, -28.649994, -28.449997, ..., -40.350006,\n",
       "         -37.850006, -33.850006],\n",
       "        [-23.149994, -23.350006, -24.259995, ..., -39.949997,\n",
       "         -36.759995, -31.449997],\n",
       "        ...,\n",
       "        [ 23.450012,  23.049988,  23.25    , ...,  22.25    ,\n",
       "          21.950012,  21.549988],\n",
       "        [ 22.75    ,  23.049988,  23.640015, ...,  22.75    ,\n",
       "          22.75    ,  22.049988],\n",
       "        [ 23.140015,  23.640015,  23.950012, ...,  23.75    ,\n",
       "          23.640015,  23.450012]],\n",
       "\n",
       "       [[-31.050003, -30.449997, -30.050003, ..., -41.149994,\n",
       "         -39.550003, -37.350006],\n",
       "        [-29.550003, -29.050003, -28.949997, ..., -42.149994,\n",
       "         -40.649994, -37.449997],\n",
       "        [-19.949997, -20.259995, -21.050003, ..., -42.350006,\n",
       "         -39.759995, -34.649994],\n",
       "        ...,\n",
       "        [ 23.25    ,  22.75    ,  23.049988, ...,  22.25    ,\n",
       "          21.950012,  21.640015],\n",
       "        [ 23.049988,  23.549988,  23.640015, ...,  22.450012,\n",
       "          22.350006,  21.950012],\n",
       "        [ 23.140015,  24.049988,  24.25    , ...,  23.25    ,\n",
       "          23.25    ,  23.450012]],\n",
       "\n",
       "       [[-30.850006, -30.949997, -30.850006, ..., -38.850006,\n",
       "         -37.050003, -34.449997],\n",
       "        [-28.550003, -28.759995, -29.149994, ..., -42.850006,\n",
       "         -41.149994, -37.449997],\n",
       "        [-16.950012, -17.649994, -18.949997, ..., -41.949997,\n",
       "         -39.949997, -34.949997],\n",
       "        ...,\n",
       "        [ 22.450012,  22.25    ,  22.25    , ...,  23.140015,\n",
       "          22.140015,  21.850006],\n",
       "        [ 23.049988,  23.350006,  23.140015, ...,  23.25    ,\n",
       "          22.850006,  22.450012],\n",
       "        [ 23.25    ,  23.140015,  23.25    , ...,  23.850006,\n",
       "          23.850006,  23.640015]],\n",
       "\n",
       "       ...,\n",
       "\n",
       "       [[-29.660004, -30.160004, -31.059998, ..., -28.960007,\n",
       "         -28.660004, -28.259995],\n",
       "        [-24.059998, -24.160004, -24.559998, ..., -32.559998,\n",
       "         -31.86    , -30.460007],\n",
       "        [-10.459991, -10.959991, -11.459991, ..., -33.759995,\n",
       "         -31.460007, -27.960007],\n",
       "        ...,\n",
       "        [ 21.640015,  22.140015,  24.339996, ...,  22.339996,\n",
       "          22.23999 ,  21.540009],\n",
       "        [ 23.640015,  24.73999 ,  25.140015, ...,  22.339996,\n",
       "          22.339996,  21.640015],\n",
       "        [ 25.040009,  26.040009,  25.640015, ...,  22.940002,\n",
       "          22.640015,  22.640015]],\n",
       "\n",
       "       [[-27.36    , -28.36    , -29.660004, ..., -29.86    ,\n",
       "         -29.160004, -28.36    ],\n",
       "        [-23.259995, -23.86    , -24.660004, ..., -31.86    ,\n",
       "         -30.660004, -28.86    ],\n",
       "        [-10.76001 , -11.359985, -11.859985, ..., -32.660004,\n",
       "         -30.059998, -26.259995],\n",
       "        ...,\n",
       "        [ 20.540009,  20.73999 ,  22.23999 , ...,  21.940002,\n",
       "          21.540009,  21.140015],\n",
       "        [ 23.140015,  24.040009,  24.440002, ...,  22.140015,\n",
       "          21.940002,  21.23999 ],\n",
       "        [ 24.640015,  25.23999 ,  25.339996, ...,  22.540009,\n",
       "          22.339996,  22.040009]],\n",
       "\n",
       "       [[-28.059998, -28.86    , -29.86    , ..., -31.460007,\n",
       "         -31.660004, -31.36    ],\n",
       "        [-23.259995, -23.86    , -24.759995, ..., -33.559998,\n",
       "         -32.86    , -31.460007],\n",
       "        [-10.160004, -10.959991, -11.76001 , ..., -33.259995,\n",
       "         -30.559998, -26.86    ],\n",
       "        ...,\n",
       "        [ 20.640015,  20.540009,  21.940002, ...,  22.140015,\n",
       "          21.940002,  21.540009],\n",
       "        [ 22.940002,  23.73999 ,  24.040009, ...,  22.540009,\n",
       "          22.540009,  22.040009],\n",
       "        [ 24.540009,  24.940002,  24.940002, ...,  23.339996,\n",
       "          23.040009,  22.540009]]], dtype=float32)\n",
       "Coordinates:\n",
       "  * lat      (lat) float32 75.0 72.5 70.0 67.5 65.0 ... 25.0 22.5 20.0 17.5 15.0\n",
       "  * lon      (lon) float32 200.0 202.5 205.0 207.5 ... 322.5 325.0 327.5 330.0\n",
       "  * time     (time) datetime64[ns] 2013-01-01 ... 2014-12-31T18:00:00\n",
       "Attributes:\n",
       "    long_name:     4xDaily Air temperature at sigma level 995\n",
       "    units:         deg C\n",
       "    precision:     2\n",
       "    GRIB_id:       11\n",
       "    GRIB_name:     TMP\n",
       "    var_desc:      Air temperature\n",
       "    dataset:       NMC Reanalysis\n",
       "    level_desc:    Surface\n",
       "    statistic:     Individual Obs\n",
       "    parent_stat:   Other\n",
       "    actual_range:  [185.16 322.1 ]</pre>"
      ],
      "text/plain": [
       "<xarray.DataArray 'air' (time: 2920, lat: 25, lon: 53)>\n",
       "array([[[-31.949997, -30.649994, -29.649994, ..., -40.350006,\n",
       "         -37.649994, -34.550003],\n",
       "        [-29.350006, -28.649994, -28.449997, ..., -40.350006,\n",
       "         -37.850006, -33.850006],\n",
       "        [-23.149994, -23.350006, -24.259995, ..., -39.949997,\n",
       "         -36.759995, -31.449997],\n",
       "        ...,\n",
       "        [ 23.450012,  23.049988,  23.25    , ...,  22.25    ,\n",
       "          21.950012,  21.549988],\n",
       "        [ 22.75    ,  23.049988,  23.640015, ...,  22.75    ,\n",
       "          22.75    ,  22.049988],\n",
       "        [ 23.140015,  23.640015,  23.950012, ...,  23.75    ,\n",
       "          23.640015,  23.450012]],\n",
       "\n",
       "       [[-31.050003, -30.449997, -30.050003, ..., -41.149994,\n",
       "         -39.550003, -37.350006],\n",
       "        [-29.550003, -29.050003, -28.949997, ..., -42.149994,\n",
       "         -40.649994, -37.449997],\n",
       "        [-19.949997, -20.259995, -21.050003, ..., -42.350006,\n",
       "         -39.759995, -34.649994],\n",
       "        ...,\n",
       "        [ 23.25    ,  22.75    ,  23.049988, ...,  22.25    ,\n",
       "          21.950012,  21.640015],\n",
       "        [ 23.049988,  23.549988,  23.640015, ...,  22.450012,\n",
       "          22.350006,  21.950012],\n",
       "        [ 23.140015,  24.049988,  24.25    , ...,  23.25    ,\n",
       "          23.25    ,  23.450012]],\n",
       "\n",
       "       [[-30.850006, -30.949997, -30.850006, ..., -38.850006,\n",
       "         -37.050003, -34.449997],\n",
       "        [-28.550003, -28.759995, -29.149994, ..., -42.850006,\n",
       "         -41.149994, -37.449997],\n",
       "        [-16.950012, -17.649994, -18.949997, ..., -41.949997,\n",
       "         -39.949997, -34.949997],\n",
       "        ...,\n",
       "        [ 22.450012,  22.25    ,  22.25    , ...,  23.140015,\n",
       "          22.140015,  21.850006],\n",
       "        [ 23.049988,  23.350006,  23.140015, ...,  23.25    ,\n",
       "          22.850006,  22.450012],\n",
       "        [ 23.25    ,  23.140015,  23.25    , ...,  23.850006,\n",
       "          23.850006,  23.640015]],\n",
       "\n",
       "       ...,\n",
       "\n",
       "       [[-29.660004, -30.160004, -31.059998, ..., -28.960007,\n",
       "         -28.660004, -28.259995],\n",
       "        [-24.059998, -24.160004, -24.559998, ..., -32.559998,\n",
       "         -31.86    , -30.460007],\n",
       "        [-10.459991, -10.959991, -11.459991, ..., -33.759995,\n",
       "         -31.460007, -27.960007],\n",
       "        ...,\n",
       "        [ 21.640015,  22.140015,  24.339996, ...,  22.339996,\n",
       "          22.23999 ,  21.540009],\n",
       "        [ 23.640015,  24.73999 ,  25.140015, ...,  22.339996,\n",
       "          22.339996,  21.640015],\n",
       "        [ 25.040009,  26.040009,  25.640015, ...,  22.940002,\n",
       "          22.640015,  22.640015]],\n",
       "\n",
       "       [[-27.36    , -28.36    , -29.660004, ..., -29.86    ,\n",
       "         -29.160004, -28.36    ],\n",
       "        [-23.259995, -23.86    , -24.660004, ..., -31.86    ,\n",
       "         -30.660004, -28.86    ],\n",
       "        [-10.76001 , -11.359985, -11.859985, ..., -32.660004,\n",
       "         -30.059998, -26.259995],\n",
       "        ...,\n",
       "        [ 20.540009,  20.73999 ,  22.23999 , ...,  21.940002,\n",
       "          21.540009,  21.140015],\n",
       "        [ 23.140015,  24.040009,  24.440002, ...,  22.140015,\n",
       "          21.940002,  21.23999 ],\n",
       "        [ 24.640015,  25.23999 ,  25.339996, ...,  22.540009,\n",
       "          22.339996,  22.040009]],\n",
       "\n",
       "       [[-28.059998, -28.86    , -29.86    , ..., -31.460007,\n",
       "         -31.660004, -31.36    ],\n",
       "        [-23.259995, -23.86    , -24.759995, ..., -33.559998,\n",
       "         -32.86    , -31.460007],\n",
       "        [-10.160004, -10.959991, -11.76001 , ..., -33.259995,\n",
       "         -30.559998, -26.86    ],\n",
       "        ...,\n",
       "        [ 20.640015,  20.540009,  21.940002, ...,  22.140015,\n",
       "          21.940002,  21.540009],\n",
       "        [ 22.940002,  23.73999 ,  24.040009, ...,  22.540009,\n",
       "          22.540009,  22.040009],\n",
       "        [ 24.540009,  24.940002,  24.940002, ...,  23.339996,\n",
       "          23.040009,  22.540009]]], dtype=float32)\n",
       "Coordinates:\n",
       "  * lat      (lat) float32 75.0 72.5 70.0 67.5 65.0 ... 25.0 22.5 20.0 17.5 15.0\n",
       "  * lon      (lon) float32 200.0 202.5 205.0 207.5 ... 322.5 325.0 327.5 330.0\n",
       "  * time     (time) datetime64[ns] 2013-01-01 ... 2014-12-31T18:00:00\n",
       "Attributes:\n",
       "    long_name:     4xDaily Air temperature at sigma level 995\n",
       "    units:         deg C\n",
       "    precision:     2\n",
       "    GRIB_id:       11\n",
       "    GRIB_name:     TMP\n",
       "    var_desc:      Air temperature\n",
       "    dataset:       NMC Reanalysis\n",
       "    level_desc:    Surface\n",
       "    statistic:     Individual Obs\n",
       "    parent_stat:   Other\n",
       "    actual_range:  [185.16 322.1 ]"
      ]
     },
     "execution_count": 33,
     "metadata": {},
     "output_type": "execute_result"
    }
   ],
   "source": [
    "air"
   ]
  },
  {
   "cell_type": "code",
   "execution_count": 34,
   "metadata": {},
   "outputs": [],
   "source": [
    "t = air.isel(time=slice(0, 365 * 4, 250))"
   ]
  },
  {
   "cell_type": "code",
   "execution_count": 35,
   "metadata": {
    "scrolled": true
   },
   "outputs": [
    {
     "data": {
      "text/html": [
       "<pre>&lt;xarray.DataArray &#x27;air&#x27; (time: 6, lat: 25, lon: 53)&gt;\n",
       "array([[[-31.949997  , -30.649994  , -29.649994  , ..., -40.350006  ,\n",
       "         -37.649994  , -34.550003  ],\n",
       "        [-29.350006  , -28.649994  , -28.449997  , ..., -40.350006  ,\n",
       "         -37.850006  , -33.850006  ],\n",
       "        [-23.149994  , -23.350006  , -24.259995  , ..., -39.949997  ,\n",
       "         -36.759995  , -31.449997  ],\n",
       "        ...,\n",
       "        [ 23.450012  ,  23.049988  ,  23.25      , ...,  22.25      ,\n",
       "          21.950012  ,  21.549988  ],\n",
       "        [ 22.75      ,  23.049988  ,  23.640015  , ...,  22.75      ,\n",
       "          22.75      ,  22.049988  ],\n",
       "        [ 23.140015  ,  23.640015  ,  23.950012  , ...,  23.75      ,\n",
       "          23.640015  ,  23.450012  ]],\n",
       "\n",
       "       [[-31.350006  , -32.449997  , -33.649994  , ..., -42.149994  ,\n",
       "         -39.759995  , -37.259995  ],\n",
       "        [-27.550003  , -29.149994  , -30.759995  , ..., -42.649994  ,\n",
       "         -40.449997  , -37.649994  ],\n",
       "        [-16.850006  , -18.649994  , -20.649994  , ..., -45.649994  ,\n",
       "         -42.550003  , -37.649994  ],\n",
       "        ...,\n",
       "        [ 21.850006  ,  20.950012  ,  20.450012  , ...,  23.049988  ,\n",
       "          22.75      ,  22.140015  ],\n",
       "        [ 22.549988  ,  22.350006  ,  21.850006  , ...,  22.549988  ,\n",
       "          22.049988  ,  21.75      ],\n",
       "        [ 22.950012  ,  22.950012  ,  23.049988  , ...,  22.450012  ,\n",
       "          22.049988  ,  22.049988  ]],\n",
       "\n",
       "       [[-12.75      , -13.049988  , -12.950012  , ..., -22.850006  ,\n",
       "         -22.350006  , -21.449997  ],\n",
       "        [-12.25      , -12.859985  , -13.149994  , ..., -24.949997  ,\n",
       "         -23.850006  , -21.759995  ],\n",
       "        [ -8.549988  ,  -9.75      , -10.859985  , ..., -24.350006  ,\n",
       "         -21.949997  , -18.449997  ],\n",
       "        ...,\n",
       "        [ 24.450012  ,  24.350006  ,  24.25      , ...,  23.450012  ,\n",
       "          23.25      ,  22.450012  ],\n",
       "        [ 25.049988  ,  25.350006  ,  25.25      , ...,  23.75      ,\n",
       "          23.549988  ,  22.950012  ],\n",
       "        [ 25.140015  ,  25.549988  ,  25.450012  , ...,  24.25      ,\n",
       "          24.25      ,  24.140015  ]],\n",
       "\n",
       "       [[  2.850006  ,   2.350006  ,   1.9500122 , ...,  -4.950012  ,\n",
       "          -3.3599854 ,  -1.6499939 ],\n",
       "        [  3.350006  ,   3.25      ,   3.0499878 , ...,  -5.3599854 ,\n",
       "          -2.75      ,   0.14001465],\n",
       "        [  6.850006  ,   7.049988  ,   7.049988  , ...,  -4.549988  ,\n",
       "          -1.75      ,   1.1400146 ],\n",
       "        ...,\n",
       "        [ 24.75      ,  23.75      ,  23.25      , ...,  25.140015  ,\n",
       "          24.25      ,  23.640015  ],\n",
       "        [ 25.049988  ,  24.549988  ,  24.049988  , ...,  24.950012  ,\n",
       "          24.640015  ,  24.450012  ],\n",
       "        [ 25.850006  ,  25.549988  ,  25.049988  , ...,  25.350006  ,\n",
       "          25.350006  ,  25.25      ]],\n",
       "\n",
       "       [[ -1.6499939 ,  -1.75      ,  -1.8599854 , ..., -17.949997  ,\n",
       "         -16.649994  , -14.450012  ],\n",
       "        [  2.25      ,   1.8500061 ,   1.25      , ..., -19.050003  ,\n",
       "         -16.450012  , -12.450012  ],\n",
       "        [  4.6400146 ,   4.549988  ,   4.25      , ..., -12.549988  ,\n",
       "          -9.359985  ,  -5.149994  ],\n",
       "        ...,\n",
       "        [ 25.640015  ,  25.549988  ,  25.549988  , ...,  26.049988  ,\n",
       "          25.75      ,  25.450012  ],\n",
       "        [ 26.350006  ,  26.140015  ,  25.850006  , ...,  26.75      ,\n",
       "          26.549988  ,  26.350006  ],\n",
       "        [ 26.450012  ,  26.350006  ,  26.049988  , ...,  26.640015  ,\n",
       "          27.049988  ,  27.25      ]],\n",
       "\n",
       "       [[-12.859985  , -14.359985  , -16.049988  , ..., -32.649994  ,\n",
       "         -30.550003  , -28.350006  ],\n",
       "        [ -4.049988  ,  -4.950012  ,  -6.75      , ..., -37.149994  ,\n",
       "         -35.449997  , -32.350006  ],\n",
       "        [ -2.25      ,  -3.3599854 ,  -4.649994  , ..., -41.649994  ,\n",
       "         -38.649994  , -32.949997  ],\n",
       "        ...,\n",
       "        [ 24.350006  ,  23.450012  ,  23.350006  , ...,  25.850006  ,\n",
       "          24.850006  ,  24.549988  ],\n",
       "        [ 25.049988  ,  24.640015  ,  24.25      , ...,  26.049988  ,\n",
       "          25.850006  ,  25.549988  ],\n",
       "        [ 25.140015  ,  24.950012  ,  24.950012  , ...,  26.549988  ,\n",
       "          26.350006  ,  26.450012  ]]], dtype=float32)\n",
       "Coordinates:\n",
       "  * lat      (lat) float32 75.0 72.5 70.0 67.5 65.0 ... 25.0 22.5 20.0 17.5 15.0\n",
       "  * lon      (lon) float32 200.0 202.5 205.0 207.5 ... 322.5 325.0 327.5 330.0\n",
       "  * time     (time) datetime64[ns] 2013-01-01 ... 2013-11-09T12:00:00\n",
       "Attributes:\n",
       "    long_name:     4xDaily Air temperature at sigma level 995\n",
       "    units:         deg C\n",
       "    precision:     2\n",
       "    GRIB_id:       11\n",
       "    GRIB_name:     TMP\n",
       "    var_desc:      Air temperature\n",
       "    dataset:       NMC Reanalysis\n",
       "    level_desc:    Surface\n",
       "    statistic:     Individual Obs\n",
       "    parent_stat:   Other\n",
       "    actual_range:  [185.16 322.1 ]</pre>"
      ],
      "text/plain": [
       "<xarray.DataArray 'air' (time: 6, lat: 25, lon: 53)>\n",
       "array([[[-31.949997  , -30.649994  , -29.649994  , ..., -40.350006  ,\n",
       "         -37.649994  , -34.550003  ],\n",
       "        [-29.350006  , -28.649994  , -28.449997  , ..., -40.350006  ,\n",
       "         -37.850006  , -33.850006  ],\n",
       "        [-23.149994  , -23.350006  , -24.259995  , ..., -39.949997  ,\n",
       "         -36.759995  , -31.449997  ],\n",
       "        ...,\n",
       "        [ 23.450012  ,  23.049988  ,  23.25      , ...,  22.25      ,\n",
       "          21.950012  ,  21.549988  ],\n",
       "        [ 22.75      ,  23.049988  ,  23.640015  , ...,  22.75      ,\n",
       "          22.75      ,  22.049988  ],\n",
       "        [ 23.140015  ,  23.640015  ,  23.950012  , ...,  23.75      ,\n",
       "          23.640015  ,  23.450012  ]],\n",
       "\n",
       "       [[-31.350006  , -32.449997  , -33.649994  , ..., -42.149994  ,\n",
       "         -39.759995  , -37.259995  ],\n",
       "        [-27.550003  , -29.149994  , -30.759995  , ..., -42.649994  ,\n",
       "         -40.449997  , -37.649994  ],\n",
       "        [-16.850006  , -18.649994  , -20.649994  , ..., -45.649994  ,\n",
       "         -42.550003  , -37.649994  ],\n",
       "        ...,\n",
       "        [ 21.850006  ,  20.950012  ,  20.450012  , ...,  23.049988  ,\n",
       "          22.75      ,  22.140015  ],\n",
       "        [ 22.549988  ,  22.350006  ,  21.850006  , ...,  22.549988  ,\n",
       "          22.049988  ,  21.75      ],\n",
       "        [ 22.950012  ,  22.950012  ,  23.049988  , ...,  22.450012  ,\n",
       "          22.049988  ,  22.049988  ]],\n",
       "\n",
       "       [[-12.75      , -13.049988  , -12.950012  , ..., -22.850006  ,\n",
       "         -22.350006  , -21.449997  ],\n",
       "        [-12.25      , -12.859985  , -13.149994  , ..., -24.949997  ,\n",
       "         -23.850006  , -21.759995  ],\n",
       "        [ -8.549988  ,  -9.75      , -10.859985  , ..., -24.350006  ,\n",
       "         -21.949997  , -18.449997  ],\n",
       "        ...,\n",
       "        [ 24.450012  ,  24.350006  ,  24.25      , ...,  23.450012  ,\n",
       "          23.25      ,  22.450012  ],\n",
       "        [ 25.049988  ,  25.350006  ,  25.25      , ...,  23.75      ,\n",
       "          23.549988  ,  22.950012  ],\n",
       "        [ 25.140015  ,  25.549988  ,  25.450012  , ...,  24.25      ,\n",
       "          24.25      ,  24.140015  ]],\n",
       "\n",
       "       [[  2.850006  ,   2.350006  ,   1.9500122 , ...,  -4.950012  ,\n",
       "          -3.3599854 ,  -1.6499939 ],\n",
       "        [  3.350006  ,   3.25      ,   3.0499878 , ...,  -5.3599854 ,\n",
       "          -2.75      ,   0.14001465],\n",
       "        [  6.850006  ,   7.049988  ,   7.049988  , ...,  -4.549988  ,\n",
       "          -1.75      ,   1.1400146 ],\n",
       "        ...,\n",
       "        [ 24.75      ,  23.75      ,  23.25      , ...,  25.140015  ,\n",
       "          24.25      ,  23.640015  ],\n",
       "        [ 25.049988  ,  24.549988  ,  24.049988  , ...,  24.950012  ,\n",
       "          24.640015  ,  24.450012  ],\n",
       "        [ 25.850006  ,  25.549988  ,  25.049988  , ...,  25.350006  ,\n",
       "          25.350006  ,  25.25      ]],\n",
       "\n",
       "       [[ -1.6499939 ,  -1.75      ,  -1.8599854 , ..., -17.949997  ,\n",
       "         -16.649994  , -14.450012  ],\n",
       "        [  2.25      ,   1.8500061 ,   1.25      , ..., -19.050003  ,\n",
       "         -16.450012  , -12.450012  ],\n",
       "        [  4.6400146 ,   4.549988  ,   4.25      , ..., -12.549988  ,\n",
       "          -9.359985  ,  -5.149994  ],\n",
       "        ...,\n",
       "        [ 25.640015  ,  25.549988  ,  25.549988  , ...,  26.049988  ,\n",
       "          25.75      ,  25.450012  ],\n",
       "        [ 26.350006  ,  26.140015  ,  25.850006  , ...,  26.75      ,\n",
       "          26.549988  ,  26.350006  ],\n",
       "        [ 26.450012  ,  26.350006  ,  26.049988  , ...,  26.640015  ,\n",
       "          27.049988  ,  27.25      ]],\n",
       "\n",
       "       [[-12.859985  , -14.359985  , -16.049988  , ..., -32.649994  ,\n",
       "         -30.550003  , -28.350006  ],\n",
       "        [ -4.049988  ,  -4.950012  ,  -6.75      , ..., -37.149994  ,\n",
       "         -35.449997  , -32.350006  ],\n",
       "        [ -2.25      ,  -3.3599854 ,  -4.649994  , ..., -41.649994  ,\n",
       "         -38.649994  , -32.949997  ],\n",
       "        ...,\n",
       "        [ 24.350006  ,  23.450012  ,  23.350006  , ...,  25.850006  ,\n",
       "          24.850006  ,  24.549988  ],\n",
       "        [ 25.049988  ,  24.640015  ,  24.25      , ...,  26.049988  ,\n",
       "          25.850006  ,  25.549988  ],\n",
       "        [ 25.140015  ,  24.950012  ,  24.950012  , ...,  26.549988  ,\n",
       "          26.350006  ,  26.450012  ]]], dtype=float32)\n",
       "Coordinates:\n",
       "  * lat      (lat) float32 75.0 72.5 70.0 67.5 65.0 ... 25.0 22.5 20.0 17.5 15.0\n",
       "  * lon      (lon) float32 200.0 202.5 205.0 207.5 ... 322.5 325.0 327.5 330.0\n",
       "  * time     (time) datetime64[ns] 2013-01-01 ... 2013-11-09T12:00:00\n",
       "Attributes:\n",
       "    long_name:     4xDaily Air temperature at sigma level 995\n",
       "    units:         deg C\n",
       "    precision:     2\n",
       "    GRIB_id:       11\n",
       "    GRIB_name:     TMP\n",
       "    var_desc:      Air temperature\n",
       "    dataset:       NMC Reanalysis\n",
       "    level_desc:    Surface\n",
       "    statistic:     Individual Obs\n",
       "    parent_stat:   Other\n",
       "    actual_range:  [185.16 322.1 ]"
      ]
     },
     "execution_count": 35,
     "metadata": {},
     "output_type": "execute_result"
    }
   ],
   "source": [
    "t"
   ]
  },
  {
   "cell_type": "code",
   "execution_count": 36,
   "metadata": {},
   "outputs": [
    {
     "data": {
      "image/png": "[encoded data removed]",
      "text/plain": [
       "<Figure size 1000x600 with 7 Axes>"
      ]
     },
     "metadata": {},
     "output_type": "display_data"
    }
   ],
   "source": [
    "g_simple = t.plot(x=\"lon\", y=\"lat\", col=\"time\", col_wrap=3)"
   ]
  },
  {
   "cell_type": "code",
   "execution_count": 37,
   "metadata": {},
   "outputs": [
    {
     "data": {
      "text/plain": [
       "<xarray.plot.facetgrid.FacetGrid at 0x7fc2e7871610>"
      ]
     },
     "execution_count": 37,
     "metadata": {},
     "output_type": "execute_result"
    },
    {
     "data": {
      "image/png": "[encoded data removed]",
      "text/plain": [
       "<Figure size 700x300 with 3 Axes>"
      ]
     },
     "metadata": {},
     "output_type": "display_data"
    }
   ],
   "source": [
    "#demo to reproduce error\n",
    "import xarray as xr\n",
    "airtemps = xr.tutorial.open_dataset(\"air_temperature\") \n",
    "airtemps['air'].isel(time=slice(2)).plot(col='time') \n",
    "\n",
    "#check pandas version\n",
    "#https://github.com/pydata/xarray/issues/4319"
   ]
  },
  {
   "cell_type": "code",
   "execution_count": 38,
   "metadata": {},
   "outputs": [
    {
     "name": "stdout",
     "output_type": "stream",
     "text": [
      "Name: pandas\n",
      "Version: 1.0.5\n",
      "Summary: Powerful data structures for data analysis, time series, and statistics\n",
      "Home-page: https://pandas.pydata.org\n",
      "Author: \n",
      "Author-email: \n",
      "License: BSD\n",
      "Location: /home/ran/mambaforge/envs/uhi_ch_less1/lib/python3.7/site-packages\n",
      "Requires: numpy, python-dateutil, pytz\n",
      "Required-by: geopandas, natcap.invest, pylandsat, seaborn, statsmodels, xarray\n"
     ]
    }
   ],
   "source": [
    "#check pandas version\n",
    "!pip show pandas"
   ]
  },
  {
   "cell_type": "code",
   "execution_count": 39,
   "metadata": {},
   "outputs": [
    {
     "data": {
      "text/plain": [
       "45368"
      ]
     },
     "execution_count": 39,
     "metadata": {},
     "output_type": "execute_result"
    }
   ],
   "source": [
    "T_regr_da.T.size"
   ]
  },
  {
   "cell_type": "code",
   "execution_count": 40,
   "metadata": {
    "scrolled": true
   },
   "outputs": [
    {
     "data": {
      "text/plain": [
       "('time', 'y', 'x')"
      ]
     },
     "execution_count": 40,
     "metadata": {},
     "output_type": "execute_result"
    }
   ],
   "source": [
    "T_regr_da.dims"
   ]
  },
  {
   "cell_type": "code",
   "execution_count": 41,
   "metadata": {},
   "outputs": [
    {
     "data": {
      "text/html": [
       "<pre>&lt;xarray.DataArray &#x27;T&#x27; (time: 8, y: 53, x: 107)&gt;\n",
       "array([[[nan, nan, ..., nan, nan],\n",
       "        [nan, nan, ..., nan, nan],\n",
       "        ...,\n",
       "        [nan, nan, ..., nan, nan],\n",
       "        [nan, nan, ..., nan, nan]],\n",
       "\n",
       "       [[nan, nan, ..., nan, nan],\n",
       "        [nan, nan, ..., nan, nan],\n",
       "        ...,\n",
       "        [nan, nan, ..., nan, nan],\n",
       "        [nan, nan, ..., nan, nan]],\n",
       "\n",
       "       ...,\n",
       "\n",
       "       [[nan, nan, ..., nan, nan],\n",
       "        [nan, nan, ..., nan, nan],\n",
       "        ...,\n",
       "        [nan, nan, ..., nan, nan],\n",
       "        [nan, nan, ..., nan, nan]],\n",
       "\n",
       "       [[nan, nan, ..., nan, nan],\n",
       "        [nan, nan, ..., nan, nan],\n",
       "        ...,\n",
       "        [nan, nan, ..., nan, nan],\n",
       "        [nan, nan, ..., nan, nan]]])\n",
       "Coordinates:\n",
       "  * time     (time) datetime64[ns] 2018-05-25 2018-06-19 ... 2019-08-25\n",
       "  * y        (y) float64 1.159e+06 1.159e+06 1.159e+06 ... 1.149e+06 1.149e+06\n",
       "  * x        (x) float64 2.525e+06 2.525e+06 2.525e+06 ... 2.546e+06 2.546e+06\n",
       "Attributes:\n",
       "    pyproj_srs:  +proj=somerc +lat_0=46.9524055555556 +lon_0=7.43958333333333...</pre>"
      ],
      "text/plain": [
       "<xarray.DataArray 'T' (time: 8, y: 53, x: 107)>\n",
       "array([[[nan, nan, ..., nan, nan],\n",
       "        [nan, nan, ..., nan, nan],\n",
       "        ...,\n",
       "        [nan, nan, ..., nan, nan],\n",
       "        [nan, nan, ..., nan, nan]],\n",
       "\n",
       "       [[nan, nan, ..., nan, nan],\n",
       "        [nan, nan, ..., nan, nan],\n",
       "        ...,\n",
       "        [nan, nan, ..., nan, nan],\n",
       "        [nan, nan, ..., nan, nan]],\n",
       "\n",
       "       ...,\n",
       "\n",
       "       [[nan, nan, ..., nan, nan],\n",
       "        [nan, nan, ..., nan, nan],\n",
       "        ...,\n",
       "        [nan, nan, ..., nan, nan],\n",
       "        [nan, nan, ..., nan, nan]],\n",
       "\n",
       "       [[nan, nan, ..., nan, nan],\n",
       "        [nan, nan, ..., nan, nan],\n",
       "        ...,\n",
       "        [nan, nan, ..., nan, nan],\n",
       "        [nan, nan, ..., nan, nan]]])\n",
       "Coordinates:\n",
       "  * time     (time) datetime64[ns] 2018-05-25 2018-06-19 ... 2019-08-25\n",
       "  * y        (y) float64 1.159e+06 1.159e+06 1.159e+06 ... 1.149e+06 1.149e+06\n",
       "  * x        (x) float64 2.525e+06 2.525e+06 2.525e+06 ... 2.546e+06 2.546e+06\n",
       "Attributes:\n",
       "    pyproj_srs:  +proj=somerc +lat_0=46.9524055555556 +lon_0=7.43958333333333..."
      ]
     },
     "execution_count": 41,
     "metadata": {},
     "output_type": "execute_result"
    }
   ],
   "source": [
    "T_regr_da"
   ]
  },
  {
   "cell_type": "code",
   "execution_count": null,
   "metadata": {},
   "outputs": [],
   "source": [
    "import geopandas as gpd\n",
    "from shapely import geometry\n",
    "import numpy as np\n",
    "import seaborn as sns\n",
    "from matplotlib import colors\n",
    "import matplotlib.pyplot as plt\n"
   ]
  },
  {
   "cell_type": "code",
   "execution_count": null,
   "metadata": {},
   "outputs": [],
   "source": [
    "dir(T_regr_da.plot())"
   ]
  },
  {
   "cell_type": "code",
   "execution_count": null,
   "metadata": {},
   "outputs": [],
   "source": [
    "help(T_regr_da)"
   ]
  },
  {
   "cell_type": "code",
   "execution_count": null,
   "metadata": {},
   "outputs": [],
   "source": [
    "***********************\n",
    "TO .|.. DEBUG .|.. HERE\n",
    "^^^^^^^^^^^^^^^^^^^^^^^\n",
    "\n",
    "!!!!!SOLVED!!!!!\n",
    "check out this https://github.com/pydata/xarray/pull/4292\n",
    "in environmet.yml file downgraded pandas to be <1.1    \n",
    "    "
   ]
  },
  {
   "cell_type": "code",
   "execution_count": null,
   "metadata": {},
   "outputs": [],
   "source": [
    "g = T_regr_da.plot(\n",
    "        x='x',\n",
    "        y='y',\n",
    "        col='time',\n",
    "        col_wrap=3,\n",
    "        cbar_kwargs={\n",
    "             'shrink': .2,\n",
    "             'pad': 0.02,\n",
    "         },\n",
    "        add_colorbar=False)"
   ]
  },
  {
   "cell_type": "code",
   "execution_count": null,
   "metadata": {},
   "outputs": [],
   "source": [
    "g = T_regr_da.to_array().plot(col=\"time\")"
   ]
  },
  {
   "cell_type": "code",
   "execution_count": null,
   "metadata": {},
   "outputs": [],
   "source": [
    "T_regr_da.shape\n"
   ]
  },
  {
   "cell_type": "code",
   "execution_count": null,
   "metadata": {},
   "outputs": [],
   "source": [
    "dir(T_regr_da)"
   ]
  },
  {
   "cell_type": "code",
   "execution_count": null,
   "metadata": {},
   "outputs": [],
   "source": [
    "T_regr_da.coords"
   ]
  },
  {
   "cell_type": "code",
   "execution_count": null,
   "metadata": {},
   "outputs": [],
   "source": []
  },
  {
   "cell_type": "code",
   "execution_count": null,
   "metadata": {},
   "outputs": [],
   "source": [
    "g = T_regr_da.plot(x=\"x\", y=\"y\", col=\"time\", col_wrap=3)"
   ]
  },
  {
   "cell_type": "code",
   "execution_count": null,
   "metadata": {},
   "outputs": [],
   "source": [
    "\n",
    "\n",
    "    # post-processing\n",
    "fig = g.fig\n",
    "flat_axes = g.axes.flatten()\n",
    "\n",
    "    # prepare last axis for the legend\n",
    "last_ax = flat_axes[-1]\n",
    "last_ax.set_visible(True)\n",
    "last_ax.axis('off')"
   ]
  },
  {
   "cell_type": "code",
   "execution_count": null,
   "metadata": {},
   "outputs": [],
   "source": []
  },
  {
   "cell_type": "code",
   "execution_count": null,
   "metadata": {},
   "outputs": [],
   "source": [
    "\n",
    "err_gdf = gpd.GeoDataFrame(comparison_df['date'],\n",
    "            geometry=list(comparison_df['station'].map(lambda stn: geometry.Point(*station_location_df.loc[stn][['x', 'y']]))))\n",
    "err_gdf['err'] = comparison_df['pred'] - comparison_df['obs']"
   ]
  },
  {
   "cell_type": "code",
   "execution_count": null,
   "metadata": {},
   "outputs": [],
   "source": [
    "ERR_CLASSES = [-5, -3, -1, 1, 3, 5]  # station markers\n",
    "ERR_BOUNDARIES = [-12, -6, -2, 2, 6, 12]  # map pixels\n",
    "err_classes = ERR_CLASSES\n",
    "err_gdf['err_class'] = np.digitize(err_gdf['err'], err_classes) - 1\n",
    "\n",
    "palette = sns.color_palette('coolwarm', n_colors=len(err_classes) - 1)\n",
    "cmap = colors.ListedColormap(palette)\n",
    "\n",
    "# set black edge color for markers\n",
    "plt.rcParams.update(**{'scatter.edgecolors': 'k'})"
   ]
  },
  {
   "cell_type": "code",
   "execution_count": null,
   "metadata": {},
   "outputs": [],
   "source": [
    "# plot the stations\n",
    "for (_, date_gdf), ax in zip(err_gdf.groupby('date'), flat_axes):\n",
    "            date_gdf.plot(column='err_class', ax=ax, cmap=cmap)\n",
    "            # ax.set_xticks([])\n",
    "            # ax.set_yticks([])\n",
    "        # generate a legend and place it in the last (empty) axis\n",
    "for start, end, color in zip(err_classes, err_classes[1:], palette):\n",
    "    last_ax.plot(0, 0, 'o', c=color, label=f'[{start}, {end})')\n",
    "last_ax.legend(\n",
    "            loc='center',\n",
    "            facecolor='white',\n",
    "            title='Regression error $\\hat{T} - T_{obs}$ [$\\degree$C]')\n",
    "fig.colorbar(g._mappables[-1],\n",
    "                     ax=last_ax,\n",
    "                     label='Map temperature $\\hat{T}$ [$\\degree$C]',\n",
    "                     shrink=.45)"
   ]
  },
  {
   "cell_type": "code",
   "execution_count": null,
   "metadata": {},
   "outputs": [],
   "source": []
  }
 ],
 "metadata": {
  "kernelspec": {
   "display_name": "Py (uhi_ch1)",
   "language": "python",
   "name": "uhi_ch1"
  },
  "language_info": {
   "codemirror_mode": {
    "name": "ipython",
    "version": 3
   },
   "file_extension": ".py",
   "mimetype": "text/x-python",
   "name": "python",
   "nbconvert_exporter": "python",
   "pygments_lexer": "ipython3",
   "version": "3.7.12"
  },
  "name": "spatial-regression.ipynb",
  "toc": {
   "base_numbering": 1,
   "nav_menu": {},
   "number_sections": true,
   "sideBar": true,
   "skip_h1_title": false,
   "title_cell": "Table of Contents",
   "title_sidebar": "Contents",
   "toc_cell": false,
   "toc_position": {},
   "toc_section_display": true,
   "toc_window_display": false
  }
 },
 "nbformat": 4,
 "nbformat_minor": 4
}
