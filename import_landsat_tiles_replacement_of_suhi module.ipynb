{
 "cells": [
  {
   "cell_type": "markdown",
   "id": "70c06b1f",
   "metadata": {},
   "source": [
    "# try env here\n"
   ]
  },
  {
   "cell_type": "code",
   "execution_count": 28,
   "id": "2b404617",
   "metadata": {},
   "outputs": [
    {
     "ename": "ModuleNotFoundError",
     "evalue": "No module named 'ee'",
     "output_type": "error",
     "traceback": [
      "\u001b[0;31m---------------------------------------------------------------------------\u001b[0m",
      "\u001b[0;31mModuleNotFoundError\u001b[0m                       Traceback (most recent call last)",
      "\u001b[0;32m/tmp/ipykernel_24133/145499908.py\u001b[0m in \u001b[0;36m<module>\u001b[0;34m\u001b[0m\n\u001b[0;32m----> 1\u001b[0;31m \u001b[0;32mimport\u001b[0m \u001b[0mee\u001b[0m\u001b[0;34m\u001b[0m\u001b[0;34m\u001b[0m\u001b[0m\n\u001b[0m",
      "\u001b[0;31mModuleNotFoundError\u001b[0m: No module named 'ee'"
     ]
    }
   ],
   "source": [
    "\n",
    "import ee"
   ]
  },
  {
   "cell_type": "code",
   "execution_count": 29,
   "id": "81aeb9c2",
   "metadata": {},
   "outputs": [
    {
     "ename": "ModuleNotFoundError",
     "evalue": "No module named 'geemap'",
     "output_type": "error",
     "traceback": [
      "\u001b[0;31m---------------------------------------------------------------------------\u001b[0m",
      "\u001b[0;31mModuleNotFoundError\u001b[0m                       Traceback (most recent call last)",
      "\u001b[0;32m/tmp/ipykernel_24133/4289147806.py\u001b[0m in \u001b[0;36m<module>\u001b[0;34m\u001b[0m\n\u001b[0;32m----> 1\u001b[0;31m \u001b[0;32mimport\u001b[0m \u001b[0mgeemap\u001b[0m\u001b[0;34m\u001b[0m\u001b[0;34m\u001b[0m\u001b[0m\n\u001b[0m",
      "\u001b[0;31mModuleNotFoundError\u001b[0m: No module named 'geemap'"
     ]
    }
   ],
   "source": [
    "import geemap"
   ]
  },
  {
   "cell_type": "markdown",
   "id": "a330f28c",
   "metadata": {},
   "source": [
    "# need to replace this function \n",
    "\n",
    "`suhi.get_landsat_features_ds(landsat_tile, ref_ds=ref_ds, **landsat_features_kws)`"
   ]
  },
  {
   "cell_type": "code",
   "execution_count": 30,
   "id": "7b43c69a",
   "metadata": {},
   "outputs": [
    {
     "name": "stdout",
     "output_type": "stream",
     "text": [
      "Help on function get_landsat_features_ds in module swiss_uhi_utils.landsat:\n",
      "\n",
      "get_landsat_features_ds(landsat_tile, landsat_features=None, ref_ds=None, ref_geom=None, water_bodies_geom=None, crs=None, roi=False, subset_kws=None, roi_kws=None)\n",
      "\n"
     ]
    }
   ],
   "source": [
    "import swiss_uhi_utils as suhi\n",
    "help(suhi.get_landsat_features_ds)"
   ]
  },
  {
   "cell_type": "code",
   "execution_count": null,
   "id": "c12eba01",
   "metadata": {},
   "outputs": [],
   "source": [
    "#code part to be replaced invoking the above function"
   ]
  },
  {
   "cell_type": "code",
   "execution_count": 9,
   "id": "1b7c4672",
   "metadata": {},
   "outputs": [
    {
     "ename": "IndentationError",
     "evalue": "unexpected indent (3471381691.py, line 2)",
     "output_type": "error",
     "traceback": [
      "\u001b[0;36m  File \u001b[0;32m\"/tmp/ipykernel_3522947/3471381691.py\"\u001b[0;36m, line \u001b[0;32m2\u001b[0m\n\u001b[0;31m    datasets = []\u001b[0m\n\u001b[0m    ^\u001b[0m\n\u001b[0;31mIndentationError\u001b[0m\u001b[0;31m:\u001b[0m unexpected indent\n"
     ]
    }
   ],
   "source": [
    "# process the list of tiles\n",
    "    datasets = []\n",
    "    # use a head-tail pattern to get a reference dataset in the first\n",
    "    # iteration and use it to align the datasets of further iterations\n",
    "    landsat_features_kws = dict(landsat_features=['lst', 'ndwi'],\n",
    "                                ref_geom=ref_geom,\n",
    "                                water_bodies_geom=None,\n",
    "                                crs=crs)\n",
    "    ref_ds = suhi.get_landsat_features_ds(landsat_tiles[0],\n",
    "                                          **landsat_features_kws)\n",
    "    datasets.append(ref_ds)\n",
    "    for landsat_tile in landsat_tiles[1:]:\n",
    "        ds = suhi.get_landsat_features_ds(landsat_tile,\n",
    "                                          ref_ds=ref_ds,\n",
    "                                          **landsat_features_kws)\n",
    "        datasets.append(ds)\n",
    "\n",
    "    agglom_landsat_ds = xr.concat(datasets, dim='time')"
   ]
  },
  {
   "cell_type": "code",
   "execution_count": null,
   "id": "7633aa72",
   "metadata": {},
   "outputs": [],
   "source": [
    "# the idea is to use geemap and ee to do the same things as in suhi"
   ]
  },
  {
   "cell_type": "code",
   "execution_count": 1,
   "id": "ce13ab18",
   "metadata": {},
   "outputs": [],
   "source": [
    "\n",
    "import tempfile\n",
    "from os import path\n",
    "\n",
    "import numpy as np\n",
    "import pandas as pd\n",
    "import pylandsat\n",
    "import salem\n",
    "import xarray as xr\n",
    "from rio_toa import brightness_temp\n"
   ]
  },
  {
   "cell_type": "code",
   "execution_count": 8,
   "id": "fb60ee1f",
   "metadata": {},
   "outputs": [
    {
     "ename": "ImportError",
     "evalue": "attempted relative import with no known parent package",
     "output_type": "error",
     "traceback": [
      "\u001b[0;31m---------------------------------------------------------------------------\u001b[0m",
      "\u001b[0;31mImportError\u001b[0m                               Traceback (most recent call last)",
      "\u001b[0;32m/tmp/ipykernel_4064426/1630177984.py\u001b[0m in \u001b[0;36m<module>\u001b[0;34m\u001b[0m\n\u001b[1;32m      1\u001b[0m \u001b[0;31m# geo_utils is file of suhi_utils\u001b[0m\u001b[0;34m\u001b[0m\u001b[0;34m\u001b[0m\u001b[0;34m\u001b[0m\u001b[0m\n\u001b[0;32m----> 2\u001b[0;31m \u001b[0;32mfrom\u001b[0m \u001b[0;34m.\u001b[0m \u001b[0;32mimport\u001b[0m \u001b[0mgeo_utils\u001b[0m\u001b[0;34m\u001b[0m\u001b[0;34m\u001b[0m\u001b[0m\n\u001b[0m\u001b[1;32m      3\u001b[0m \u001b[0;34m\u001b[0m\u001b[0m\n\u001b[1;32m      4\u001b[0m \u001b[0m__all__\u001b[0m \u001b[0;34m=\u001b[0m \u001b[0;34m[\u001b[0m\u001b[0;34m'get_landsat_features_ds'\u001b[0m\u001b[0;34m]\u001b[0m\u001b[0;34m\u001b[0m\u001b[0;34m\u001b[0m\u001b[0m\n",
      "\u001b[0;31mImportError\u001b[0m: attempted relative import with no known parent package"
     ]
    }
   ],
   "source": [
    "# geo_utils is file of suhi_utils\n",
    "from . import geo_utils\n",
    "\n",
    "__all__ = ['get_landsat_features_ds']"
   ]
  },
  {
   "cell_type": "code",
   "execution_count": 12,
   "id": "c8713f80",
   "metadata": {},
   "outputs": [],
   "source": [
    "def get_landsat_features_ds(landsat_tile, landsat_features=None, ref_ds=None,\n",
    "                            ref_geom=None, water_bodies_geom=None, crs=None,\n",
    "                            roi=False, subset_kws=None, roi_kws=None):\n",
    "    product = pylandsat.Product(landsat_tile)\n",
    "\n",
    "    with tempfile.TemporaryDirectory() as tmp_dir:\n",
    "        product.download(tmp_dir, files=LANDSAT_FILES)\n",
    "\n",
    "        landsat_tile_dir = path.join(tmp_dir, landsat_tile)\n",
    "\n",
    "        scene = pylandsat.Scene(landsat_tile_dir)\n",
    "        bands = scene.available_bands()\n",
    "        band_filepaths = [getattr(scene, band).fpath for band in bands]\n",
    "\n",
    "        # create xarray dataset\n",
    "        landsat_ds = xr.Dataset({\n",
    "            band: salem.open_xr_dataset(band_filepath)['data']\n",
    "            for band, band_filepath in zip(bands, band_filepaths)\n",
    "        })\n",
    "    # projection attributes need to be set before any geo-transformation\n",
    "    proj_attrs = landsat_ds[bands[0]].attrs.copy()\n",
    "    landsat_ds.attrs = proj_attrs\n",
    "\n",
    "    # landsat metadata that will be used below\n",
    "    mtl_dict = scene.mtl\n",
    "\n",
    "    # crop/align to the reference extent\n",
    "    if ref_ds is None:\n",
    "        landsat_ds = geo_utils.clip_ds_to_extent(landsat_ds, geom=ref_geom,\n",
    "                                                 crs=crs, roi=roi,\n",
    "                                                 subset_kws=subset_kws,\n",
    "                                                 roi_kws=roi_kws)\n",
    "    else:\n",
    "        landsat_ds = ref_ds.salem.transform(landsat_ds, interp='linear')\n",
    "\n",
    "    # the water mask needs to be boolean for NumPy slicing to work properly\n",
    "    water_bodies_mask = landsat_ds.salem.grid.region_of_interest(\n",
    "        geometry=water_bodies_geom, crs=crs).astype(bool)\n",
    "\n",
    "    # compute the landsat features set in `landsat_features`\n",
    "    if landsat_features is None:\n",
    "        landsat_features = ['lst', 'ndvi', 'ndwi']\n",
    "    landsat_features_dict = {}\n",
    "    if 'lst' in landsat_features:\n",
    "        landsat_features_dict['lst'] = _compute_lst(landsat_ds, mtl_dict,\n",
    "                                                    water_bodies_mask)\n",
    "    if 'ndvi' in landsat_features:\n",
    "        landsat_features_dict['ndvi'] = _compute_ndvi(landsat_ds)\n",
    "    if 'ndwi' in landsat_features:\n",
    "        landsat_features_dict['ndwi'] = _compute_ndwi(landsat_ds,\n",
    "                                                      water_bodies_mask)\n",
    "\n",
    "    # assemble the final dataset\n",
    "    dims = ('y', 'x')\n",
    "    coords = {\n",
    "        'x': landsat_ds.salem.grid.x_coord,\n",
    "        'y': landsat_ds.salem.grid.y_coord\n",
    "    }\n",
    "    landsat_features_ds = xr.Dataset(\n",
    "        {\n",
    "            landsat_feature_key: xr.DataArray(\n",
    "                landsat_features_dict[landsat_feature_key], dims=dims,\n",
    "                coords=coords, attrs=proj_attrs)\n",
    "            for landsat_feature_key in landsat_features_dict\n",
    "        }, attrs=proj_attrs)\n",
    "    # add the date\n",
    "    landsat_features_ds = landsat_features_ds.assign_coords({\n",
    "        'time':\n",
    "        pd.to_datetime(mtl_dict['PRODUCT_METADATA']['DATE_ACQUIRED'])\n",
    "    })\n",
    "\n",
    "    return landsat_features_ds"
   ]
  },
  {
   "cell_type": "markdown",
   "id": "b2b7fa86",
   "metadata": {},
   "source": [
    "## getting started of geemap and ee"
   ]
  },
  {
   "cell_type": "code",
   "execution_count": null,
   "id": "d09c9ffc",
   "metadata": {},
   "outputs": [],
   "source": [
    "ee token"
   ]
  },
  {
   "cell_type": "markdown",
   "id": "2c55ee12",
   "metadata": {},
   "source": [
    "4/1AWgavdd9xm1IzwUNuDntgPlqVJyuhtQdE41q0_hxAKFztRyJsG_PlJ9q71c"
   ]
  },
  {
   "cell_type": "code",
   "execution_count": 23,
   "id": "8b58c327",
   "metadata": {},
   "outputs": [],
   "source": [
    "Map = geemap.Map(center=(40, -100), zoom=4)\n",
    "#Map\n",
    "dem = ee.Image('USGS/SRTMGL1_003')\n",
    "landcover = ee.Image(\"ESA/GLOBCOVER_L4_200901_200912_V2_3\").select('landcover')\n",
    "landsat7 = ee.Image('LANDSAT/LE7_TOA_5YEAR/1999_2003')\n",
    "states = ee.FeatureCollection(\"TIGER/2018/States\")\n",
    "countries = geemap.shp_to_ee('data/raw/agglom-extent/agglom-extent.shp')\n",
    "\n",
    "dem_vis = {\n",
    "'min': 0,\n",
    "'max': 4000,\n",
    "'palette': ['006633', 'E5FFCC', '662A00', 'D8D8D8', 'F5F5F5']}\n",
    "\n",
    "landsat_vis = {\n",
    "    'min': 20,\n",
    "    'max': 200,\n",
    "    'bands': ['B4', 'B3', 'B2']\n",
    "}\n",
    "aggr_vis_params = {'color': 'f70202ff', 'width': 2, 'lineType': 'solid', 'fillColor': '00000056'}"
   ]
  },
  {
   "cell_type": "code",
   "execution_count": 147,
   "id": "d17a6fdf",
   "metadata": {},
   "outputs": [
    {
     "data": {
      "application/vnd.jupyter.widget-view+json": {
       "model_id": "2564f57b79764363adda380de6caf496",
       "version_major": 2,
       "version_minor": 0
      },
      "text/plain": [
       "Map(bottom=46983.0, center=[45.899565963770335, 11.157989501953127], controls=(WidgetControl(options=['positio…"
      ]
     },
     "metadata": {},
     "output_type": "display_data"
    }
   ],
   "source": [
    "Map.addLayer(dem, dem_vis, 'SRTM DEM', True, 0.5)\n",
    "Map.addLayer(landcover, {}, 'Land cover')\n",
    "Map.addLayer(landsat7, landsat_vis, 'Landsat 7')\n",
    "Map.addLayer(states, {}, \"US States\")\n",
    "Map.addLayer(countries, aggr_vis_params, 'Countries')\n",
    "Map.addLayer(geometry,  {},'geometry');\n",
    "\n",
    "Map"
   ]
  },
  {
   "cell_type": "code",
   "execution_count": 19,
   "id": "00de08bd",
   "metadata": {},
   "outputs": [],
   "source": [
    "# download tiles ee"
   ]
  },
  {
   "cell_type": "markdown",
   "id": "2daa1f8c",
   "metadata": {},
   "source": [
    "## read in landsat tiles\n"
   ]
  },
  {
   "cell_type": "code",
   "execution_count": 54,
   "id": "638e1843",
   "metadata": {},
   "outputs": [
    {
     "data": {
      "text/plain": [
       "0    LC08_L1TP_192028_20220625_20220706_01_T1\n",
       "1    LC08_L1TP_193028_20220702_20220708_01_T1\n",
       "2    LC08_L1TP_192028_20220711_20220722_01_T1\n",
       "3    LC08_L1TP_193028_20220718_20220726_01_T1\n",
       "Name: 0, dtype: object"
      ]
     },
     "execution_count": 54,
     "metadata": {},
     "output_type": "execute_result"
    }
   ],
   "source": [
    "landsat_tiles = pd.read_csv('data/raw/landsat-tiles.csv', header=None)[0]\n",
    "landsat_tiles"
   ]
  },
  {
   "cell_type": "code",
   "execution_count": 55,
   "id": "bd293fe2",
   "metadata": {},
   "outputs": [
    {
     "data": {
      "text/plain": [
       "'LC08_L1TP_192028_20220625_20220706_01_T1'"
      ]
     },
     "execution_count": 55,
     "metadata": {},
     "output_type": "execute_result"
    }
   ],
   "source": [
    "landsat_tile = landsat_tiles[0]\n",
    "landsat_tile"
   ]
  },
  {
   "cell_type": "code",
   "execution_count": 146,
   "id": "444a5c0d",
   "metadata": {},
   "outputs": [],
   "source": [
    "#define geometry\n",
    "geometry = ee.Geometry.Polygon(\n",
    "        [[[10.956465573588993, 46.25],\n",
    "          [10.956465573588993, 45.90],\n",
    "          [11.338240475932743, 45.90],\n",
    "          [11.338240475932743, 46.25]]])"
   ]
  },
  {
   "cell_type": "code",
   "execution_count": 50,
   "id": "bb2fe08b",
   "metadata": {},
   "outputs": [],
   "source": [
    "date_start = '2022-06-24'\n",
    "date_end = '2022-07-19'"
   ]
  },
  {
   "cell_type": "code",
   "execution_count": 105,
   "id": "a83126e2",
   "metadata": {},
   "outputs": [],
   "source": [
    "#locate the tile #T1_L2 #T1_TOA\n",
    "l2sp = ee.ImageCollection(\"LANDSAT/LC08/C02/T1_TOA\").filterDate(date_start, date_end).filter(ee.Filter.bounds(geometry))"
   ]
  },
  {
   "cell_type": "code",
   "execution_count": 106,
   "id": "135434ba",
   "metadata": {},
   "outputs": [
    {
     "data": {
      "text/html": [
       "<div><style>:root {\n",
       "  --font-color-primary: var(--jp-content-font-color0, rgba(0, 0, 0, 1));\n",
       "  --font-color-secondary: var(--jp-content-font-color2, rgba(0, 0, 0, 0.6));\n",
       "  --font-color-accent: rgba(123, 31, 162, 1);\n",
       "  --border-color: var(--jp-border-color2, #e0e0e0);\n",
       "  --background-color: var(--jp-layout-color0, white);\n",
       "  --background-color-row-even: var(--jp-layout-color1, white);\n",
       "  --background-color-row-odd: var(--jp-layout-color2, #eeeeee);\n",
       "}\n",
       "\n",
       "html[theme=\"dark\"],\n",
       "body[data-theme=\"dark\"],\n",
       "body.vscode-dark {\n",
       "  --font-color-primary: rgba(255, 255, 255, 1);\n",
       "  --font-color-secondary: rgba(255, 255, 255, 0.6);\n",
       "  --font-color-accent: rgb(173, 132, 190);\n",
       "  --border-color: #2e2e2e;\n",
       "  --background-color: #111111;\n",
       "  --background-color-row-even: #111111;\n",
       "  --background-color-row-odd: #313131;\n",
       "}\n",
       "\n",
       ".ee {\n",
       "  padding: 1em;\n",
       "  line-height: 1.5em;\n",
       "  min-width: 300px;\n",
       "  max-width: 1200px;\n",
       "  overflow-y: scroll;\n",
       "  max-height: 600px;\n",
       "  border: 1px solid var(--border-color);\n",
       "  font-family: monospace;\n",
       "}\n",
       "\n",
       ".ee li {\n",
       "  list-style-type: none;\n",
       "}\n",
       "\n",
       ".ee ul {\n",
       "  padding-left: 1.5em !important;\n",
       "  margin: 0;\n",
       "}\n",
       "\n",
       ".ee > ul {\n",
       "  padding-left: 0 !important;\n",
       "}\n",
       "\n",
       ".ee-open,\n",
       ".ee-shut {\n",
       "  color: var(--font-color-secondary);\n",
       "  cursor: pointer;\n",
       "  margin: 0;\n",
       "}\n",
       "\n",
       ".ee-open:hover,\n",
       ".ee-shut:hover {\n",
       "  color: var(--font-color-primary);\n",
       "}\n",
       "\n",
       ".ee-k {\n",
       "  color: var(--font-color-accent);\n",
       "  margin-right: 6px;\n",
       "}\n",
       "\n",
       ".ee-v {\n",
       "  color: var(--font-color-primary);\n",
       "}\n",
       "\n",
       ".ee-toggle {\n",
       "  display: none;\n",
       "}\n",
       "\n",
       ".ee-shut + ul {\n",
       "  display: none;\n",
       "}\n",
       "\n",
       ".ee-open + ul {\n",
       "  display: block;\n",
       "}\n",
       "\n",
       ".ee-shut::before {\n",
       "  display: inline-block;\n",
       "  content: \"▼\";\n",
       "  margin-right: 6px;\n",
       "  transform: rotate(-90deg);\n",
       "  transition: transform 0.2s;\n",
       "}\n",
       "\n",
       ".ee-open::before {\n",
       "  transform: rotate(0deg);\n",
       "  display: inline-block;\n",
       "  content: \"▼\";\n",
       "  margin-right: 6px;\n",
       "  transition: transform 0.2s;\n",
       "}\n",
       "</style><div class='ee'><ul><li><label class='ee-shut'>ImageCollection LANDSAT/LC08/C02/T1_TOA  (4 elements)<input type='checkbox' class='ee-toggle'></label><ul><li><span class='ee-k'>type:</span><span class='ee-v'>ImageCollection</span></li><li><span class='ee-k'>id:</span><span class='ee-v'>LANDSAT/LC08/C02/T1_TOA</span></li><li><span class='ee-k'>version:</span><span class='ee-v'>1673734775139334</span></li><li><label class='ee-shut'>bands: List (17 elements)<input type='checkbox' class='ee-toggle'></label><ul><li><label class='ee-shut'>0: \"B1\", float<input type='checkbox' class='ee-toggle'></label><ul><li><span class='ee-k'>id:</span><span class='ee-v'>B1</span></li><li><label class='ee-shut'>data_type: float<input type='checkbox' class='ee-toggle'></label><ul><li><span class='ee-k'>type:</span><span class='ee-v'>PixelType</span></li><li><span class='ee-k'>precision:</span><span class='ee-v'>float</span></li></ul></li></ul></li><li><label class='ee-shut'>1: \"B2\", float<input type='checkbox' class='ee-toggle'></label><ul><li><span class='ee-k'>id:</span><span class='ee-v'>B2</span></li><li><label class='ee-shut'>data_type: float<input type='checkbox' class='ee-toggle'></label><ul><li><span class='ee-k'>type:</span><span class='ee-v'>PixelType</span></li><li><span class='ee-k'>precision:</span><span class='ee-v'>float</span></li></ul></li></ul></li><li><label class='ee-shut'>2: \"B3\", float<input type='checkbox' class='ee-toggle'></label><ul><li><span class='ee-k'>id:</span><span class='ee-v'>B3</span></li><li><label class='ee-shut'>data_type: float<input type='checkbox' class='ee-toggle'></label><ul><li><span class='ee-k'>type:</span><span class='ee-v'>PixelType</span></li><li><span class='ee-k'>precision:</span><span class='ee-v'>float</span></li></ul></li></ul></li><li><label class='ee-shut'>3: \"B4\", float<input type='checkbox' class='ee-toggle'></label><ul><li><span class='ee-k'>id:</span><span class='ee-v'>B4</span></li><li><label class='ee-shut'>data_type: float<input type='checkbox' class='ee-toggle'></label><ul><li><span class='ee-k'>type:</span><span class='ee-v'>PixelType</span></li><li><span class='ee-k'>precision:</span><span class='ee-v'>float</span></li></ul></li></ul></li><li><label class='ee-shut'>4: \"B5\", float<input type='checkbox' class='ee-toggle'></label><ul><li><span class='ee-k'>id:</span><span class='ee-v'>B5</span></li><li><label class='ee-shut'>data_type: float<input type='checkbox' class='ee-toggle'></label><ul><li><span class='ee-k'>type:</span><span class='ee-v'>PixelType</span></li><li><span class='ee-k'>precision:</span><span class='ee-v'>float</span></li></ul></li></ul></li><li><label class='ee-shut'>5: \"B6\", float<input type='checkbox' class='ee-toggle'></label><ul><li><span class='ee-k'>id:</span><span class='ee-v'>B6</span></li><li><label class='ee-shut'>data_type: float<input type='checkbox' class='ee-toggle'></label><ul><li><span class='ee-k'>type:</span><span class='ee-v'>PixelType</span></li><li><span class='ee-k'>precision:</span><span class='ee-v'>float</span></li></ul></li></ul></li><li><label class='ee-shut'>6: \"B7\", float<input type='checkbox' class='ee-toggle'></label><ul><li><span class='ee-k'>id:</span><span class='ee-v'>B7</span></li><li><label class='ee-shut'>data_type: float<input type='checkbox' class='ee-toggle'></label><ul><li><span class='ee-k'>type:</span><span class='ee-v'>PixelType</span></li><li><span class='ee-k'>precision:</span><span class='ee-v'>float</span></li></ul></li></ul></li><li><label class='ee-shut'>7: \"B8\", float<input type='checkbox' class='ee-toggle'></label><ul><li><span class='ee-k'>id:</span><span class='ee-v'>B8</span></li><li><label class='ee-shut'>data_type: float<input type='checkbox' class='ee-toggle'></label><ul><li><span class='ee-k'>type:</span><span class='ee-v'>PixelType</span></li><li><span class='ee-k'>precision:</span><span class='ee-v'>float</span></li></ul></li></ul></li><li><label class='ee-shut'>8: \"B9\", float<input type='checkbox' class='ee-toggle'></label><ul><li><span class='ee-k'>id:</span><span class='ee-v'>B9</span></li><li><label class='ee-shut'>data_type: float<input type='checkbox' class='ee-toggle'></label><ul><li><span class='ee-k'>type:</span><span class='ee-v'>PixelType</span></li><li><span class='ee-k'>precision:</span><span class='ee-v'>float</span></li></ul></li></ul></li><li><label class='ee-shut'>9: \"B10\", float<input type='checkbox' class='ee-toggle'></label><ul><li><span class='ee-k'>id:</span><span class='ee-v'>B10</span></li><li><label class='ee-shut'>data_type: float<input type='checkbox' class='ee-toggle'></label><ul><li><span class='ee-k'>type:</span><span class='ee-v'>PixelType</span></li><li><span class='ee-k'>precision:</span><span class='ee-v'>float</span></li></ul></li></ul></li><li><label class='ee-shut'>10: \"B11\", float<input type='checkbox' class='ee-toggle'></label><ul><li><span class='ee-k'>id:</span><span class='ee-v'>B11</span></li><li><label class='ee-shut'>data_type: float<input type='checkbox' class='ee-toggle'></label><ul><li><span class='ee-k'>type:</span><span class='ee-v'>PixelType</span></li><li><span class='ee-k'>precision:</span><span class='ee-v'>float</span></li></ul></li></ul></li><li><label class='ee-shut'>11: \"QA_PIXEL\", unsigned int16<input type='checkbox' class='ee-toggle'></label><ul><li><span class='ee-k'>id:</span><span class='ee-v'>QA_PIXEL</span></li><li><label class='ee-shut'>data_type: unsigned int16<input type='checkbox' class='ee-toggle'></label><ul><li><span class='ee-k'>type:</span><span class='ee-v'>PixelType</span></li><li><span class='ee-k'>max:</span><span class='ee-v'>65535</span></li><li><span class='ee-k'>min:</span><span class='ee-v'>0</span></li><li><span class='ee-k'>precision:</span><span class='ee-v'>int</span></li></ul></li></ul></li><li><label class='ee-shut'>12: \"QA_RADSAT\", unsigned int16<input type='checkbox' class='ee-toggle'></label><ul><li><span class='ee-k'>id:</span><span class='ee-v'>QA_RADSAT</span></li><li><label class='ee-shut'>data_type: unsigned int16<input type='checkbox' class='ee-toggle'></label><ul><li><span class='ee-k'>type:</span><span class='ee-v'>PixelType</span></li><li><span class='ee-k'>max:</span><span class='ee-v'>65535</span></li><li><span class='ee-k'>min:</span><span class='ee-v'>0</span></li><li><span class='ee-k'>precision:</span><span class='ee-v'>int</span></li></ul></li></ul></li><li><label class='ee-shut'>13: \"SAA\", signed int16<input type='checkbox' class='ee-toggle'></label><ul><li><span class='ee-k'>id:</span><span class='ee-v'>SAA</span></li><li><label class='ee-shut'>data_type: signed int16<input type='checkbox' class='ee-toggle'></label><ul><li><span class='ee-k'>type:</span><span class='ee-v'>PixelType</span></li><li><span class='ee-k'>max:</span><span class='ee-v'>32767</span></li><li><span class='ee-k'>min:</span><span class='ee-v'>-32768</span></li><li><span class='ee-k'>precision:</span><span class='ee-v'>int</span></li></ul></li></ul></li><li><label class='ee-shut'>14: \"SZA\", signed int16<input type='checkbox' class='ee-toggle'></label><ul><li><span class='ee-k'>id:</span><span class='ee-v'>SZA</span></li><li><label class='ee-shut'>data_type: signed int16<input type='checkbox' class='ee-toggle'></label><ul><li><span class='ee-k'>type:</span><span class='ee-v'>PixelType</span></li><li><span class='ee-k'>max:</span><span class='ee-v'>32767</span></li><li><span class='ee-k'>min:</span><span class='ee-v'>-32768</span></li><li><span class='ee-k'>precision:</span><span class='ee-v'>int</span></li></ul></li></ul></li><li><label class='ee-shut'>15: \"VAA\", signed int16<input type='checkbox' class='ee-toggle'></label><ul><li><span class='ee-k'>id:</span><span class='ee-v'>VAA</span></li><li><label class='ee-shut'>data_type: signed int16<input type='checkbox' class='ee-toggle'></label><ul><li><span class='ee-k'>type:</span><span class='ee-v'>PixelType</span></li><li><span class='ee-k'>max:</span><span class='ee-v'>32767</span></li><li><span class='ee-k'>min:</span><span class='ee-v'>-32768</span></li><li><span class='ee-k'>precision:</span><span class='ee-v'>int</span></li></ul></li></ul></li><li><label class='ee-shut'>16: \"VZA\", signed int16<input type='checkbox' class='ee-toggle'></label><ul><li><span class='ee-k'>id:</span><span class='ee-v'>VZA</span></li><li><label class='ee-shut'>data_type: signed int16<input type='checkbox' class='ee-toggle'></label><ul><li><span class='ee-k'>type:</span><span class='ee-v'>PixelType</span></li><li><span class='ee-k'>max:</span><span class='ee-v'>32767</span></li><li><span class='ee-k'>min:</span><span class='ee-v'>-32768</span></li><li><span class='ee-k'>precision:</span><span class='ee-v'>int</span></li></ul></li></ul></li></ul></li><li><label class='ee-shut'>features: List (4 elements)<input type='checkbox' class='ee-toggle'></label><ul><li><label class='ee-shut'>0: Image LANDSAT/LC08/C02/T1_TOA/LC08_192028_20220625 (17 bands)<input type='checkbox' class='ee-toggle'></label><ul><li><span class='ee-k'>type:</span><span class='ee-v'>Image</span></li><li><span class='ee-k'>id:</span><span class='ee-v'>LANDSAT/LC08/C02/T1_TOA/LC08_192028_20220625</span></li><li><span class='ee-k'>version:</span><span class='ee-v'>1673734775139334</span></li><li><label class='ee-shut'>bands: List (17 elements)<input type='checkbox' class='ee-toggle'></label><ul><li><label class='ee-shut'>0: \"B1\", float, EPSG:32632, 7641x7761 px<input type='checkbox' class='ee-toggle'></label><ul><li><span class='ee-k'>id:</span><span class='ee-v'>B1</span></li><li><span class='ee-k'>crs:</span><span class='ee-v'>EPSG:32632</span></li><li><label class='ee-shut'>crs_transform: [30, 0, 620985, 0, -30, 5217615]<input type='checkbox' class='ee-toggle'></label><ul><li><span class='ee-k'>0:</span><span class='ee-v'>30</span></li><li><span class='ee-k'>1:</span><span class='ee-v'>0</span></li><li><span class='ee-k'>2:</span><span class='ee-v'>620985</span></li><li><span class='ee-k'>3:</span><span class='ee-v'>0</span></li><li><span class='ee-k'>4:</span><span class='ee-v'>-30</span></li><li><span class='ee-k'>5:</span><span class='ee-v'>5217615</span></li></ul></li><li><label class='ee-shut'>data_type: float<input type='checkbox' class='ee-toggle'></label><ul><li><span class='ee-k'>type:</span><span class='ee-v'>PixelType</span></li><li><span class='ee-k'>precision:</span><span class='ee-v'>float</span></li></ul></li><li><label class='ee-shut'>dimensions: [7641, 7761]<input type='checkbox' class='ee-toggle'></label><ul><li><span class='ee-k'>0:</span><span class='ee-v'>7641</span></li><li><span class='ee-k'>1:</span><span class='ee-v'>7761</span></li></ul></li></ul></li><li><label class='ee-shut'>1: \"B2\", float, EPSG:32632, 7641x7761 px<input type='checkbox' class='ee-toggle'></label><ul><li><span class='ee-k'>id:</span><span class='ee-v'>B2</span></li><li><span class='ee-k'>crs:</span><span class='ee-v'>EPSG:32632</span></li><li><label class='ee-shut'>crs_transform: [30, 0, 620985, 0, -30, 5217615]<input type='checkbox' class='ee-toggle'></label><ul><li><span class='ee-k'>0:</span><span class='ee-v'>30</span></li><li><span class='ee-k'>1:</span><span class='ee-v'>0</span></li><li><span class='ee-k'>2:</span><span class='ee-v'>620985</span></li><li><span class='ee-k'>3:</span><span class='ee-v'>0</span></li><li><span class='ee-k'>4:</span><span class='ee-v'>-30</span></li><li><span class='ee-k'>5:</span><span class='ee-v'>5217615</span></li></ul></li><li><label class='ee-shut'>data_type: float<input type='checkbox' class='ee-toggle'></label><ul><li><span class='ee-k'>type:</span><span class='ee-v'>PixelType</span></li><li><span class='ee-k'>precision:</span><span class='ee-v'>float</span></li></ul></li><li><label class='ee-shut'>dimensions: [7641, 7761]<input type='checkbox' class='ee-toggle'></label><ul><li><span class='ee-k'>0:</span><span class='ee-v'>7641</span></li><li><span class='ee-k'>1:</span><span class='ee-v'>7761</span></li></ul></li></ul></li><li><label class='ee-shut'>2: \"B3\", float, EPSG:32632, 7641x7761 px<input type='checkbox' class='ee-toggle'></label><ul><li><span class='ee-k'>id:</span><span class='ee-v'>B3</span></li><li><span class='ee-k'>crs:</span><span class='ee-v'>EPSG:32632</span></li><li><label class='ee-shut'>crs_transform: [30, 0, 620985, 0, -30, 5217615]<input type='checkbox' class='ee-toggle'></label><ul><li><span class='ee-k'>0:</span><span class='ee-v'>30</span></li><li><span class='ee-k'>1:</span><span class='ee-v'>0</span></li><li><span class='ee-k'>2:</span><span class='ee-v'>620985</span></li><li><span class='ee-k'>3:</span><span class='ee-v'>0</span></li><li><span class='ee-k'>4:</span><span class='ee-v'>-30</span></li><li><span class='ee-k'>5:</span><span class='ee-v'>5217615</span></li></ul></li><li><label class='ee-shut'>data_type: float<input type='checkbox' class='ee-toggle'></label><ul><li><span class='ee-k'>type:</span><span class='ee-v'>PixelType</span></li><li><span class='ee-k'>precision:</span><span class='ee-v'>float</span></li></ul></li><li><label class='ee-shut'>dimensions: [7641, 7761]<input type='checkbox' class='ee-toggle'></label><ul><li><span class='ee-k'>0:</span><span class='ee-v'>7641</span></li><li><span class='ee-k'>1:</span><span class='ee-v'>7761</span></li></ul></li></ul></li><li><label class='ee-shut'>3: \"B4\", float, EPSG:32632, 7641x7761 px<input type='checkbox' class='ee-toggle'></label><ul><li><span class='ee-k'>id:</span><span class='ee-v'>B4</span></li><li><span class='ee-k'>crs:</span><span class='ee-v'>EPSG:32632</span></li><li><label class='ee-shut'>crs_transform: [30, 0, 620985, 0, -30, 5217615]<input type='checkbox' class='ee-toggle'></label><ul><li><span class='ee-k'>0:</span><span class='ee-v'>30</span></li><li><span class='ee-k'>1:</span><span class='ee-v'>0</span></li><li><span class='ee-k'>2:</span><span class='ee-v'>620985</span></li><li><span class='ee-k'>3:</span><span class='ee-v'>0</span></li><li><span class='ee-k'>4:</span><span class='ee-v'>-30</span></li><li><span class='ee-k'>5:</span><span class='ee-v'>5217615</span></li></ul></li><li><label class='ee-shut'>data_type: float<input type='checkbox' class='ee-toggle'></label><ul><li><span class='ee-k'>type:</span><span class='ee-v'>PixelType</span></li><li><span class='ee-k'>precision:</span><span class='ee-v'>float</span></li></ul></li><li><label class='ee-shut'>dimensions: [7641, 7761]<input type='checkbox' class='ee-toggle'></label><ul><li><span class='ee-k'>0:</span><span class='ee-v'>7641</span></li><li><span class='ee-k'>1:</span><span class='ee-v'>7761</span></li></ul></li></ul></li><li><label class='ee-shut'>4: \"B5\", float, EPSG:32632, 7641x7761 px<input type='checkbox' class='ee-toggle'></label><ul><li><span class='ee-k'>id:</span><span class='ee-v'>B5</span></li><li><span class='ee-k'>crs:</span><span class='ee-v'>EPSG:32632</span></li><li><label class='ee-shut'>crs_transform: [30, 0, 620985, 0, -30, 5217615]<input type='checkbox' class='ee-toggle'></label><ul><li><span class='ee-k'>0:</span><span class='ee-v'>30</span></li><li><span class='ee-k'>1:</span><span class='ee-v'>0</span></li><li><span class='ee-k'>2:</span><span class='ee-v'>620985</span></li><li><span class='ee-k'>3:</span><span class='ee-v'>0</span></li><li><span class='ee-k'>4:</span><span class='ee-v'>-30</span></li><li><span class='ee-k'>5:</span><span class='ee-v'>5217615</span></li></ul></li><li><label class='ee-shut'>data_type: float<input type='checkbox' class='ee-toggle'></label><ul><li><span class='ee-k'>type:</span><span class='ee-v'>PixelType</span></li><li><span class='ee-k'>precision:</span><span class='ee-v'>float</span></li></ul></li><li><label class='ee-shut'>dimensions: [7641, 7761]<input type='checkbox' class='ee-toggle'></label><ul><li><span class='ee-k'>0:</span><span class='ee-v'>7641</span></li><li><span class='ee-k'>1:</span><span class='ee-v'>7761</span></li></ul></li></ul></li><li><label class='ee-shut'>5: \"B6\", float, EPSG:32632, 7641x7761 px<input type='checkbox' class='ee-toggle'></label><ul><li><span class='ee-k'>id:</span><span class='ee-v'>B6</span></li><li><span class='ee-k'>crs:</span><span class='ee-v'>EPSG:32632</span></li><li><label class='ee-shut'>crs_transform: [30, 0, 620985, 0, -30, 5217615]<input type='checkbox' class='ee-toggle'></label><ul><li><span class='ee-k'>0:</span><span class='ee-v'>30</span></li><li><span class='ee-k'>1:</span><span class='ee-v'>0</span></li><li><span class='ee-k'>2:</span><span class='ee-v'>620985</span></li><li><span class='ee-k'>3:</span><span class='ee-v'>0</span></li><li><span class='ee-k'>4:</span><span class='ee-v'>-30</span></li><li><span class='ee-k'>5:</span><span class='ee-v'>5217615</span></li></ul></li><li><label class='ee-shut'>data_type: float<input type='checkbox' class='ee-toggle'></label><ul><li><span class='ee-k'>type:</span><span class='ee-v'>PixelType</span></li><li><span class='ee-k'>precision:</span><span class='ee-v'>float</span></li></ul></li><li><label class='ee-shut'>dimensions: [7641, 7761]<input type='checkbox' class='ee-toggle'></label><ul><li><span class='ee-k'>0:</span><span class='ee-v'>7641</span></li><li><span class='ee-k'>1:</span><span class='ee-v'>7761</span></li></ul></li></ul></li><li><label class='ee-shut'>6: \"B7\", float, EPSG:32632, 7641x7761 px<input type='checkbox' class='ee-toggle'></label><ul><li><span class='ee-k'>id:</span><span class='ee-v'>B7</span></li><li><span class='ee-k'>crs:</span><span class='ee-v'>EPSG:32632</span></li><li><label class='ee-shut'>crs_transform: [30, 0, 620985, 0, -30, 5217615]<input type='checkbox' class='ee-toggle'></label><ul><li><span class='ee-k'>0:</span><span class='ee-v'>30</span></li><li><span class='ee-k'>1:</span><span class='ee-v'>0</span></li><li><span class='ee-k'>2:</span><span class='ee-v'>620985</span></li><li><span class='ee-k'>3:</span><span class='ee-v'>0</span></li><li><span class='ee-k'>4:</span><span class='ee-v'>-30</span></li><li><span class='ee-k'>5:</span><span class='ee-v'>5217615</span></li></ul></li><li><label class='ee-shut'>data_type: float<input type='checkbox' class='ee-toggle'></label><ul><li><span class='ee-k'>type:</span><span class='ee-v'>PixelType</span></li><li><span class='ee-k'>precision:</span><span class='ee-v'>float</span></li></ul></li><li><label class='ee-shut'>dimensions: [7641, 7761]<input type='checkbox' class='ee-toggle'></label><ul><li><span class='ee-k'>0:</span><span class='ee-v'>7641</span></li><li><span class='ee-k'>1:</span><span class='ee-v'>7761</span></li></ul></li></ul></li><li><label class='ee-shut'>7: \"B8\", float, EPSG:32632, 15281x15521 px<input type='checkbox' class='ee-toggle'></label><ul><li><span class='ee-k'>id:</span><span class='ee-v'>B8</span></li><li><span class='ee-k'>crs:</span><span class='ee-v'>EPSG:32632</span></li><li><label class='ee-shut'>crs_transform: [15, 0, 620992.5, 0, -15, 5217607.5]<input type='checkbox' class='ee-toggle'></label><ul><li><span class='ee-k'>0:</span><span class='ee-v'>15</span></li><li><span class='ee-k'>1:</span><span class='ee-v'>0</span></li><li><span class='ee-k'>2:</span><span class='ee-v'>620992.5</span></li><li><span class='ee-k'>3:</span><span class='ee-v'>0</span></li><li><span class='ee-k'>4:</span><span class='ee-v'>-15</span></li><li><span class='ee-k'>5:</span><span class='ee-v'>5217607.5</span></li></ul></li><li><label class='ee-shut'>data_type: float<input type='checkbox' class='ee-toggle'></label><ul><li><span class='ee-k'>type:</span><span class='ee-v'>PixelType</span></li><li><span class='ee-k'>precision:</span><span class='ee-v'>float</span></li></ul></li><li><label class='ee-shut'>dimensions: [15281, 15521]<input type='checkbox' class='ee-toggle'></label><ul><li><span class='ee-k'>0:</span><span class='ee-v'>15281</span></li><li><span class='ee-k'>1:</span><span class='ee-v'>15521</span></li></ul></li></ul></li><li><label class='ee-shut'>8: \"B9\", float, EPSG:32632, 7641x7761 px<input type='checkbox' class='ee-toggle'></label><ul><li><span class='ee-k'>id:</span><span class='ee-v'>B9</span></li><li><span class='ee-k'>crs:</span><span class='ee-v'>EPSG:32632</span></li><li><label class='ee-shut'>crs_transform: [30, 0, 620985, 0, -30, 5217615]<input type='checkbox' class='ee-toggle'></label><ul><li><span class='ee-k'>0:</span><span class='ee-v'>30</span></li><li><span class='ee-k'>1:</span><span class='ee-v'>0</span></li><li><span class='ee-k'>2:</span><span class='ee-v'>620985</span></li><li><span class='ee-k'>3:</span><span class='ee-v'>0</span></li><li><span class='ee-k'>4:</span><span class='ee-v'>-30</span></li><li><span class='ee-k'>5:</span><span class='ee-v'>5217615</span></li></ul></li><li><label class='ee-shut'>data_type: float<input type='checkbox' class='ee-toggle'></label><ul><li><span class='ee-k'>type:</span><span class='ee-v'>PixelType</span></li><li><span class='ee-k'>precision:</span><span class='ee-v'>float</span></li></ul></li><li><label class='ee-shut'>dimensions: [7641, 7761]<input type='checkbox' class='ee-toggle'></label><ul><li><span class='ee-k'>0:</span><span class='ee-v'>7641</span></li><li><span class='ee-k'>1:</span><span class='ee-v'>7761</span></li></ul></li></ul></li><li><label class='ee-shut'>9: \"B10\", float, EPSG:32632, 7641x7761 px<input type='checkbox' class='ee-toggle'></label><ul><li><span class='ee-k'>id:</span><span class='ee-v'>B10</span></li><li><span class='ee-k'>crs:</span><span class='ee-v'>EPSG:32632</span></li><li><label class='ee-shut'>crs_transform: [30, 0, 620985, 0, -30, 5217615]<input type='checkbox' class='ee-toggle'></label><ul><li><span class='ee-k'>0:</span><span class='ee-v'>30</span></li><li><span class='ee-k'>1:</span><span class='ee-v'>0</span></li><li><span class='ee-k'>2:</span><span class='ee-v'>620985</span></li><li><span class='ee-k'>3:</span><span class='ee-v'>0</span></li><li><span class='ee-k'>4:</span><span class='ee-v'>-30</span></li><li><span class='ee-k'>5:</span><span class='ee-v'>5217615</span></li></ul></li><li><label class='ee-shut'>data_type: float<input type='checkbox' class='ee-toggle'></label><ul><li><span class='ee-k'>type:</span><span class='ee-v'>PixelType</span></li><li><span class='ee-k'>precision:</span><span class='ee-v'>float</span></li></ul></li><li><label class='ee-shut'>dimensions: [7641, 7761]<input type='checkbox' class='ee-toggle'></label><ul><li><span class='ee-k'>0:</span><span class='ee-v'>7641</span></li><li><span class='ee-k'>1:</span><span class='ee-v'>7761</span></li></ul></li></ul></li><li><label class='ee-shut'>10: \"B11\", float, EPSG:32632, 7641x7761 px<input type='checkbox' class='ee-toggle'></label><ul><li><span class='ee-k'>id:</span><span class='ee-v'>B11</span></li><li><span class='ee-k'>crs:</span><span class='ee-v'>EPSG:32632</span></li><li><label class='ee-shut'>crs_transform: [30, 0, 620985, 0, -30, 5217615]<input type='checkbox' class='ee-toggle'></label><ul><li><span class='ee-k'>0:</span><span class='ee-v'>30</span></li><li><span class='ee-k'>1:</span><span class='ee-v'>0</span></li><li><span class='ee-k'>2:</span><span class='ee-v'>620985</span></li><li><span class='ee-k'>3:</span><span class='ee-v'>0</span></li><li><span class='ee-k'>4:</span><span class='ee-v'>-30</span></li><li><span class='ee-k'>5:</span><span class='ee-v'>5217615</span></li></ul></li><li><label class='ee-shut'>data_type: float<input type='checkbox' class='ee-toggle'></label><ul><li><span class='ee-k'>type:</span><span class='ee-v'>PixelType</span></li><li><span class='ee-k'>precision:</span><span class='ee-v'>float</span></li></ul></li><li><label class='ee-shut'>dimensions: [7641, 7761]<input type='checkbox' class='ee-toggle'></label><ul><li><span class='ee-k'>0:</span><span class='ee-v'>7641</span></li><li><span class='ee-k'>1:</span><span class='ee-v'>7761</span></li></ul></li></ul></li><li><label class='ee-shut'>11: \"QA_PIXEL\", unsigned int16, EPSG:32632, 7641x7761 px<input type='checkbox' class='ee-toggle'></label><ul><li><span class='ee-k'>id:</span><span class='ee-v'>QA_PIXEL</span></li><li><span class='ee-k'>crs:</span><span class='ee-v'>EPSG:32632</span></li><li><label class='ee-shut'>crs_transform: [30, 0, 620985, 0, -30, 5217615]<input type='checkbox' class='ee-toggle'></label><ul><li><span class='ee-k'>0:</span><span class='ee-v'>30</span></li><li><span class='ee-k'>1:</span><span class='ee-v'>0</span></li><li><span class='ee-k'>2:</span><span class='ee-v'>620985</span></li><li><span class='ee-k'>3:</span><span class='ee-v'>0</span></li><li><span class='ee-k'>4:</span><span class='ee-v'>-30</span></li><li><span class='ee-k'>5:</span><span class='ee-v'>5217615</span></li></ul></li><li><label class='ee-shut'>data_type: unsigned int16<input type='checkbox' class='ee-toggle'></label><ul><li><span class='ee-k'>type:</span><span class='ee-v'>PixelType</span></li><li><span class='ee-k'>max:</span><span class='ee-v'>65535</span></li><li><span class='ee-k'>min:</span><span class='ee-v'>0</span></li><li><span class='ee-k'>precision:</span><span class='ee-v'>int</span></li></ul></li><li><label class='ee-shut'>dimensions: [7641, 7761]<input type='checkbox' class='ee-toggle'></label><ul><li><span class='ee-k'>0:</span><span class='ee-v'>7641</span></li><li><span class='ee-k'>1:</span><span class='ee-v'>7761</span></li></ul></li></ul></li><li><label class='ee-shut'>12: \"QA_RADSAT\", unsigned int16, EPSG:32632, 7641x7761 px<input type='checkbox' class='ee-toggle'></label><ul><li><span class='ee-k'>id:</span><span class='ee-v'>QA_RADSAT</span></li><li><span class='ee-k'>crs:</span><span class='ee-v'>EPSG:32632</span></li><li><label class='ee-shut'>crs_transform: [30, 0, 620985, 0, -30, 5217615]<input type='checkbox' class='ee-toggle'></label><ul><li><span class='ee-k'>0:</span><span class='ee-v'>30</span></li><li><span class='ee-k'>1:</span><span class='ee-v'>0</span></li><li><span class='ee-k'>2:</span><span class='ee-v'>620985</span></li><li><span class='ee-k'>3:</span><span class='ee-v'>0</span></li><li><span class='ee-k'>4:</span><span class='ee-v'>-30</span></li><li><span class='ee-k'>5:</span><span class='ee-v'>5217615</span></li></ul></li><li><label class='ee-shut'>data_type: unsigned int16<input type='checkbox' class='ee-toggle'></label><ul><li><span class='ee-k'>type:</span><span class='ee-v'>PixelType</span></li><li><span class='ee-k'>max:</span><span class='ee-v'>65535</span></li><li><span class='ee-k'>min:</span><span class='ee-v'>0</span></li><li><span class='ee-k'>precision:</span><span class='ee-v'>int</span></li></ul></li><li><label class='ee-shut'>dimensions: [7641, 7761]<input type='checkbox' class='ee-toggle'></label><ul><li><span class='ee-k'>0:</span><span class='ee-v'>7641</span></li><li><span class='ee-k'>1:</span><span class='ee-v'>7761</span></li></ul></li></ul></li><li><label class='ee-shut'>13: \"SAA\", signed int16, EPSG:32632, 7641x7761 px<input type='checkbox' class='ee-toggle'></label><ul><li><span class='ee-k'>id:</span><span class='ee-v'>SAA</span></li><li><span class='ee-k'>crs:</span><span class='ee-v'>EPSG:32632</span></li><li><label class='ee-shut'>crs_transform: [30, 0, 620985, 0, -30, 5217615]<input type='checkbox' class='ee-toggle'></label><ul><li><span class='ee-k'>0:</span><span class='ee-v'>30</span></li><li><span class='ee-k'>1:</span><span class='ee-v'>0</span></li><li><span class='ee-k'>2:</span><span class='ee-v'>620985</span></li><li><span class='ee-k'>3:</span><span class='ee-v'>0</span></li><li><span class='ee-k'>4:</span><span class='ee-v'>-30</span></li><li><span class='ee-k'>5:</span><span class='ee-v'>5217615</span></li></ul></li><li><label class='ee-shut'>data_type: signed int16<input type='checkbox' class='ee-toggle'></label><ul><li><span class='ee-k'>type:</span><span class='ee-v'>PixelType</span></li><li><span class='ee-k'>max:</span><span class='ee-v'>32767</span></li><li><span class='ee-k'>min:</span><span class='ee-v'>-32768</span></li><li><span class='ee-k'>precision:</span><span class='ee-v'>int</span></li></ul></li><li><label class='ee-shut'>dimensions: [7641, 7761]<input type='checkbox' class='ee-toggle'></label><ul><li><span class='ee-k'>0:</span><span class='ee-v'>7641</span></li><li><span class='ee-k'>1:</span><span class='ee-v'>7761</span></li></ul></li></ul></li><li><label class='ee-shut'>14: \"SZA\", signed int16, EPSG:32632, 7641x7761 px<input type='checkbox' class='ee-toggle'></label><ul><li><span class='ee-k'>id:</span><span class='ee-v'>SZA</span></li><li><span class='ee-k'>crs:</span><span class='ee-v'>EPSG:32632</span></li><li><label class='ee-shut'>crs_transform: [30, 0, 620985, 0, -30, 5217615]<input type='checkbox' class='ee-toggle'></label><ul><li><span class='ee-k'>0:</span><span class='ee-v'>30</span></li><li><span class='ee-k'>1:</span><span class='ee-v'>0</span></li><li><span class='ee-k'>2:</span><span class='ee-v'>620985</span></li><li><span class='ee-k'>3:</span><span class='ee-v'>0</span></li><li><span class='ee-k'>4:</span><span class='ee-v'>-30</span></li><li><span class='ee-k'>5:</span><span class='ee-v'>5217615</span></li></ul></li><li><label class='ee-shut'>data_type: signed int16<input type='checkbox' class='ee-toggle'></label><ul><li><span class='ee-k'>type:</span><span class='ee-v'>PixelType</span></li><li><span class='ee-k'>max:</span><span class='ee-v'>32767</span></li><li><span class='ee-k'>min:</span><span class='ee-v'>-32768</span></li><li><span class='ee-k'>precision:</span><span class='ee-v'>int</span></li></ul></li><li><label class='ee-shut'>dimensions: [7641, 7761]<input type='checkbox' class='ee-toggle'></label><ul><li><span class='ee-k'>0:</span><span class='ee-v'>7641</span></li><li><span class='ee-k'>1:</span><span class='ee-v'>7761</span></li></ul></li></ul></li><li><label class='ee-shut'>15: \"VAA\", signed int16, EPSG:32632, 7641x7761 px<input type='checkbox' class='ee-toggle'></label><ul><li><span class='ee-k'>id:</span><span class='ee-v'>VAA</span></li><li><span class='ee-k'>crs:</span><span class='ee-v'>EPSG:32632</span></li><li><label class='ee-shut'>crs_transform: [30, 0, 620985, 0, -30, 5217615]<input type='checkbox' class='ee-toggle'></label><ul><li><span class='ee-k'>0:</span><span class='ee-v'>30</span></li><li><span class='ee-k'>1:</span><span class='ee-v'>0</span></li><li><span class='ee-k'>2:</span><span class='ee-v'>620985</span></li><li><span class='ee-k'>3:</span><span class='ee-v'>0</span></li><li><span class='ee-k'>4:</span><span class='ee-v'>-30</span></li><li><span class='ee-k'>5:</span><span class='ee-v'>5217615</span></li></ul></li><li><label class='ee-shut'>data_type: signed int16<input type='checkbox' class='ee-toggle'></label><ul><li><span class='ee-k'>type:</span><span class='ee-v'>PixelType</span></li><li><span class='ee-k'>max:</span><span class='ee-v'>32767</span></li><li><span class='ee-k'>min:</span><span class='ee-v'>-32768</span></li><li><span class='ee-k'>precision:</span><span class='ee-v'>int</span></li></ul></li><li><label class='ee-shut'>dimensions: [7641, 7761]<input type='checkbox' class='ee-toggle'></label><ul><li><span class='ee-k'>0:</span><span class='ee-v'>7641</span></li><li><span class='ee-k'>1:</span><span class='ee-v'>7761</span></li></ul></li></ul></li><li><label class='ee-shut'>16: \"VZA\", signed int16, EPSG:32632, 7641x7761 px<input type='checkbox' class='ee-toggle'></label><ul><li><span class='ee-k'>id:</span><span class='ee-v'>VZA</span></li><li><span class='ee-k'>crs:</span><span class='ee-v'>EPSG:32632</span></li><li><label class='ee-shut'>crs_transform: [30, 0, 620985, 0, -30, 5217615]<input type='checkbox' class='ee-toggle'></label><ul><li><span class='ee-k'>0:</span><span class='ee-v'>30</span></li><li><span class='ee-k'>1:</span><span class='ee-v'>0</span></li><li><span class='ee-k'>2:</span><span class='ee-v'>620985</span></li><li><span class='ee-k'>3:</span><span class='ee-v'>0</span></li><li><span class='ee-k'>4:</span><span class='ee-v'>-30</span></li><li><span class='ee-k'>5:</span><span class='ee-v'>5217615</span></li></ul></li><li><label class='ee-shut'>data_type: signed int16<input type='checkbox' class='ee-toggle'></label><ul><li><span class='ee-k'>type:</span><span class='ee-v'>PixelType</span></li><li><span class='ee-k'>max:</span><span class='ee-v'>32767</span></li><li><span class='ee-k'>min:</span><span class='ee-v'>-32768</span></li><li><span class='ee-k'>precision:</span><span class='ee-v'>int</span></li></ul></li><li><label class='ee-shut'>dimensions: [7641, 7761]<input type='checkbox' class='ee-toggle'></label><ul><li><span class='ee-k'>0:</span><span class='ee-v'>7641</span></li><li><span class='ee-k'>1:</span><span class='ee-v'>7761</span></li></ul></li></ul></li></ul></li><li><label class='ee-shut'>properties: Object (112 properties)<input type='checkbox' class='ee-toggle'></label><ul><li><span class='ee-k'>CLOUD_COVER:</span><span class='ee-v'>20.63</span></li><li><span class='ee-k'>CLOUD_COVER_LAND:</span><span class='ee-v'>22.8</span></li><li><span class='ee-k'>COLLECTION_CATEGORY:</span><span class='ee-v'>T1</span></li><li><span class='ee-k'>COLLECTION_NUMBER:</span><span class='ee-v'>2</span></li><li><span class='ee-k'>DATA_SOURCE_ELEVATION:</span><span class='ee-v'>GLS2000</span></li><li><span class='ee-k'>DATA_SOURCE_TIRS_STRAY_LIGHT_CORRECTION:</span><span class='ee-v'>TIRS</span></li><li><span class='ee-k'>DATE_ACQUIRED:</span><span class='ee-v'>2022-06-25</span></li><li><span class='ee-k'>DATE_PRODUCT_GENERATED:</span><span class='ee-v'>1657077400000</span></li><li><span class='ee-k'>DATUM:</span><span class='ee-v'>WGS84</span></li><li><span class='ee-k'>EARTH_SUN_DISTANCE:</span><span class='ee-v'>1.0164853</span></li><li><span class='ee-k'>ELLIPSOID:</span><span class='ee-v'>WGS84</span></li><li><span class='ee-k'>GEOMETRIC_RMSE_MODEL:</span><span class='ee-v'>6.196</span></li><li><span class='ee-k'>GEOMETRIC_RMSE_MODEL_X:</span><span class='ee-v'>4.256</span></li><li><span class='ee-k'>GEOMETRIC_RMSE_MODEL_Y:</span><span class='ee-v'>4.503</span></li><li><span class='ee-k'>GEOMETRIC_RMSE_VERIFY:</span><span class='ee-v'>3.624</span></li><li><span class='ee-k'>GRID_CELL_SIZE_PANCHROMATIC:</span><span class='ee-v'>15</span></li><li><span class='ee-k'>GRID_CELL_SIZE_REFLECTIVE:</span><span class='ee-v'>30</span></li><li><span class='ee-k'>GRID_CELL_SIZE_THERMAL:</span><span class='ee-v'>30</span></li><li><span class='ee-k'>GROUND_CONTROL_POINTS_MODEL:</span><span class='ee-v'>588</span></li><li><span class='ee-k'>GROUND_CONTROL_POINTS_VERIFY:</span><span class='ee-v'>139</span></li><li><span class='ee-k'>GROUND_CONTROL_POINTS_VERSION:</span><span class='ee-v'>5</span></li><li><span class='ee-k'>IMAGE_QUALITY_OLI:</span><span class='ee-v'>9</span></li><li><span class='ee-k'>IMAGE_QUALITY_TIRS:</span><span class='ee-v'>9</span></li><li><span class='ee-k'>K1_CONSTANT_BAND_10:</span><span class='ee-v'>774.8853</span></li><li><span class='ee-k'>K1_CONSTANT_BAND_11:</span><span class='ee-v'>480.8883</span></li><li><span class='ee-k'>K2_CONSTANT_BAND_10:</span><span class='ee-v'>1321.0789</span></li><li><span class='ee-k'>K2_CONSTANT_BAND_11:</span><span class='ee-v'>1201.1442</span></li><li><span class='ee-k'>LANDSAT_PRODUCT_ID:</span><span class='ee-v'>LC08_L1TP_192028_20220625_20220706_02_T1</span></li><li><span class='ee-k'>LANDSAT_SCENE_ID:</span><span class='ee-v'>LC81920282022176LGN00</span></li><li><span class='ee-k'>MAP_PROJECTION:</span><span class='ee-v'>UTM</span></li><li><span class='ee-k'>NADIR_OFFNADIR:</span><span class='ee-v'>NADIR</span></li><li><span class='ee-k'>ORIENTATION:</span><span class='ee-v'>NORTH_UP</span></li><li><span class='ee-k'>PANCHROMATIC_LINES:</span><span class='ee-v'>15521</span></li><li><span class='ee-k'>PANCHROMATIC_SAMPLES:</span><span class='ee-v'>15281</span></li><li><span class='ee-k'>PROCESSING_LEVEL:</span><span class='ee-v'>L1TP</span></li><li><span class='ee-k'>PROCESSING_SOFTWARE_VERSION:</span><span class='ee-v'>LPGS_16.1.0</span></li><li><span class='ee-k'>RADIANCE_ADD_BAND_1:</span><span class='ee-v'>-60.75901</span></li><li><span class='ee-k'>RADIANCE_ADD_BAND_10:</span><span class='ee-v'>0.1</span></li><li><span class='ee-k'>RADIANCE_ADD_BAND_11:</span><span class='ee-v'>0.1</span></li><li><span class='ee-k'>RADIANCE_ADD_BAND_2:</span><span class='ee-v'>-62.21796</span></li><li><span class='ee-k'>RADIANCE_ADD_BAND_3:</span><span class='ee-v'>-57.33332</span></li><li><span class='ee-k'>RADIANCE_ADD_BAND_4:</span><span class='ee-v'>-48.34669</span></li><li><span class='ee-k'>RADIANCE_ADD_BAND_5:</span><span class='ee-v'>-29.58576</span></li><li><span class='ee-k'>RADIANCE_ADD_BAND_6:</span><span class='ee-v'>-7.35771</span></li><li><span class='ee-k'>RADIANCE_ADD_BAND_7:</span><span class='ee-v'>-2.47994</span></li><li><span class='ee-k'>RADIANCE_ADD_BAND_8:</span><span class='ee-v'>-54.71514</span></li><li><span class='ee-k'>RADIANCE_ADD_BAND_9:</span><span class='ee-v'>-11.56279</span></li><li><span class='ee-k'>RADIANCE_MULT_BAND_1:</span><span class='ee-v'>0.012152</span></li><li><span class='ee-k'>RADIANCE_MULT_BAND_10:</span><span class='ee-v'>0.0003342</span></li><li><span class='ee-k'>RADIANCE_MULT_BAND_11:</span><span class='ee-v'>0.0003342</span></li><li><span class='ee-k'>RADIANCE_MULT_BAND_2:</span><span class='ee-v'>0.012444</span></li><li><span class='ee-k'>RADIANCE_MULT_BAND_3:</span><span class='ee-v'>0.011467</span></li><li><span class='ee-k'>RADIANCE_MULT_BAND_4:</span><span class='ee-v'>0.0096693</span></li><li><span class='ee-k'>RADIANCE_MULT_BAND_5:</span><span class='ee-v'>0.0059172</span></li><li><span class='ee-k'>RADIANCE_MULT_BAND_6:</span><span class='ee-v'>0.0014715</span></li><li><span class='ee-k'>RADIANCE_MULT_BAND_7:</span><span class='ee-v'>0.00049599</span></li><li><span class='ee-k'>RADIANCE_MULT_BAND_8:</span><span class='ee-v'>0.010943</span></li><li><span class='ee-k'>RADIANCE_MULT_BAND_9:</span><span class='ee-v'>0.0023126</span></li><li><span class='ee-k'>REFLECTANCE_ADD_BAND_1:</span><span class='ee-v'>-0.1</span></li><li><span class='ee-k'>REFLECTANCE_ADD_BAND_2:</span><span class='ee-v'>-0.1</span></li><li><span class='ee-k'>REFLECTANCE_ADD_BAND_3:</span><span class='ee-v'>-0.1</span></li><li><span class='ee-k'>REFLECTANCE_ADD_BAND_4:</span><span class='ee-v'>-0.1</span></li><li><span class='ee-k'>REFLECTANCE_ADD_BAND_5:</span><span class='ee-v'>-0.1</span></li><li><span class='ee-k'>REFLECTANCE_ADD_BAND_6:</span><span class='ee-v'>-0.1</span></li><li><span class='ee-k'>REFLECTANCE_ADD_BAND_7:</span><span class='ee-v'>-0.1</span></li><li><span class='ee-k'>REFLECTANCE_ADD_BAND_8:</span><span class='ee-v'>-0.1</span></li><li><span class='ee-k'>REFLECTANCE_ADD_BAND_9:</span><span class='ee-v'>-0.1</span></li><li><span class='ee-k'>REFLECTANCE_MULT_BAND_1:</span><span class='ee-v'>2e-05</span></li><li><span class='ee-k'>REFLECTANCE_MULT_BAND_2:</span><span class='ee-v'>2e-05</span></li><li><span class='ee-k'>REFLECTANCE_MULT_BAND_3:</span><span class='ee-v'>2e-05</span></li><li><span class='ee-k'>REFLECTANCE_MULT_BAND_4:</span><span class='ee-v'>2e-05</span></li><li><span class='ee-k'>REFLECTANCE_MULT_BAND_5:</span><span class='ee-v'>2e-05</span></li><li><span class='ee-k'>REFLECTANCE_MULT_BAND_6:</span><span class='ee-v'>2e-05</span></li><li><span class='ee-k'>REFLECTANCE_MULT_BAND_7:</span><span class='ee-v'>2e-05</span></li><li><span class='ee-k'>REFLECTANCE_MULT_BAND_8:</span><span class='ee-v'>2e-05</span></li><li><span class='ee-k'>REFLECTANCE_MULT_BAND_9:</span><span class='ee-v'>2e-05</span></li><li><span class='ee-k'>REFLECTIVE_LINES:</span><span class='ee-v'>7761</span></li><li><span class='ee-k'>REFLECTIVE_SAMPLES:</span><span class='ee-v'>7641</span></li><li><span class='ee-k'>REQUEST_ID:</span><span class='ee-v'>1550188_00593</span></li><li><span class='ee-k'>RESAMPLING_OPTION:</span><span class='ee-v'>CUBIC_CONVOLUTION</span></li><li><span class='ee-k'>ROLL_ANGLE:</span><span class='ee-v'>-0.001</span></li><li><span class='ee-k'>SATURATION_BAND_1:</span><span class='ee-v'>Y</span></li><li><span class='ee-k'>SATURATION_BAND_2:</span><span class='ee-v'>Y</span></li><li><span class='ee-k'>SATURATION_BAND_3:</span><span class='ee-v'>Y</span></li><li><span class='ee-k'>SATURATION_BAND_4:</span><span class='ee-v'>Y</span></li><li><span class='ee-k'>SATURATION_BAND_5:</span><span class='ee-v'>Y</span></li><li><span class='ee-k'>SATURATION_BAND_6:</span><span class='ee-v'>Y</span></li><li><span class='ee-k'>SATURATION_BAND_7:</span><span class='ee-v'>Y</span></li><li><span class='ee-k'>SATURATION_BAND_8:</span><span class='ee-v'>N</span></li><li><span class='ee-k'>SATURATION_BAND_9:</span><span class='ee-v'>N</span></li><li><span class='ee-k'>SCENE_CENTER_TIME:</span><span class='ee-v'>09:58:35.9501420Z</span></li><li><span class='ee-k'>SENSOR_ID:</span><span class='ee-v'>OLI_TIRS</span></li><li><span class='ee-k'>SPACECRAFT_ID:</span><span class='ee-v'>LANDSAT_8</span></li><li><span class='ee-k'>STATION_ID:</span><span class='ee-v'>LGN</span></li><li><span class='ee-k'>SUN_AZIMUTH:</span><span class='ee-v'>139.48236643</span></li><li><span class='ee-k'>SUN_ELEVATION:</span><span class='ee-v'>62.65577777</span></li><li><span class='ee-k'>TARGET_WRS_PATH:</span><span class='ee-v'>192</span></li><li><span class='ee-k'>TARGET_WRS_ROW:</span><span class='ee-v'>28</span></li><li><span class='ee-k'>THERMAL_LINES:</span><span class='ee-v'>7761</span></li><li><span class='ee-k'>THERMAL_SAMPLES:</span><span class='ee-v'>7641</span></li><li><span class='ee-k'>TIRS_SSM_MODEL:</span><span class='ee-v'>FINAL</span></li><li><span class='ee-k'>TIRS_SSM_POSITION_STATUS:</span><span class='ee-v'>ESTIMATED</span></li><li><span class='ee-k'>TRUNCATION_OLI:</span><span class='ee-v'>UPPER</span></li><li><span class='ee-k'>UTM_ZONE:</span><span class='ee-v'>32</span></li><li><span class='ee-k'>WRS_PATH:</span><span class='ee-v'>192</span></li><li><span class='ee-k'>WRS_ROW:</span><span class='ee-v'>28</span></li><li><span class='ee-k'>WRS_TYPE:</span><span class='ee-v'>2</span></li><li><span class='ee-k'>system:asset_size:</span><span class='ee-v'>1325133899</span></li><li><label class='ee-shut'>system:footprint: LinearRing (20 vertices)<input type='checkbox' class='ee-toggle'></label><ul><li><span class='ee-k'>type:</span><span class='ee-v'>LinearRing</span></li><li><label class='ee-shut'>coordinates: List (20 elements)<input type='checkbox' class='ee-toggle'></label><ul><li><label class='ee-shut'>0: [13.570040043029872, 46.654416813545296]<input type='checkbox' class='ee-toggle'></label><ul><li><span class='ee-k'>0:</span><span class='ee-v'>13.570040043029872</span></li><li><span class='ee-k'>1:</span><span class='ee-v'>46.654416813545296</span></li></ul></li><li><label class='ee-shut'>1: [13.57030950533004, 46.657608468915754]<input type='checkbox' class='ee-toggle'></label><ul><li><span class='ee-k'>0:</span><span class='ee-v'>13.57030950533004</span></li><li><span class='ee-k'>1:</span><span class='ee-v'>46.657608468915754</span></li></ul></li><li><label class='ee-shut'>2: [12.732684120451934, 46.813905939205895]<input type='checkbox' class='ee-toggle'></label><ul><li><span class='ee-k'>0:</span><span class='ee-v'>12.732684120451934</span></li><li><span class='ee-k'>1:</span><span class='ee-v'>46.813905939205895</span></li></ul></li><li><label class='ee-shut'>3: [11.149609931838503, 47.09039452737895]<input type='checkbox' class='ee-toggle'></label><ul><li><span class='ee-k'>0:</span><span class='ee-v'>11.149609931838503</span></li><li><span class='ee-k'>1:</span><span class='ee-v'>47.09039452737895</span></li></ul></li><li><label class='ee-shut'>4: [11.142303071184564, 47.07212309241153]<input type='checkbox' class='ee-toggle'></label><ul><li><span class='ee-k'>0:</span><span class='ee-v'>11.142303071184564</span></li><li><span class='ee-k'>1:</span><span class='ee-v'>47.07212309241153</span></li></ul></li><li><label class='ee-shut'>5: [10.987898933624006, 46.64847357585728]<input type='checkbox' class='ee-toggle'></label><ul><li><span class='ee-k'>0:</span><span class='ee-v'>10.987898933624006</span></li><li><span class='ee-k'>1:</span><span class='ee-v'>46.64847357585728</span></li></ul></li><li><label class='ee-shut'>6: [10.780188518270673, 46.05958351333433]<input type='checkbox' class='ee-toggle'></label><ul><li><span class='ee-k'>0:</span><span class='ee-v'>10.780188518270673</span></li><li><span class='ee-k'>1:</span><span class='ee-v'>46.05958351333433</span></li></ul></li><li><label class='ee-shut'>7: [10.577026814415502, 45.47020280904562]<input type='checkbox' class='ee-toggle'></label><ul><li><span class='ee-k'>0:</span><span class='ee-v'>10.577026814415502</span></li><li><span class='ee-k'>1:</span><span class='ee-v'>45.47020280904562</span></li></ul></li><li><label class='ee-shut'>8: [10.54692041072637, 45.38164228973548]<input type='checkbox' class='ee-toggle'></label><ul><li><span class='ee-k'>0:</span><span class='ee-v'>10.54692041072637</span></li><li><span class='ee-k'>1:</span><span class='ee-v'>45.38164228973548</span></li></ul></li><li><label class='ee-shut'>9: [10.770087673355977, 45.34326447997294]<input type='checkbox' class='ee-toggle'></label><ul><li><span class='ee-k'>0:</span><span class='ee-v'>10.770087673355977</span></li><li><span class='ee-k'>1:</span><span class='ee-v'>45.34326447997294</span></li></ul></li><li><label class='ee-shut'>10: [11.869928311224376, 45.147134943075386]<input type='checkbox' class='ee-toggle'></label><ul><li><span class='ee-k'>0:</span><span class='ee-v'>11.869928311224376</span></li><li><span class='ee-k'>1:</span><span class='ee-v'>45.147134943075386</span></li></ul></li><li><label class='ee-shut'>11: [12.593543779297223, 45.01159340339521]<input type='checkbox' class='ee-toggle'></label><ul><li><span class='ee-k'>0:</span><span class='ee-v'>12.593543779297223</span></li><li><span class='ee-k'>1:</span><span class='ee-v'>45.01159340339521</span></li></ul></li><li><label class='ee-shut'>12: [12.902494732025216, 44.95214706117717]<input type='checkbox' class='ee-toggle'></label><ul><li><span class='ee-k'>0:</span><span class='ee-v'>12.902494732025216</span></li><li><span class='ee-k'>1:</span><span class='ee-v'>44.95214706117717</span></li></ul></li><li><label class='ee-shut'>13: [12.91731487298338, 44.99061697172386]<input type='checkbox' class='ee-toggle'></label><ul><li><span class='ee-k'>0:</span><span class='ee-v'>12.91731487298338</span></li><li><span class='ee-k'>1:</span><span class='ee-v'>44.99061697172386</span></li></ul></li><li><label class='ee-shut'>14: [13.03248775006833, 45.28966787875282]<input type='checkbox' class='ee-toggle'></label><ul><li><span class='ee-k'>0:</span><span class='ee-v'>13.03248775006833</span></li><li><span class='ee-k'>1:</span><span class='ee-v'>45.28966787875282</span></li></ul></li><li><label class='ee-shut'>15: [13.082897365520136, 45.419688292821476]<input type='checkbox' class='ee-toggle'></label><ul><li><span class='ee-k'>0:</span><span class='ee-v'>13.082897365520136</span></li><li><span class='ee-k'>1:</span><span class='ee-v'>45.419688292821476</span></li></ul></li><li><label class='ee-shut'>16: [13.194901054524186, 45.70733163332645]<input type='checkbox' class='ee-toggle'></label><ul><li><span class='ee-k'>0:</span><span class='ee-v'>13.194901054524186</span></li><li><span class='ee-k'>1:</span><span class='ee-v'>45.70733163332645</span></li></ul></li><li><label class='ee-shut'>17: [13.35996607966329, 46.12523707994944]<input type='checkbox' class='ee-toggle'></label><ul><li><span class='ee-k'>0:</span><span class='ee-v'>13.35996607966329</span></li><li><span class='ee-k'>1:</span><span class='ee-v'>46.12523707994944</span></li></ul></li><li><label class='ee-shut'>18: [13.548431593162958, 46.59802169818863]<input type='checkbox' class='ee-toggle'></label><ul><li><span class='ee-k'>0:</span><span class='ee-v'>13.548431593162958</span></li><li><span class='ee-k'>1:</span><span class='ee-v'>46.59802169818863</span></li></ul></li><li><label class='ee-shut'>19: [13.570040043029872, 46.654416813545296]<input type='checkbox' class='ee-toggle'></label><ul><li><span class='ee-k'>0:</span><span class='ee-v'>13.570040043029872</span></li><li><span class='ee-k'>1:</span><span class='ee-v'>46.654416813545296</span></li></ul></li></ul></li></ul></li><li><span class='ee-k'>system:index:</span><span class='ee-v'>LC08_192028_20220625</span></li><li><span class='ee-k'>system:time_end:</span><span class='ee-v'>1656151115950</span></li><li><span class='ee-k'>system:time_start:</span><span class='ee-v'>1656151115950</span></li></ul></li></ul></li><li><label class='ee-shut'>1: Image LANDSAT/LC08/C02/T1_TOA/LC08_192028_20220711 (17 bands)<input type='checkbox' class='ee-toggle'></label><ul><li><span class='ee-k'>type:</span><span class='ee-v'>Image</span></li><li><span class='ee-k'>id:</span><span class='ee-v'>LANDSAT/LC08/C02/T1_TOA/LC08_192028_20220711</span></li><li><span class='ee-k'>version:</span><span class='ee-v'>1673734775139334</span></li><li><label class='ee-shut'>bands: List (17 elements)<input type='checkbox' class='ee-toggle'></label><ul><li><label class='ee-shut'>0: \"B1\", float, EPSG:32632, 7641x7751 px<input type='checkbox' class='ee-toggle'></label><ul><li><span class='ee-k'>id:</span><span class='ee-v'>B1</span></li><li><span class='ee-k'>crs:</span><span class='ee-v'>EPSG:32632</span></li><li><label class='ee-shut'>crs_transform: [30, 0, 622785, 0, -30, 5217615]<input type='checkbox' class='ee-toggle'></label><ul><li><span class='ee-k'>0:</span><span class='ee-v'>30</span></li><li><span class='ee-k'>1:</span><span class='ee-v'>0</span></li><li><span class='ee-k'>2:</span><span class='ee-v'>622785</span></li><li><span class='ee-k'>3:</span><span class='ee-v'>0</span></li><li><span class='ee-k'>4:</span><span class='ee-v'>-30</span></li><li><span class='ee-k'>5:</span><span class='ee-v'>5217615</span></li></ul></li><li><label class='ee-shut'>data_type: float<input type='checkbox' class='ee-toggle'></label><ul><li><span class='ee-k'>type:</span><span class='ee-v'>PixelType</span></li><li><span class='ee-k'>precision:</span><span class='ee-v'>float</span></li></ul></li><li><label class='ee-shut'>dimensions: [7641, 7751]<input type='checkbox' class='ee-toggle'></label><ul><li><span class='ee-k'>0:</span><span class='ee-v'>7641</span></li><li><span class='ee-k'>1:</span><span class='ee-v'>7751</span></li></ul></li></ul></li><li><label class='ee-shut'>1: \"B2\", float, EPSG:32632, 7641x7751 px<input type='checkbox' class='ee-toggle'></label><ul><li><span class='ee-k'>id:</span><span class='ee-v'>B2</span></li><li><span class='ee-k'>crs:</span><span class='ee-v'>EPSG:32632</span></li><li><label class='ee-shut'>crs_transform: [30, 0, 622785, 0, -30, 5217615]<input type='checkbox' class='ee-toggle'></label><ul><li><span class='ee-k'>0:</span><span class='ee-v'>30</span></li><li><span class='ee-k'>1:</span><span class='ee-v'>0</span></li><li><span class='ee-k'>2:</span><span class='ee-v'>622785</span></li><li><span class='ee-k'>3:</span><span class='ee-v'>0</span></li><li><span class='ee-k'>4:</span><span class='ee-v'>-30</span></li><li><span class='ee-k'>5:</span><span class='ee-v'>5217615</span></li></ul></li><li><label class='ee-shut'>data_type: float<input type='checkbox' class='ee-toggle'></label><ul><li><span class='ee-k'>type:</span><span class='ee-v'>PixelType</span></li><li><span class='ee-k'>precision:</span><span class='ee-v'>float</span></li></ul></li><li><label class='ee-shut'>dimensions: [7641, 7751]<input type='checkbox' class='ee-toggle'></label><ul><li><span class='ee-k'>0:</span><span class='ee-v'>7641</span></li><li><span class='ee-k'>1:</span><span class='ee-v'>7751</span></li></ul></li></ul></li><li><label class='ee-shut'>2: \"B3\", float, EPSG:32632, 7641x7751 px<input type='checkbox' class='ee-toggle'></label><ul><li><span class='ee-k'>id:</span><span class='ee-v'>B3</span></li><li><span class='ee-k'>crs:</span><span class='ee-v'>EPSG:32632</span></li><li><label class='ee-shut'>crs_transform: [30, 0, 622785, 0, -30, 5217615]<input type='checkbox' class='ee-toggle'></label><ul><li><span class='ee-k'>0:</span><span class='ee-v'>30</span></li><li><span class='ee-k'>1:</span><span class='ee-v'>0</span></li><li><span class='ee-k'>2:</span><span class='ee-v'>622785</span></li><li><span class='ee-k'>3:</span><span class='ee-v'>0</span></li><li><span class='ee-k'>4:</span><span class='ee-v'>-30</span></li><li><span class='ee-k'>5:</span><span class='ee-v'>5217615</span></li></ul></li><li><label class='ee-shut'>data_type: float<input type='checkbox' class='ee-toggle'></label><ul><li><span class='ee-k'>type:</span><span class='ee-v'>PixelType</span></li><li><span class='ee-k'>precision:</span><span class='ee-v'>float</span></li></ul></li><li><label class='ee-shut'>dimensions: [7641, 7751]<input type='checkbox' class='ee-toggle'></label><ul><li><span class='ee-k'>0:</span><span class='ee-v'>7641</span></li><li><span class='ee-k'>1:</span><span class='ee-v'>7751</span></li></ul></li></ul></li><li><label class='ee-shut'>3: \"B4\", float, EPSG:32632, 7641x7751 px<input type='checkbox' class='ee-toggle'></label><ul><li><span class='ee-k'>id:</span><span class='ee-v'>B4</span></li><li><span class='ee-k'>crs:</span><span class='ee-v'>EPSG:32632</span></li><li><label class='ee-shut'>crs_transform: [30, 0, 622785, 0, -30, 5217615]<input type='checkbox' class='ee-toggle'></label><ul><li><span class='ee-k'>0:</span><span class='ee-v'>30</span></li><li><span class='ee-k'>1:</span><span class='ee-v'>0</span></li><li><span class='ee-k'>2:</span><span class='ee-v'>622785</span></li><li><span class='ee-k'>3:</span><span class='ee-v'>0</span></li><li><span class='ee-k'>4:</span><span class='ee-v'>-30</span></li><li><span class='ee-k'>5:</span><span class='ee-v'>5217615</span></li></ul></li><li><label class='ee-shut'>data_type: float<input type='checkbox' class='ee-toggle'></label><ul><li><span class='ee-k'>type:</span><span class='ee-v'>PixelType</span></li><li><span class='ee-k'>precision:</span><span class='ee-v'>float</span></li></ul></li><li><label class='ee-shut'>dimensions: [7641, 7751]<input type='checkbox' class='ee-toggle'></label><ul><li><span class='ee-k'>0:</span><span class='ee-v'>7641</span></li><li><span class='ee-k'>1:</span><span class='ee-v'>7751</span></li></ul></li></ul></li><li><label class='ee-shut'>4: \"B5\", float, EPSG:32632, 7641x7751 px<input type='checkbox' class='ee-toggle'></label><ul><li><span class='ee-k'>id:</span><span class='ee-v'>B5</span></li><li><span class='ee-k'>crs:</span><span class='ee-v'>EPSG:32632</span></li><li><label class='ee-shut'>crs_transform: [30, 0, 622785, 0, -30, 5217615]<input type='checkbox' class='ee-toggle'></label><ul><li><span class='ee-k'>0:</span><span class='ee-v'>30</span></li><li><span class='ee-k'>1:</span><span class='ee-v'>0</span></li><li><span class='ee-k'>2:</span><span class='ee-v'>622785</span></li><li><span class='ee-k'>3:</span><span class='ee-v'>0</span></li><li><span class='ee-k'>4:</span><span class='ee-v'>-30</span></li><li><span class='ee-k'>5:</span><span class='ee-v'>5217615</span></li></ul></li><li><label class='ee-shut'>data_type: float<input type='checkbox' class='ee-toggle'></label><ul><li><span class='ee-k'>type:</span><span class='ee-v'>PixelType</span></li><li><span class='ee-k'>precision:</span><span class='ee-v'>float</span></li></ul></li><li><label class='ee-shut'>dimensions: [7641, 7751]<input type='checkbox' class='ee-toggle'></label><ul><li><span class='ee-k'>0:</span><span class='ee-v'>7641</span></li><li><span class='ee-k'>1:</span><span class='ee-v'>7751</span></li></ul></li></ul></li><li><label class='ee-shut'>5: \"B6\", float, EPSG:32632, 7641x7751 px<input type='checkbox' class='ee-toggle'></label><ul><li><span class='ee-k'>id:</span><span class='ee-v'>B6</span></li><li><span class='ee-k'>crs:</span><span class='ee-v'>EPSG:32632</span></li><li><label class='ee-shut'>crs_transform: [30, 0, 622785, 0, -30, 5217615]<input type='checkbox' class='ee-toggle'></label><ul><li><span class='ee-k'>0:</span><span class='ee-v'>30</span></li><li><span class='ee-k'>1:</span><span class='ee-v'>0</span></li><li><span class='ee-k'>2:</span><span class='ee-v'>622785</span></li><li><span class='ee-k'>3:</span><span class='ee-v'>0</span></li><li><span class='ee-k'>4:</span><span class='ee-v'>-30</span></li><li><span class='ee-k'>5:</span><span class='ee-v'>5217615</span></li></ul></li><li><label class='ee-shut'>data_type: float<input type='checkbox' class='ee-toggle'></label><ul><li><span class='ee-k'>type:</span><span class='ee-v'>PixelType</span></li><li><span class='ee-k'>precision:</span><span class='ee-v'>float</span></li></ul></li><li><label class='ee-shut'>dimensions: [7641, 7751]<input type='checkbox' class='ee-toggle'></label><ul><li><span class='ee-k'>0:</span><span class='ee-v'>7641</span></li><li><span class='ee-k'>1:</span><span class='ee-v'>7751</span></li></ul></li></ul></li><li><label class='ee-shut'>6: \"B7\", float, EPSG:32632, 7641x7751 px<input type='checkbox' class='ee-toggle'></label><ul><li><span class='ee-k'>id:</span><span class='ee-v'>B7</span></li><li><span class='ee-k'>crs:</span><span class='ee-v'>EPSG:32632</span></li><li><label class='ee-shut'>crs_transform: [30, 0, 622785, 0, -30, 5217615]<input type='checkbox' class='ee-toggle'></label><ul><li><span class='ee-k'>0:</span><span class='ee-v'>30</span></li><li><span class='ee-k'>1:</span><span class='ee-v'>0</span></li><li><span class='ee-k'>2:</span><span class='ee-v'>622785</span></li><li><span class='ee-k'>3:</span><span class='ee-v'>0</span></li><li><span class='ee-k'>4:</span><span class='ee-v'>-30</span></li><li><span class='ee-k'>5:</span><span class='ee-v'>5217615</span></li></ul></li><li><label class='ee-shut'>data_type: float<input type='checkbox' class='ee-toggle'></label><ul><li><span class='ee-k'>type:</span><span class='ee-v'>PixelType</span></li><li><span class='ee-k'>precision:</span><span class='ee-v'>float</span></li></ul></li><li><label class='ee-shut'>dimensions: [7641, 7751]<input type='checkbox' class='ee-toggle'></label><ul><li><span class='ee-k'>0:</span><span class='ee-v'>7641</span></li><li><span class='ee-k'>1:</span><span class='ee-v'>7751</span></li></ul></li></ul></li><li><label class='ee-shut'>7: \"B8\", float, EPSG:32632, 15281x15501 px<input type='checkbox' class='ee-toggle'></label><ul><li><span class='ee-k'>id:</span><span class='ee-v'>B8</span></li><li><span class='ee-k'>crs:</span><span class='ee-v'>EPSG:32632</span></li><li><label class='ee-shut'>crs_transform: [15, 0, 622792.5, 0, -15, 5217607.5]<input type='checkbox' class='ee-toggle'></label><ul><li><span class='ee-k'>0:</span><span class='ee-v'>15</span></li><li><span class='ee-k'>1:</span><span class='ee-v'>0</span></li><li><span class='ee-k'>2:</span><span class='ee-v'>622792.5</span></li><li><span class='ee-k'>3:</span><span class='ee-v'>0</span></li><li><span class='ee-k'>4:</span><span class='ee-v'>-15</span></li><li><span class='ee-k'>5:</span><span class='ee-v'>5217607.5</span></li></ul></li><li><label class='ee-shut'>data_type: float<input type='checkbox' class='ee-toggle'></label><ul><li><span class='ee-k'>type:</span><span class='ee-v'>PixelType</span></li><li><span class='ee-k'>precision:</span><span class='ee-v'>float</span></li></ul></li><li><label class='ee-shut'>dimensions: [15281, 15501]<input type='checkbox' class='ee-toggle'></label><ul><li><span class='ee-k'>0:</span><span class='ee-v'>15281</span></li><li><span class='ee-k'>1:</span><span class='ee-v'>15501</span></li></ul></li></ul></li><li><label class='ee-shut'>8: \"B9\", float, EPSG:32632, 7641x7751 px<input type='checkbox' class='ee-toggle'></label><ul><li><span class='ee-k'>id:</span><span class='ee-v'>B9</span></li><li><span class='ee-k'>crs:</span><span class='ee-v'>EPSG:32632</span></li><li><label class='ee-shut'>crs_transform: [30, 0, 622785, 0, -30, 5217615]<input type='checkbox' class='ee-toggle'></label><ul><li><span class='ee-k'>0:</span><span class='ee-v'>30</span></li><li><span class='ee-k'>1:</span><span class='ee-v'>0</span></li><li><span class='ee-k'>2:</span><span class='ee-v'>622785</span></li><li><span class='ee-k'>3:</span><span class='ee-v'>0</span></li><li><span class='ee-k'>4:</span><span class='ee-v'>-30</span></li><li><span class='ee-k'>5:</span><span class='ee-v'>5217615</span></li></ul></li><li><label class='ee-shut'>data_type: float<input type='checkbox' class='ee-toggle'></label><ul><li><span class='ee-k'>type:</span><span class='ee-v'>PixelType</span></li><li><span class='ee-k'>precision:</span><span class='ee-v'>float</span></li></ul></li><li><label class='ee-shut'>dimensions: [7641, 7751]<input type='checkbox' class='ee-toggle'></label><ul><li><span class='ee-k'>0:</span><span class='ee-v'>7641</span></li><li><span class='ee-k'>1:</span><span class='ee-v'>7751</span></li></ul></li></ul></li><li><label class='ee-shut'>9: \"B10\", float, EPSG:32632, 7641x7751 px<input type='checkbox' class='ee-toggle'></label><ul><li><span class='ee-k'>id:</span><span class='ee-v'>B10</span></li><li><span class='ee-k'>crs:</span><span class='ee-v'>EPSG:32632</span></li><li><label class='ee-shut'>crs_transform: [30, 0, 622785, 0, -30, 5217615]<input type='checkbox' class='ee-toggle'></label><ul><li><span class='ee-k'>0:</span><span class='ee-v'>30</span></li><li><span class='ee-k'>1:</span><span class='ee-v'>0</span></li><li><span class='ee-k'>2:</span><span class='ee-v'>622785</span></li><li><span class='ee-k'>3:</span><span class='ee-v'>0</span></li><li><span class='ee-k'>4:</span><span class='ee-v'>-30</span></li><li><span class='ee-k'>5:</span><span class='ee-v'>5217615</span></li></ul></li><li><label class='ee-shut'>data_type: float<input type='checkbox' class='ee-toggle'></label><ul><li><span class='ee-k'>type:</span><span class='ee-v'>PixelType</span></li><li><span class='ee-k'>precision:</span><span class='ee-v'>float</span></li></ul></li><li><label class='ee-shut'>dimensions: [7641, 7751]<input type='checkbox' class='ee-toggle'></label><ul><li><span class='ee-k'>0:</span><span class='ee-v'>7641</span></li><li><span class='ee-k'>1:</span><span class='ee-v'>7751</span></li></ul></li></ul></li><li><label class='ee-shut'>10: \"B11\", float, EPSG:32632, 7641x7751 px<input type='checkbox' class='ee-toggle'></label><ul><li><span class='ee-k'>id:</span><span class='ee-v'>B11</span></li><li><span class='ee-k'>crs:</span><span class='ee-v'>EPSG:32632</span></li><li><label class='ee-shut'>crs_transform: [30, 0, 622785, 0, -30, 5217615]<input type='checkbox' class='ee-toggle'></label><ul><li><span class='ee-k'>0:</span><span class='ee-v'>30</span></li><li><span class='ee-k'>1:</span><span class='ee-v'>0</span></li><li><span class='ee-k'>2:</span><span class='ee-v'>622785</span></li><li><span class='ee-k'>3:</span><span class='ee-v'>0</span></li><li><span class='ee-k'>4:</span><span class='ee-v'>-30</span></li><li><span class='ee-k'>5:</span><span class='ee-v'>5217615</span></li></ul></li><li><label class='ee-shut'>data_type: float<input type='checkbox' class='ee-toggle'></label><ul><li><span class='ee-k'>type:</span><span class='ee-v'>PixelType</span></li><li><span class='ee-k'>precision:</span><span class='ee-v'>float</span></li></ul></li><li><label class='ee-shut'>dimensions: [7641, 7751]<input type='checkbox' class='ee-toggle'></label><ul><li><span class='ee-k'>0:</span><span class='ee-v'>7641</span></li><li><span class='ee-k'>1:</span><span class='ee-v'>7751</span></li></ul></li></ul></li><li><label class='ee-shut'>11: \"QA_PIXEL\", unsigned int16, EPSG:32632, 7641x7751 px<input type='checkbox' class='ee-toggle'></label><ul><li><span class='ee-k'>id:</span><span class='ee-v'>QA_PIXEL</span></li><li><span class='ee-k'>crs:</span><span class='ee-v'>EPSG:32632</span></li><li><label class='ee-shut'>crs_transform: [30, 0, 622785, 0, -30, 5217615]<input type='checkbox' class='ee-toggle'></label><ul><li><span class='ee-k'>0:</span><span class='ee-v'>30</span></li><li><span class='ee-k'>1:</span><span class='ee-v'>0</span></li><li><span class='ee-k'>2:</span><span class='ee-v'>622785</span></li><li><span class='ee-k'>3:</span><span class='ee-v'>0</span></li><li><span class='ee-k'>4:</span><span class='ee-v'>-30</span></li><li><span class='ee-k'>5:</span><span class='ee-v'>5217615</span></li></ul></li><li><label class='ee-shut'>data_type: unsigned int16<input type='checkbox' class='ee-toggle'></label><ul><li><span class='ee-k'>type:</span><span class='ee-v'>PixelType</span></li><li><span class='ee-k'>max:</span><span class='ee-v'>65535</span></li><li><span class='ee-k'>min:</span><span class='ee-v'>0</span></li><li><span class='ee-k'>precision:</span><span class='ee-v'>int</span></li></ul></li><li><label class='ee-shut'>dimensions: [7641, 7751]<input type='checkbox' class='ee-toggle'></label><ul><li><span class='ee-k'>0:</span><span class='ee-v'>7641</span></li><li><span class='ee-k'>1:</span><span class='ee-v'>7751</span></li></ul></li></ul></li><li><label class='ee-shut'>12: \"QA_RADSAT\", unsigned int16, EPSG:32632, 7641x7751 px<input type='checkbox' class='ee-toggle'></label><ul><li><span class='ee-k'>id:</span><span class='ee-v'>QA_RADSAT</span></li><li><span class='ee-k'>crs:</span><span class='ee-v'>EPSG:32632</span></li><li><label class='ee-shut'>crs_transform: [30, 0, 622785, 0, -30, 5217615]<input type='checkbox' class='ee-toggle'></label><ul><li><span class='ee-k'>0:</span><span class='ee-v'>30</span></li><li><span class='ee-k'>1:</span><span class='ee-v'>0</span></li><li><span class='ee-k'>2:</span><span class='ee-v'>622785</span></li><li><span class='ee-k'>3:</span><span class='ee-v'>0</span></li><li><span class='ee-k'>4:</span><span class='ee-v'>-30</span></li><li><span class='ee-k'>5:</span><span class='ee-v'>5217615</span></li></ul></li><li><label class='ee-shut'>data_type: unsigned int16<input type='checkbox' class='ee-toggle'></label><ul><li><span class='ee-k'>type:</span><span class='ee-v'>PixelType</span></li><li><span class='ee-k'>max:</span><span class='ee-v'>65535</span></li><li><span class='ee-k'>min:</span><span class='ee-v'>0</span></li><li><span class='ee-k'>precision:</span><span class='ee-v'>int</span></li></ul></li><li><label class='ee-shut'>dimensions: [7641, 7751]<input type='checkbox' class='ee-toggle'></label><ul><li><span class='ee-k'>0:</span><span class='ee-v'>7641</span></li><li><span class='ee-k'>1:</span><span class='ee-v'>7751</span></li></ul></li></ul></li><li><label class='ee-shut'>13: \"SAA\", signed int16, EPSG:32632, 7641x7751 px<input type='checkbox' class='ee-toggle'></label><ul><li><span class='ee-k'>id:</span><span class='ee-v'>SAA</span></li><li><span class='ee-k'>crs:</span><span class='ee-v'>EPSG:32632</span></li><li><label class='ee-shut'>crs_transform: [30, 0, 622785, 0, -30, 5217615]<input type='checkbox' class='ee-toggle'></label><ul><li><span class='ee-k'>0:</span><span class='ee-v'>30</span></li><li><span class='ee-k'>1:</span><span class='ee-v'>0</span></li><li><span class='ee-k'>2:</span><span class='ee-v'>622785</span></li><li><span class='ee-k'>3:</span><span class='ee-v'>0</span></li><li><span class='ee-k'>4:</span><span class='ee-v'>-30</span></li><li><span class='ee-k'>5:</span><span class='ee-v'>5217615</span></li></ul></li><li><label class='ee-shut'>data_type: signed int16<input type='checkbox' class='ee-toggle'></label><ul><li><span class='ee-k'>type:</span><span class='ee-v'>PixelType</span></li><li><span class='ee-k'>max:</span><span class='ee-v'>32767</span></li><li><span class='ee-k'>min:</span><span class='ee-v'>-32768</span></li><li><span class='ee-k'>precision:</span><span class='ee-v'>int</span></li></ul></li><li><label class='ee-shut'>dimensions: [7641, 7751]<input type='checkbox' class='ee-toggle'></label><ul><li><span class='ee-k'>0:</span><span class='ee-v'>7641</span></li><li><span class='ee-k'>1:</span><span class='ee-v'>7751</span></li></ul></li></ul></li><li><label class='ee-shut'>14: \"SZA\", signed int16, EPSG:32632, 7641x7751 px<input type='checkbox' class='ee-toggle'></label><ul><li><span class='ee-k'>id:</span><span class='ee-v'>SZA</span></li><li><span class='ee-k'>crs:</span><span class='ee-v'>EPSG:32632</span></li><li><label class='ee-shut'>crs_transform: [30, 0, 622785, 0, -30, 5217615]<input type='checkbox' class='ee-toggle'></label><ul><li><span class='ee-k'>0:</span><span class='ee-v'>30</span></li><li><span class='ee-k'>1:</span><span class='ee-v'>0</span></li><li><span class='ee-k'>2:</span><span class='ee-v'>622785</span></li><li><span class='ee-k'>3:</span><span class='ee-v'>0</span></li><li><span class='ee-k'>4:</span><span class='ee-v'>-30</span></li><li><span class='ee-k'>5:</span><span class='ee-v'>5217615</span></li></ul></li><li><label class='ee-shut'>data_type: signed int16<input type='checkbox' class='ee-toggle'></label><ul><li><span class='ee-k'>type:</span><span class='ee-v'>PixelType</span></li><li><span class='ee-k'>max:</span><span class='ee-v'>32767</span></li><li><span class='ee-k'>min:</span><span class='ee-v'>-32768</span></li><li><span class='ee-k'>precision:</span><span class='ee-v'>int</span></li></ul></li><li><label class='ee-shut'>dimensions: [7641, 7751]<input type='checkbox' class='ee-toggle'></label><ul><li><span class='ee-k'>0:</span><span class='ee-v'>7641</span></li><li><span class='ee-k'>1:</span><span class='ee-v'>7751</span></li></ul></li></ul></li><li><label class='ee-shut'>15: \"VAA\", signed int16, EPSG:32632, 7641x7751 px<input type='checkbox' class='ee-toggle'></label><ul><li><span class='ee-k'>id:</span><span class='ee-v'>VAA</span></li><li><span class='ee-k'>crs:</span><span class='ee-v'>EPSG:32632</span></li><li><label class='ee-shut'>crs_transform: [30, 0, 622785, 0, -30, 5217615]<input type='checkbox' class='ee-toggle'></label><ul><li><span class='ee-k'>0:</span><span class='ee-v'>30</span></li><li><span class='ee-k'>1:</span><span class='ee-v'>0</span></li><li><span class='ee-k'>2:</span><span class='ee-v'>622785</span></li><li><span class='ee-k'>3:</span><span class='ee-v'>0</span></li><li><span class='ee-k'>4:</span><span class='ee-v'>-30</span></li><li><span class='ee-k'>5:</span><span class='ee-v'>5217615</span></li></ul></li><li><label class='ee-shut'>data_type: signed int16<input type='checkbox' class='ee-toggle'></label><ul><li><span class='ee-k'>type:</span><span class='ee-v'>PixelType</span></li><li><span class='ee-k'>max:</span><span class='ee-v'>32767</span></li><li><span class='ee-k'>min:</span><span class='ee-v'>-32768</span></li><li><span class='ee-k'>precision:</span><span class='ee-v'>int</span></li></ul></li><li><label class='ee-shut'>dimensions: [7641, 7751]<input type='checkbox' class='ee-toggle'></label><ul><li><span class='ee-k'>0:</span><span class='ee-v'>7641</span></li><li><span class='ee-k'>1:</span><span class='ee-v'>7751</span></li></ul></li></ul></li><li><label class='ee-shut'>16: \"VZA\", signed int16, EPSG:32632, 7641x7751 px<input type='checkbox' class='ee-toggle'></label><ul><li><span class='ee-k'>id:</span><span class='ee-v'>VZA</span></li><li><span class='ee-k'>crs:</span><span class='ee-v'>EPSG:32632</span></li><li><label class='ee-shut'>crs_transform: [30, 0, 622785, 0, -30, 5217615]<input type='checkbox' class='ee-toggle'></label><ul><li><span class='ee-k'>0:</span><span class='ee-v'>30</span></li><li><span class='ee-k'>1:</span><span class='ee-v'>0</span></li><li><span class='ee-k'>2:</span><span class='ee-v'>622785</span></li><li><span class='ee-k'>3:</span><span class='ee-v'>0</span></li><li><span class='ee-k'>4:</span><span class='ee-v'>-30</span></li><li><span class='ee-k'>5:</span><span class='ee-v'>5217615</span></li></ul></li><li><label class='ee-shut'>data_type: signed int16<input type='checkbox' class='ee-toggle'></label><ul><li><span class='ee-k'>type:</span><span class='ee-v'>PixelType</span></li><li><span class='ee-k'>max:</span><span class='ee-v'>32767</span></li><li><span class='ee-k'>min:</span><span class='ee-v'>-32768</span></li><li><span class='ee-k'>precision:</span><span class='ee-v'>int</span></li></ul></li><li><label class='ee-shut'>dimensions: [7641, 7751]<input type='checkbox' class='ee-toggle'></label><ul><li><span class='ee-k'>0:</span><span class='ee-v'>7641</span></li><li><span class='ee-k'>1:</span><span class='ee-v'>7751</span></li></ul></li></ul></li></ul></li><li><label class='ee-shut'>properties: Object (112 properties)<input type='checkbox' class='ee-toggle'></label><ul><li><span class='ee-k'>CLOUD_COVER:</span><span class='ee-v'>29.5</span></li><li><span class='ee-k'>CLOUD_COVER_LAND:</span><span class='ee-v'>31.47</span></li><li><span class='ee-k'>COLLECTION_CATEGORY:</span><span class='ee-v'>T1</span></li><li><span class='ee-k'>COLLECTION_NUMBER:</span><span class='ee-v'>2</span></li><li><span class='ee-k'>DATA_SOURCE_ELEVATION:</span><span class='ee-v'>GLS2000</span></li><li><span class='ee-k'>DATA_SOURCE_TIRS_STRAY_LIGHT_CORRECTION:</span><span class='ee-v'>TIRS</span></li><li><span class='ee-k'>DATE_ACQUIRED:</span><span class='ee-v'>2022-07-11</span></li><li><span class='ee-k'>DATE_PRODUCT_GENERATED:</span><span class='ee-v'>1658464424000</span></li><li><span class='ee-k'>DATUM:</span><span class='ee-v'>WGS84</span></li><li><span class='ee-k'>EARTH_SUN_DISTANCE:</span><span class='ee-v'>1.0165918</span></li><li><span class='ee-k'>ELLIPSOID:</span><span class='ee-v'>WGS84</span></li><li><span class='ee-k'>GEOMETRIC_RMSE_MODEL:</span><span class='ee-v'>5.717</span></li><li><span class='ee-k'>GEOMETRIC_RMSE_MODEL_X:</span><span class='ee-v'>4.155</span></li><li><span class='ee-k'>GEOMETRIC_RMSE_MODEL_Y:</span><span class='ee-v'>3.927</span></li><li><span class='ee-k'>GEOMETRIC_RMSE_VERIFY:</span><span class='ee-v'>4.034</span></li><li><span class='ee-k'>GRID_CELL_SIZE_PANCHROMATIC:</span><span class='ee-v'>15</span></li><li><span class='ee-k'>GRID_CELL_SIZE_REFLECTIVE:</span><span class='ee-v'>30</span></li><li><span class='ee-k'>GRID_CELL_SIZE_THERMAL:</span><span class='ee-v'>30</span></li><li><span class='ee-k'>GROUND_CONTROL_POINTS_MODEL:</span><span class='ee-v'>502</span></li><li><span class='ee-k'>GROUND_CONTROL_POINTS_VERIFY:</span><span class='ee-v'>113</span></li><li><span class='ee-k'>GROUND_CONTROL_POINTS_VERSION:</span><span class='ee-v'>5</span></li><li><span class='ee-k'>IMAGE_QUALITY_OLI:</span><span class='ee-v'>9</span></li><li><span class='ee-k'>IMAGE_QUALITY_TIRS:</span><span class='ee-v'>9</span></li><li><span class='ee-k'>K1_CONSTANT_BAND_10:</span><span class='ee-v'>774.8853</span></li><li><span class='ee-k'>K1_CONSTANT_BAND_11:</span><span class='ee-v'>480.8883</span></li><li><span class='ee-k'>K2_CONSTANT_BAND_10:</span><span class='ee-v'>1321.0789</span></li><li><span class='ee-k'>K2_CONSTANT_BAND_11:</span><span class='ee-v'>1201.1442</span></li><li><span class='ee-k'>LANDSAT_PRODUCT_ID:</span><span class='ee-v'>LC08_L1TP_192028_20220711_20220722_02_T1</span></li><li><span class='ee-k'>LANDSAT_SCENE_ID:</span><span class='ee-v'>LC81920282022192LGN00</span></li><li><span class='ee-k'>MAP_PROJECTION:</span><span class='ee-v'>UTM</span></li><li><span class='ee-k'>NADIR_OFFNADIR:</span><span class='ee-v'>NADIR</span></li><li><span class='ee-k'>ORIENTATION:</span><span class='ee-v'>NORTH_UP</span></li><li><span class='ee-k'>PANCHROMATIC_LINES:</span><span class='ee-v'>15501</span></li><li><span class='ee-k'>PANCHROMATIC_SAMPLES:</span><span class='ee-v'>15281</span></li><li><span class='ee-k'>PROCESSING_LEVEL:</span><span class='ee-v'>L1TP</span></li><li><span class='ee-k'>PROCESSING_SOFTWARE_VERSION:</span><span class='ee-v'>LPGS_16.1.0</span></li><li><span class='ee-k'>RADIANCE_ADD_BAND_1:</span><span class='ee-v'>-60.74628</span></li><li><span class='ee-k'>RADIANCE_ADD_BAND_10:</span><span class='ee-v'>0.1</span></li><li><span class='ee-k'>RADIANCE_ADD_BAND_11:</span><span class='ee-v'>0.1</span></li><li><span class='ee-k'>RADIANCE_ADD_BAND_2:</span><span class='ee-v'>-62.20493</span></li><li><span class='ee-k'>RADIANCE_ADD_BAND_3:</span><span class='ee-v'>-57.32131</span></li><li><span class='ee-k'>RADIANCE_ADD_BAND_4:</span><span class='ee-v'>-48.33656</span></li><li><span class='ee-k'>RADIANCE_ADD_BAND_5:</span><span class='ee-v'>-29.57956</span></li><li><span class='ee-k'>RADIANCE_ADD_BAND_6:</span><span class='ee-v'>-7.35617</span></li><li><span class='ee-k'>RADIANCE_ADD_BAND_7:</span><span class='ee-v'>-2.47942</span></li><li><span class='ee-k'>RADIANCE_ADD_BAND_8:</span><span class='ee-v'>-54.70368</span></li><li><span class='ee-k'>RADIANCE_ADD_BAND_9:</span><span class='ee-v'>-11.56036</span></li><li><span class='ee-k'>RADIANCE_MULT_BAND_1:</span><span class='ee-v'>0.012149</span></li><li><span class='ee-k'>RADIANCE_MULT_BAND_10:</span><span class='ee-v'>0.0003342</span></li><li><span class='ee-k'>RADIANCE_MULT_BAND_11:</span><span class='ee-v'>0.0003342</span></li><li><span class='ee-k'>RADIANCE_MULT_BAND_2:</span><span class='ee-v'>0.012441</span></li><li><span class='ee-k'>RADIANCE_MULT_BAND_3:</span><span class='ee-v'>0.011464</span></li><li><span class='ee-k'>RADIANCE_MULT_BAND_4:</span><span class='ee-v'>0.0096673</span></li><li><span class='ee-k'>RADIANCE_MULT_BAND_5:</span><span class='ee-v'>0.0059159</span></li><li><span class='ee-k'>RADIANCE_MULT_BAND_6:</span><span class='ee-v'>0.0014712</span></li><li><span class='ee-k'>RADIANCE_MULT_BAND_7:</span><span class='ee-v'>0.00049588</span></li><li><span class='ee-k'>RADIANCE_MULT_BAND_8:</span><span class='ee-v'>0.010941</span></li><li><span class='ee-k'>RADIANCE_MULT_BAND_9:</span><span class='ee-v'>0.0023121</span></li><li><span class='ee-k'>REFLECTANCE_ADD_BAND_1:</span><span class='ee-v'>-0.1</span></li><li><span class='ee-k'>REFLECTANCE_ADD_BAND_2:</span><span class='ee-v'>-0.1</span></li><li><span class='ee-k'>REFLECTANCE_ADD_BAND_3:</span><span class='ee-v'>-0.1</span></li><li><span class='ee-k'>REFLECTANCE_ADD_BAND_4:</span><span class='ee-v'>-0.1</span></li><li><span class='ee-k'>REFLECTANCE_ADD_BAND_5:</span><span class='ee-v'>-0.1</span></li><li><span class='ee-k'>REFLECTANCE_ADD_BAND_6:</span><span class='ee-v'>-0.1</span></li><li><span class='ee-k'>REFLECTANCE_ADD_BAND_7:</span><span class='ee-v'>-0.1</span></li><li><span class='ee-k'>REFLECTANCE_ADD_BAND_8:</span><span class='ee-v'>-0.1</span></li><li><span class='ee-k'>REFLECTANCE_ADD_BAND_9:</span><span class='ee-v'>-0.1</span></li><li><span class='ee-k'>REFLECTANCE_MULT_BAND_1:</span><span class='ee-v'>2e-05</span></li><li><span class='ee-k'>REFLECTANCE_MULT_BAND_2:</span><span class='ee-v'>2e-05</span></li><li><span class='ee-k'>REFLECTANCE_MULT_BAND_3:</span><span class='ee-v'>2e-05</span></li><li><span class='ee-k'>REFLECTANCE_MULT_BAND_4:</span><span class='ee-v'>2e-05</span></li><li><span class='ee-k'>REFLECTANCE_MULT_BAND_5:</span><span class='ee-v'>2e-05</span></li><li><span class='ee-k'>REFLECTANCE_MULT_BAND_6:</span><span class='ee-v'>2e-05</span></li><li><span class='ee-k'>REFLECTANCE_MULT_BAND_7:</span><span class='ee-v'>2e-05</span></li><li><span class='ee-k'>REFLECTANCE_MULT_BAND_8:</span><span class='ee-v'>2e-05</span></li><li><span class='ee-k'>REFLECTANCE_MULT_BAND_9:</span><span class='ee-v'>2e-05</span></li><li><span class='ee-k'>REFLECTIVE_LINES:</span><span class='ee-v'>7751</span></li><li><span class='ee-k'>REFLECTIVE_SAMPLES:</span><span class='ee-v'>7641</span></li><li><span class='ee-k'>REQUEST_ID:</span><span class='ee-v'>1554924_00620</span></li><li><span class='ee-k'>RESAMPLING_OPTION:</span><span class='ee-v'>CUBIC_CONVOLUTION</span></li><li><span class='ee-k'>ROLL_ANGLE:</span><span class='ee-v'>-0.001</span></li><li><span class='ee-k'>SATURATION_BAND_1:</span><span class='ee-v'>Y</span></li><li><span class='ee-k'>SATURATION_BAND_2:</span><span class='ee-v'>Y</span></li><li><span class='ee-k'>SATURATION_BAND_3:</span><span class='ee-v'>Y</span></li><li><span class='ee-k'>SATURATION_BAND_4:</span><span class='ee-v'>Y</span></li><li><span class='ee-k'>SATURATION_BAND_5:</span><span class='ee-v'>Y</span></li><li><span class='ee-k'>SATURATION_BAND_6:</span><span class='ee-v'>Y</span></li><li><span class='ee-k'>SATURATION_BAND_7:</span><span class='ee-v'>Y</span></li><li><span class='ee-k'>SATURATION_BAND_8:</span><span class='ee-v'>N</span></li><li><span class='ee-k'>SATURATION_BAND_9:</span><span class='ee-v'>N</span></li><li><span class='ee-k'>SCENE_CENTER_TIME:</span><span class='ee-v'>09:58:35.8800449Z</span></li><li><span class='ee-k'>SENSOR_ID:</span><span class='ee-v'>OLI_TIRS</span></li><li><span class='ee-k'>SPACECRAFT_ID:</span><span class='ee-v'>LANDSAT_8</span></li><li><span class='ee-k'>STATION_ID:</span><span class='ee-v'>LGN</span></li><li><span class='ee-k'>SUN_AZIMUTH:</span><span class='ee-v'>139.64403082</span></li><li><span class='ee-k'>SUN_ELEVATION:</span><span class='ee-v'>61.20265206</span></li><li><span class='ee-k'>TARGET_WRS_PATH:</span><span class='ee-v'>192</span></li><li><span class='ee-k'>TARGET_WRS_ROW:</span><span class='ee-v'>28</span></li><li><span class='ee-k'>THERMAL_LINES:</span><span class='ee-v'>7751</span></li><li><span class='ee-k'>THERMAL_SAMPLES:</span><span class='ee-v'>7641</span></li><li><span class='ee-k'>TIRS_SSM_MODEL:</span><span class='ee-v'>FINAL</span></li><li><span class='ee-k'>TIRS_SSM_POSITION_STATUS:</span><span class='ee-v'>ESTIMATED</span></li><li><span class='ee-k'>TRUNCATION_OLI:</span><span class='ee-v'>UPPER</span></li><li><span class='ee-k'>UTM_ZONE:</span><span class='ee-v'>32</span></li><li><span class='ee-k'>WRS_PATH:</span><span class='ee-v'>192</span></li><li><span class='ee-k'>WRS_ROW:</span><span class='ee-v'>28</span></li><li><span class='ee-k'>WRS_TYPE:</span><span class='ee-v'>2</span></li><li><span class='ee-k'>system:asset_size:</span><span class='ee-v'>1343776465</span></li><li><label class='ee-shut'>system:footprint: LinearRing (22 vertices)<input type='checkbox' class='ee-toggle'></label><ul><li><span class='ee-k'>type:</span><span class='ee-v'>LinearRing</span></li><li><label class='ee-shut'>coordinates: List (22 elements)<input type='checkbox' class='ee-toggle'></label><ul><li><label class='ee-shut'>0: [13.083424476753272, 45.358968511298194]<input type='checkbox' class='ee-toggle'></label><ul><li><span class='ee-k'>0:</span><span class='ee-v'>13.083424476753272</span></li><li><span class='ee-k'>1:</span><span class='ee-v'>45.358968511298194</span></li></ul></li><li><label class='ee-shut'>1: [13.098881390782257, 45.39880134517222]<input type='checkbox' class='ee-toggle'></label><ul><li><span class='ee-k'>0:</span><span class='ee-v'>13.098881390782257</span></li><li><span class='ee-k'>1:</span><span class='ee-v'>45.39880134517222</span></li></ul></li><li><label class='ee-shut'>2: [13.15998902879309, 45.556306077262846]<input type='checkbox' class='ee-toggle'></label><ul><li><span class='ee-k'>0:</span><span class='ee-v'>13.15998902879309</span></li><li><span class='ee-k'>1:</span><span class='ee-v'>45.556306077262846</span></li></ul></li><li><label class='ee-shut'>3: [13.266244840017029, 45.827823904710726]<input type='checkbox' class='ee-toggle'></label><ul><li><span class='ee-k'>0:</span><span class='ee-v'>13.266244840017029</span></li><li><span class='ee-k'>1:</span><span class='ee-v'>45.827823904710726</span></li></ul></li><li><label class='ee-shut'>4: [13.382115217763562, 46.12052090680563]<input type='checkbox' class='ee-toggle'></label><ul><li><span class='ee-k'>0:</span><span class='ee-v'>13.382115217763562</span></li><li><span class='ee-k'>1:</span><span class='ee-v'>46.12052090680563</span></li></ul></li><li><label class='ee-shut'>5: [13.570796979584644, 46.59373102762212]<input type='checkbox' class='ee-toggle'></label><ul><li><span class='ee-k'>0:</span><span class='ee-v'>13.570796979584644</span></li><li><span class='ee-k'>1:</span><span class='ee-v'>46.59373102762212</span></li></ul></li><li><label class='ee-shut'>6: [13.594256791812226, 46.65558540669538]<input type='checkbox' class='ee-toggle'></label><ul><li><span class='ee-k'>0:</span><span class='ee-v'>13.594256791812226</span></li><li><span class='ee-k'>1:</span><span class='ee-v'>46.65558540669538</span></li></ul></li><li><label class='ee-shut'>7: [13.594424580266686, 46.65756170007252]<input type='checkbox' class='ee-toggle'></label><ul><li><span class='ee-k'>0:</span><span class='ee-v'>13.594424580266686</span></li><li><span class='ee-k'>1:</span><span class='ee-v'>46.65756170007252</span></li></ul></li><li><label class='ee-shut'>8: [11.207075476849596, 47.08476276893444]<input type='checkbox' class='ee-toggle'></label><ul><li><span class='ee-k'>0:</span><span class='ee-v'>11.207075476849596</span></li><li><span class='ee-k'>1:</span><span class='ee-v'>47.08476276893444</span></li></ul></li><li><label class='ee-shut'>9: [11.172592083327022, 47.0905037327652]<input type='checkbox' class='ee-toggle'></label><ul><li><span class='ee-k'>0:</span><span class='ee-v'>11.172592083327022</span></li><li><span class='ee-k'>1:</span><span class='ee-v'>47.0905037327652</span></li></ul></li><li><label class='ee-shut'>10: [11.012672356634202, 46.65047012911686]<input type='checkbox' class='ee-toggle'></label><ul><li><span class='ee-k'>0:</span><span class='ee-v'>11.012672356634202</span></li><li><span class='ee-k'>1:</span><span class='ee-v'>46.65047012911686</span></li></ul></li><li><label class='ee-shut'>11: [10.789269424603361, 46.01650956294183]<input type='checkbox' class='ee-toggle'></label><ul><li><span class='ee-k'>0:</span><span class='ee-v'>10.789269424603361</span></li><li><span class='ee-k'>1:</span><span class='ee-v'>46.01650956294183</span></li></ul></li><li><label class='ee-shut'>12: [10.57099138818042, 45.38159446542598]<input type='checkbox' class='ee-toggle'></label><ul><li><span class='ee-k'>0:</span><span class='ee-v'>10.57099138818042</span></li><li><span class='ee-k'>1:</span><span class='ee-v'>45.38159446542598</span></li></ul></li><li><label class='ee-shut'>13: [10.61587241603976, 45.37390535545524]<input type='checkbox' class='ee-toggle'></label><ul><li><span class='ee-k'>0:</span><span class='ee-v'>10.61587241603976</span></li><li><span class='ee-k'>1:</span><span class='ee-v'>45.37390535545524</span></li></ul></li><li><label class='ee-shut'>14: [10.873598344198296, 45.3294609265254]<input type='checkbox' class='ee-toggle'></label><ul><li><span class='ee-k'>0:</span><span class='ee-v'>10.873598344198296</span></li><li><span class='ee-k'>1:</span><span class='ee-v'>45.3294609265254</span></li></ul></li><li><label class='ee-shut'>15: [11.89510336838004, 45.146904053551616]<input type='checkbox' class='ee-toggle'></label><ul><li><span class='ee-k'>0:</span><span class='ee-v'>11.89510336838004</span></li><li><span class='ee-k'>1:</span><span class='ee-v'>45.146904053551616</span></li></ul></li><li><label class='ee-shut'>16: [12.655329973074874, 45.00436378916591]<input type='checkbox' class='ee-toggle'></label><ul><li><span class='ee-k'>0:</span><span class='ee-v'>12.655329973074874</span></li><li><span class='ee-k'>1:</span><span class='ee-v'>45.00436378916591</span></li></ul></li><li><label class='ee-shut'>17: [12.904450175720692, 44.95640804018466]<input type='checkbox' class='ee-toggle'></label><ul><li><span class='ee-k'>0:</span><span class='ee-v'>12.904450175720692</span></li><li><span class='ee-k'>1:</span><span class='ee-v'>44.95640804018466</span></li></ul></li><li><label class='ee-shut'>18: [12.926593206380796, 44.952163331422526]<input type='checkbox' class='ee-toggle'></label><ul><li><span class='ee-k'>0:</span><span class='ee-v'>12.926593206380796</span></li><li><span class='ee-k'>1:</span><span class='ee-v'>44.952163331422526</span></li></ul></li><li><label class='ee-shut'>19: [12.930218383555488, 44.96156785821809]<input type='checkbox' class='ee-toggle'></label><ul><li><span class='ee-k'>0:</span><span class='ee-v'>12.930218383555488</span></li><li><span class='ee-k'>1:</span><span class='ee-v'>44.96156785821809</span></li></ul></li><li><label class='ee-shut'>20: [13.007521526528706, 45.162768667764354]<input type='checkbox' class='ee-toggle'></label><ul><li><span class='ee-k'>0:</span><span class='ee-v'>13.007521526528706</span></li><li><span class='ee-k'>1:</span><span class='ee-v'>45.162768667764354</span></li></ul></li><li><label class='ee-shut'>21: [13.083424476753272, 45.358968511298194]<input type='checkbox' class='ee-toggle'></label><ul><li><span class='ee-k'>0:</span><span class='ee-v'>13.083424476753272</span></li><li><span class='ee-k'>1:</span><span class='ee-v'>45.358968511298194</span></li></ul></li></ul></li></ul></li><li><span class='ee-k'>system:index:</span><span class='ee-v'>LC08_192028_20220711</span></li><li><span class='ee-k'>system:time_end:</span><span class='ee-v'>1657533515880</span></li><li><span class='ee-k'>system:time_start:</span><span class='ee-v'>1657533515880</span></li></ul></li></ul></li><li><label class='ee-shut'>2: Image LANDSAT/LC08/C02/T1_TOA/LC08_193028_20220702 (17 bands)<input type='checkbox' class='ee-toggle'></label><ul><li><span class='ee-k'>type:</span><span class='ee-v'>Image</span></li><li><span class='ee-k'>id:</span><span class='ee-v'>LANDSAT/LC08/C02/T1_TOA/LC08_193028_20220702</span></li><li><span class='ee-k'>version:</span><span class='ee-v'>1673734775139334</span></li><li><label class='ee-shut'>bands: List (17 elements)<input type='checkbox' class='ee-toggle'></label><ul><li><label class='ee-shut'>0: \"B1\", float, EPSG:32632, 7731x7841 px<input type='checkbox' class='ee-toggle'></label><ul><li><span class='ee-k'>id:</span><span class='ee-v'>B1</span></li><li><span class='ee-k'>crs:</span><span class='ee-v'>EPSG:32632</span></li><li><label class='ee-shut'>crs_transform: [30, 0, 500385, 0, -30, 5215515]<input type='checkbox' class='ee-toggle'></label><ul><li><span class='ee-k'>0:</span><span class='ee-v'>30</span></li><li><span class='ee-k'>1:</span><span class='ee-v'>0</span></li><li><span class='ee-k'>2:</span><span class='ee-v'>500385</span></li><li><span class='ee-k'>3:</span><span class='ee-v'>0</span></li><li><span class='ee-k'>4:</span><span class='ee-v'>-30</span></li><li><span class='ee-k'>5:</span><span class='ee-v'>5215515</span></li></ul></li><li><label class='ee-shut'>data_type: float<input type='checkbox' class='ee-toggle'></label><ul><li><span class='ee-k'>type:</span><span class='ee-v'>PixelType</span></li><li><span class='ee-k'>precision:</span><span class='ee-v'>float</span></li></ul></li><li><label class='ee-shut'>dimensions: [7731, 7841]<input type='checkbox' class='ee-toggle'></label><ul><li><span class='ee-k'>0:</span><span class='ee-v'>7731</span></li><li><span class='ee-k'>1:</span><span class='ee-v'>7841</span></li></ul></li></ul></li><li><label class='ee-shut'>1: \"B2\", float, EPSG:32632, 7731x7841 px<input type='checkbox' class='ee-toggle'></label><ul><li><span class='ee-k'>id:</span><span class='ee-v'>B2</span></li><li><span class='ee-k'>crs:</span><span class='ee-v'>EPSG:32632</span></li><li><label class='ee-shut'>crs_transform: [30, 0, 500385, 0, -30, 5215515]<input type='checkbox' class='ee-toggle'></label><ul><li><span class='ee-k'>0:</span><span class='ee-v'>30</span></li><li><span class='ee-k'>1:</span><span class='ee-v'>0</span></li><li><span class='ee-k'>2:</span><span class='ee-v'>500385</span></li><li><span class='ee-k'>3:</span><span class='ee-v'>0</span></li><li><span class='ee-k'>4:</span><span class='ee-v'>-30</span></li><li><span class='ee-k'>5:</span><span class='ee-v'>5215515</span></li></ul></li><li><label class='ee-shut'>data_type: float<input type='checkbox' class='ee-toggle'></label><ul><li><span class='ee-k'>type:</span><span class='ee-v'>PixelType</span></li><li><span class='ee-k'>precision:</span><span class='ee-v'>float</span></li></ul></li><li><label class='ee-shut'>dimensions: [7731, 7841]<input type='checkbox' class='ee-toggle'></label><ul><li><span class='ee-k'>0:</span><span class='ee-v'>7731</span></li><li><span class='ee-k'>1:</span><span class='ee-v'>7841</span></li></ul></li></ul></li><li><label class='ee-shut'>2: \"B3\", float, EPSG:32632, 7731x7841 px<input type='checkbox' class='ee-toggle'></label><ul><li><span class='ee-k'>id:</span><span class='ee-v'>B3</span></li><li><span class='ee-k'>crs:</span><span class='ee-v'>EPSG:32632</span></li><li><label class='ee-shut'>crs_transform: [30, 0, 500385, 0, -30, 5215515]<input type='checkbox' class='ee-toggle'></label><ul><li><span class='ee-k'>0:</span><span class='ee-v'>30</span></li><li><span class='ee-k'>1:</span><span class='ee-v'>0</span></li><li><span class='ee-k'>2:</span><span class='ee-v'>500385</span></li><li><span class='ee-k'>3:</span><span class='ee-v'>0</span></li><li><span class='ee-k'>4:</span><span class='ee-v'>-30</span></li><li><span class='ee-k'>5:</span><span class='ee-v'>5215515</span></li></ul></li><li><label class='ee-shut'>data_type: float<input type='checkbox' class='ee-toggle'></label><ul><li><span class='ee-k'>type:</span><span class='ee-v'>PixelType</span></li><li><span class='ee-k'>precision:</span><span class='ee-v'>float</span></li></ul></li><li><label class='ee-shut'>dimensions: [7731, 7841]<input type='checkbox' class='ee-toggle'></label><ul><li><span class='ee-k'>0:</span><span class='ee-v'>7731</span></li><li><span class='ee-k'>1:</span><span class='ee-v'>7841</span></li></ul></li></ul></li><li><label class='ee-shut'>3: \"B4\", float, EPSG:32632, 7731x7841 px<input type='checkbox' class='ee-toggle'></label><ul><li><span class='ee-k'>id:</span><span class='ee-v'>B4</span></li><li><span class='ee-k'>crs:</span><span class='ee-v'>EPSG:32632</span></li><li><label class='ee-shut'>crs_transform: [30, 0, 500385, 0, -30, 5215515]<input type='checkbox' class='ee-toggle'></label><ul><li><span class='ee-k'>0:</span><span class='ee-v'>30</span></li><li><span class='ee-k'>1:</span><span class='ee-v'>0</span></li><li><span class='ee-k'>2:</span><span class='ee-v'>500385</span></li><li><span class='ee-k'>3:</span><span class='ee-v'>0</span></li><li><span class='ee-k'>4:</span><span class='ee-v'>-30</span></li><li><span class='ee-k'>5:</span><span class='ee-v'>5215515</span></li></ul></li><li><label class='ee-shut'>data_type: float<input type='checkbox' class='ee-toggle'></label><ul><li><span class='ee-k'>type:</span><span class='ee-v'>PixelType</span></li><li><span class='ee-k'>precision:</span><span class='ee-v'>float</span></li></ul></li><li><label class='ee-shut'>dimensions: [7731, 7841]<input type='checkbox' class='ee-toggle'></label><ul><li><span class='ee-k'>0:</span><span class='ee-v'>7731</span></li><li><span class='ee-k'>1:</span><span class='ee-v'>7841</span></li></ul></li></ul></li><li><label class='ee-shut'>4: \"B5\", float, EPSG:32632, 7731x7841 px<input type='checkbox' class='ee-toggle'></label><ul><li><span class='ee-k'>id:</span><span class='ee-v'>B5</span></li><li><span class='ee-k'>crs:</span><span class='ee-v'>EPSG:32632</span></li><li><label class='ee-shut'>crs_transform: [30, 0, 500385, 0, -30, 5215515]<input type='checkbox' class='ee-toggle'></label><ul><li><span class='ee-k'>0:</span><span class='ee-v'>30</span></li><li><span class='ee-k'>1:</span><span class='ee-v'>0</span></li><li><span class='ee-k'>2:</span><span class='ee-v'>500385</span></li><li><span class='ee-k'>3:</span><span class='ee-v'>0</span></li><li><span class='ee-k'>4:</span><span class='ee-v'>-30</span></li><li><span class='ee-k'>5:</span><span class='ee-v'>5215515</span></li></ul></li><li><label class='ee-shut'>data_type: float<input type='checkbox' class='ee-toggle'></label><ul><li><span class='ee-k'>type:</span><span class='ee-v'>PixelType</span></li><li><span class='ee-k'>precision:</span><span class='ee-v'>float</span></li></ul></li><li><label class='ee-shut'>dimensions: [7731, 7841]<input type='checkbox' class='ee-toggle'></label><ul><li><span class='ee-k'>0:</span><span class='ee-v'>7731</span></li><li><span class='ee-k'>1:</span><span class='ee-v'>7841</span></li></ul></li></ul></li><li><label class='ee-shut'>5: \"B6\", float, EPSG:32632, 7731x7841 px<input type='checkbox' class='ee-toggle'></label><ul><li><span class='ee-k'>id:</span><span class='ee-v'>B6</span></li><li><span class='ee-k'>crs:</span><span class='ee-v'>EPSG:32632</span></li><li><label class='ee-shut'>crs_transform: [30, 0, 500385, 0, -30, 5215515]<input type='checkbox' class='ee-toggle'></label><ul><li><span class='ee-k'>0:</span><span class='ee-v'>30</span></li><li><span class='ee-k'>1:</span><span class='ee-v'>0</span></li><li><span class='ee-k'>2:</span><span class='ee-v'>500385</span></li><li><span class='ee-k'>3:</span><span class='ee-v'>0</span></li><li><span class='ee-k'>4:</span><span class='ee-v'>-30</span></li><li><span class='ee-k'>5:</span><span class='ee-v'>5215515</span></li></ul></li><li><label class='ee-shut'>data_type: float<input type='checkbox' class='ee-toggle'></label><ul><li><span class='ee-k'>type:</span><span class='ee-v'>PixelType</span></li><li><span class='ee-k'>precision:</span><span class='ee-v'>float</span></li></ul></li><li><label class='ee-shut'>dimensions: [7731, 7841]<input type='checkbox' class='ee-toggle'></label><ul><li><span class='ee-k'>0:</span><span class='ee-v'>7731</span></li><li><span class='ee-k'>1:</span><span class='ee-v'>7841</span></li></ul></li></ul></li><li><label class='ee-shut'>6: \"B7\", float, EPSG:32632, 7731x7841 px<input type='checkbox' class='ee-toggle'></label><ul><li><span class='ee-k'>id:</span><span class='ee-v'>B7</span></li><li><span class='ee-k'>crs:</span><span class='ee-v'>EPSG:32632</span></li><li><label class='ee-shut'>crs_transform: [30, 0, 500385, 0, -30, 5215515]<input type='checkbox' class='ee-toggle'></label><ul><li><span class='ee-k'>0:</span><span class='ee-v'>30</span></li><li><span class='ee-k'>1:</span><span class='ee-v'>0</span></li><li><span class='ee-k'>2:</span><span class='ee-v'>500385</span></li><li><span class='ee-k'>3:</span><span class='ee-v'>0</span></li><li><span class='ee-k'>4:</span><span class='ee-v'>-30</span></li><li><span class='ee-k'>5:</span><span class='ee-v'>5215515</span></li></ul></li><li><label class='ee-shut'>data_type: float<input type='checkbox' class='ee-toggle'></label><ul><li><span class='ee-k'>type:</span><span class='ee-v'>PixelType</span></li><li><span class='ee-k'>precision:</span><span class='ee-v'>float</span></li></ul></li><li><label class='ee-shut'>dimensions: [7731, 7841]<input type='checkbox' class='ee-toggle'></label><ul><li><span class='ee-k'>0:</span><span class='ee-v'>7731</span></li><li><span class='ee-k'>1:</span><span class='ee-v'>7841</span></li></ul></li></ul></li><li><label class='ee-shut'>7: \"B8\", float, EPSG:32632, 15461x15681 px<input type='checkbox' class='ee-toggle'></label><ul><li><span class='ee-k'>id:</span><span class='ee-v'>B8</span></li><li><span class='ee-k'>crs:</span><span class='ee-v'>EPSG:32632</span></li><li><label class='ee-shut'>crs_transform: [15, 0, 500392.5, 0, -15, 5215507.5]<input type='checkbox' class='ee-toggle'></label><ul><li><span class='ee-k'>0:</span><span class='ee-v'>15</span></li><li><span class='ee-k'>1:</span><span class='ee-v'>0</span></li><li><span class='ee-k'>2:</span><span class='ee-v'>500392.5</span></li><li><span class='ee-k'>3:</span><span class='ee-v'>0</span></li><li><span class='ee-k'>4:</span><span class='ee-v'>-15</span></li><li><span class='ee-k'>5:</span><span class='ee-v'>5215507.5</span></li></ul></li><li><label class='ee-shut'>data_type: float<input type='checkbox' class='ee-toggle'></label><ul><li><span class='ee-k'>type:</span><span class='ee-v'>PixelType</span></li><li><span class='ee-k'>precision:</span><span class='ee-v'>float</span></li></ul></li><li><label class='ee-shut'>dimensions: [15461, 15681]<input type='checkbox' class='ee-toggle'></label><ul><li><span class='ee-k'>0:</span><span class='ee-v'>15461</span></li><li><span class='ee-k'>1:</span><span class='ee-v'>15681</span></li></ul></li></ul></li><li><label class='ee-shut'>8: \"B9\", float, EPSG:32632, 7731x7841 px<input type='checkbox' class='ee-toggle'></label><ul><li><span class='ee-k'>id:</span><span class='ee-v'>B9</span></li><li><span class='ee-k'>crs:</span><span class='ee-v'>EPSG:32632</span></li><li><label class='ee-shut'>crs_transform: [30, 0, 500385, 0, -30, 5215515]<input type='checkbox' class='ee-toggle'></label><ul><li><span class='ee-k'>0:</span><span class='ee-v'>30</span></li><li><span class='ee-k'>1:</span><span class='ee-v'>0</span></li><li><span class='ee-k'>2:</span><span class='ee-v'>500385</span></li><li><span class='ee-k'>3:</span><span class='ee-v'>0</span></li><li><span class='ee-k'>4:</span><span class='ee-v'>-30</span></li><li><span class='ee-k'>5:</span><span class='ee-v'>5215515</span></li></ul></li><li><label class='ee-shut'>data_type: float<input type='checkbox' class='ee-toggle'></label><ul><li><span class='ee-k'>type:</span><span class='ee-v'>PixelType</span></li><li><span class='ee-k'>precision:</span><span class='ee-v'>float</span></li></ul></li><li><label class='ee-shut'>dimensions: [7731, 7841]<input type='checkbox' class='ee-toggle'></label><ul><li><span class='ee-k'>0:</span><span class='ee-v'>7731</span></li><li><span class='ee-k'>1:</span><span class='ee-v'>7841</span></li></ul></li></ul></li><li><label class='ee-shut'>9: \"B10\", float, EPSG:32632, 7731x7841 px<input type='checkbox' class='ee-toggle'></label><ul><li><span class='ee-k'>id:</span><span class='ee-v'>B10</span></li><li><span class='ee-k'>crs:</span><span class='ee-v'>EPSG:32632</span></li><li><label class='ee-shut'>crs_transform: [30, 0, 500385, 0, -30, 5215515]<input type='checkbox' class='ee-toggle'></label><ul><li><span class='ee-k'>0:</span><span class='ee-v'>30</span></li><li><span class='ee-k'>1:</span><span class='ee-v'>0</span></li><li><span class='ee-k'>2:</span><span class='ee-v'>500385</span></li><li><span class='ee-k'>3:</span><span class='ee-v'>0</span></li><li><span class='ee-k'>4:</span><span class='ee-v'>-30</span></li><li><span class='ee-k'>5:</span><span class='ee-v'>5215515</span></li></ul></li><li><label class='ee-shut'>data_type: float<input type='checkbox' class='ee-toggle'></label><ul><li><span class='ee-k'>type:</span><span class='ee-v'>PixelType</span></li><li><span class='ee-k'>precision:</span><span class='ee-v'>float</span></li></ul></li><li><label class='ee-shut'>dimensions: [7731, 7841]<input type='checkbox' class='ee-toggle'></label><ul><li><span class='ee-k'>0:</span><span class='ee-v'>7731</span></li><li><span class='ee-k'>1:</span><span class='ee-v'>7841</span></li></ul></li></ul></li><li><label class='ee-shut'>10: \"B11\", float, EPSG:32632, 7731x7841 px<input type='checkbox' class='ee-toggle'></label><ul><li><span class='ee-k'>id:</span><span class='ee-v'>B11</span></li><li><span class='ee-k'>crs:</span><span class='ee-v'>EPSG:32632</span></li><li><label class='ee-shut'>crs_transform: [30, 0, 500385, 0, -30, 5215515]<input type='checkbox' class='ee-toggle'></label><ul><li><span class='ee-k'>0:</span><span class='ee-v'>30</span></li><li><span class='ee-k'>1:</span><span class='ee-v'>0</span></li><li><span class='ee-k'>2:</span><span class='ee-v'>500385</span></li><li><span class='ee-k'>3:</span><span class='ee-v'>0</span></li><li><span class='ee-k'>4:</span><span class='ee-v'>-30</span></li><li><span class='ee-k'>5:</span><span class='ee-v'>5215515</span></li></ul></li><li><label class='ee-shut'>data_type: float<input type='checkbox' class='ee-toggle'></label><ul><li><span class='ee-k'>type:</span><span class='ee-v'>PixelType</span></li><li><span class='ee-k'>precision:</span><span class='ee-v'>float</span></li></ul></li><li><label class='ee-shut'>dimensions: [7731, 7841]<input type='checkbox' class='ee-toggle'></label><ul><li><span class='ee-k'>0:</span><span class='ee-v'>7731</span></li><li><span class='ee-k'>1:</span><span class='ee-v'>7841</span></li></ul></li></ul></li><li><label class='ee-shut'>11: \"QA_PIXEL\", unsigned int16, EPSG:32632, 7731x7841 px<input type='checkbox' class='ee-toggle'></label><ul><li><span class='ee-k'>id:</span><span class='ee-v'>QA_PIXEL</span></li><li><span class='ee-k'>crs:</span><span class='ee-v'>EPSG:32632</span></li><li><label class='ee-shut'>crs_transform: [30, 0, 500385, 0, -30, 5215515]<input type='checkbox' class='ee-toggle'></label><ul><li><span class='ee-k'>0:</span><span class='ee-v'>30</span></li><li><span class='ee-k'>1:</span><span class='ee-v'>0</span></li><li><span class='ee-k'>2:</span><span class='ee-v'>500385</span></li><li><span class='ee-k'>3:</span><span class='ee-v'>0</span></li><li><span class='ee-k'>4:</span><span class='ee-v'>-30</span></li><li><span class='ee-k'>5:</span><span class='ee-v'>5215515</span></li></ul></li><li><label class='ee-shut'>data_type: unsigned int16<input type='checkbox' class='ee-toggle'></label><ul><li><span class='ee-k'>type:</span><span class='ee-v'>PixelType</span></li><li><span class='ee-k'>max:</span><span class='ee-v'>65535</span></li><li><span class='ee-k'>min:</span><span class='ee-v'>0</span></li><li><span class='ee-k'>precision:</span><span class='ee-v'>int</span></li></ul></li><li><label class='ee-shut'>dimensions: [7731, 7841]<input type='checkbox' class='ee-toggle'></label><ul><li><span class='ee-k'>0:</span><span class='ee-v'>7731</span></li><li><span class='ee-k'>1:</span><span class='ee-v'>7841</span></li></ul></li></ul></li><li><label class='ee-shut'>12: \"QA_RADSAT\", unsigned int16, EPSG:32632, 7731x7841 px<input type='checkbox' class='ee-toggle'></label><ul><li><span class='ee-k'>id:</span><span class='ee-v'>QA_RADSAT</span></li><li><span class='ee-k'>crs:</span><span class='ee-v'>EPSG:32632</span></li><li><label class='ee-shut'>crs_transform: [30, 0, 500385, 0, -30, 5215515]<input type='checkbox' class='ee-toggle'></label><ul><li><span class='ee-k'>0:</span><span class='ee-v'>30</span></li><li><span class='ee-k'>1:</span><span class='ee-v'>0</span></li><li><span class='ee-k'>2:</span><span class='ee-v'>500385</span></li><li><span class='ee-k'>3:</span><span class='ee-v'>0</span></li><li><span class='ee-k'>4:</span><span class='ee-v'>-30</span></li><li><span class='ee-k'>5:</span><span class='ee-v'>5215515</span></li></ul></li><li><label class='ee-shut'>data_type: unsigned int16<input type='checkbox' class='ee-toggle'></label><ul><li><span class='ee-k'>type:</span><span class='ee-v'>PixelType</span></li><li><span class='ee-k'>max:</span><span class='ee-v'>65535</span></li><li><span class='ee-k'>min:</span><span class='ee-v'>0</span></li><li><span class='ee-k'>precision:</span><span class='ee-v'>int</span></li></ul></li><li><label class='ee-shut'>dimensions: [7731, 7841]<input type='checkbox' class='ee-toggle'></label><ul><li><span class='ee-k'>0:</span><span class='ee-v'>7731</span></li><li><span class='ee-k'>1:</span><span class='ee-v'>7841</span></li></ul></li></ul></li><li><label class='ee-shut'>13: \"SAA\", signed int16, EPSG:32632, 7731x7841 px<input type='checkbox' class='ee-toggle'></label><ul><li><span class='ee-k'>id:</span><span class='ee-v'>SAA</span></li><li><span class='ee-k'>crs:</span><span class='ee-v'>EPSG:32632</span></li><li><label class='ee-shut'>crs_transform: [30, 0, 500385, 0, -30, 5215515]<input type='checkbox' class='ee-toggle'></label><ul><li><span class='ee-k'>0:</span><span class='ee-v'>30</span></li><li><span class='ee-k'>1:</span><span class='ee-v'>0</span></li><li><span class='ee-k'>2:</span><span class='ee-v'>500385</span></li><li><span class='ee-k'>3:</span><span class='ee-v'>0</span></li><li><span class='ee-k'>4:</span><span class='ee-v'>-30</span></li><li><span class='ee-k'>5:</span><span class='ee-v'>5215515</span></li></ul></li><li><label class='ee-shut'>data_type: signed int16<input type='checkbox' class='ee-toggle'></label><ul><li><span class='ee-k'>type:</span><span class='ee-v'>PixelType</span></li><li><span class='ee-k'>max:</span><span class='ee-v'>32767</span></li><li><span class='ee-k'>min:</span><span class='ee-v'>-32768</span></li><li><span class='ee-k'>precision:</span><span class='ee-v'>int</span></li></ul></li><li><label class='ee-shut'>dimensions: [7731, 7841]<input type='checkbox' class='ee-toggle'></label><ul><li><span class='ee-k'>0:</span><span class='ee-v'>7731</span></li><li><span class='ee-k'>1:</span><span class='ee-v'>7841</span></li></ul></li></ul></li><li><label class='ee-shut'>14: \"SZA\", signed int16, EPSG:32632, 7731x7841 px<input type='checkbox' class='ee-toggle'></label><ul><li><span class='ee-k'>id:</span><span class='ee-v'>SZA</span></li><li><span class='ee-k'>crs:</span><span class='ee-v'>EPSG:32632</span></li><li><label class='ee-shut'>crs_transform: [30, 0, 500385, 0, -30, 5215515]<input type='checkbox' class='ee-toggle'></label><ul><li><span class='ee-k'>0:</span><span class='ee-v'>30</span></li><li><span class='ee-k'>1:</span><span class='ee-v'>0</span></li><li><span class='ee-k'>2:</span><span class='ee-v'>500385</span></li><li><span class='ee-k'>3:</span><span class='ee-v'>0</span></li><li><span class='ee-k'>4:</span><span class='ee-v'>-30</span></li><li><span class='ee-k'>5:</span><span class='ee-v'>5215515</span></li></ul></li><li><label class='ee-shut'>data_type: signed int16<input type='checkbox' class='ee-toggle'></label><ul><li><span class='ee-k'>type:</span><span class='ee-v'>PixelType</span></li><li><span class='ee-k'>max:</span><span class='ee-v'>32767</span></li><li><span class='ee-k'>min:</span><span class='ee-v'>-32768</span></li><li><span class='ee-k'>precision:</span><span class='ee-v'>int</span></li></ul></li><li><label class='ee-shut'>dimensions: [7731, 7841]<input type='checkbox' class='ee-toggle'></label><ul><li><span class='ee-k'>0:</span><span class='ee-v'>7731</span></li><li><span class='ee-k'>1:</span><span class='ee-v'>7841</span></li></ul></li></ul></li><li><label class='ee-shut'>15: \"VAA\", signed int16, EPSG:32632, 7731x7841 px<input type='checkbox' class='ee-toggle'></label><ul><li><span class='ee-k'>id:</span><span class='ee-v'>VAA</span></li><li><span class='ee-k'>crs:</span><span class='ee-v'>EPSG:32632</span></li><li><label class='ee-shut'>crs_transform: [30, 0, 500385, 0, -30, 5215515]<input type='checkbox' class='ee-toggle'></label><ul><li><span class='ee-k'>0:</span><span class='ee-v'>30</span></li><li><span class='ee-k'>1:</span><span class='ee-v'>0</span></li><li><span class='ee-k'>2:</span><span class='ee-v'>500385</span></li><li><span class='ee-k'>3:</span><span class='ee-v'>0</span></li><li><span class='ee-k'>4:</span><span class='ee-v'>-30</span></li><li><span class='ee-k'>5:</span><span class='ee-v'>5215515</span></li></ul></li><li><label class='ee-shut'>data_type: signed int16<input type='checkbox' class='ee-toggle'></label><ul><li><span class='ee-k'>type:</span><span class='ee-v'>PixelType</span></li><li><span class='ee-k'>max:</span><span class='ee-v'>32767</span></li><li><span class='ee-k'>min:</span><span class='ee-v'>-32768</span></li><li><span class='ee-k'>precision:</span><span class='ee-v'>int</span></li></ul></li><li><label class='ee-shut'>dimensions: [7731, 7841]<input type='checkbox' class='ee-toggle'></label><ul><li><span class='ee-k'>0:</span><span class='ee-v'>7731</span></li><li><span class='ee-k'>1:</span><span class='ee-v'>7841</span></li></ul></li></ul></li><li><label class='ee-shut'>16: \"VZA\", signed int16, EPSG:32632, 7731x7841 px<input type='checkbox' class='ee-toggle'></label><ul><li><span class='ee-k'>id:</span><span class='ee-v'>VZA</span></li><li><span class='ee-k'>crs:</span><span class='ee-v'>EPSG:32632</span></li><li><label class='ee-shut'>crs_transform: [30, 0, 500385, 0, -30, 5215515]<input type='checkbox' class='ee-toggle'></label><ul><li><span class='ee-k'>0:</span><span class='ee-v'>30</span></li><li><span class='ee-k'>1:</span><span class='ee-v'>0</span></li><li><span class='ee-k'>2:</span><span class='ee-v'>500385</span></li><li><span class='ee-k'>3:</span><span class='ee-v'>0</span></li><li><span class='ee-k'>4:</span><span class='ee-v'>-30</span></li><li><span class='ee-k'>5:</span><span class='ee-v'>5215515</span></li></ul></li><li><label class='ee-shut'>data_type: signed int16<input type='checkbox' class='ee-toggle'></label><ul><li><span class='ee-k'>type:</span><span class='ee-v'>PixelType</span></li><li><span class='ee-k'>max:</span><span class='ee-v'>32767</span></li><li><span class='ee-k'>min:</span><span class='ee-v'>-32768</span></li><li><span class='ee-k'>precision:</span><span class='ee-v'>int</span></li></ul></li><li><label class='ee-shut'>dimensions: [7731, 7841]<input type='checkbox' class='ee-toggle'></label><ul><li><span class='ee-k'>0:</span><span class='ee-v'>7731</span></li><li><span class='ee-k'>1:</span><span class='ee-v'>7841</span></li></ul></li></ul></li></ul></li><li><label class='ee-shut'>properties: Object (112 properties)<input type='checkbox' class='ee-toggle'></label><ul><li><span class='ee-k'>CLOUD_COVER:</span><span class='ee-v'>4.65</span></li><li><span class='ee-k'>CLOUD_COVER_LAND:</span><span class='ee-v'>4.65</span></li><li><span class='ee-k'>COLLECTION_CATEGORY:</span><span class='ee-v'>T1</span></li><li><span class='ee-k'>COLLECTION_NUMBER:</span><span class='ee-v'>2</span></li><li><span class='ee-k'>DATA_SOURCE_ELEVATION:</span><span class='ee-v'>GLS2000</span></li><li><span class='ee-k'>DATA_SOURCE_TIRS_STRAY_LIGHT_CORRECTION:</span><span class='ee-v'>TIRS</span></li><li><span class='ee-k'>DATE_ACQUIRED:</span><span class='ee-v'>2022-07-02</span></li><li><span class='ee-k'>DATE_PRODUCT_GENERATED:</span><span class='ee-v'>1657250716000</span></li><li><span class='ee-k'>DATUM:</span><span class='ee-v'>WGS84</span></li><li><span class='ee-k'>EARTH_SUN_DISTANCE:</span><span class='ee-v'>1.0167055</span></li><li><span class='ee-k'>ELLIPSOID:</span><span class='ee-v'>WGS84</span></li><li><span class='ee-k'>GEOMETRIC_RMSE_MODEL:</span><span class='ee-v'>5.442</span></li><li><span class='ee-k'>GEOMETRIC_RMSE_MODEL_X:</span><span class='ee-v'>3.882</span></li><li><span class='ee-k'>GEOMETRIC_RMSE_MODEL_Y:</span><span class='ee-v'>3.815</span></li><li><span class='ee-k'>GEOMETRIC_RMSE_VERIFY:</span><span class='ee-v'>3.202</span></li><li><span class='ee-k'>GRID_CELL_SIZE_PANCHROMATIC:</span><span class='ee-v'>15</span></li><li><span class='ee-k'>GRID_CELL_SIZE_REFLECTIVE:</span><span class='ee-v'>30</span></li><li><span class='ee-k'>GRID_CELL_SIZE_THERMAL:</span><span class='ee-v'>30</span></li><li><span class='ee-k'>GROUND_CONTROL_POINTS_MODEL:</span><span class='ee-v'>723</span></li><li><span class='ee-k'>GROUND_CONTROL_POINTS_VERIFY:</span><span class='ee-v'>198</span></li><li><span class='ee-k'>GROUND_CONTROL_POINTS_VERSION:</span><span class='ee-v'>5</span></li><li><span class='ee-k'>IMAGE_QUALITY_OLI:</span><span class='ee-v'>9</span></li><li><span class='ee-k'>IMAGE_QUALITY_TIRS:</span><span class='ee-v'>9</span></li><li><span class='ee-k'>K1_CONSTANT_BAND_10:</span><span class='ee-v'>774.8853</span></li><li><span class='ee-k'>K1_CONSTANT_BAND_11:</span><span class='ee-v'>480.8883</span></li><li><span class='ee-k'>K2_CONSTANT_BAND_10:</span><span class='ee-v'>1321.0789</span></li><li><span class='ee-k'>K2_CONSTANT_BAND_11:</span><span class='ee-v'>1201.1442</span></li><li><span class='ee-k'>LANDSAT_PRODUCT_ID:</span><span class='ee-v'>LC08_L1TP_193028_20220702_20220708_02_T1</span></li><li><span class='ee-k'>LANDSAT_SCENE_ID:</span><span class='ee-v'>LC81930282022183LGN00</span></li><li><span class='ee-k'>MAP_PROJECTION:</span><span class='ee-v'>UTM</span></li><li><span class='ee-k'>NADIR_OFFNADIR:</span><span class='ee-v'>NADIR</span></li><li><span class='ee-k'>ORIENTATION:</span><span class='ee-v'>NORTH_UP</span></li><li><span class='ee-k'>PANCHROMATIC_LINES:</span><span class='ee-v'>15681</span></li><li><span class='ee-k'>PANCHROMATIC_SAMPLES:</span><span class='ee-v'>15461</span></li><li><span class='ee-k'>PROCESSING_LEVEL:</span><span class='ee-v'>L1TP</span></li><li><span class='ee-k'>PROCESSING_SOFTWARE_VERSION:</span><span class='ee-v'>LPGS_16.1.0</span></li><li><span class='ee-k'>RADIANCE_ADD_BAND_1:</span><span class='ee-v'>-60.73269</span></li><li><span class='ee-k'>RADIANCE_ADD_BAND_10:</span><span class='ee-v'>0.1</span></li><li><span class='ee-k'>RADIANCE_ADD_BAND_11:</span><span class='ee-v'>0.1</span></li><li><span class='ee-k'>RADIANCE_ADD_BAND_2:</span><span class='ee-v'>-62.19102</span></li><li><span class='ee-k'>RADIANCE_ADD_BAND_3:</span><span class='ee-v'>-57.30849</span></li><li><span class='ee-k'>RADIANCE_ADD_BAND_4:</span><span class='ee-v'>-48.32575</span></li><li><span class='ee-k'>RADIANCE_ADD_BAND_5:</span><span class='ee-v'>-29.57295</span></li><li><span class='ee-k'>RADIANCE_ADD_BAND_6:</span><span class='ee-v'>-7.35452</span></li><li><span class='ee-k'>RADIANCE_ADD_BAND_7:</span><span class='ee-v'>-2.47887</span></li><li><span class='ee-k'>RADIANCE_ADD_BAND_8:</span><span class='ee-v'>-54.69145</span></li><li><span class='ee-k'>RADIANCE_ADD_BAND_9:</span><span class='ee-v'>-11.55778</span></li><li><span class='ee-k'>RADIANCE_MULT_BAND_1:</span><span class='ee-v'>0.012147</span></li><li><span class='ee-k'>RADIANCE_MULT_BAND_10:</span><span class='ee-v'>0.0003342</span></li><li><span class='ee-k'>RADIANCE_MULT_BAND_11:</span><span class='ee-v'>0.0003342</span></li><li><span class='ee-k'>RADIANCE_MULT_BAND_2:</span><span class='ee-v'>0.012438</span></li><li><span class='ee-k'>RADIANCE_MULT_BAND_3:</span><span class='ee-v'>0.011462</span></li><li><span class='ee-k'>RADIANCE_MULT_BAND_4:</span><span class='ee-v'>0.0096651</span></li><li><span class='ee-k'>RADIANCE_MULT_BAND_5:</span><span class='ee-v'>0.0059146</span></li><li><span class='ee-k'>RADIANCE_MULT_BAND_6:</span><span class='ee-v'>0.0014709</span></li><li><span class='ee-k'>RADIANCE_MULT_BAND_7:</span><span class='ee-v'>0.00049577</span></li><li><span class='ee-k'>RADIANCE_MULT_BAND_8:</span><span class='ee-v'>0.010938</span></li><li><span class='ee-k'>RADIANCE_MULT_BAND_9:</span><span class='ee-v'>0.0023116</span></li><li><span class='ee-k'>REFLECTANCE_ADD_BAND_1:</span><span class='ee-v'>-0.1</span></li><li><span class='ee-k'>REFLECTANCE_ADD_BAND_2:</span><span class='ee-v'>-0.1</span></li><li><span class='ee-k'>REFLECTANCE_ADD_BAND_3:</span><span class='ee-v'>-0.1</span></li><li><span class='ee-k'>REFLECTANCE_ADD_BAND_4:</span><span class='ee-v'>-0.1</span></li><li><span class='ee-k'>REFLECTANCE_ADD_BAND_5:</span><span class='ee-v'>-0.1</span></li><li><span class='ee-k'>REFLECTANCE_ADD_BAND_6:</span><span class='ee-v'>-0.1</span></li><li><span class='ee-k'>REFLECTANCE_ADD_BAND_7:</span><span class='ee-v'>-0.1</span></li><li><span class='ee-k'>REFLECTANCE_ADD_BAND_8:</span><span class='ee-v'>-0.1</span></li><li><span class='ee-k'>REFLECTANCE_ADD_BAND_9:</span><span class='ee-v'>-0.1</span></li><li><span class='ee-k'>REFLECTANCE_MULT_BAND_1:</span><span class='ee-v'>2e-05</span></li><li><span class='ee-k'>REFLECTANCE_MULT_BAND_2:</span><span class='ee-v'>2e-05</span></li><li><span class='ee-k'>REFLECTANCE_MULT_BAND_3:</span><span class='ee-v'>2e-05</span></li><li><span class='ee-k'>REFLECTANCE_MULT_BAND_4:</span><span class='ee-v'>2e-05</span></li><li><span class='ee-k'>REFLECTANCE_MULT_BAND_5:</span><span class='ee-v'>2e-05</span></li><li><span class='ee-k'>REFLECTANCE_MULT_BAND_6:</span><span class='ee-v'>2e-05</span></li><li><span class='ee-k'>REFLECTANCE_MULT_BAND_7:</span><span class='ee-v'>2e-05</span></li><li><span class='ee-k'>REFLECTANCE_MULT_BAND_8:</span><span class='ee-v'>2e-05</span></li><li><span class='ee-k'>REFLECTANCE_MULT_BAND_9:</span><span class='ee-v'>2e-05</span></li><li><span class='ee-k'>REFLECTIVE_LINES:</span><span class='ee-v'>7841</span></li><li><span class='ee-k'>REFLECTIVE_SAMPLES:</span><span class='ee-v'>7731</span></li><li><span class='ee-k'>REQUEST_ID:</span><span class='ee-v'>1550859_03524</span></li><li><span class='ee-k'>RESAMPLING_OPTION:</span><span class='ee-v'>CUBIC_CONVOLUTION</span></li><li><span class='ee-k'>ROLL_ANGLE:</span><span class='ee-v'>-0.001</span></li><li><span class='ee-k'>SATURATION_BAND_1:</span><span class='ee-v'>Y</span></li><li><span class='ee-k'>SATURATION_BAND_2:</span><span class='ee-v'>Y</span></li><li><span class='ee-k'>SATURATION_BAND_3:</span><span class='ee-v'>Y</span></li><li><span class='ee-k'>SATURATION_BAND_4:</span><span class='ee-v'>Y</span></li><li><span class='ee-k'>SATURATION_BAND_5:</span><span class='ee-v'>Y</span></li><li><span class='ee-k'>SATURATION_BAND_6:</span><span class='ee-v'>Y</span></li><li><span class='ee-k'>SATURATION_BAND_7:</span><span class='ee-v'>Y</span></li><li><span class='ee-k'>SATURATION_BAND_8:</span><span class='ee-v'>N</span></li><li><span class='ee-k'>SATURATION_BAND_9:</span><span class='ee-v'>N</span></li><li><span class='ee-k'>SCENE_CENTER_TIME:</span><span class='ee-v'>10:04:47.4893590Z</span></li><li><span class='ee-k'>SENSOR_ID:</span><span class='ee-v'>OLI_TIRS</span></li><li><span class='ee-k'>SPACECRAFT_ID:</span><span class='ee-v'>LANDSAT_8</span></li><li><span class='ee-k'>STATION_ID:</span><span class='ee-v'>LGN</span></li><li><span class='ee-k'>SUN_AZIMUTH:</span><span class='ee-v'>139.26847316</span></li><li><span class='ee-k'>SUN_ELEVATION:</span><span class='ee-v'>62.18451018</span></li><li><span class='ee-k'>TARGET_WRS_PATH:</span><span class='ee-v'>193</span></li><li><span class='ee-k'>TARGET_WRS_ROW:</span><span class='ee-v'>28</span></li><li><span class='ee-k'>THERMAL_LINES:</span><span class='ee-v'>7841</span></li><li><span class='ee-k'>THERMAL_SAMPLES:</span><span class='ee-v'>7731</span></li><li><span class='ee-k'>TIRS_SSM_MODEL:</span><span class='ee-v'>FINAL</span></li><li><span class='ee-k'>TIRS_SSM_POSITION_STATUS:</span><span class='ee-v'>ESTIMATED</span></li><li><span class='ee-k'>TRUNCATION_OLI:</span><span class='ee-v'>UPPER</span></li><li><span class='ee-k'>UTM_ZONE:</span><span class='ee-v'>32</span></li><li><span class='ee-k'>WRS_PATH:</span><span class='ee-v'>193</span></li><li><span class='ee-k'>WRS_ROW:</span><span class='ee-v'>28</span></li><li><span class='ee-k'>WRS_TYPE:</span><span class='ee-v'>2</span></li><li><span class='ee-k'>system:asset_size:</span><span class='ee-v'>1300790117</span></li><li><label class='ee-shut'>system:footprint: LinearRing (21 vertices)<input type='checkbox' class='ee-toggle'></label><ul><li><span class='ee-k'>type:</span><span class='ee-v'>LinearRing</span></li><li><label class='ee-shut'>coordinates: List (21 elements)<input type='checkbox' class='ee-toggle'></label><ul><li><label class='ee-shut'>0: [11.363905354854564, 44.95248721475615]<input type='checkbox' class='ee-toggle'></label><ul><li><span class='ee-k'>0:</span><span class='ee-v'>11.363905354854564</span></li><li><span class='ee-k'>1:</span><span class='ee-v'>44.95248721475615</span></li></ul></li><li><label class='ee-shut'>1: [11.364852921626639, 44.95374010992008]<input type='checkbox' class='ee-toggle'></label><ul><li><span class='ee-k'>0:</span><span class='ee-v'>11.364852921626639</span></li><li><span class='ee-k'>1:</span><span class='ee-v'>44.95374010992008</span></li></ul></li><li><label class='ee-shut'>2: [11.408051670705001, 45.066281281118044]<input type='checkbox' class='ee-toggle'></label><ul><li><span class='ee-k'>0:</span><span class='ee-v'>11.408051670705001</span></li><li><span class='ee-k'>1:</span><span class='ee-v'>45.066281281118044</span></li></ul></li><li><label class='ee-shut'>3: [11.50312813160788, 45.31254211162319]<input type='checkbox' class='ee-toggle'></label><ul><li><span class='ee-k'>0:</span><span class='ee-v'>11.50312813160788</span></li><li><span class='ee-k'>1:</span><span class='ee-v'>45.31254211162319</span></li></ul></li><li><label class='ee-shut'>4: [11.534824415545701, 45.394296966096185]<input type='checkbox' class='ee-toggle'></label><ul><li><span class='ee-k'>0:</span><span class='ee-v'>11.534824415545701</span></li><li><span class='ee-k'>1:</span><span class='ee-v'>45.394296966096185</span></li></ul></li><li><label class='ee-shut'>5: [11.579115226996674, 45.508342139589566]<input type='checkbox' class='ee-toggle'></label><ul><li><span class='ee-k'>0:</span><span class='ee-v'>11.579115226996674</span></li><li><span class='ee-k'>1:</span><span class='ee-v'>45.508342139589566</span></li></ul></li><li><label class='ee-shut'>6: [11.702109731299883, 45.82296130824305]<input type='checkbox' class='ee-toggle'></label><ul><li><span class='ee-k'>0:</span><span class='ee-v'>11.702109731299883</span></li><li><span class='ee-k'>1:</span><span class='ee-v'>45.82296130824305</span></li></ul></li><li><label class='ee-shut'>7: [11.757602581377315, 45.96430220831149]<input type='checkbox' class='ee-toggle'></label><ul><li><span class='ee-k'>0:</span><span class='ee-v'>11.757602581377315</span></li><li><span class='ee-k'>1:</span><span class='ee-v'>45.96430220831149</span></li></ul></li><li><label class='ee-shut'>8: [11.778899756325597, 46.01846540364143]<input type='checkbox' class='ee-toggle'></label><ul><li><span class='ee-k'>0:</span><span class='ee-v'>11.778899756325597</span></li><li><span class='ee-k'>1:</span><span class='ee-v'>46.01846540364143</span></li></ul></li><li><label class='ee-shut'>9: [11.958495154091503, 46.47324791217289]<input type='checkbox' class='ee-toggle'></label><ul><li><span class='ee-k'>0:</span><span class='ee-v'>11.958495154091503</span></li><li><span class='ee-k'>1:</span><span class='ee-v'>46.47324791217289</span></li></ul></li><li><label class='ee-shut'>10: [12.028437954110473, 46.648486206275024]<input type='checkbox' class='ee-toggle'></label><ul><li><span class='ee-k'>0:</span><span class='ee-v'>12.028437954110473</span></li><li><span class='ee-k'>1:</span><span class='ee-v'>46.648486206275024</span></li></ul></li><li><label class='ee-shut'>11: [12.030552331786748, 46.65817702765534]<input type='checkbox' class='ee-toggle'></label><ul><li><span class='ee-k'>0:</span><span class='ee-v'>12.030552331786748</span></li><li><span class='ee-k'>1:</span><span class='ee-v'>46.65817702765534</span></li></ul></li><li><label class='ee-shut'>12: [9.609828589000859, 47.09088652234504]<input type='checkbox' class='ee-toggle'></label><ul><li><span class='ee-k'>0:</span><span class='ee-v'>9.609828589000859</span></li><li><span class='ee-k'>1:</span><span class='ee-v'>47.09088652234504</span></li></ul></li><li><label class='ee-shut'>13: [9.570714695652466, 46.988832504903215]<input type='checkbox' class='ee-toggle'></label><ul><li><span class='ee-k'>0:</span><span class='ee-v'>9.570714695652466</span></li><li><span class='ee-k'>1:</span><span class='ee-v'>46.988832504903215</span></li></ul></li><li><label class='ee-shut'>14: [9.565843608396449, 46.975897409771974]<input type='checkbox' class='ee-toggle'></label><ul><li><span class='ee-k'>0:</span><span class='ee-v'>9.565843608396449</span></li><li><span class='ee-k'>1:</span><span class='ee-v'>46.975897409771974</span></li></ul></li><li><label class='ee-shut'>15: [9.00941984217884, 45.38377393122789]<input type='checkbox' class='ee-toggle'></label><ul><li><span class='ee-k'>0:</span><span class='ee-v'>9.00941984217884</span></li><li><span class='ee-k'>1:</span><span class='ee-v'>45.38377393122789</span></li></ul></li><li><label class='ee-shut'>16: [9.00941947087015, 45.38175088835398]<input type='checkbox' class='ee-toggle'></label><ul><li><span class='ee-k'>0:</span><span class='ee-v'>9.00941947087015</span></li><li><span class='ee-k'>1:</span><span class='ee-v'>45.38175088835398</span></li></ul></li><li><label class='ee-shut'>17: [9.02048584869135, 45.37979965352883]<input type='checkbox' class='ee-toggle'></label><ul><li><span class='ee-k'>0:</span><span class='ee-v'>9.02048584869135</span></li><li><span class='ee-k'>1:</span><span class='ee-v'>45.37979965352883</span></li></ul></li><li><label class='ee-shut'>18: [10.650112066313582, 45.08838108039191]<input type='checkbox' class='ee-toggle'></label><ul><li><span class='ee-k'>0:</span><span class='ee-v'>10.650112066313582</span></li><li><span class='ee-k'>1:</span><span class='ee-v'>45.08838108039191</span></li></ul></li><li><label class='ee-shut'>19: [11.342912893077308, 44.95652561661812]<input type='checkbox' class='ee-toggle'></label><ul><li><span class='ee-k'>0:</span><span class='ee-v'>11.342912893077308</span></li><li><span class='ee-k'>1:</span><span class='ee-v'>44.95652561661812</span></li></ul></li><li><label class='ee-shut'>20: [11.363905354854564, 44.95248721475615]<input type='checkbox' class='ee-toggle'></label><ul><li><span class='ee-k'>0:</span><span class='ee-v'>11.363905354854564</span></li><li><span class='ee-k'>1:</span><span class='ee-v'>44.95248721475615</span></li></ul></li></ul></li></ul></li><li><span class='ee-k'>system:index:</span><span class='ee-v'>LC08_193028_20220702</span></li><li><span class='ee-k'>system:time_end:</span><span class='ee-v'>1656756287489</span></li><li><span class='ee-k'>system:time_start:</span><span class='ee-v'>1656756287489</span></li></ul></li></ul></li><li><label class='ee-shut'>3: Image LANDSAT/LC08/C02/T1_TOA/LC08_193028_20220718 (17 bands)<input type='checkbox' class='ee-toggle'></label><ul><li><span class='ee-k'>type:</span><span class='ee-v'>Image</span></li><li><span class='ee-k'>id:</span><span class='ee-v'>LANDSAT/LC08/C02/T1_TOA/LC08_193028_20220718</span></li><li><span class='ee-k'>version:</span><span class='ee-v'>1673734775139334</span></li><li><label class='ee-shut'>bands: List (17 elements)<input type='checkbox' class='ee-toggle'></label><ul><li><label class='ee-shut'>0: \"B1\", float, EPSG:32632, 7741x7841 px<input type='checkbox' class='ee-toggle'></label><ul><li><span class='ee-k'>id:</span><span class='ee-v'>B1</span></li><li><span class='ee-k'>crs:</span><span class='ee-v'>EPSG:32632</span></li><li><label class='ee-shut'>crs_transform: [30, 0, 501885, 0, -30, 5215515]<input type='checkbox' class='ee-toggle'></label><ul><li><span class='ee-k'>0:</span><span class='ee-v'>30</span></li><li><span class='ee-k'>1:</span><span class='ee-v'>0</span></li><li><span class='ee-k'>2:</span><span class='ee-v'>501885</span></li><li><span class='ee-k'>3:</span><span class='ee-v'>0</span></li><li><span class='ee-k'>4:</span><span class='ee-v'>-30</span></li><li><span class='ee-k'>5:</span><span class='ee-v'>5215515</span></li></ul></li><li><label class='ee-shut'>data_type: float<input type='checkbox' class='ee-toggle'></label><ul><li><span class='ee-k'>type:</span><span class='ee-v'>PixelType</span></li><li><span class='ee-k'>precision:</span><span class='ee-v'>float</span></li></ul></li><li><label class='ee-shut'>dimensions: [7741, 7841]<input type='checkbox' class='ee-toggle'></label><ul><li><span class='ee-k'>0:</span><span class='ee-v'>7741</span></li><li><span class='ee-k'>1:</span><span class='ee-v'>7841</span></li></ul></li></ul></li><li><label class='ee-shut'>1: \"B2\", float, EPSG:32632, 7741x7841 px<input type='checkbox' class='ee-toggle'></label><ul><li><span class='ee-k'>id:</span><span class='ee-v'>B2</span></li><li><span class='ee-k'>crs:</span><span class='ee-v'>EPSG:32632</span></li><li><label class='ee-shut'>crs_transform: [30, 0, 501885, 0, -30, 5215515]<input type='checkbox' class='ee-toggle'></label><ul><li><span class='ee-k'>0:</span><span class='ee-v'>30</span></li><li><span class='ee-k'>1:</span><span class='ee-v'>0</span></li><li><span class='ee-k'>2:</span><span class='ee-v'>501885</span></li><li><span class='ee-k'>3:</span><span class='ee-v'>0</span></li><li><span class='ee-k'>4:</span><span class='ee-v'>-30</span></li><li><span class='ee-k'>5:</span><span class='ee-v'>5215515</span></li></ul></li><li><label class='ee-shut'>data_type: float<input type='checkbox' class='ee-toggle'></label><ul><li><span class='ee-k'>type:</span><span class='ee-v'>PixelType</span></li><li><span class='ee-k'>precision:</span><span class='ee-v'>float</span></li></ul></li><li><label class='ee-shut'>dimensions: [7741, 7841]<input type='checkbox' class='ee-toggle'></label><ul><li><span class='ee-k'>0:</span><span class='ee-v'>7741</span></li><li><span class='ee-k'>1:</span><span class='ee-v'>7841</span></li></ul></li></ul></li><li><label class='ee-shut'>2: \"B3\", float, EPSG:32632, 7741x7841 px<input type='checkbox' class='ee-toggle'></label><ul><li><span class='ee-k'>id:</span><span class='ee-v'>B3</span></li><li><span class='ee-k'>crs:</span><span class='ee-v'>EPSG:32632</span></li><li><label class='ee-shut'>crs_transform: [30, 0, 501885, 0, -30, 5215515]<input type='checkbox' class='ee-toggle'></label><ul><li><span class='ee-k'>0:</span><span class='ee-v'>30</span></li><li><span class='ee-k'>1:</span><span class='ee-v'>0</span></li><li><span class='ee-k'>2:</span><span class='ee-v'>501885</span></li><li><span class='ee-k'>3:</span><span class='ee-v'>0</span></li><li><span class='ee-k'>4:</span><span class='ee-v'>-30</span></li><li><span class='ee-k'>5:</span><span class='ee-v'>5215515</span></li></ul></li><li><label class='ee-shut'>data_type: float<input type='checkbox' class='ee-toggle'></label><ul><li><span class='ee-k'>type:</span><span class='ee-v'>PixelType</span></li><li><span class='ee-k'>precision:</span><span class='ee-v'>float</span></li></ul></li><li><label class='ee-shut'>dimensions: [7741, 7841]<input type='checkbox' class='ee-toggle'></label><ul><li><span class='ee-k'>0:</span><span class='ee-v'>7741</span></li><li><span class='ee-k'>1:</span><span class='ee-v'>7841</span></li></ul></li></ul></li><li><label class='ee-shut'>3: \"B4\", float, EPSG:32632, 7741x7841 px<input type='checkbox' class='ee-toggle'></label><ul><li><span class='ee-k'>id:</span><span class='ee-v'>B4</span></li><li><span class='ee-k'>crs:</span><span class='ee-v'>EPSG:32632</span></li><li><label class='ee-shut'>crs_transform: [30, 0, 501885, 0, -30, 5215515]<input type='checkbox' class='ee-toggle'></label><ul><li><span class='ee-k'>0:</span><span class='ee-v'>30</span></li><li><span class='ee-k'>1:</span><span class='ee-v'>0</span></li><li><span class='ee-k'>2:</span><span class='ee-v'>501885</span></li><li><span class='ee-k'>3:</span><span class='ee-v'>0</span></li><li><span class='ee-k'>4:</span><span class='ee-v'>-30</span></li><li><span class='ee-k'>5:</span><span class='ee-v'>5215515</span></li></ul></li><li><label class='ee-shut'>data_type: float<input type='checkbox' class='ee-toggle'></label><ul><li><span class='ee-k'>type:</span><span class='ee-v'>PixelType</span></li><li><span class='ee-k'>precision:</span><span class='ee-v'>float</span></li></ul></li><li><label class='ee-shut'>dimensions: [7741, 7841]<input type='checkbox' class='ee-toggle'></label><ul><li><span class='ee-k'>0:</span><span class='ee-v'>7741</span></li><li><span class='ee-k'>1:</span><span class='ee-v'>7841</span></li></ul></li></ul></li><li><label class='ee-shut'>4: \"B5\", float, EPSG:32632, 7741x7841 px<input type='checkbox' class='ee-toggle'></label><ul><li><span class='ee-k'>id:</span><span class='ee-v'>B5</span></li><li><span class='ee-k'>crs:</span><span class='ee-v'>EPSG:32632</span></li><li><label class='ee-shut'>crs_transform: [30, 0, 501885, 0, -30, 5215515]<input type='checkbox' class='ee-toggle'></label><ul><li><span class='ee-k'>0:</span><span class='ee-v'>30</span></li><li><span class='ee-k'>1:</span><span class='ee-v'>0</span></li><li><span class='ee-k'>2:</span><span class='ee-v'>501885</span></li><li><span class='ee-k'>3:</span><span class='ee-v'>0</span></li><li><span class='ee-k'>4:</span><span class='ee-v'>-30</span></li><li><span class='ee-k'>5:</span><span class='ee-v'>5215515</span></li></ul></li><li><label class='ee-shut'>data_type: float<input type='checkbox' class='ee-toggle'></label><ul><li><span class='ee-k'>type:</span><span class='ee-v'>PixelType</span></li><li><span class='ee-k'>precision:</span><span class='ee-v'>float</span></li></ul></li><li><label class='ee-shut'>dimensions: [7741, 7841]<input type='checkbox' class='ee-toggle'></label><ul><li><span class='ee-k'>0:</span><span class='ee-v'>7741</span></li><li><span class='ee-k'>1:</span><span class='ee-v'>7841</span></li></ul></li></ul></li><li><label class='ee-shut'>5: \"B6\", float, EPSG:32632, 7741x7841 px<input type='checkbox' class='ee-toggle'></label><ul><li><span class='ee-k'>id:</span><span class='ee-v'>B6</span></li><li><span class='ee-k'>crs:</span><span class='ee-v'>EPSG:32632</span></li><li><label class='ee-shut'>crs_transform: [30, 0, 501885, 0, -30, 5215515]<input type='checkbox' class='ee-toggle'></label><ul><li><span class='ee-k'>0:</span><span class='ee-v'>30</span></li><li><span class='ee-k'>1:</span><span class='ee-v'>0</span></li><li><span class='ee-k'>2:</span><span class='ee-v'>501885</span></li><li><span class='ee-k'>3:</span><span class='ee-v'>0</span></li><li><span class='ee-k'>4:</span><span class='ee-v'>-30</span></li><li><span class='ee-k'>5:</span><span class='ee-v'>5215515</span></li></ul></li><li><label class='ee-shut'>data_type: float<input type='checkbox' class='ee-toggle'></label><ul><li><span class='ee-k'>type:</span><span class='ee-v'>PixelType</span></li><li><span class='ee-k'>precision:</span><span class='ee-v'>float</span></li></ul></li><li><label class='ee-shut'>dimensions: [7741, 7841]<input type='checkbox' class='ee-toggle'></label><ul><li><span class='ee-k'>0:</span><span class='ee-v'>7741</span></li><li><span class='ee-k'>1:</span><span class='ee-v'>7841</span></li></ul></li></ul></li><li><label class='ee-shut'>6: \"B7\", float, EPSG:32632, 7741x7841 px<input type='checkbox' class='ee-toggle'></label><ul><li><span class='ee-k'>id:</span><span class='ee-v'>B7</span></li><li><span class='ee-k'>crs:</span><span class='ee-v'>EPSG:32632</span></li><li><label class='ee-shut'>crs_transform: [30, 0, 501885, 0, -30, 5215515]<input type='checkbox' class='ee-toggle'></label><ul><li><span class='ee-k'>0:</span><span class='ee-v'>30</span></li><li><span class='ee-k'>1:</span><span class='ee-v'>0</span></li><li><span class='ee-k'>2:</span><span class='ee-v'>501885</span></li><li><span class='ee-k'>3:</span><span class='ee-v'>0</span></li><li><span class='ee-k'>4:</span><span class='ee-v'>-30</span></li><li><span class='ee-k'>5:</span><span class='ee-v'>5215515</span></li></ul></li><li><label class='ee-shut'>data_type: float<input type='checkbox' class='ee-toggle'></label><ul><li><span class='ee-k'>type:</span><span class='ee-v'>PixelType</span></li><li><span class='ee-k'>precision:</span><span class='ee-v'>float</span></li></ul></li><li><label class='ee-shut'>dimensions: [7741, 7841]<input type='checkbox' class='ee-toggle'></label><ul><li><span class='ee-k'>0:</span><span class='ee-v'>7741</span></li><li><span class='ee-k'>1:</span><span class='ee-v'>7841</span></li></ul></li></ul></li><li><label class='ee-shut'>7: \"B8\", float, EPSG:32632, 15481x15681 px<input type='checkbox' class='ee-toggle'></label><ul><li><span class='ee-k'>id:</span><span class='ee-v'>B8</span></li><li><span class='ee-k'>crs:</span><span class='ee-v'>EPSG:32632</span></li><li><label class='ee-shut'>crs_transform: [15, 0, 501892.5, 0, -15, 5215507.5]<input type='checkbox' class='ee-toggle'></label><ul><li><span class='ee-k'>0:</span><span class='ee-v'>15</span></li><li><span class='ee-k'>1:</span><span class='ee-v'>0</span></li><li><span class='ee-k'>2:</span><span class='ee-v'>501892.5</span></li><li><span class='ee-k'>3:</span><span class='ee-v'>0</span></li><li><span class='ee-k'>4:</span><span class='ee-v'>-15</span></li><li><span class='ee-k'>5:</span><span class='ee-v'>5215507.5</span></li></ul></li><li><label class='ee-shut'>data_type: float<input type='checkbox' class='ee-toggle'></label><ul><li><span class='ee-k'>type:</span><span class='ee-v'>PixelType</span></li><li><span class='ee-k'>precision:</span><span class='ee-v'>float</span></li></ul></li><li><label class='ee-shut'>dimensions: [15481, 15681]<input type='checkbox' class='ee-toggle'></label><ul><li><span class='ee-k'>0:</span><span class='ee-v'>15481</span></li><li><span class='ee-k'>1:</span><span class='ee-v'>15681</span></li></ul></li></ul></li><li><label class='ee-shut'>8: \"B9\", float, EPSG:32632, 7741x7841 px<input type='checkbox' class='ee-toggle'></label><ul><li><span class='ee-k'>id:</span><span class='ee-v'>B9</span></li><li><span class='ee-k'>crs:</span><span class='ee-v'>EPSG:32632</span></li><li><label class='ee-shut'>crs_transform: [30, 0, 501885, 0, -30, 5215515]<input type='checkbox' class='ee-toggle'></label><ul><li><span class='ee-k'>0:</span><span class='ee-v'>30</span></li><li><span class='ee-k'>1:</span><span class='ee-v'>0</span></li><li><span class='ee-k'>2:</span><span class='ee-v'>501885</span></li><li><span class='ee-k'>3:</span><span class='ee-v'>0</span></li><li><span class='ee-k'>4:</span><span class='ee-v'>-30</span></li><li><span class='ee-k'>5:</span><span class='ee-v'>5215515</span></li></ul></li><li><label class='ee-shut'>data_type: float<input type='checkbox' class='ee-toggle'></label><ul><li><span class='ee-k'>type:</span><span class='ee-v'>PixelType</span></li><li><span class='ee-k'>precision:</span><span class='ee-v'>float</span></li></ul></li><li><label class='ee-shut'>dimensions: [7741, 7841]<input type='checkbox' class='ee-toggle'></label><ul><li><span class='ee-k'>0:</span><span class='ee-v'>7741</span></li><li><span class='ee-k'>1:</span><span class='ee-v'>7841</span></li></ul></li></ul></li><li><label class='ee-shut'>9: \"B10\", float, EPSG:32632, 7741x7841 px<input type='checkbox' class='ee-toggle'></label><ul><li><span class='ee-k'>id:</span><span class='ee-v'>B10</span></li><li><span class='ee-k'>crs:</span><span class='ee-v'>EPSG:32632</span></li><li><label class='ee-shut'>crs_transform: [30, 0, 501885, 0, -30, 5215515]<input type='checkbox' class='ee-toggle'></label><ul><li><span class='ee-k'>0:</span><span class='ee-v'>30</span></li><li><span class='ee-k'>1:</span><span class='ee-v'>0</span></li><li><span class='ee-k'>2:</span><span class='ee-v'>501885</span></li><li><span class='ee-k'>3:</span><span class='ee-v'>0</span></li><li><span class='ee-k'>4:</span><span class='ee-v'>-30</span></li><li><span class='ee-k'>5:</span><span class='ee-v'>5215515</span></li></ul></li><li><label class='ee-shut'>data_type: float<input type='checkbox' class='ee-toggle'></label><ul><li><span class='ee-k'>type:</span><span class='ee-v'>PixelType</span></li><li><span class='ee-k'>precision:</span><span class='ee-v'>float</span></li></ul></li><li><label class='ee-shut'>dimensions: [7741, 7841]<input type='checkbox' class='ee-toggle'></label><ul><li><span class='ee-k'>0:</span><span class='ee-v'>7741</span></li><li><span class='ee-k'>1:</span><span class='ee-v'>7841</span></li></ul></li></ul></li><li><label class='ee-shut'>10: \"B11\", float, EPSG:32632, 7741x7841 px<input type='checkbox' class='ee-toggle'></label><ul><li><span class='ee-k'>id:</span><span class='ee-v'>B11</span></li><li><span class='ee-k'>crs:</span><span class='ee-v'>EPSG:32632</span></li><li><label class='ee-shut'>crs_transform: [30, 0, 501885, 0, -30, 5215515]<input type='checkbox' class='ee-toggle'></label><ul><li><span class='ee-k'>0:</span><span class='ee-v'>30</span></li><li><span class='ee-k'>1:</span><span class='ee-v'>0</span></li><li><span class='ee-k'>2:</span><span class='ee-v'>501885</span></li><li><span class='ee-k'>3:</span><span class='ee-v'>0</span></li><li><span class='ee-k'>4:</span><span class='ee-v'>-30</span></li><li><span class='ee-k'>5:</span><span class='ee-v'>5215515</span></li></ul></li><li><label class='ee-shut'>data_type: float<input type='checkbox' class='ee-toggle'></label><ul><li><span class='ee-k'>type:</span><span class='ee-v'>PixelType</span></li><li><span class='ee-k'>precision:</span><span class='ee-v'>float</span></li></ul></li><li><label class='ee-shut'>dimensions: [7741, 7841]<input type='checkbox' class='ee-toggle'></label><ul><li><span class='ee-k'>0:</span><span class='ee-v'>7741</span></li><li><span class='ee-k'>1:</span><span class='ee-v'>7841</span></li></ul></li></ul></li><li><label class='ee-shut'>11: \"QA_PIXEL\", unsigned int16, EPSG:32632, 7741x7841 px<input type='checkbox' class='ee-toggle'></label><ul><li><span class='ee-k'>id:</span><span class='ee-v'>QA_PIXEL</span></li><li><span class='ee-k'>crs:</span><span class='ee-v'>EPSG:32632</span></li><li><label class='ee-shut'>crs_transform: [30, 0, 501885, 0, -30, 5215515]<input type='checkbox' class='ee-toggle'></label><ul><li><span class='ee-k'>0:</span><span class='ee-v'>30</span></li><li><span class='ee-k'>1:</span><span class='ee-v'>0</span></li><li><span class='ee-k'>2:</span><span class='ee-v'>501885</span></li><li><span class='ee-k'>3:</span><span class='ee-v'>0</span></li><li><span class='ee-k'>4:</span><span class='ee-v'>-30</span></li><li><span class='ee-k'>5:</span><span class='ee-v'>5215515</span></li></ul></li><li><label class='ee-shut'>data_type: unsigned int16<input type='checkbox' class='ee-toggle'></label><ul><li><span class='ee-k'>type:</span><span class='ee-v'>PixelType</span></li><li><span class='ee-k'>max:</span><span class='ee-v'>65535</span></li><li><span class='ee-k'>min:</span><span class='ee-v'>0</span></li><li><span class='ee-k'>precision:</span><span class='ee-v'>int</span></li></ul></li><li><label class='ee-shut'>dimensions: [7741, 7841]<input type='checkbox' class='ee-toggle'></label><ul><li><span class='ee-k'>0:</span><span class='ee-v'>7741</span></li><li><span class='ee-k'>1:</span><span class='ee-v'>7841</span></li></ul></li></ul></li><li><label class='ee-shut'>12: \"QA_RADSAT\", unsigned int16, EPSG:32632, 7741x7841 px<input type='checkbox' class='ee-toggle'></label><ul><li><span class='ee-k'>id:</span><span class='ee-v'>QA_RADSAT</span></li><li><span class='ee-k'>crs:</span><span class='ee-v'>EPSG:32632</span></li><li><label class='ee-shut'>crs_transform: [30, 0, 501885, 0, -30, 5215515]<input type='checkbox' class='ee-toggle'></label><ul><li><span class='ee-k'>0:</span><span class='ee-v'>30</span></li><li><span class='ee-k'>1:</span><span class='ee-v'>0</span></li><li><span class='ee-k'>2:</span><span class='ee-v'>501885</span></li><li><span class='ee-k'>3:</span><span class='ee-v'>0</span></li><li><span class='ee-k'>4:</span><span class='ee-v'>-30</span></li><li><span class='ee-k'>5:</span><span class='ee-v'>5215515</span></li></ul></li><li><label class='ee-shut'>data_type: unsigned int16<input type='checkbox' class='ee-toggle'></label><ul><li><span class='ee-k'>type:</span><span class='ee-v'>PixelType</span></li><li><span class='ee-k'>max:</span><span class='ee-v'>65535</span></li><li><span class='ee-k'>min:</span><span class='ee-v'>0</span></li><li><span class='ee-k'>precision:</span><span class='ee-v'>int</span></li></ul></li><li><label class='ee-shut'>dimensions: [7741, 7841]<input type='checkbox' class='ee-toggle'></label><ul><li><span class='ee-k'>0:</span><span class='ee-v'>7741</span></li><li><span class='ee-k'>1:</span><span class='ee-v'>7841</span></li></ul></li></ul></li><li><label class='ee-shut'>13: \"SAA\", signed int16, EPSG:32632, 7741x7841 px<input type='checkbox' class='ee-toggle'></label><ul><li><span class='ee-k'>id:</span><span class='ee-v'>SAA</span></li><li><span class='ee-k'>crs:</span><span class='ee-v'>EPSG:32632</span></li><li><label class='ee-shut'>crs_transform: [30, 0, 501885, 0, -30, 5215515]<input type='checkbox' class='ee-toggle'></label><ul><li><span class='ee-k'>0:</span><span class='ee-v'>30</span></li><li><span class='ee-k'>1:</span><span class='ee-v'>0</span></li><li><span class='ee-k'>2:</span><span class='ee-v'>501885</span></li><li><span class='ee-k'>3:</span><span class='ee-v'>0</span></li><li><span class='ee-k'>4:</span><span class='ee-v'>-30</span></li><li><span class='ee-k'>5:</span><span class='ee-v'>5215515</span></li></ul></li><li><label class='ee-shut'>data_type: signed int16<input type='checkbox' class='ee-toggle'></label><ul><li><span class='ee-k'>type:</span><span class='ee-v'>PixelType</span></li><li><span class='ee-k'>max:</span><span class='ee-v'>32767</span></li><li><span class='ee-k'>min:</span><span class='ee-v'>-32768</span></li><li><span class='ee-k'>precision:</span><span class='ee-v'>int</span></li></ul></li><li><label class='ee-shut'>dimensions: [7741, 7841]<input type='checkbox' class='ee-toggle'></label><ul><li><span class='ee-k'>0:</span><span class='ee-v'>7741</span></li><li><span class='ee-k'>1:</span><span class='ee-v'>7841</span></li></ul></li></ul></li><li><label class='ee-shut'>14: \"SZA\", signed int16, EPSG:32632, 7741x7841 px<input type='checkbox' class='ee-toggle'></label><ul><li><span class='ee-k'>id:</span><span class='ee-v'>SZA</span></li><li><span class='ee-k'>crs:</span><span class='ee-v'>EPSG:32632</span></li><li><label class='ee-shut'>crs_transform: [30, 0, 501885, 0, -30, 5215515]<input type='checkbox' class='ee-toggle'></label><ul><li><span class='ee-k'>0:</span><span class='ee-v'>30</span></li><li><span class='ee-k'>1:</span><span class='ee-v'>0</span></li><li><span class='ee-k'>2:</span><span class='ee-v'>501885</span></li><li><span class='ee-k'>3:</span><span class='ee-v'>0</span></li><li><span class='ee-k'>4:</span><span class='ee-v'>-30</span></li><li><span class='ee-k'>5:</span><span class='ee-v'>5215515</span></li></ul></li><li><label class='ee-shut'>data_type: signed int16<input type='checkbox' class='ee-toggle'></label><ul><li><span class='ee-k'>type:</span><span class='ee-v'>PixelType</span></li><li><span class='ee-k'>max:</span><span class='ee-v'>32767</span></li><li><span class='ee-k'>min:</span><span class='ee-v'>-32768</span></li><li><span class='ee-k'>precision:</span><span class='ee-v'>int</span></li></ul></li><li><label class='ee-shut'>dimensions: [7741, 7841]<input type='checkbox' class='ee-toggle'></label><ul><li><span class='ee-k'>0:</span><span class='ee-v'>7741</span></li><li><span class='ee-k'>1:</span><span class='ee-v'>7841</span></li></ul></li></ul></li><li><label class='ee-shut'>15: \"VAA\", signed int16, EPSG:32632, 7741x7841 px<input type='checkbox' class='ee-toggle'></label><ul><li><span class='ee-k'>id:</span><span class='ee-v'>VAA</span></li><li><span class='ee-k'>crs:</span><span class='ee-v'>EPSG:32632</span></li><li><label class='ee-shut'>crs_transform: [30, 0, 501885, 0, -30, 5215515]<input type='checkbox' class='ee-toggle'></label><ul><li><span class='ee-k'>0:</span><span class='ee-v'>30</span></li><li><span class='ee-k'>1:</span><span class='ee-v'>0</span></li><li><span class='ee-k'>2:</span><span class='ee-v'>501885</span></li><li><span class='ee-k'>3:</span><span class='ee-v'>0</span></li><li><span class='ee-k'>4:</span><span class='ee-v'>-30</span></li><li><span class='ee-k'>5:</span><span class='ee-v'>5215515</span></li></ul></li><li><label class='ee-shut'>data_type: signed int16<input type='checkbox' class='ee-toggle'></label><ul><li><span class='ee-k'>type:</span><span class='ee-v'>PixelType</span></li><li><span class='ee-k'>max:</span><span class='ee-v'>32767</span></li><li><span class='ee-k'>min:</span><span class='ee-v'>-32768</span></li><li><span class='ee-k'>precision:</span><span class='ee-v'>int</span></li></ul></li><li><label class='ee-shut'>dimensions: [7741, 7841]<input type='checkbox' class='ee-toggle'></label><ul><li><span class='ee-k'>0:</span><span class='ee-v'>7741</span></li><li><span class='ee-k'>1:</span><span class='ee-v'>7841</span></li></ul></li></ul></li><li><label class='ee-shut'>16: \"VZA\", signed int16, EPSG:32632, 7741x7841 px<input type='checkbox' class='ee-toggle'></label><ul><li><span class='ee-k'>id:</span><span class='ee-v'>VZA</span></li><li><span class='ee-k'>crs:</span><span class='ee-v'>EPSG:32632</span></li><li><label class='ee-shut'>crs_transform: [30, 0, 501885, 0, -30, 5215515]<input type='checkbox' class='ee-toggle'></label><ul><li><span class='ee-k'>0:</span><span class='ee-v'>30</span></li><li><span class='ee-k'>1:</span><span class='ee-v'>0</span></li><li><span class='ee-k'>2:</span><span class='ee-v'>501885</span></li><li><span class='ee-k'>3:</span><span class='ee-v'>0</span></li><li><span class='ee-k'>4:</span><span class='ee-v'>-30</span></li><li><span class='ee-k'>5:</span><span class='ee-v'>5215515</span></li></ul></li><li><label class='ee-shut'>data_type: signed int16<input type='checkbox' class='ee-toggle'></label><ul><li><span class='ee-k'>type:</span><span class='ee-v'>PixelType</span></li><li><span class='ee-k'>max:</span><span class='ee-v'>32767</span></li><li><span class='ee-k'>min:</span><span class='ee-v'>-32768</span></li><li><span class='ee-k'>precision:</span><span class='ee-v'>int</span></li></ul></li><li><label class='ee-shut'>dimensions: [7741, 7841]<input type='checkbox' class='ee-toggle'></label><ul><li><span class='ee-k'>0:</span><span class='ee-v'>7741</span></li><li><span class='ee-k'>1:</span><span class='ee-v'>7841</span></li></ul></li></ul></li></ul></li><li><label class='ee-shut'>properties: Object (112 properties)<input type='checkbox' class='ee-toggle'></label><ul><li><span class='ee-k'>CLOUD_COVER:</span><span class='ee-v'>8.99</span></li><li><span class='ee-k'>CLOUD_COVER_LAND:</span><span class='ee-v'>8.99</span></li><li><span class='ee-k'>COLLECTION_CATEGORY:</span><span class='ee-v'>T1</span></li><li><span class='ee-k'>COLLECTION_NUMBER:</span><span class='ee-v'>2</span></li><li><span class='ee-k'>DATA_SOURCE_ELEVATION:</span><span class='ee-v'>GLS2000</span></li><li><span class='ee-k'>DATA_SOURCE_TIRS_STRAY_LIGHT_CORRECTION:</span><span class='ee-v'>TIRS</span></li><li><span class='ee-k'>DATE_ACQUIRED:</span><span class='ee-v'>2022-07-18</span></li><li><span class='ee-k'>DATE_PRODUCT_GENERATED:</span><span class='ee-v'>1658821058000</span></li><li><span class='ee-k'>DATUM:</span><span class='ee-v'>WGS84</span></li><li><span class='ee-k'>EARTH_SUN_DISTANCE:</span><span class='ee-v'>1.0162867</span></li><li><span class='ee-k'>ELLIPSOID:</span><span class='ee-v'>WGS84</span></li><li><span class='ee-k'>GEOMETRIC_RMSE_MODEL:</span><span class='ee-v'>5.231</span></li><li><span class='ee-k'>GEOMETRIC_RMSE_MODEL_X:</span><span class='ee-v'>3.646</span></li><li><span class='ee-k'>GEOMETRIC_RMSE_MODEL_Y:</span><span class='ee-v'>3.75</span></li><li><span class='ee-k'>GEOMETRIC_RMSE_VERIFY:</span><span class='ee-v'>3.135</span></li><li><span class='ee-k'>GRID_CELL_SIZE_PANCHROMATIC:</span><span class='ee-v'>15</span></li><li><span class='ee-k'>GRID_CELL_SIZE_REFLECTIVE:</span><span class='ee-v'>30</span></li><li><span class='ee-k'>GRID_CELL_SIZE_THERMAL:</span><span class='ee-v'>30</span></li><li><span class='ee-k'>GROUND_CONTROL_POINTS_MODEL:</span><span class='ee-v'>675</span></li><li><span class='ee-k'>GROUND_CONTROL_POINTS_VERIFY:</span><span class='ee-v'>176</span></li><li><span class='ee-k'>GROUND_CONTROL_POINTS_VERSION:</span><span class='ee-v'>5</span></li><li><span class='ee-k'>IMAGE_QUALITY_OLI:</span><span class='ee-v'>9</span></li><li><span class='ee-k'>IMAGE_QUALITY_TIRS:</span><span class='ee-v'>9</span></li><li><span class='ee-k'>K1_CONSTANT_BAND_10:</span><span class='ee-v'>774.8853</span></li><li><span class='ee-k'>K1_CONSTANT_BAND_11:</span><span class='ee-v'>480.8883</span></li><li><span class='ee-k'>K2_CONSTANT_BAND_10:</span><span class='ee-v'>1321.0789</span></li><li><span class='ee-k'>K2_CONSTANT_BAND_11:</span><span class='ee-v'>1201.1442</span></li><li><span class='ee-k'>LANDSAT_PRODUCT_ID:</span><span class='ee-v'>LC08_L1TP_193028_20220718_20220726_02_T1</span></li><li><span class='ee-k'>LANDSAT_SCENE_ID:</span><span class='ee-v'>LC81930282022199LGN00</span></li><li><span class='ee-k'>MAP_PROJECTION:</span><span class='ee-v'>UTM</span></li><li><span class='ee-k'>NADIR_OFFNADIR:</span><span class='ee-v'>NADIR</span></li><li><span class='ee-k'>ORIENTATION:</span><span class='ee-v'>NORTH_UP</span></li><li><span class='ee-k'>PANCHROMATIC_LINES:</span><span class='ee-v'>15681</span></li><li><span class='ee-k'>PANCHROMATIC_SAMPLES:</span><span class='ee-v'>15481</span></li><li><span class='ee-k'>PROCESSING_LEVEL:</span><span class='ee-v'>L1TP</span></li><li><span class='ee-k'>PROCESSING_SOFTWARE_VERSION:</span><span class='ee-v'>LPGS_16.1.0</span></li><li><span class='ee-k'>RADIANCE_ADD_BAND_1:</span><span class='ee-v'>-60.78275</span></li><li><span class='ee-k'>RADIANCE_ADD_BAND_10:</span><span class='ee-v'>0.1</span></li><li><span class='ee-k'>RADIANCE_ADD_BAND_11:</span><span class='ee-v'>0.1</span></li><li><span class='ee-k'>RADIANCE_ADD_BAND_2:</span><span class='ee-v'>-62.24228</span></li><li><span class='ee-k'>RADIANCE_ADD_BAND_3:</span><span class='ee-v'>-57.35573</span></li><li><span class='ee-k'>RADIANCE_ADD_BAND_4:</span><span class='ee-v'>-48.36558</span></li><li><span class='ee-k'>RADIANCE_ADD_BAND_5:</span><span class='ee-v'>-29.59732</span></li><li><span class='ee-k'>RADIANCE_ADD_BAND_6:</span><span class='ee-v'>-7.36059</span></li><li><span class='ee-k'>RADIANCE_ADD_BAND_7:</span><span class='ee-v'>-2.48091</span></li><li><span class='ee-k'>RADIANCE_ADD_BAND_8:</span><span class='ee-v'>-54.73653</span></li><li><span class='ee-k'>RADIANCE_ADD_BAND_9:</span><span class='ee-v'>-11.56731</span></li><li><span class='ee-k'>RADIANCE_MULT_BAND_1:</span><span class='ee-v'>0.012157</span></li><li><span class='ee-k'>RADIANCE_MULT_BAND_10:</span><span class='ee-v'>0.0003342</span></li><li><span class='ee-k'>RADIANCE_MULT_BAND_11:</span><span class='ee-v'>0.0003342</span></li><li><span class='ee-k'>RADIANCE_MULT_BAND_2:</span><span class='ee-v'>0.012448</span></li><li><span class='ee-k'>RADIANCE_MULT_BAND_3:</span><span class='ee-v'>0.011471</span></li><li><span class='ee-k'>RADIANCE_MULT_BAND_4:</span><span class='ee-v'>0.0096731</span></li><li><span class='ee-k'>RADIANCE_MULT_BAND_5:</span><span class='ee-v'>0.0059195</span></li><li><span class='ee-k'>RADIANCE_MULT_BAND_6:</span><span class='ee-v'>0.0014721</span></li><li><span class='ee-k'>RADIANCE_MULT_BAND_7:</span><span class='ee-v'>0.00049618</span></li><li><span class='ee-k'>RADIANCE_MULT_BAND_8:</span><span class='ee-v'>0.010947</span></li><li><span class='ee-k'>RADIANCE_MULT_BAND_9:</span><span class='ee-v'>0.0023135</span></li><li><span class='ee-k'>REFLECTANCE_ADD_BAND_1:</span><span class='ee-v'>-0.1</span></li><li><span class='ee-k'>REFLECTANCE_ADD_BAND_2:</span><span class='ee-v'>-0.1</span></li><li><span class='ee-k'>REFLECTANCE_ADD_BAND_3:</span><span class='ee-v'>-0.1</span></li><li><span class='ee-k'>REFLECTANCE_ADD_BAND_4:</span><span class='ee-v'>-0.1</span></li><li><span class='ee-k'>REFLECTANCE_ADD_BAND_5:</span><span class='ee-v'>-0.1</span></li><li><span class='ee-k'>REFLECTANCE_ADD_BAND_6:</span><span class='ee-v'>-0.1</span></li><li><span class='ee-k'>REFLECTANCE_ADD_BAND_7:</span><span class='ee-v'>-0.1</span></li><li><span class='ee-k'>REFLECTANCE_ADD_BAND_8:</span><span class='ee-v'>-0.1</span></li><li><span class='ee-k'>REFLECTANCE_ADD_BAND_9:</span><span class='ee-v'>-0.1</span></li><li><span class='ee-k'>REFLECTANCE_MULT_BAND_1:</span><span class='ee-v'>2e-05</span></li><li><span class='ee-k'>REFLECTANCE_MULT_BAND_2:</span><span class='ee-v'>2e-05</span></li><li><span class='ee-k'>REFLECTANCE_MULT_BAND_3:</span><span class='ee-v'>2e-05</span></li><li><span class='ee-k'>REFLECTANCE_MULT_BAND_4:</span><span class='ee-v'>2e-05</span></li><li><span class='ee-k'>REFLECTANCE_MULT_BAND_5:</span><span class='ee-v'>2e-05</span></li><li><span class='ee-k'>REFLECTANCE_MULT_BAND_6:</span><span class='ee-v'>2e-05</span></li><li><span class='ee-k'>REFLECTANCE_MULT_BAND_7:</span><span class='ee-v'>2e-05</span></li><li><span class='ee-k'>REFLECTANCE_MULT_BAND_8:</span><span class='ee-v'>2e-05</span></li><li><span class='ee-k'>REFLECTANCE_MULT_BAND_9:</span><span class='ee-v'>2e-05</span></li><li><span class='ee-k'>REFLECTIVE_LINES:</span><span class='ee-v'>7841</span></li><li><span class='ee-k'>REFLECTIVE_SAMPLES:</span><span class='ee-v'>7741</span></li><li><span class='ee-k'>REQUEST_ID:</span><span class='ee-v'>1556554_04323</span></li><li><span class='ee-k'>RESAMPLING_OPTION:</span><span class='ee-v'>CUBIC_CONVOLUTION</span></li><li><span class='ee-k'>ROLL_ANGLE:</span><span class='ee-v'>-0.001</span></li><li><span class='ee-k'>SATURATION_BAND_1:</span><span class='ee-v'>Y</span></li><li><span class='ee-k'>SATURATION_BAND_2:</span><span class='ee-v'>Y</span></li><li><span class='ee-k'>SATURATION_BAND_3:</span><span class='ee-v'>Y</span></li><li><span class='ee-k'>SATURATION_BAND_4:</span><span class='ee-v'>Y</span></li><li><span class='ee-k'>SATURATION_BAND_5:</span><span class='ee-v'>Y</span></li><li><span class='ee-k'>SATURATION_BAND_6:</span><span class='ee-v'>Y</span></li><li><span class='ee-k'>SATURATION_BAND_7:</span><span class='ee-v'>Y</span></li><li><span class='ee-k'>SATURATION_BAND_8:</span><span class='ee-v'>N</span></li><li><span class='ee-k'>SATURATION_BAND_9:</span><span class='ee-v'>N</span></li><li><span class='ee-k'>SCENE_CENTER_TIME:</span><span class='ee-v'>10:04:48.2418820Z</span></li><li><span class='ee-k'>SENSOR_ID:</span><span class='ee-v'>OLI_TIRS</span></li><li><span class='ee-k'>SPACECRAFT_ID:</span><span class='ee-v'>LANDSAT_8</span></li><li><span class='ee-k'>STATION_ID:</span><span class='ee-v'>LGN</span></li><li><span class='ee-k'>SUN_AZIMUTH:</span><span class='ee-v'>140.42660804</span></li><li><span class='ee-k'>SUN_ELEVATION:</span><span class='ee-v'>60.17000722</span></li><li><span class='ee-k'>TARGET_WRS_PATH:</span><span class='ee-v'>193</span></li><li><span class='ee-k'>TARGET_WRS_ROW:</span><span class='ee-v'>28</span></li><li><span class='ee-k'>THERMAL_LINES:</span><span class='ee-v'>7841</span></li><li><span class='ee-k'>THERMAL_SAMPLES:</span><span class='ee-v'>7741</span></li><li><span class='ee-k'>TIRS_SSM_MODEL:</span><span class='ee-v'>FINAL</span></li><li><span class='ee-k'>TIRS_SSM_POSITION_STATUS:</span><span class='ee-v'>ESTIMATED</span></li><li><span class='ee-k'>TRUNCATION_OLI:</span><span class='ee-v'>UPPER</span></li><li><span class='ee-k'>UTM_ZONE:</span><span class='ee-v'>32</span></li><li><span class='ee-k'>WRS_PATH:</span><span class='ee-v'>193</span></li><li><span class='ee-k'>WRS_ROW:</span><span class='ee-v'>28</span></li><li><span class='ee-k'>WRS_TYPE:</span><span class='ee-v'>2</span></li><li><span class='ee-k'>system:asset_size:</span><span class='ee-v'>1310646353</span></li><li><label class='ee-shut'>system:footprint: LinearRing (20 vertices)<input type='checkbox' class='ee-toggle'></label><ul><li><span class='ee-k'>type:</span><span class='ee-v'>LinearRing</span></li><li><label class='ee-shut'>coordinates: List (20 elements)<input type='checkbox' class='ee-toggle'></label><ul><li><label class='ee-shut'>0: [11.378380950994456, 44.953690688015065]<input type='checkbox' class='ee-toggle'></label><ul><li><span class='ee-k'>0:</span><span class='ee-v'>11.378380950994456</span></li><li><span class='ee-k'>1:</span><span class='ee-v'>44.953690688015065</span></li></ul></li><li><label class='ee-shut'>1: [11.384767175836426, 44.95254222292919]<input type='checkbox' class='ee-toggle'></label><ul><li><span class='ee-k'>0:</span><span class='ee-v'>11.384767175836426</span></li><li><span class='ee-k'>1:</span><span class='ee-v'>44.95254222292919</span></li></ul></li><li><label class='ee-shut'>2: [11.409825235435138, 45.01785479231266]<input type='checkbox' class='ee-toggle'></label><ul><li><span class='ee-k'>0:</span><span class='ee-v'>11.409825235435138</span></li><li><span class='ee-k'>1:</span><span class='ee-v'>45.01785479231266</span></li></ul></li><li><label class='ee-shut'>3: [11.499371698655967, 45.25024808751513]<input type='checkbox' class='ee-toggle'></label><ul><li><span class='ee-k'>0:</span><span class='ee-v'>11.499371698655967</span></li><li><span class='ee-k'>1:</span><span class='ee-v'>45.25024808751513</span></li></ul></li><li><label class='ee-shut'>4: [11.563591287103895, 45.415933053109285]<input type='checkbox' class='ee-toggle'></label><ul><li><span class='ee-k'>0:</span><span class='ee-v'>11.563591287103895</span></li><li><span class='ee-k'>1:</span><span class='ee-v'>45.415933053109285</span></li></ul></li><li><label class='ee-shut'>5: [11.598817440400428, 45.506680134947494]<input type='checkbox' class='ee-toggle'></label><ul><li><span class='ee-k'>0:</span><span class='ee-v'>11.598817440400428</span></li><li><span class='ee-k'>1:</span><span class='ee-v'>45.506680134947494</span></li></ul></li><li><label class='ee-shut'>6: [11.715717254659568, 45.80588677471964]<input type='checkbox' class='ee-toggle'></label><ul><li><span class='ee-k'>0:</span><span class='ee-v'>11.715717254659568</span></li><li><span class='ee-k'>1:</span><span class='ee-v'>45.80588677471964</span></li></ul></li><li><label class='ee-shut'>7: [11.792865424246111, 46.00219792595291]<input type='checkbox' class='ee-toggle'></label><ul><li><span class='ee-k'>0:</span><span class='ee-v'>11.792865424246111</span></li><li><span class='ee-k'>1:</span><span class='ee-v'>46.00219792595291</span></li></ul></li><li><label class='ee-shut'>8: [11.935192569337607, 46.36328069424584]<input type='checkbox' class='ee-toggle'></label><ul><li><span class='ee-k'>0:</span><span class='ee-v'>11.935192569337607</span></li><li><span class='ee-k'>1:</span><span class='ee-v'>46.36328069424584</span></li></ul></li><li><label class='ee-shut'>9: [11.974507670445215, 46.462302163147676]<input type='checkbox' class='ee-toggle'></label><ul><li><span class='ee-k'>0:</span><span class='ee-v'>11.974507670445215</span></li><li><span class='ee-k'>1:</span><span class='ee-v'>46.462302163147676</span></li></ul></li><li><label class='ee-shut'>10: [12.043982722169938, 46.637428699400814]<input type='checkbox' class='ee-toggle'></label><ul><li><span class='ee-k'>0:</span><span class='ee-v'>12.043982722169938</span></li><li><span class='ee-k'>1:</span><span class='ee-v'>46.637428699400814</span></li></ul></li><li><label class='ee-shut'>11: [12.050434258588167, 46.656341381160736]<input type='checkbox' class='ee-toggle'></label><ul><li><span class='ee-k'>0:</span><span class='ee-v'>12.050434258588167</span></li><li><span class='ee-k'>1:</span><span class='ee-v'>46.656341381160736</span></li></ul></li><li><label class='ee-shut'>12: [12.050541638146063, 46.65824878374234]<input type='checkbox' class='ee-toggle'></label><ul><li><span class='ee-k'>0:</span><span class='ee-v'>12.050541638146063</span></li><li><span class='ee-k'>1:</span><span class='ee-v'>46.65824878374234</span></li></ul></li><li><label class='ee-shut'>13: [10.574841519524842, 46.92890263382717]<input type='checkbox' class='ee-toggle'></label><ul><li><span class='ee-k'>0:</span><span class='ee-v'>10.574841519524842</span></li><li><span class='ee-k'>1:</span><span class='ee-v'>46.92890263382717</span></li></ul></li><li><label class='ee-shut'>14: [9.629658778494418, 47.09095735236211]<input type='checkbox' class='ee-toggle'></label><ul><li><span class='ee-k'>0:</span><span class='ee-v'>9.629658778494418</span></li><li><span class='ee-k'>1:</span><span class='ee-v'>47.09095735236211</span></li></ul></li><li><label class='ee-shut'>15: [9.58467205793682, 46.973079445837925]<input type='checkbox' class='ee-toggle'></label><ul><li><span class='ee-k'>0:</span><span class='ee-v'>9.58467205793682</span></li><li><span class='ee-k'>1:</span><span class='ee-v'>46.973079445837925</span></li></ul></li><li><label class='ee-shut'>16: [9.02870336265282, 45.382029593029664]<input type='checkbox' class='ee-toggle'></label><ul><li><span class='ee-k'>0:</span><span class='ee-v'>9.02870336265282</span></li><li><span class='ee-k'>1:</span><span class='ee-v'>45.382029593029664</span></li></ul></li><li><label class='ee-shut'>17: [9.043159036891065, 45.37947788159184]<input type='checkbox' class='ee-toggle'></label><ul><li><span class='ee-k'>0:</span><span class='ee-v'>9.043159036891065</span></li><li><span class='ee-k'>1:</span><span class='ee-v'>45.37947788159184</span></li></ul></li><li><label class='ee-shut'>18: [10.9124035322807, 45.04297043492326]<input type='checkbox' class='ee-toggle'></label><ul><li><span class='ee-k'>0:</span><span class='ee-v'>10.9124035322807</span></li><li><span class='ee-k'>1:</span><span class='ee-v'>45.04297043492326</span></li></ul></li><li><label class='ee-shut'>19: [11.378380950994456, 44.953690688015065]<input type='checkbox' class='ee-toggle'></label><ul><li><span class='ee-k'>0:</span><span class='ee-v'>11.378380950994456</span></li><li><span class='ee-k'>1:</span><span class='ee-v'>44.953690688015065</span></li></ul></li></ul></li></ul></li><li><span class='ee-k'>system:index:</span><span class='ee-v'>LC08_193028_20220718</span></li><li><span class='ee-k'>system:time_end:</span><span class='ee-v'>1658138688241</span></li><li><span class='ee-k'>system:time_start:</span><span class='ee-v'>1658138688241</span></li></ul></li></ul></li></ul></li></ul></li></ul></div><script>function toggleHeader() {\n",
       "    const parent = this.parentElement;\n",
       "    parent.className = parent.className === \"ee-open\" ? \"ee-shut\" : \"ee-open\";\n",
       "}\n",
       "\n",
       "for (let c of document.getElementsByClassName(\"ee-toggle\")) {\n",
       "    c.onclick = toggleHeader;\n",
       "}</script></div>"
      ],
      "text/plain": [
       "<ee.imagecollection.ImageCollection at 0x7f40c7312f10>"
      ]
     },
     "execution_count": 106,
     "metadata": {},
     "output_type": "execute_result"
    }
   ],
   "source": [
    "l2sp"
   ]
  },
  {
   "cell_type": "code",
   "execution_count": 107,
   "id": "2ef10cd5",
   "metadata": {},
   "outputs": [
    {
     "data": {
      "text/html": [
       "<div><style>:root {\n",
       "  --font-color-primary: var(--jp-content-font-color0, rgba(0, 0, 0, 1));\n",
       "  --font-color-secondary: var(--jp-content-font-color2, rgba(0, 0, 0, 0.6));\n",
       "  --font-color-accent: rgba(123, 31, 162, 1);\n",
       "  --border-color: var(--jp-border-color2, #e0e0e0);\n",
       "  --background-color: var(--jp-layout-color0, white);\n",
       "  --background-color-row-even: var(--jp-layout-color1, white);\n",
       "  --background-color-row-odd: var(--jp-layout-color2, #eeeeee);\n",
       "}\n",
       "\n",
       "html[theme=\"dark\"],\n",
       "body[data-theme=\"dark\"],\n",
       "body.vscode-dark {\n",
       "  --font-color-primary: rgba(255, 255, 255, 1);\n",
       "  --font-color-secondary: rgba(255, 255, 255, 0.6);\n",
       "  --font-color-accent: rgb(173, 132, 190);\n",
       "  --border-color: #2e2e2e;\n",
       "  --background-color: #111111;\n",
       "  --background-color-row-even: #111111;\n",
       "  --background-color-row-odd: #313131;\n",
       "}\n",
       "\n",
       ".ee {\n",
       "  padding: 1em;\n",
       "  line-height: 1.5em;\n",
       "  min-width: 300px;\n",
       "  max-width: 1200px;\n",
       "  overflow-y: scroll;\n",
       "  max-height: 600px;\n",
       "  border: 1px solid var(--border-color);\n",
       "  font-family: monospace;\n",
       "}\n",
       "\n",
       ".ee li {\n",
       "  list-style-type: none;\n",
       "}\n",
       "\n",
       ".ee ul {\n",
       "  padding-left: 1.5em !important;\n",
       "  margin: 0;\n",
       "}\n",
       "\n",
       ".ee > ul {\n",
       "  padding-left: 0 !important;\n",
       "}\n",
       "\n",
       ".ee-open,\n",
       ".ee-shut {\n",
       "  color: var(--font-color-secondary);\n",
       "  cursor: pointer;\n",
       "  margin: 0;\n",
       "}\n",
       "\n",
       ".ee-open:hover,\n",
       ".ee-shut:hover {\n",
       "  color: var(--font-color-primary);\n",
       "}\n",
       "\n",
       ".ee-k {\n",
       "  color: var(--font-color-accent);\n",
       "  margin-right: 6px;\n",
       "}\n",
       "\n",
       ".ee-v {\n",
       "  color: var(--font-color-primary);\n",
       "}\n",
       "\n",
       ".ee-toggle {\n",
       "  display: none;\n",
       "}\n",
       "\n",
       ".ee-shut + ul {\n",
       "  display: none;\n",
       "}\n",
       "\n",
       ".ee-open + ul {\n",
       "  display: block;\n",
       "}\n",
       "\n",
       ".ee-shut::before {\n",
       "  display: inline-block;\n",
       "  content: \"▼\";\n",
       "  margin-right: 6px;\n",
       "  transform: rotate(-90deg);\n",
       "  transition: transform 0.2s;\n",
       "}\n",
       "\n",
       ".ee-open::before {\n",
       "  transform: rotate(0deg);\n",
       "  display: inline-block;\n",
       "  content: \"▼\";\n",
       "  margin-right: 6px;\n",
       "  transition: transform 0.2s;\n",
       "}\n",
       "</style><div class='ee'><ul><li><label class='ee-shut'>Image (1 band)<input type='checkbox' class='ee-toggle'></label><ul><li><span class='ee-k'>type:</span><span class='ee-v'>Image</span></li><li><label class='ee-shut'>bands: List (1 element)<input type='checkbox' class='ee-toggle'></label><ul><li><label class='ee-shut'>0: \"B10\", double, EPSG:32632, 7641x7761 px<input type='checkbox' class='ee-toggle'></label><ul><li><span class='ee-k'>id:</span><span class='ee-v'>B10</span></li><li><span class='ee-k'>crs:</span><span class='ee-v'>EPSG:32632</span></li><li><label class='ee-shut'>crs_transform: [30, 0, 620985, 0, -30, 5217615]<input type='checkbox' class='ee-toggle'></label><ul><li><span class='ee-k'>0:</span><span class='ee-v'>30</span></li><li><span class='ee-k'>1:</span><span class='ee-v'>0</span></li><li><span class='ee-k'>2:</span><span class='ee-v'>620985</span></li><li><span class='ee-k'>3:</span><span class='ee-v'>0</span></li><li><span class='ee-k'>4:</span><span class='ee-v'>-30</span></li><li><span class='ee-k'>5:</span><span class='ee-v'>5217615</span></li></ul></li><li><label class='ee-shut'>data_type: double<input type='checkbox' class='ee-toggle'></label><ul><li><span class='ee-k'>type:</span><span class='ee-v'>PixelType</span></li><li><span class='ee-k'>precision:</span><span class='ee-v'>double</span></li></ul></li><li><label class='ee-shut'>dimensions: [7641, 7761]<input type='checkbox' class='ee-toggle'></label><ul><li><span class='ee-k'>0:</span><span class='ee-v'>7641</span></li><li><span class='ee-k'>1:</span><span class='ee-v'>7761</span></li></ul></li></ul></li></ul></li></ul></li></ul></div><script>function toggleHeader() {\n",
       "    const parent = this.parentElement;\n",
       "    parent.className = parent.className === \"ee-open\" ? \"ee-shut\" : \"ee-open\";\n",
       "}\n",
       "\n",
       "for (let c of document.getElementsByClassName(\"ee-toggle\")) {\n",
       "    c.onclick = toggleHeader;\n",
       "}</script></div>"
      ],
      "text/plain": [
       "<ee.image.Image at 0x7f40c7251110>"
      ]
     },
     "execution_count": 107,
     "metadata": {},
     "output_type": "execute_result"
    }
   ],
   "source": [
    "l2sp_first = l2sp.first().select('B10').multiply(0.00341802).add(149.0)\n",
    "l2sp_first"
   ]
  },
  {
   "cell_type": "code",
   "execution_count": 108,
   "id": "1883150f",
   "metadata": {},
   "outputs": [],
   "source": [
    "#visualization\n",
    "cmap1 = ['blue', 'cyan', 'green', 'yellow', 'red']\n",
    "\n",
    "l2sp_vis = {\n",
    "'min': 260,\n",
    "'max': 320,\n",
    "'palette': cmap1}"
   ]
  },
  {
   "cell_type": "code",
   "execution_count": 80,
   "id": "8ce8d541",
   "metadata": {},
   "outputs": [
    {
     "ename": "NameError",
     "evalue": "name 'require' is not defined",
     "output_type": "error",
     "traceback": [
      "\u001b[0;31m---------------------------------------------------------------------------\u001b[0m",
      "\u001b[0;31mNameError\u001b[0m                                 Traceback (most recent call last)",
      "\u001b[0;32m/tmp/ipykernel_3522947/1910587602.py\u001b[0m in \u001b[0;36m<module>\u001b[0;34m\u001b[0m\n\u001b[1;32m      1\u001b[0m \u001b[0;31m# compute lst, ndvi, ndwi\u001b[0m\u001b[0;34m\u001b[0m\u001b[0;34m\u001b[0m\u001b[0;34m\u001b[0m\u001b[0m\n\u001b[1;32m      2\u001b[0m \u001b[0;31m# try import modules\u001b[0m\u001b[0;34m\u001b[0m\u001b[0;34m\u001b[0m\u001b[0;34m\u001b[0m\u001b[0m\n\u001b[0;32m----> 3\u001b[0;31m \u001b[0mLandsatLST\u001b[0m \u001b[0;34m=\u001b[0m \u001b[0mrequire\u001b[0m\u001b[0;34m(\u001b[0m\u001b[0;34m'users/rbeber/gee_lst_landsat:modules/Landsat_LST.js'\u001b[0m\u001b[0;34m)\u001b[0m\u001b[0;34m\u001b[0m\u001b[0;34m\u001b[0m\u001b[0m\n\u001b[0m",
      "\u001b[0;31mNameError\u001b[0m: name 'require' is not defined"
     ]
    }
   ],
   "source": [
    "# compute lst, ndvi, ndwi\n",
    "# try import modules\n",
    "LandsatLST = require('users/rbeber/gee_lst_landsat:modules/Landsat_LST.js')\n"
   ]
  },
  {
   "cell_type": "code",
   "execution_count": 109,
   "id": "bf447362",
   "metadata": {},
   "outputs": [],
   "source": [
    "def addNDVI(image):\n",
    "    ndvi = image.normalizedDifference(['B5', 'B4']).rename('NDVI')\n",
    "    return image.addBands(ndvi)\n",
    "\n",
    "#// Test the addNDVI function on a single image.\n",
    "#ndvi = addNDVI(image).select('NDVI');"
   ]
  },
  {
   "cell_type": "code",
   "execution_count": 110,
   "id": "926645d4",
   "metadata": {},
   "outputs": [],
   "source": [
    "# apply to all collection\n",
    "withNDVI = l2sp.map(addNDVI)\n",
    "#l2sp_first = l2sp.first().select('ST_B10').multiply(0.00341802).add(149.0)\n"
   ]
  },
  {
   "cell_type": "code",
   "execution_count": 111,
   "id": "f0746f80",
   "metadata": {},
   "outputs": [],
   "source": [
    "ndvi_vis = {'min': -1, 'max': 1, 'palette': ['blue', 'white', 'green']}"
   ]
  },
  {
   "cell_type": "code",
   "execution_count": 112,
   "id": "4cfb8a34",
   "metadata": {},
   "outputs": [
    {
     "data": {
      "text/html": [
       "<div><style>:root {\n",
       "  --font-color-primary: var(--jp-content-font-color0, rgba(0, 0, 0, 1));\n",
       "  --font-color-secondary: var(--jp-content-font-color2, rgba(0, 0, 0, 0.6));\n",
       "  --font-color-accent: rgba(123, 31, 162, 1);\n",
       "  --border-color: var(--jp-border-color2, #e0e0e0);\n",
       "  --background-color: var(--jp-layout-color0, white);\n",
       "  --background-color-row-even: var(--jp-layout-color1, white);\n",
       "  --background-color-row-odd: var(--jp-layout-color2, #eeeeee);\n",
       "}\n",
       "\n",
       "html[theme=\"dark\"],\n",
       "body[data-theme=\"dark\"],\n",
       "body.vscode-dark {\n",
       "  --font-color-primary: rgba(255, 255, 255, 1);\n",
       "  --font-color-secondary: rgba(255, 255, 255, 0.6);\n",
       "  --font-color-accent: rgb(173, 132, 190);\n",
       "  --border-color: #2e2e2e;\n",
       "  --background-color: #111111;\n",
       "  --background-color-row-even: #111111;\n",
       "  --background-color-row-odd: #313131;\n",
       "}\n",
       "\n",
       ".ee {\n",
       "  padding: 1em;\n",
       "  line-height: 1.5em;\n",
       "  min-width: 300px;\n",
       "  max-width: 1200px;\n",
       "  overflow-y: scroll;\n",
       "  max-height: 600px;\n",
       "  border: 1px solid var(--border-color);\n",
       "  font-family: monospace;\n",
       "}\n",
       "\n",
       ".ee li {\n",
       "  list-style-type: none;\n",
       "}\n",
       "\n",
       ".ee ul {\n",
       "  padding-left: 1.5em !important;\n",
       "  margin: 0;\n",
       "}\n",
       "\n",
       ".ee > ul {\n",
       "  padding-left: 0 !important;\n",
       "}\n",
       "\n",
       ".ee-open,\n",
       ".ee-shut {\n",
       "  color: var(--font-color-secondary);\n",
       "  cursor: pointer;\n",
       "  margin: 0;\n",
       "}\n",
       "\n",
       ".ee-open:hover,\n",
       ".ee-shut:hover {\n",
       "  color: var(--font-color-primary);\n",
       "}\n",
       "\n",
       ".ee-k {\n",
       "  color: var(--font-color-accent);\n",
       "  margin-right: 6px;\n",
       "}\n",
       "\n",
       ".ee-v {\n",
       "  color: var(--font-color-primary);\n",
       "}\n",
       "\n",
       ".ee-toggle {\n",
       "  display: none;\n",
       "}\n",
       "\n",
       ".ee-shut + ul {\n",
       "  display: none;\n",
       "}\n",
       "\n",
       ".ee-open + ul {\n",
       "  display: block;\n",
       "}\n",
       "\n",
       ".ee-shut::before {\n",
       "  display: inline-block;\n",
       "  content: \"▼\";\n",
       "  margin-right: 6px;\n",
       "  transform: rotate(-90deg);\n",
       "  transition: transform 0.2s;\n",
       "}\n",
       "\n",
       ".ee-open::before {\n",
       "  transform: rotate(0deg);\n",
       "  display: inline-block;\n",
       "  content: \"▼\";\n",
       "  margin-right: 6px;\n",
       "  transition: transform 0.2s;\n",
       "}\n",
       "</style><div class='ee'><ul><li><label class='ee-shut'>ImageCollection LANDSAT/LC08/C02/T1_TOA  (4 elements)<input type='checkbox' class='ee-toggle'></label><ul><li><span class='ee-k'>type:</span><span class='ee-v'>ImageCollection</span></li><li><span class='ee-k'>id:</span><span class='ee-v'>LANDSAT/LC08/C02/T1_TOA</span></li><li><span class='ee-k'>version:</span><span class='ee-v'>1673734775139334</span></li><li><label class='ee-shut'>bands: []<input type='checkbox' class='ee-toggle'></label><ul></ul></li><li><label class='ee-shut'>features: List (4 elements)<input type='checkbox' class='ee-toggle'></label><ul><li><label class='ee-shut'>0: Image LANDSAT/LC08/C02/T1_TOA/LC08_192028_20220625 (18 bands)<input type='checkbox' class='ee-toggle'></label><ul><li><span class='ee-k'>type:</span><span class='ee-v'>Image</span></li><li><span class='ee-k'>id:</span><span class='ee-v'>LANDSAT/LC08/C02/T1_TOA/LC08_192028_20220625</span></li><li><span class='ee-k'>version:</span><span class='ee-v'>1673734775139334</span></li><li><label class='ee-shut'>bands: List (18 elements)<input type='checkbox' class='ee-toggle'></label><ul><li><label class='ee-shut'>0: \"B1\", float, EPSG:32632, 7641x7761 px<input type='checkbox' class='ee-toggle'></label><ul><li><span class='ee-k'>id:</span><span class='ee-v'>B1</span></li><li><span class='ee-k'>crs:</span><span class='ee-v'>EPSG:32632</span></li><li><label class='ee-shut'>crs_transform: [30, 0, 620985, 0, -30, 5217615]<input type='checkbox' class='ee-toggle'></label><ul><li><span class='ee-k'>0:</span><span class='ee-v'>30</span></li><li><span class='ee-k'>1:</span><span class='ee-v'>0</span></li><li><span class='ee-k'>2:</span><span class='ee-v'>620985</span></li><li><span class='ee-k'>3:</span><span class='ee-v'>0</span></li><li><span class='ee-k'>4:</span><span class='ee-v'>-30</span></li><li><span class='ee-k'>5:</span><span class='ee-v'>5217615</span></li></ul></li><li><label class='ee-shut'>data_type: float<input type='checkbox' class='ee-toggle'></label><ul><li><span class='ee-k'>type:</span><span class='ee-v'>PixelType</span></li><li><span class='ee-k'>precision:</span><span class='ee-v'>float</span></li></ul></li><li><label class='ee-shut'>dimensions: [7641, 7761]<input type='checkbox' class='ee-toggle'></label><ul><li><span class='ee-k'>0:</span><span class='ee-v'>7641</span></li><li><span class='ee-k'>1:</span><span class='ee-v'>7761</span></li></ul></li></ul></li><li><label class='ee-shut'>1: \"B2\", float, EPSG:32632, 7641x7761 px<input type='checkbox' class='ee-toggle'></label><ul><li><span class='ee-k'>id:</span><span class='ee-v'>B2</span></li><li><span class='ee-k'>crs:</span><span class='ee-v'>EPSG:32632</span></li><li><label class='ee-shut'>crs_transform: [30, 0, 620985, 0, -30, 5217615]<input type='checkbox' class='ee-toggle'></label><ul><li><span class='ee-k'>0:</span><span class='ee-v'>30</span></li><li><span class='ee-k'>1:</span><span class='ee-v'>0</span></li><li><span class='ee-k'>2:</span><span class='ee-v'>620985</span></li><li><span class='ee-k'>3:</span><span class='ee-v'>0</span></li><li><span class='ee-k'>4:</span><span class='ee-v'>-30</span></li><li><span class='ee-k'>5:</span><span class='ee-v'>5217615</span></li></ul></li><li><label class='ee-shut'>data_type: float<input type='checkbox' class='ee-toggle'></label><ul><li><span class='ee-k'>type:</span><span class='ee-v'>PixelType</span></li><li><span class='ee-k'>precision:</span><span class='ee-v'>float</span></li></ul></li><li><label class='ee-shut'>dimensions: [7641, 7761]<input type='checkbox' class='ee-toggle'></label><ul><li><span class='ee-k'>0:</span><span class='ee-v'>7641</span></li><li><span class='ee-k'>1:</span><span class='ee-v'>7761</span></li></ul></li></ul></li><li><label class='ee-shut'>2: \"B3\", float, EPSG:32632, 7641x7761 px<input type='checkbox' class='ee-toggle'></label><ul><li><span class='ee-k'>id:</span><span class='ee-v'>B3</span></li><li><span class='ee-k'>crs:</span><span class='ee-v'>EPSG:32632</span></li><li><label class='ee-shut'>crs_transform: [30, 0, 620985, 0, -30, 5217615]<input type='checkbox' class='ee-toggle'></label><ul><li><span class='ee-k'>0:</span><span class='ee-v'>30</span></li><li><span class='ee-k'>1:</span><span class='ee-v'>0</span></li><li><span class='ee-k'>2:</span><span class='ee-v'>620985</span></li><li><span class='ee-k'>3:</span><span class='ee-v'>0</span></li><li><span class='ee-k'>4:</span><span class='ee-v'>-30</span></li><li><span class='ee-k'>5:</span><span class='ee-v'>5217615</span></li></ul></li><li><label class='ee-shut'>data_type: float<input type='checkbox' class='ee-toggle'></label><ul><li><span class='ee-k'>type:</span><span class='ee-v'>PixelType</span></li><li><span class='ee-k'>precision:</span><span class='ee-v'>float</span></li></ul></li><li><label class='ee-shut'>dimensions: [7641, 7761]<input type='checkbox' class='ee-toggle'></label><ul><li><span class='ee-k'>0:</span><span class='ee-v'>7641</span></li><li><span class='ee-k'>1:</span><span class='ee-v'>7761</span></li></ul></li></ul></li><li><label class='ee-shut'>3: \"B4\", float, EPSG:32632, 7641x7761 px<input type='checkbox' class='ee-toggle'></label><ul><li><span class='ee-k'>id:</span><span class='ee-v'>B4</span></li><li><span class='ee-k'>crs:</span><span class='ee-v'>EPSG:32632</span></li><li><label class='ee-shut'>crs_transform: [30, 0, 620985, 0, -30, 5217615]<input type='checkbox' class='ee-toggle'></label><ul><li><span class='ee-k'>0:</span><span class='ee-v'>30</span></li><li><span class='ee-k'>1:</span><span class='ee-v'>0</span></li><li><span class='ee-k'>2:</span><span class='ee-v'>620985</span></li><li><span class='ee-k'>3:</span><span class='ee-v'>0</span></li><li><span class='ee-k'>4:</span><span class='ee-v'>-30</span></li><li><span class='ee-k'>5:</span><span class='ee-v'>5217615</span></li></ul></li><li><label class='ee-shut'>data_type: float<input type='checkbox' class='ee-toggle'></label><ul><li><span class='ee-k'>type:</span><span class='ee-v'>PixelType</span></li><li><span class='ee-k'>precision:</span><span class='ee-v'>float</span></li></ul></li><li><label class='ee-shut'>dimensions: [7641, 7761]<input type='checkbox' class='ee-toggle'></label><ul><li><span class='ee-k'>0:</span><span class='ee-v'>7641</span></li><li><span class='ee-k'>1:</span><span class='ee-v'>7761</span></li></ul></li></ul></li><li><label class='ee-shut'>4: \"B5\", float, EPSG:32632, 7641x7761 px<input type='checkbox' class='ee-toggle'></label><ul><li><span class='ee-k'>id:</span><span class='ee-v'>B5</span></li><li><span class='ee-k'>crs:</span><span class='ee-v'>EPSG:32632</span></li><li><label class='ee-shut'>crs_transform: [30, 0, 620985, 0, -30, 5217615]<input type='checkbox' class='ee-toggle'></label><ul><li><span class='ee-k'>0:</span><span class='ee-v'>30</span></li><li><span class='ee-k'>1:</span><span class='ee-v'>0</span></li><li><span class='ee-k'>2:</span><span class='ee-v'>620985</span></li><li><span class='ee-k'>3:</span><span class='ee-v'>0</span></li><li><span class='ee-k'>4:</span><span class='ee-v'>-30</span></li><li><span class='ee-k'>5:</span><span class='ee-v'>5217615</span></li></ul></li><li><label class='ee-shut'>data_type: float<input type='checkbox' class='ee-toggle'></label><ul><li><span class='ee-k'>type:</span><span class='ee-v'>PixelType</span></li><li><span class='ee-k'>precision:</span><span class='ee-v'>float</span></li></ul></li><li><label class='ee-shut'>dimensions: [7641, 7761]<input type='checkbox' class='ee-toggle'></label><ul><li><span class='ee-k'>0:</span><span class='ee-v'>7641</span></li><li><span class='ee-k'>1:</span><span class='ee-v'>7761</span></li></ul></li></ul></li><li><label class='ee-shut'>5: \"B6\", float, EPSG:32632, 7641x7761 px<input type='checkbox' class='ee-toggle'></label><ul><li><span class='ee-k'>id:</span><span class='ee-v'>B6</span></li><li><span class='ee-k'>crs:</span><span class='ee-v'>EPSG:32632</span></li><li><label class='ee-shut'>crs_transform: [30, 0, 620985, 0, -30, 5217615]<input type='checkbox' class='ee-toggle'></label><ul><li><span class='ee-k'>0:</span><span class='ee-v'>30</span></li><li><span class='ee-k'>1:</span><span class='ee-v'>0</span></li><li><span class='ee-k'>2:</span><span class='ee-v'>620985</span></li><li><span class='ee-k'>3:</span><span class='ee-v'>0</span></li><li><span class='ee-k'>4:</span><span class='ee-v'>-30</span></li><li><span class='ee-k'>5:</span><span class='ee-v'>5217615</span></li></ul></li><li><label class='ee-shut'>data_type: float<input type='checkbox' class='ee-toggle'></label><ul><li><span class='ee-k'>type:</span><span class='ee-v'>PixelType</span></li><li><span class='ee-k'>precision:</span><span class='ee-v'>float</span></li></ul></li><li><label class='ee-shut'>dimensions: [7641, 7761]<input type='checkbox' class='ee-toggle'></label><ul><li><span class='ee-k'>0:</span><span class='ee-v'>7641</span></li><li><span class='ee-k'>1:</span><span class='ee-v'>7761</span></li></ul></li></ul></li><li><label class='ee-shut'>6: \"B7\", float, EPSG:32632, 7641x7761 px<input type='checkbox' class='ee-toggle'></label><ul><li><span class='ee-k'>id:</span><span class='ee-v'>B7</span></li><li><span class='ee-k'>crs:</span><span class='ee-v'>EPSG:32632</span></li><li><label class='ee-shut'>crs_transform: [30, 0, 620985, 0, -30, 5217615]<input type='checkbox' class='ee-toggle'></label><ul><li><span class='ee-k'>0:</span><span class='ee-v'>30</span></li><li><span class='ee-k'>1:</span><span class='ee-v'>0</span></li><li><span class='ee-k'>2:</span><span class='ee-v'>620985</span></li><li><span class='ee-k'>3:</span><span class='ee-v'>0</span></li><li><span class='ee-k'>4:</span><span class='ee-v'>-30</span></li><li><span class='ee-k'>5:</span><span class='ee-v'>5217615</span></li></ul></li><li><label class='ee-shut'>data_type: float<input type='checkbox' class='ee-toggle'></label><ul><li><span class='ee-k'>type:</span><span class='ee-v'>PixelType</span></li><li><span class='ee-k'>precision:</span><span class='ee-v'>float</span></li></ul></li><li><label class='ee-shut'>dimensions: [7641, 7761]<input type='checkbox' class='ee-toggle'></label><ul><li><span class='ee-k'>0:</span><span class='ee-v'>7641</span></li><li><span class='ee-k'>1:</span><span class='ee-v'>7761</span></li></ul></li></ul></li><li><label class='ee-shut'>7: \"B8\", float, EPSG:32632, 15281x15521 px<input type='checkbox' class='ee-toggle'></label><ul><li><span class='ee-k'>id:</span><span class='ee-v'>B8</span></li><li><span class='ee-k'>crs:</span><span class='ee-v'>EPSG:32632</span></li><li><label class='ee-shut'>crs_transform: [15, 0, 620992.5, 0, -15, 5217607.5]<input type='checkbox' class='ee-toggle'></label><ul><li><span class='ee-k'>0:</span><span class='ee-v'>15</span></li><li><span class='ee-k'>1:</span><span class='ee-v'>0</span></li><li><span class='ee-k'>2:</span><span class='ee-v'>620992.5</span></li><li><span class='ee-k'>3:</span><span class='ee-v'>0</span></li><li><span class='ee-k'>4:</span><span class='ee-v'>-15</span></li><li><span class='ee-k'>5:</span><span class='ee-v'>5217607.5</span></li></ul></li><li><label class='ee-shut'>data_type: float<input type='checkbox' class='ee-toggle'></label><ul><li><span class='ee-k'>type:</span><span class='ee-v'>PixelType</span></li><li><span class='ee-k'>precision:</span><span class='ee-v'>float</span></li></ul></li><li><label class='ee-shut'>dimensions: [15281, 15521]<input type='checkbox' class='ee-toggle'></label><ul><li><span class='ee-k'>0:</span><span class='ee-v'>15281</span></li><li><span class='ee-k'>1:</span><span class='ee-v'>15521</span></li></ul></li></ul></li><li><label class='ee-shut'>8: \"B9\", float, EPSG:32632, 7641x7761 px<input type='checkbox' class='ee-toggle'></label><ul><li><span class='ee-k'>id:</span><span class='ee-v'>B9</span></li><li><span class='ee-k'>crs:</span><span class='ee-v'>EPSG:32632</span></li><li><label class='ee-shut'>crs_transform: [30, 0, 620985, 0, -30, 5217615]<input type='checkbox' class='ee-toggle'></label><ul><li><span class='ee-k'>0:</span><span class='ee-v'>30</span></li><li><span class='ee-k'>1:</span><span class='ee-v'>0</span></li><li><span class='ee-k'>2:</span><span class='ee-v'>620985</span></li><li><span class='ee-k'>3:</span><span class='ee-v'>0</span></li><li><span class='ee-k'>4:</span><span class='ee-v'>-30</span></li><li><span class='ee-k'>5:</span><span class='ee-v'>5217615</span></li></ul></li><li><label class='ee-shut'>data_type: float<input type='checkbox' class='ee-toggle'></label><ul><li><span class='ee-k'>type:</span><span class='ee-v'>PixelType</span></li><li><span class='ee-k'>precision:</span><span class='ee-v'>float</span></li></ul></li><li><label class='ee-shut'>dimensions: [7641, 7761]<input type='checkbox' class='ee-toggle'></label><ul><li><span class='ee-k'>0:</span><span class='ee-v'>7641</span></li><li><span class='ee-k'>1:</span><span class='ee-v'>7761</span></li></ul></li></ul></li><li><label class='ee-shut'>9: \"B10\", float, EPSG:32632, 7641x7761 px<input type='checkbox' class='ee-toggle'></label><ul><li><span class='ee-k'>id:</span><span class='ee-v'>B10</span></li><li><span class='ee-k'>crs:</span><span class='ee-v'>EPSG:32632</span></li><li><label class='ee-shut'>crs_transform: [30, 0, 620985, 0, -30, 5217615]<input type='checkbox' class='ee-toggle'></label><ul><li><span class='ee-k'>0:</span><span class='ee-v'>30</span></li><li><span class='ee-k'>1:</span><span class='ee-v'>0</span></li><li><span class='ee-k'>2:</span><span class='ee-v'>620985</span></li><li><span class='ee-k'>3:</span><span class='ee-v'>0</span></li><li><span class='ee-k'>4:</span><span class='ee-v'>-30</span></li><li><span class='ee-k'>5:</span><span class='ee-v'>5217615</span></li></ul></li><li><label class='ee-shut'>data_type: float<input type='checkbox' class='ee-toggle'></label><ul><li><span class='ee-k'>type:</span><span class='ee-v'>PixelType</span></li><li><span class='ee-k'>precision:</span><span class='ee-v'>float</span></li></ul></li><li><label class='ee-shut'>dimensions: [7641, 7761]<input type='checkbox' class='ee-toggle'></label><ul><li><span class='ee-k'>0:</span><span class='ee-v'>7641</span></li><li><span class='ee-k'>1:</span><span class='ee-v'>7761</span></li></ul></li></ul></li><li><label class='ee-shut'>10: \"B11\", float, EPSG:32632, 7641x7761 px<input type='checkbox' class='ee-toggle'></label><ul><li><span class='ee-k'>id:</span><span class='ee-v'>B11</span></li><li><span class='ee-k'>crs:</span><span class='ee-v'>EPSG:32632</span></li><li><label class='ee-shut'>crs_transform: [30, 0, 620985, 0, -30, 5217615]<input type='checkbox' class='ee-toggle'></label><ul><li><span class='ee-k'>0:</span><span class='ee-v'>30</span></li><li><span class='ee-k'>1:</span><span class='ee-v'>0</span></li><li><span class='ee-k'>2:</span><span class='ee-v'>620985</span></li><li><span class='ee-k'>3:</span><span class='ee-v'>0</span></li><li><span class='ee-k'>4:</span><span class='ee-v'>-30</span></li><li><span class='ee-k'>5:</span><span class='ee-v'>5217615</span></li></ul></li><li><label class='ee-shut'>data_type: float<input type='checkbox' class='ee-toggle'></label><ul><li><span class='ee-k'>type:</span><span class='ee-v'>PixelType</span></li><li><span class='ee-k'>precision:</span><span class='ee-v'>float</span></li></ul></li><li><label class='ee-shut'>dimensions: [7641, 7761]<input type='checkbox' class='ee-toggle'></label><ul><li><span class='ee-k'>0:</span><span class='ee-v'>7641</span></li><li><span class='ee-k'>1:</span><span class='ee-v'>7761</span></li></ul></li></ul></li><li><label class='ee-shut'>11: \"QA_PIXEL\", unsigned int16, EPSG:32632, 7641x7761 px<input type='checkbox' class='ee-toggle'></label><ul><li><span class='ee-k'>id:</span><span class='ee-v'>QA_PIXEL</span></li><li><span class='ee-k'>crs:</span><span class='ee-v'>EPSG:32632</span></li><li><label class='ee-shut'>crs_transform: [30, 0, 620985, 0, -30, 5217615]<input type='checkbox' class='ee-toggle'></label><ul><li><span class='ee-k'>0:</span><span class='ee-v'>30</span></li><li><span class='ee-k'>1:</span><span class='ee-v'>0</span></li><li><span class='ee-k'>2:</span><span class='ee-v'>620985</span></li><li><span class='ee-k'>3:</span><span class='ee-v'>0</span></li><li><span class='ee-k'>4:</span><span class='ee-v'>-30</span></li><li><span class='ee-k'>5:</span><span class='ee-v'>5217615</span></li></ul></li><li><label class='ee-shut'>data_type: unsigned int16<input type='checkbox' class='ee-toggle'></label><ul><li><span class='ee-k'>type:</span><span class='ee-v'>PixelType</span></li><li><span class='ee-k'>max:</span><span class='ee-v'>65535</span></li><li><span class='ee-k'>min:</span><span class='ee-v'>0</span></li><li><span class='ee-k'>precision:</span><span class='ee-v'>int</span></li></ul></li><li><label class='ee-shut'>dimensions: [7641, 7761]<input type='checkbox' class='ee-toggle'></label><ul><li><span class='ee-k'>0:</span><span class='ee-v'>7641</span></li><li><span class='ee-k'>1:</span><span class='ee-v'>7761</span></li></ul></li></ul></li><li><label class='ee-shut'>12: \"QA_RADSAT\", unsigned int16, EPSG:32632, 7641x7761 px<input type='checkbox' class='ee-toggle'></label><ul><li><span class='ee-k'>id:</span><span class='ee-v'>QA_RADSAT</span></li><li><span class='ee-k'>crs:</span><span class='ee-v'>EPSG:32632</span></li><li><label class='ee-shut'>crs_transform: [30, 0, 620985, 0, -30, 5217615]<input type='checkbox' class='ee-toggle'></label><ul><li><span class='ee-k'>0:</span><span class='ee-v'>30</span></li><li><span class='ee-k'>1:</span><span class='ee-v'>0</span></li><li><span class='ee-k'>2:</span><span class='ee-v'>620985</span></li><li><span class='ee-k'>3:</span><span class='ee-v'>0</span></li><li><span class='ee-k'>4:</span><span class='ee-v'>-30</span></li><li><span class='ee-k'>5:</span><span class='ee-v'>5217615</span></li></ul></li><li><label class='ee-shut'>data_type: unsigned int16<input type='checkbox' class='ee-toggle'></label><ul><li><span class='ee-k'>type:</span><span class='ee-v'>PixelType</span></li><li><span class='ee-k'>max:</span><span class='ee-v'>65535</span></li><li><span class='ee-k'>min:</span><span class='ee-v'>0</span></li><li><span class='ee-k'>precision:</span><span class='ee-v'>int</span></li></ul></li><li><label class='ee-shut'>dimensions: [7641, 7761]<input type='checkbox' class='ee-toggle'></label><ul><li><span class='ee-k'>0:</span><span class='ee-v'>7641</span></li><li><span class='ee-k'>1:</span><span class='ee-v'>7761</span></li></ul></li></ul></li><li><label class='ee-shut'>13: \"SAA\", signed int16, EPSG:32632, 7641x7761 px<input type='checkbox' class='ee-toggle'></label><ul><li><span class='ee-k'>id:</span><span class='ee-v'>SAA</span></li><li><span class='ee-k'>crs:</span><span class='ee-v'>EPSG:32632</span></li><li><label class='ee-shut'>crs_transform: [30, 0, 620985, 0, -30, 5217615]<input type='checkbox' class='ee-toggle'></label><ul><li><span class='ee-k'>0:</span><span class='ee-v'>30</span></li><li><span class='ee-k'>1:</span><span class='ee-v'>0</span></li><li><span class='ee-k'>2:</span><span class='ee-v'>620985</span></li><li><span class='ee-k'>3:</span><span class='ee-v'>0</span></li><li><span class='ee-k'>4:</span><span class='ee-v'>-30</span></li><li><span class='ee-k'>5:</span><span class='ee-v'>5217615</span></li></ul></li><li><label class='ee-shut'>data_type: signed int16<input type='checkbox' class='ee-toggle'></label><ul><li><span class='ee-k'>type:</span><span class='ee-v'>PixelType</span></li><li><span class='ee-k'>max:</span><span class='ee-v'>32767</span></li><li><span class='ee-k'>min:</span><span class='ee-v'>-32768</span></li><li><span class='ee-k'>precision:</span><span class='ee-v'>int</span></li></ul></li><li><label class='ee-shut'>dimensions: [7641, 7761]<input type='checkbox' class='ee-toggle'></label><ul><li><span class='ee-k'>0:</span><span class='ee-v'>7641</span></li><li><span class='ee-k'>1:</span><span class='ee-v'>7761</span></li></ul></li></ul></li><li><label class='ee-shut'>14: \"SZA\", signed int16, EPSG:32632, 7641x7761 px<input type='checkbox' class='ee-toggle'></label><ul><li><span class='ee-k'>id:</span><span class='ee-v'>SZA</span></li><li><span class='ee-k'>crs:</span><span class='ee-v'>EPSG:32632</span></li><li><label class='ee-shut'>crs_transform: [30, 0, 620985, 0, -30, 5217615]<input type='checkbox' class='ee-toggle'></label><ul><li><span class='ee-k'>0:</span><span class='ee-v'>30</span></li><li><span class='ee-k'>1:</span><span class='ee-v'>0</span></li><li><span class='ee-k'>2:</span><span class='ee-v'>620985</span></li><li><span class='ee-k'>3:</span><span class='ee-v'>0</span></li><li><span class='ee-k'>4:</span><span class='ee-v'>-30</span></li><li><span class='ee-k'>5:</span><span class='ee-v'>5217615</span></li></ul></li><li><label class='ee-shut'>data_type: signed int16<input type='checkbox' class='ee-toggle'></label><ul><li><span class='ee-k'>type:</span><span class='ee-v'>PixelType</span></li><li><span class='ee-k'>max:</span><span class='ee-v'>32767</span></li><li><span class='ee-k'>min:</span><span class='ee-v'>-32768</span></li><li><span class='ee-k'>precision:</span><span class='ee-v'>int</span></li></ul></li><li><label class='ee-shut'>dimensions: [7641, 7761]<input type='checkbox' class='ee-toggle'></label><ul><li><span class='ee-k'>0:</span><span class='ee-v'>7641</span></li><li><span class='ee-k'>1:</span><span class='ee-v'>7761</span></li></ul></li></ul></li><li><label class='ee-shut'>15: \"VAA\", signed int16, EPSG:32632, 7641x7761 px<input type='checkbox' class='ee-toggle'></label><ul><li><span class='ee-k'>id:</span><span class='ee-v'>VAA</span></li><li><span class='ee-k'>crs:</span><span class='ee-v'>EPSG:32632</span></li><li><label class='ee-shut'>crs_transform: [30, 0, 620985, 0, -30, 5217615]<input type='checkbox' class='ee-toggle'></label><ul><li><span class='ee-k'>0:</span><span class='ee-v'>30</span></li><li><span class='ee-k'>1:</span><span class='ee-v'>0</span></li><li><span class='ee-k'>2:</span><span class='ee-v'>620985</span></li><li><span class='ee-k'>3:</span><span class='ee-v'>0</span></li><li><span class='ee-k'>4:</span><span class='ee-v'>-30</span></li><li><span class='ee-k'>5:</span><span class='ee-v'>5217615</span></li></ul></li><li><label class='ee-shut'>data_type: signed int16<input type='checkbox' class='ee-toggle'></label><ul><li><span class='ee-k'>type:</span><span class='ee-v'>PixelType</span></li><li><span class='ee-k'>max:</span><span class='ee-v'>32767</span></li><li><span class='ee-k'>min:</span><span class='ee-v'>-32768</span></li><li><span class='ee-k'>precision:</span><span class='ee-v'>int</span></li></ul></li><li><label class='ee-shut'>dimensions: [7641, 7761]<input type='checkbox' class='ee-toggle'></label><ul><li><span class='ee-k'>0:</span><span class='ee-v'>7641</span></li><li><span class='ee-k'>1:</span><span class='ee-v'>7761</span></li></ul></li></ul></li><li><label class='ee-shut'>16: \"VZA\", signed int16, EPSG:32632, 7641x7761 px<input type='checkbox' class='ee-toggle'></label><ul><li><span class='ee-k'>id:</span><span class='ee-v'>VZA</span></li><li><span class='ee-k'>crs:</span><span class='ee-v'>EPSG:32632</span></li><li><label class='ee-shut'>crs_transform: [30, 0, 620985, 0, -30, 5217615]<input type='checkbox' class='ee-toggle'></label><ul><li><span class='ee-k'>0:</span><span class='ee-v'>30</span></li><li><span class='ee-k'>1:</span><span class='ee-v'>0</span></li><li><span class='ee-k'>2:</span><span class='ee-v'>620985</span></li><li><span class='ee-k'>3:</span><span class='ee-v'>0</span></li><li><span class='ee-k'>4:</span><span class='ee-v'>-30</span></li><li><span class='ee-k'>5:</span><span class='ee-v'>5217615</span></li></ul></li><li><label class='ee-shut'>data_type: signed int16<input type='checkbox' class='ee-toggle'></label><ul><li><span class='ee-k'>type:</span><span class='ee-v'>PixelType</span></li><li><span class='ee-k'>max:</span><span class='ee-v'>32767</span></li><li><span class='ee-k'>min:</span><span class='ee-v'>-32768</span></li><li><span class='ee-k'>precision:</span><span class='ee-v'>int</span></li></ul></li><li><label class='ee-shut'>dimensions: [7641, 7761]<input type='checkbox' class='ee-toggle'></label><ul><li><span class='ee-k'>0:</span><span class='ee-v'>7641</span></li><li><span class='ee-k'>1:</span><span class='ee-v'>7761</span></li></ul></li></ul></li><li><label class='ee-shut'>17: \"NDVI\", float, EPSG:32632, 7641x7761 px<input type='checkbox' class='ee-toggle'></label><ul><li><span class='ee-k'>id:</span><span class='ee-v'>NDVI</span></li><li><span class='ee-k'>crs:</span><span class='ee-v'>EPSG:32632</span></li><li><label class='ee-shut'>crs_transform: [30, 0, 620985, 0, -30, 5217615]<input type='checkbox' class='ee-toggle'></label><ul><li><span class='ee-k'>0:</span><span class='ee-v'>30</span></li><li><span class='ee-k'>1:</span><span class='ee-v'>0</span></li><li><span class='ee-k'>2:</span><span class='ee-v'>620985</span></li><li><span class='ee-k'>3:</span><span class='ee-v'>0</span></li><li><span class='ee-k'>4:</span><span class='ee-v'>-30</span></li><li><span class='ee-k'>5:</span><span class='ee-v'>5217615</span></li></ul></li><li><label class='ee-shut'>data_type: float<input type='checkbox' class='ee-toggle'></label><ul><li><span class='ee-k'>type:</span><span class='ee-v'>PixelType</span></li><li><span class='ee-k'>max:</span><span class='ee-v'>1</span></li><li><span class='ee-k'>min:</span><span class='ee-v'>-1</span></li><li><span class='ee-k'>precision:</span><span class='ee-v'>float</span></li></ul></li><li><label class='ee-shut'>dimensions: [7641, 7761]<input type='checkbox' class='ee-toggle'></label><ul><li><span class='ee-k'>0:</span><span class='ee-v'>7641</span></li><li><span class='ee-k'>1:</span><span class='ee-v'>7761</span></li></ul></li></ul></li></ul></li><li><label class='ee-shut'>properties: Object (112 properties)<input type='checkbox' class='ee-toggle'></label><ul><li><span class='ee-k'>CLOUD_COVER:</span><span class='ee-v'>20.63</span></li><li><span class='ee-k'>CLOUD_COVER_LAND:</span><span class='ee-v'>22.8</span></li><li><span class='ee-k'>COLLECTION_CATEGORY:</span><span class='ee-v'>T1</span></li><li><span class='ee-k'>COLLECTION_NUMBER:</span><span class='ee-v'>2</span></li><li><span class='ee-k'>DATA_SOURCE_ELEVATION:</span><span class='ee-v'>GLS2000</span></li><li><span class='ee-k'>DATA_SOURCE_TIRS_STRAY_LIGHT_CORRECTION:</span><span class='ee-v'>TIRS</span></li><li><span class='ee-k'>DATE_ACQUIRED:</span><span class='ee-v'>2022-06-25</span></li><li><span class='ee-k'>DATE_PRODUCT_GENERATED:</span><span class='ee-v'>1657077400000</span></li><li><span class='ee-k'>DATUM:</span><span class='ee-v'>WGS84</span></li><li><span class='ee-k'>EARTH_SUN_DISTANCE:</span><span class='ee-v'>1.0164853</span></li><li><span class='ee-k'>ELLIPSOID:</span><span class='ee-v'>WGS84</span></li><li><span class='ee-k'>GEOMETRIC_RMSE_MODEL:</span><span class='ee-v'>6.196</span></li><li><span class='ee-k'>GEOMETRIC_RMSE_MODEL_X:</span><span class='ee-v'>4.256</span></li><li><span class='ee-k'>GEOMETRIC_RMSE_MODEL_Y:</span><span class='ee-v'>4.503</span></li><li><span class='ee-k'>GEOMETRIC_RMSE_VERIFY:</span><span class='ee-v'>3.624</span></li><li><span class='ee-k'>GRID_CELL_SIZE_PANCHROMATIC:</span><span class='ee-v'>15</span></li><li><span class='ee-k'>GRID_CELL_SIZE_REFLECTIVE:</span><span class='ee-v'>30</span></li><li><span class='ee-k'>GRID_CELL_SIZE_THERMAL:</span><span class='ee-v'>30</span></li><li><span class='ee-k'>GROUND_CONTROL_POINTS_MODEL:</span><span class='ee-v'>588</span></li><li><span class='ee-k'>GROUND_CONTROL_POINTS_VERIFY:</span><span class='ee-v'>139</span></li><li><span class='ee-k'>GROUND_CONTROL_POINTS_VERSION:</span><span class='ee-v'>5</span></li><li><span class='ee-k'>IMAGE_QUALITY_OLI:</span><span class='ee-v'>9</span></li><li><span class='ee-k'>IMAGE_QUALITY_TIRS:</span><span class='ee-v'>9</span></li><li><span class='ee-k'>K1_CONSTANT_BAND_10:</span><span class='ee-v'>774.8853</span></li><li><span class='ee-k'>K1_CONSTANT_BAND_11:</span><span class='ee-v'>480.8883</span></li><li><span class='ee-k'>K2_CONSTANT_BAND_10:</span><span class='ee-v'>1321.0789</span></li><li><span class='ee-k'>K2_CONSTANT_BAND_11:</span><span class='ee-v'>1201.1442</span></li><li><span class='ee-k'>LANDSAT_PRODUCT_ID:</span><span class='ee-v'>LC08_L1TP_192028_20220625_20220706_02_T1</span></li><li><span class='ee-k'>LANDSAT_SCENE_ID:</span><span class='ee-v'>LC81920282022176LGN00</span></li><li><span class='ee-k'>MAP_PROJECTION:</span><span class='ee-v'>UTM</span></li><li><span class='ee-k'>NADIR_OFFNADIR:</span><span class='ee-v'>NADIR</span></li><li><span class='ee-k'>ORIENTATION:</span><span class='ee-v'>NORTH_UP</span></li><li><span class='ee-k'>PANCHROMATIC_LINES:</span><span class='ee-v'>15521</span></li><li><span class='ee-k'>PANCHROMATIC_SAMPLES:</span><span class='ee-v'>15281</span></li><li><span class='ee-k'>PROCESSING_LEVEL:</span><span class='ee-v'>L1TP</span></li><li><span class='ee-k'>PROCESSING_SOFTWARE_VERSION:</span><span class='ee-v'>LPGS_16.1.0</span></li><li><span class='ee-k'>RADIANCE_ADD_BAND_1:</span><span class='ee-v'>-60.75901</span></li><li><span class='ee-k'>RADIANCE_ADD_BAND_10:</span><span class='ee-v'>0.1</span></li><li><span class='ee-k'>RADIANCE_ADD_BAND_11:</span><span class='ee-v'>0.1</span></li><li><span class='ee-k'>RADIANCE_ADD_BAND_2:</span><span class='ee-v'>-62.21796</span></li><li><span class='ee-k'>RADIANCE_ADD_BAND_3:</span><span class='ee-v'>-57.33332</span></li><li><span class='ee-k'>RADIANCE_ADD_BAND_4:</span><span class='ee-v'>-48.34669</span></li><li><span class='ee-k'>RADIANCE_ADD_BAND_5:</span><span class='ee-v'>-29.58576</span></li><li><span class='ee-k'>RADIANCE_ADD_BAND_6:</span><span class='ee-v'>-7.35771</span></li><li><span class='ee-k'>RADIANCE_ADD_BAND_7:</span><span class='ee-v'>-2.47994</span></li><li><span class='ee-k'>RADIANCE_ADD_BAND_8:</span><span class='ee-v'>-54.71514</span></li><li><span class='ee-k'>RADIANCE_ADD_BAND_9:</span><span class='ee-v'>-11.56279</span></li><li><span class='ee-k'>RADIANCE_MULT_BAND_1:</span><span class='ee-v'>0.012152</span></li><li><span class='ee-k'>RADIANCE_MULT_BAND_10:</span><span class='ee-v'>0.0003342</span></li><li><span class='ee-k'>RADIANCE_MULT_BAND_11:</span><span class='ee-v'>0.0003342</span></li><li><span class='ee-k'>RADIANCE_MULT_BAND_2:</span><span class='ee-v'>0.012444</span></li><li><span class='ee-k'>RADIANCE_MULT_BAND_3:</span><span class='ee-v'>0.011467</span></li><li><span class='ee-k'>RADIANCE_MULT_BAND_4:</span><span class='ee-v'>0.0096693</span></li><li><span class='ee-k'>RADIANCE_MULT_BAND_5:</span><span class='ee-v'>0.0059172</span></li><li><span class='ee-k'>RADIANCE_MULT_BAND_6:</span><span class='ee-v'>0.0014715</span></li><li><span class='ee-k'>RADIANCE_MULT_BAND_7:</span><span class='ee-v'>0.00049599</span></li><li><span class='ee-k'>RADIANCE_MULT_BAND_8:</span><span class='ee-v'>0.010943</span></li><li><span class='ee-k'>RADIANCE_MULT_BAND_9:</span><span class='ee-v'>0.0023126</span></li><li><span class='ee-k'>REFLECTANCE_ADD_BAND_1:</span><span class='ee-v'>-0.1</span></li><li><span class='ee-k'>REFLECTANCE_ADD_BAND_2:</span><span class='ee-v'>-0.1</span></li><li><span class='ee-k'>REFLECTANCE_ADD_BAND_3:</span><span class='ee-v'>-0.1</span></li><li><span class='ee-k'>REFLECTANCE_ADD_BAND_4:</span><span class='ee-v'>-0.1</span></li><li><span class='ee-k'>REFLECTANCE_ADD_BAND_5:</span><span class='ee-v'>-0.1</span></li><li><span class='ee-k'>REFLECTANCE_ADD_BAND_6:</span><span class='ee-v'>-0.1</span></li><li><span class='ee-k'>REFLECTANCE_ADD_BAND_7:</span><span class='ee-v'>-0.1</span></li><li><span class='ee-k'>REFLECTANCE_ADD_BAND_8:</span><span class='ee-v'>-0.1</span></li><li><span class='ee-k'>REFLECTANCE_ADD_BAND_9:</span><span class='ee-v'>-0.1</span></li><li><span class='ee-k'>REFLECTANCE_MULT_BAND_1:</span><span class='ee-v'>2e-05</span></li><li><span class='ee-k'>REFLECTANCE_MULT_BAND_2:</span><span class='ee-v'>2e-05</span></li><li><span class='ee-k'>REFLECTANCE_MULT_BAND_3:</span><span class='ee-v'>2e-05</span></li><li><span class='ee-k'>REFLECTANCE_MULT_BAND_4:</span><span class='ee-v'>2e-05</span></li><li><span class='ee-k'>REFLECTANCE_MULT_BAND_5:</span><span class='ee-v'>2e-05</span></li><li><span class='ee-k'>REFLECTANCE_MULT_BAND_6:</span><span class='ee-v'>2e-05</span></li><li><span class='ee-k'>REFLECTANCE_MULT_BAND_7:</span><span class='ee-v'>2e-05</span></li><li><span class='ee-k'>REFLECTANCE_MULT_BAND_8:</span><span class='ee-v'>2e-05</span></li><li><span class='ee-k'>REFLECTANCE_MULT_BAND_9:</span><span class='ee-v'>2e-05</span></li><li><span class='ee-k'>REFLECTIVE_LINES:</span><span class='ee-v'>7761</span></li><li><span class='ee-k'>REFLECTIVE_SAMPLES:</span><span class='ee-v'>7641</span></li><li><span class='ee-k'>REQUEST_ID:</span><span class='ee-v'>1550188_00593</span></li><li><span class='ee-k'>RESAMPLING_OPTION:</span><span class='ee-v'>CUBIC_CONVOLUTION</span></li><li><span class='ee-k'>ROLL_ANGLE:</span><span class='ee-v'>-0.001</span></li><li><span class='ee-k'>SATURATION_BAND_1:</span><span class='ee-v'>Y</span></li><li><span class='ee-k'>SATURATION_BAND_2:</span><span class='ee-v'>Y</span></li><li><span class='ee-k'>SATURATION_BAND_3:</span><span class='ee-v'>Y</span></li><li><span class='ee-k'>SATURATION_BAND_4:</span><span class='ee-v'>Y</span></li><li><span class='ee-k'>SATURATION_BAND_5:</span><span class='ee-v'>Y</span></li><li><span class='ee-k'>SATURATION_BAND_6:</span><span class='ee-v'>Y</span></li><li><span class='ee-k'>SATURATION_BAND_7:</span><span class='ee-v'>Y</span></li><li><span class='ee-k'>SATURATION_BAND_8:</span><span class='ee-v'>N</span></li><li><span class='ee-k'>SATURATION_BAND_9:</span><span class='ee-v'>N</span></li><li><span class='ee-k'>SCENE_CENTER_TIME:</span><span class='ee-v'>09:58:35.9501420Z</span></li><li><span class='ee-k'>SENSOR_ID:</span><span class='ee-v'>OLI_TIRS</span></li><li><span class='ee-k'>SPACECRAFT_ID:</span><span class='ee-v'>LANDSAT_8</span></li><li><span class='ee-k'>STATION_ID:</span><span class='ee-v'>LGN</span></li><li><span class='ee-k'>SUN_AZIMUTH:</span><span class='ee-v'>139.48236643</span></li><li><span class='ee-k'>SUN_ELEVATION:</span><span class='ee-v'>62.65577777</span></li><li><span class='ee-k'>TARGET_WRS_PATH:</span><span class='ee-v'>192</span></li><li><span class='ee-k'>TARGET_WRS_ROW:</span><span class='ee-v'>28</span></li><li><span class='ee-k'>THERMAL_LINES:</span><span class='ee-v'>7761</span></li><li><span class='ee-k'>THERMAL_SAMPLES:</span><span class='ee-v'>7641</span></li><li><span class='ee-k'>TIRS_SSM_MODEL:</span><span class='ee-v'>FINAL</span></li><li><span class='ee-k'>TIRS_SSM_POSITION_STATUS:</span><span class='ee-v'>ESTIMATED</span></li><li><span class='ee-k'>TRUNCATION_OLI:</span><span class='ee-v'>UPPER</span></li><li><span class='ee-k'>UTM_ZONE:</span><span class='ee-v'>32</span></li><li><span class='ee-k'>WRS_PATH:</span><span class='ee-v'>192</span></li><li><span class='ee-k'>WRS_ROW:</span><span class='ee-v'>28</span></li><li><span class='ee-k'>WRS_TYPE:</span><span class='ee-v'>2</span></li><li><span class='ee-k'>system:asset_size:</span><span class='ee-v'>1325133899</span></li><li><label class='ee-shut'>system:footprint: LinearRing (20 vertices)<input type='checkbox' class='ee-toggle'></label><ul><li><span class='ee-k'>type:</span><span class='ee-v'>LinearRing</span></li><li><label class='ee-shut'>coordinates: List (20 elements)<input type='checkbox' class='ee-toggle'></label><ul><li><label class='ee-shut'>0: [13.570040043029872, 46.654416813545296]<input type='checkbox' class='ee-toggle'></label><ul><li><span class='ee-k'>0:</span><span class='ee-v'>13.570040043029872</span></li><li><span class='ee-k'>1:</span><span class='ee-v'>46.654416813545296</span></li></ul></li><li><label class='ee-shut'>1: [13.57030950533004, 46.657608468915754]<input type='checkbox' class='ee-toggle'></label><ul><li><span class='ee-k'>0:</span><span class='ee-v'>13.57030950533004</span></li><li><span class='ee-k'>1:</span><span class='ee-v'>46.657608468915754</span></li></ul></li><li><label class='ee-shut'>2: [12.732684120451934, 46.813905939205895]<input type='checkbox' class='ee-toggle'></label><ul><li><span class='ee-k'>0:</span><span class='ee-v'>12.732684120451934</span></li><li><span class='ee-k'>1:</span><span class='ee-v'>46.813905939205895</span></li></ul></li><li><label class='ee-shut'>3: [11.149609931838503, 47.09039452737895]<input type='checkbox' class='ee-toggle'></label><ul><li><span class='ee-k'>0:</span><span class='ee-v'>11.149609931838503</span></li><li><span class='ee-k'>1:</span><span class='ee-v'>47.09039452737895</span></li></ul></li><li><label class='ee-shut'>4: [11.142303071184564, 47.07212309241153]<input type='checkbox' class='ee-toggle'></label><ul><li><span class='ee-k'>0:</span><span class='ee-v'>11.142303071184564</span></li><li><span class='ee-k'>1:</span><span class='ee-v'>47.07212309241153</span></li></ul></li><li><label class='ee-shut'>5: [10.987898933624006, 46.64847357585728]<input type='checkbox' class='ee-toggle'></label><ul><li><span class='ee-k'>0:</span><span class='ee-v'>10.987898933624006</span></li><li><span class='ee-k'>1:</span><span class='ee-v'>46.64847357585728</span></li></ul></li><li><label class='ee-shut'>6: [10.780188518270673, 46.05958351333433]<input type='checkbox' class='ee-toggle'></label><ul><li><span class='ee-k'>0:</span><span class='ee-v'>10.780188518270673</span></li><li><span class='ee-k'>1:</span><span class='ee-v'>46.05958351333433</span></li></ul></li><li><label class='ee-shut'>7: [10.577026814415502, 45.47020280904562]<input type='checkbox' class='ee-toggle'></label><ul><li><span class='ee-k'>0:</span><span class='ee-v'>10.577026814415502</span></li><li><span class='ee-k'>1:</span><span class='ee-v'>45.47020280904562</span></li></ul></li><li><label class='ee-shut'>8: [10.54692041072637, 45.38164228973548]<input type='checkbox' class='ee-toggle'></label><ul><li><span class='ee-k'>0:</span><span class='ee-v'>10.54692041072637</span></li><li><span class='ee-k'>1:</span><span class='ee-v'>45.38164228973548</span></li></ul></li><li><label class='ee-shut'>9: [10.770087673355977, 45.34326447997294]<input type='checkbox' class='ee-toggle'></label><ul><li><span class='ee-k'>0:</span><span class='ee-v'>10.770087673355977</span></li><li><span class='ee-k'>1:</span><span class='ee-v'>45.34326447997294</span></li></ul></li><li><label class='ee-shut'>10: [11.869928311224376, 45.147134943075386]<input type='checkbox' class='ee-toggle'></label><ul><li><span class='ee-k'>0:</span><span class='ee-v'>11.869928311224376</span></li><li><span class='ee-k'>1:</span><span class='ee-v'>45.147134943075386</span></li></ul></li><li><label class='ee-shut'>11: [12.593543779297223, 45.01159340339521]<input type='checkbox' class='ee-toggle'></label><ul><li><span class='ee-k'>0:</span><span class='ee-v'>12.593543779297223</span></li><li><span class='ee-k'>1:</span><span class='ee-v'>45.01159340339521</span></li></ul></li><li><label class='ee-shut'>12: [12.902494732025216, 44.95214706117717]<input type='checkbox' class='ee-toggle'></label><ul><li><span class='ee-k'>0:</span><span class='ee-v'>12.902494732025216</span></li><li><span class='ee-k'>1:</span><span class='ee-v'>44.95214706117717</span></li></ul></li><li><label class='ee-shut'>13: [12.91731487298338, 44.99061697172386]<input type='checkbox' class='ee-toggle'></label><ul><li><span class='ee-k'>0:</span><span class='ee-v'>12.91731487298338</span></li><li><span class='ee-k'>1:</span><span class='ee-v'>44.99061697172386</span></li></ul></li><li><label class='ee-shut'>14: [13.03248775006833, 45.28966787875282]<input type='checkbox' class='ee-toggle'></label><ul><li><span class='ee-k'>0:</span><span class='ee-v'>13.03248775006833</span></li><li><span class='ee-k'>1:</span><span class='ee-v'>45.28966787875282</span></li></ul></li><li><label class='ee-shut'>15: [13.082897365520136, 45.419688292821476]<input type='checkbox' class='ee-toggle'></label><ul><li><span class='ee-k'>0:</span><span class='ee-v'>13.082897365520136</span></li><li><span class='ee-k'>1:</span><span class='ee-v'>45.419688292821476</span></li></ul></li><li><label class='ee-shut'>16: [13.194901054524186, 45.70733163332645]<input type='checkbox' class='ee-toggle'></label><ul><li><span class='ee-k'>0:</span><span class='ee-v'>13.194901054524186</span></li><li><span class='ee-k'>1:</span><span class='ee-v'>45.70733163332645</span></li></ul></li><li><label class='ee-shut'>17: [13.35996607966329, 46.12523707994944]<input type='checkbox' class='ee-toggle'></label><ul><li><span class='ee-k'>0:</span><span class='ee-v'>13.35996607966329</span></li><li><span class='ee-k'>1:</span><span class='ee-v'>46.12523707994944</span></li></ul></li><li><label class='ee-shut'>18: [13.548431593162958, 46.59802169818863]<input type='checkbox' class='ee-toggle'></label><ul><li><span class='ee-k'>0:</span><span class='ee-v'>13.548431593162958</span></li><li><span class='ee-k'>1:</span><span class='ee-v'>46.59802169818863</span></li></ul></li><li><label class='ee-shut'>19: [13.570040043029872, 46.654416813545296]<input type='checkbox' class='ee-toggle'></label><ul><li><span class='ee-k'>0:</span><span class='ee-v'>13.570040043029872</span></li><li><span class='ee-k'>1:</span><span class='ee-v'>46.654416813545296</span></li></ul></li></ul></li></ul></li><li><span class='ee-k'>system:index:</span><span class='ee-v'>LC08_192028_20220625</span></li><li><span class='ee-k'>system:time_end:</span><span class='ee-v'>1656151115950</span></li><li><span class='ee-k'>system:time_start:</span><span class='ee-v'>1656151115950</span></li></ul></li></ul></li><li><label class='ee-shut'>1: Image LANDSAT/LC08/C02/T1_TOA/LC08_192028_20220711 (18 bands)<input type='checkbox' class='ee-toggle'></label><ul><li><span class='ee-k'>type:</span><span class='ee-v'>Image</span></li><li><span class='ee-k'>id:</span><span class='ee-v'>LANDSAT/LC08/C02/T1_TOA/LC08_192028_20220711</span></li><li><span class='ee-k'>version:</span><span class='ee-v'>1673734775139334</span></li><li><label class='ee-shut'>bands: List (18 elements)<input type='checkbox' class='ee-toggle'></label><ul><li><label class='ee-shut'>0: \"B1\", float, EPSG:32632, 7641x7751 px<input type='checkbox' class='ee-toggle'></label><ul><li><span class='ee-k'>id:</span><span class='ee-v'>B1</span></li><li><span class='ee-k'>crs:</span><span class='ee-v'>EPSG:32632</span></li><li><label class='ee-shut'>crs_transform: [30, 0, 622785, 0, -30, 5217615]<input type='checkbox' class='ee-toggle'></label><ul><li><span class='ee-k'>0:</span><span class='ee-v'>30</span></li><li><span class='ee-k'>1:</span><span class='ee-v'>0</span></li><li><span class='ee-k'>2:</span><span class='ee-v'>622785</span></li><li><span class='ee-k'>3:</span><span class='ee-v'>0</span></li><li><span class='ee-k'>4:</span><span class='ee-v'>-30</span></li><li><span class='ee-k'>5:</span><span class='ee-v'>5217615</span></li></ul></li><li><label class='ee-shut'>data_type: float<input type='checkbox' class='ee-toggle'></label><ul><li><span class='ee-k'>type:</span><span class='ee-v'>PixelType</span></li><li><span class='ee-k'>precision:</span><span class='ee-v'>float</span></li></ul></li><li><label class='ee-shut'>dimensions: [7641, 7751]<input type='checkbox' class='ee-toggle'></label><ul><li><span class='ee-k'>0:</span><span class='ee-v'>7641</span></li><li><span class='ee-k'>1:</span><span class='ee-v'>7751</span></li></ul></li></ul></li><li><label class='ee-shut'>1: \"B2\", float, EPSG:32632, 7641x7751 px<input type='checkbox' class='ee-toggle'></label><ul><li><span class='ee-k'>id:</span><span class='ee-v'>B2</span></li><li><span class='ee-k'>crs:</span><span class='ee-v'>EPSG:32632</span></li><li><label class='ee-shut'>crs_transform: [30, 0, 622785, 0, -30, 5217615]<input type='checkbox' class='ee-toggle'></label><ul><li><span class='ee-k'>0:</span><span class='ee-v'>30</span></li><li><span class='ee-k'>1:</span><span class='ee-v'>0</span></li><li><span class='ee-k'>2:</span><span class='ee-v'>622785</span></li><li><span class='ee-k'>3:</span><span class='ee-v'>0</span></li><li><span class='ee-k'>4:</span><span class='ee-v'>-30</span></li><li><span class='ee-k'>5:</span><span class='ee-v'>5217615</span></li></ul></li><li><label class='ee-shut'>data_type: float<input type='checkbox' class='ee-toggle'></label><ul><li><span class='ee-k'>type:</span><span class='ee-v'>PixelType</span></li><li><span class='ee-k'>precision:</span><span class='ee-v'>float</span></li></ul></li><li><label class='ee-shut'>dimensions: [7641, 7751]<input type='checkbox' class='ee-toggle'></label><ul><li><span class='ee-k'>0:</span><span class='ee-v'>7641</span></li><li><span class='ee-k'>1:</span><span class='ee-v'>7751</span></li></ul></li></ul></li><li><label class='ee-shut'>2: \"B3\", float, EPSG:32632, 7641x7751 px<input type='checkbox' class='ee-toggle'></label><ul><li><span class='ee-k'>id:</span><span class='ee-v'>B3</span></li><li><span class='ee-k'>crs:</span><span class='ee-v'>EPSG:32632</span></li><li><label class='ee-shut'>crs_transform: [30, 0, 622785, 0, -30, 5217615]<input type='checkbox' class='ee-toggle'></label><ul><li><span class='ee-k'>0:</span><span class='ee-v'>30</span></li><li><span class='ee-k'>1:</span><span class='ee-v'>0</span></li><li><span class='ee-k'>2:</span><span class='ee-v'>622785</span></li><li><span class='ee-k'>3:</span><span class='ee-v'>0</span></li><li><span class='ee-k'>4:</span><span class='ee-v'>-30</span></li><li><span class='ee-k'>5:</span><span class='ee-v'>5217615</span></li></ul></li><li><label class='ee-shut'>data_type: float<input type='checkbox' class='ee-toggle'></label><ul><li><span class='ee-k'>type:</span><span class='ee-v'>PixelType</span></li><li><span class='ee-k'>precision:</span><span class='ee-v'>float</span></li></ul></li><li><label class='ee-shut'>dimensions: [7641, 7751]<input type='checkbox' class='ee-toggle'></label><ul><li><span class='ee-k'>0:</span><span class='ee-v'>7641</span></li><li><span class='ee-k'>1:</span><span class='ee-v'>7751</span></li></ul></li></ul></li><li><label class='ee-shut'>3: \"B4\", float, EPSG:32632, 7641x7751 px<input type='checkbox' class='ee-toggle'></label><ul><li><span class='ee-k'>id:</span><span class='ee-v'>B4</span></li><li><span class='ee-k'>crs:</span><span class='ee-v'>EPSG:32632</span></li><li><label class='ee-shut'>crs_transform: [30, 0, 622785, 0, -30, 5217615]<input type='checkbox' class='ee-toggle'></label><ul><li><span class='ee-k'>0:</span><span class='ee-v'>30</span></li><li><span class='ee-k'>1:</span><span class='ee-v'>0</span></li><li><span class='ee-k'>2:</span><span class='ee-v'>622785</span></li><li><span class='ee-k'>3:</span><span class='ee-v'>0</span></li><li><span class='ee-k'>4:</span><span class='ee-v'>-30</span></li><li><span class='ee-k'>5:</span><span class='ee-v'>5217615</span></li></ul></li><li><label class='ee-shut'>data_type: float<input type='checkbox' class='ee-toggle'></label><ul><li><span class='ee-k'>type:</span><span class='ee-v'>PixelType</span></li><li><span class='ee-k'>precision:</span><span class='ee-v'>float</span></li></ul></li><li><label class='ee-shut'>dimensions: [7641, 7751]<input type='checkbox' class='ee-toggle'></label><ul><li><span class='ee-k'>0:</span><span class='ee-v'>7641</span></li><li><span class='ee-k'>1:</span><span class='ee-v'>7751</span></li></ul></li></ul></li><li><label class='ee-shut'>4: \"B5\", float, EPSG:32632, 7641x7751 px<input type='checkbox' class='ee-toggle'></label><ul><li><span class='ee-k'>id:</span><span class='ee-v'>B5</span></li><li><span class='ee-k'>crs:</span><span class='ee-v'>EPSG:32632</span></li><li><label class='ee-shut'>crs_transform: [30, 0, 622785, 0, -30, 5217615]<input type='checkbox' class='ee-toggle'></label><ul><li><span class='ee-k'>0:</span><span class='ee-v'>30</span></li><li><span class='ee-k'>1:</span><span class='ee-v'>0</span></li><li><span class='ee-k'>2:</span><span class='ee-v'>622785</span></li><li><span class='ee-k'>3:</span><span class='ee-v'>0</span></li><li><span class='ee-k'>4:</span><span class='ee-v'>-30</span></li><li><span class='ee-k'>5:</span><span class='ee-v'>5217615</span></li></ul></li><li><label class='ee-shut'>data_type: float<input type='checkbox' class='ee-toggle'></label><ul><li><span class='ee-k'>type:</span><span class='ee-v'>PixelType</span></li><li><span class='ee-k'>precision:</span><span class='ee-v'>float</span></li></ul></li><li><label class='ee-shut'>dimensions: [7641, 7751]<input type='checkbox' class='ee-toggle'></label><ul><li><span class='ee-k'>0:</span><span class='ee-v'>7641</span></li><li><span class='ee-k'>1:</span><span class='ee-v'>7751</span></li></ul></li></ul></li><li><label class='ee-shut'>5: \"B6\", float, EPSG:32632, 7641x7751 px<input type='checkbox' class='ee-toggle'></label><ul><li><span class='ee-k'>id:</span><span class='ee-v'>B6</span></li><li><span class='ee-k'>crs:</span><span class='ee-v'>EPSG:32632</span></li><li><label class='ee-shut'>crs_transform: [30, 0, 622785, 0, -30, 5217615]<input type='checkbox' class='ee-toggle'></label><ul><li><span class='ee-k'>0:</span><span class='ee-v'>30</span></li><li><span class='ee-k'>1:</span><span class='ee-v'>0</span></li><li><span class='ee-k'>2:</span><span class='ee-v'>622785</span></li><li><span class='ee-k'>3:</span><span class='ee-v'>0</span></li><li><span class='ee-k'>4:</span><span class='ee-v'>-30</span></li><li><span class='ee-k'>5:</span><span class='ee-v'>5217615</span></li></ul></li><li><label class='ee-shut'>data_type: float<input type='checkbox' class='ee-toggle'></label><ul><li><span class='ee-k'>type:</span><span class='ee-v'>PixelType</span></li><li><span class='ee-k'>precision:</span><span class='ee-v'>float</span></li></ul></li><li><label class='ee-shut'>dimensions: [7641, 7751]<input type='checkbox' class='ee-toggle'></label><ul><li><span class='ee-k'>0:</span><span class='ee-v'>7641</span></li><li><span class='ee-k'>1:</span><span class='ee-v'>7751</span></li></ul></li></ul></li><li><label class='ee-shut'>6: \"B7\", float, EPSG:32632, 7641x7751 px<input type='checkbox' class='ee-toggle'></label><ul><li><span class='ee-k'>id:</span><span class='ee-v'>B7</span></li><li><span class='ee-k'>crs:</span><span class='ee-v'>EPSG:32632</span></li><li><label class='ee-shut'>crs_transform: [30, 0, 622785, 0, -30, 5217615]<input type='checkbox' class='ee-toggle'></label><ul><li><span class='ee-k'>0:</span><span class='ee-v'>30</span></li><li><span class='ee-k'>1:</span><span class='ee-v'>0</span></li><li><span class='ee-k'>2:</span><span class='ee-v'>622785</span></li><li><span class='ee-k'>3:</span><span class='ee-v'>0</span></li><li><span class='ee-k'>4:</span><span class='ee-v'>-30</span></li><li><span class='ee-k'>5:</span><span class='ee-v'>5217615</span></li></ul></li><li><label class='ee-shut'>data_type: float<input type='checkbox' class='ee-toggle'></label><ul><li><span class='ee-k'>type:</span><span class='ee-v'>PixelType</span></li><li><span class='ee-k'>precision:</span><span class='ee-v'>float</span></li></ul></li><li><label class='ee-shut'>dimensions: [7641, 7751]<input type='checkbox' class='ee-toggle'></label><ul><li><span class='ee-k'>0:</span><span class='ee-v'>7641</span></li><li><span class='ee-k'>1:</span><span class='ee-v'>7751</span></li></ul></li></ul></li><li><label class='ee-shut'>7: \"B8\", float, EPSG:32632, 15281x15501 px<input type='checkbox' class='ee-toggle'></label><ul><li><span class='ee-k'>id:</span><span class='ee-v'>B8</span></li><li><span class='ee-k'>crs:</span><span class='ee-v'>EPSG:32632</span></li><li><label class='ee-shut'>crs_transform: [15, 0, 622792.5, 0, -15, 5217607.5]<input type='checkbox' class='ee-toggle'></label><ul><li><span class='ee-k'>0:</span><span class='ee-v'>15</span></li><li><span class='ee-k'>1:</span><span class='ee-v'>0</span></li><li><span class='ee-k'>2:</span><span class='ee-v'>622792.5</span></li><li><span class='ee-k'>3:</span><span class='ee-v'>0</span></li><li><span class='ee-k'>4:</span><span class='ee-v'>-15</span></li><li><span class='ee-k'>5:</span><span class='ee-v'>5217607.5</span></li></ul></li><li><label class='ee-shut'>data_type: float<input type='checkbox' class='ee-toggle'></label><ul><li><span class='ee-k'>type:</span><span class='ee-v'>PixelType</span></li><li><span class='ee-k'>precision:</span><span class='ee-v'>float</span></li></ul></li><li><label class='ee-shut'>dimensions: [15281, 15501]<input type='checkbox' class='ee-toggle'></label><ul><li><span class='ee-k'>0:</span><span class='ee-v'>15281</span></li><li><span class='ee-k'>1:</span><span class='ee-v'>15501</span></li></ul></li></ul></li><li><label class='ee-shut'>8: \"B9\", float, EPSG:32632, 7641x7751 px<input type='checkbox' class='ee-toggle'></label><ul><li><span class='ee-k'>id:</span><span class='ee-v'>B9</span></li><li><span class='ee-k'>crs:</span><span class='ee-v'>EPSG:32632</span></li><li><label class='ee-shut'>crs_transform: [30, 0, 622785, 0, -30, 5217615]<input type='checkbox' class='ee-toggle'></label><ul><li><span class='ee-k'>0:</span><span class='ee-v'>30</span></li><li><span class='ee-k'>1:</span><span class='ee-v'>0</span></li><li><span class='ee-k'>2:</span><span class='ee-v'>622785</span></li><li><span class='ee-k'>3:</span><span class='ee-v'>0</span></li><li><span class='ee-k'>4:</span><span class='ee-v'>-30</span></li><li><span class='ee-k'>5:</span><span class='ee-v'>5217615</span></li></ul></li><li><label class='ee-shut'>data_type: float<input type='checkbox' class='ee-toggle'></label><ul><li><span class='ee-k'>type:</span><span class='ee-v'>PixelType</span></li><li><span class='ee-k'>precision:</span><span class='ee-v'>float</span></li></ul></li><li><label class='ee-shut'>dimensions: [7641, 7751]<input type='checkbox' class='ee-toggle'></label><ul><li><span class='ee-k'>0:</span><span class='ee-v'>7641</span></li><li><span class='ee-k'>1:</span><span class='ee-v'>7751</span></li></ul></li></ul></li><li><label class='ee-shut'>9: \"B10\", float, EPSG:32632, 7641x7751 px<input type='checkbox' class='ee-toggle'></label><ul><li><span class='ee-k'>id:</span><span class='ee-v'>B10</span></li><li><span class='ee-k'>crs:</span><span class='ee-v'>EPSG:32632</span></li><li><label class='ee-shut'>crs_transform: [30, 0, 622785, 0, -30, 5217615]<input type='checkbox' class='ee-toggle'></label><ul><li><span class='ee-k'>0:</span><span class='ee-v'>30</span></li><li><span class='ee-k'>1:</span><span class='ee-v'>0</span></li><li><span class='ee-k'>2:</span><span class='ee-v'>622785</span></li><li><span class='ee-k'>3:</span><span class='ee-v'>0</span></li><li><span class='ee-k'>4:</span><span class='ee-v'>-30</span></li><li><span class='ee-k'>5:</span><span class='ee-v'>5217615</span></li></ul></li><li><label class='ee-shut'>data_type: float<input type='checkbox' class='ee-toggle'></label><ul><li><span class='ee-k'>type:</span><span class='ee-v'>PixelType</span></li><li><span class='ee-k'>precision:</span><span class='ee-v'>float</span></li></ul></li><li><label class='ee-shut'>dimensions: [7641, 7751]<input type='checkbox' class='ee-toggle'></label><ul><li><span class='ee-k'>0:</span><span class='ee-v'>7641</span></li><li><span class='ee-k'>1:</span><span class='ee-v'>7751</span></li></ul></li></ul></li><li><label class='ee-shut'>10: \"B11\", float, EPSG:32632, 7641x7751 px<input type='checkbox' class='ee-toggle'></label><ul><li><span class='ee-k'>id:</span><span class='ee-v'>B11</span></li><li><span class='ee-k'>crs:</span><span class='ee-v'>EPSG:32632</span></li><li><label class='ee-shut'>crs_transform: [30, 0, 622785, 0, -30, 5217615]<input type='checkbox' class='ee-toggle'></label><ul><li><span class='ee-k'>0:</span><span class='ee-v'>30</span></li><li><span class='ee-k'>1:</span><span class='ee-v'>0</span></li><li><span class='ee-k'>2:</span><span class='ee-v'>622785</span></li><li><span class='ee-k'>3:</span><span class='ee-v'>0</span></li><li><span class='ee-k'>4:</span><span class='ee-v'>-30</span></li><li><span class='ee-k'>5:</span><span class='ee-v'>5217615</span></li></ul></li><li><label class='ee-shut'>data_type: float<input type='checkbox' class='ee-toggle'></label><ul><li><span class='ee-k'>type:</span><span class='ee-v'>PixelType</span></li><li><span class='ee-k'>precision:</span><span class='ee-v'>float</span></li></ul></li><li><label class='ee-shut'>dimensions: [7641, 7751]<input type='checkbox' class='ee-toggle'></label><ul><li><span class='ee-k'>0:</span><span class='ee-v'>7641</span></li><li><span class='ee-k'>1:</span><span class='ee-v'>7751</span></li></ul></li></ul></li><li><label class='ee-shut'>11: \"QA_PIXEL\", unsigned int16, EPSG:32632, 7641x7751 px<input type='checkbox' class='ee-toggle'></label><ul><li><span class='ee-k'>id:</span><span class='ee-v'>QA_PIXEL</span></li><li><span class='ee-k'>crs:</span><span class='ee-v'>EPSG:32632</span></li><li><label class='ee-shut'>crs_transform: [30, 0, 622785, 0, -30, 5217615]<input type='checkbox' class='ee-toggle'></label><ul><li><span class='ee-k'>0:</span><span class='ee-v'>30</span></li><li><span class='ee-k'>1:</span><span class='ee-v'>0</span></li><li><span class='ee-k'>2:</span><span class='ee-v'>622785</span></li><li><span class='ee-k'>3:</span><span class='ee-v'>0</span></li><li><span class='ee-k'>4:</span><span class='ee-v'>-30</span></li><li><span class='ee-k'>5:</span><span class='ee-v'>5217615</span></li></ul></li><li><label class='ee-shut'>data_type: unsigned int16<input type='checkbox' class='ee-toggle'></label><ul><li><span class='ee-k'>type:</span><span class='ee-v'>PixelType</span></li><li><span class='ee-k'>max:</span><span class='ee-v'>65535</span></li><li><span class='ee-k'>min:</span><span class='ee-v'>0</span></li><li><span class='ee-k'>precision:</span><span class='ee-v'>int</span></li></ul></li><li><label class='ee-shut'>dimensions: [7641, 7751]<input type='checkbox' class='ee-toggle'></label><ul><li><span class='ee-k'>0:</span><span class='ee-v'>7641</span></li><li><span class='ee-k'>1:</span><span class='ee-v'>7751</span></li></ul></li></ul></li><li><label class='ee-shut'>12: \"QA_RADSAT\", unsigned int16, EPSG:32632, 7641x7751 px<input type='checkbox' class='ee-toggle'></label><ul><li><span class='ee-k'>id:</span><span class='ee-v'>QA_RADSAT</span></li><li><span class='ee-k'>crs:</span><span class='ee-v'>EPSG:32632</span></li><li><label class='ee-shut'>crs_transform: [30, 0, 622785, 0, -30, 5217615]<input type='checkbox' class='ee-toggle'></label><ul><li><span class='ee-k'>0:</span><span class='ee-v'>30</span></li><li><span class='ee-k'>1:</span><span class='ee-v'>0</span></li><li><span class='ee-k'>2:</span><span class='ee-v'>622785</span></li><li><span class='ee-k'>3:</span><span class='ee-v'>0</span></li><li><span class='ee-k'>4:</span><span class='ee-v'>-30</span></li><li><span class='ee-k'>5:</span><span class='ee-v'>5217615</span></li></ul></li><li><label class='ee-shut'>data_type: unsigned int16<input type='checkbox' class='ee-toggle'></label><ul><li><span class='ee-k'>type:</span><span class='ee-v'>PixelType</span></li><li><span class='ee-k'>max:</span><span class='ee-v'>65535</span></li><li><span class='ee-k'>min:</span><span class='ee-v'>0</span></li><li><span class='ee-k'>precision:</span><span class='ee-v'>int</span></li></ul></li><li><label class='ee-shut'>dimensions: [7641, 7751]<input type='checkbox' class='ee-toggle'></label><ul><li><span class='ee-k'>0:</span><span class='ee-v'>7641</span></li><li><span class='ee-k'>1:</span><span class='ee-v'>7751</span></li></ul></li></ul></li><li><label class='ee-shut'>13: \"SAA\", signed int16, EPSG:32632, 7641x7751 px<input type='checkbox' class='ee-toggle'></label><ul><li><span class='ee-k'>id:</span><span class='ee-v'>SAA</span></li><li><span class='ee-k'>crs:</span><span class='ee-v'>EPSG:32632</span></li><li><label class='ee-shut'>crs_transform: [30, 0, 622785, 0, -30, 5217615]<input type='checkbox' class='ee-toggle'></label><ul><li><span class='ee-k'>0:</span><span class='ee-v'>30</span></li><li><span class='ee-k'>1:</span><span class='ee-v'>0</span></li><li><span class='ee-k'>2:</span><span class='ee-v'>622785</span></li><li><span class='ee-k'>3:</span><span class='ee-v'>0</span></li><li><span class='ee-k'>4:</span><span class='ee-v'>-30</span></li><li><span class='ee-k'>5:</span><span class='ee-v'>5217615</span></li></ul></li><li><label class='ee-shut'>data_type: signed int16<input type='checkbox' class='ee-toggle'></label><ul><li><span class='ee-k'>type:</span><span class='ee-v'>PixelType</span></li><li><span class='ee-k'>max:</span><span class='ee-v'>32767</span></li><li><span class='ee-k'>min:</span><span class='ee-v'>-32768</span></li><li><span class='ee-k'>precision:</span><span class='ee-v'>int</span></li></ul></li><li><label class='ee-shut'>dimensions: [7641, 7751]<input type='checkbox' class='ee-toggle'></label><ul><li><span class='ee-k'>0:</span><span class='ee-v'>7641</span></li><li><span class='ee-k'>1:</span><span class='ee-v'>7751</span></li></ul></li></ul></li><li><label class='ee-shut'>14: \"SZA\", signed int16, EPSG:32632, 7641x7751 px<input type='checkbox' class='ee-toggle'></label><ul><li><span class='ee-k'>id:</span><span class='ee-v'>SZA</span></li><li><span class='ee-k'>crs:</span><span class='ee-v'>EPSG:32632</span></li><li><label class='ee-shut'>crs_transform: [30, 0, 622785, 0, -30, 5217615]<input type='checkbox' class='ee-toggle'></label><ul><li><span class='ee-k'>0:</span><span class='ee-v'>30</span></li><li><span class='ee-k'>1:</span><span class='ee-v'>0</span></li><li><span class='ee-k'>2:</span><span class='ee-v'>622785</span></li><li><span class='ee-k'>3:</span><span class='ee-v'>0</span></li><li><span class='ee-k'>4:</span><span class='ee-v'>-30</span></li><li><span class='ee-k'>5:</span><span class='ee-v'>5217615</span></li></ul></li><li><label class='ee-shut'>data_type: signed int16<input type='checkbox' class='ee-toggle'></label><ul><li><span class='ee-k'>type:</span><span class='ee-v'>PixelType</span></li><li><span class='ee-k'>max:</span><span class='ee-v'>32767</span></li><li><span class='ee-k'>min:</span><span class='ee-v'>-32768</span></li><li><span class='ee-k'>precision:</span><span class='ee-v'>int</span></li></ul></li><li><label class='ee-shut'>dimensions: [7641, 7751]<input type='checkbox' class='ee-toggle'></label><ul><li><span class='ee-k'>0:</span><span class='ee-v'>7641</span></li><li><span class='ee-k'>1:</span><span class='ee-v'>7751</span></li></ul></li></ul></li><li><label class='ee-shut'>15: \"VAA\", signed int16, EPSG:32632, 7641x7751 px<input type='checkbox' class='ee-toggle'></label><ul><li><span class='ee-k'>id:</span><span class='ee-v'>VAA</span></li><li><span class='ee-k'>crs:</span><span class='ee-v'>EPSG:32632</span></li><li><label class='ee-shut'>crs_transform: [30, 0, 622785, 0, -30, 5217615]<input type='checkbox' class='ee-toggle'></label><ul><li><span class='ee-k'>0:</span><span class='ee-v'>30</span></li><li><span class='ee-k'>1:</span><span class='ee-v'>0</span></li><li><span class='ee-k'>2:</span><span class='ee-v'>622785</span></li><li><span class='ee-k'>3:</span><span class='ee-v'>0</span></li><li><span class='ee-k'>4:</span><span class='ee-v'>-30</span></li><li><span class='ee-k'>5:</span><span class='ee-v'>5217615</span></li></ul></li><li><label class='ee-shut'>data_type: signed int16<input type='checkbox' class='ee-toggle'></label><ul><li><span class='ee-k'>type:</span><span class='ee-v'>PixelType</span></li><li><span class='ee-k'>max:</span><span class='ee-v'>32767</span></li><li><span class='ee-k'>min:</span><span class='ee-v'>-32768</span></li><li><span class='ee-k'>precision:</span><span class='ee-v'>int</span></li></ul></li><li><label class='ee-shut'>dimensions: [7641, 7751]<input type='checkbox' class='ee-toggle'></label><ul><li><span class='ee-k'>0:</span><span class='ee-v'>7641</span></li><li><span class='ee-k'>1:</span><span class='ee-v'>7751</span></li></ul></li></ul></li><li><label class='ee-shut'>16: \"VZA\", signed int16, EPSG:32632, 7641x7751 px<input type='checkbox' class='ee-toggle'></label><ul><li><span class='ee-k'>id:</span><span class='ee-v'>VZA</span></li><li><span class='ee-k'>crs:</span><span class='ee-v'>EPSG:32632</span></li><li><label class='ee-shut'>crs_transform: [30, 0, 622785, 0, -30, 5217615]<input type='checkbox' class='ee-toggle'></label><ul><li><span class='ee-k'>0:</span><span class='ee-v'>30</span></li><li><span class='ee-k'>1:</span><span class='ee-v'>0</span></li><li><span class='ee-k'>2:</span><span class='ee-v'>622785</span></li><li><span class='ee-k'>3:</span><span class='ee-v'>0</span></li><li><span class='ee-k'>4:</span><span class='ee-v'>-30</span></li><li><span class='ee-k'>5:</span><span class='ee-v'>5217615</span></li></ul></li><li><label class='ee-shut'>data_type: signed int16<input type='checkbox' class='ee-toggle'></label><ul><li><span class='ee-k'>type:</span><span class='ee-v'>PixelType</span></li><li><span class='ee-k'>max:</span><span class='ee-v'>32767</span></li><li><span class='ee-k'>min:</span><span class='ee-v'>-32768</span></li><li><span class='ee-k'>precision:</span><span class='ee-v'>int</span></li></ul></li><li><label class='ee-shut'>dimensions: [7641, 7751]<input type='checkbox' class='ee-toggle'></label><ul><li><span class='ee-k'>0:</span><span class='ee-v'>7641</span></li><li><span class='ee-k'>1:</span><span class='ee-v'>7751</span></li></ul></li></ul></li><li><label class='ee-shut'>17: \"NDVI\", float, EPSG:32632, 7641x7751 px<input type='checkbox' class='ee-toggle'></label><ul><li><span class='ee-k'>id:</span><span class='ee-v'>NDVI</span></li><li><span class='ee-k'>crs:</span><span class='ee-v'>EPSG:32632</span></li><li><label class='ee-shut'>crs_transform: [30, 0, 622785, 0, -30, 5217615]<input type='checkbox' class='ee-toggle'></label><ul><li><span class='ee-k'>0:</span><span class='ee-v'>30</span></li><li><span class='ee-k'>1:</span><span class='ee-v'>0</span></li><li><span class='ee-k'>2:</span><span class='ee-v'>622785</span></li><li><span class='ee-k'>3:</span><span class='ee-v'>0</span></li><li><span class='ee-k'>4:</span><span class='ee-v'>-30</span></li><li><span class='ee-k'>5:</span><span class='ee-v'>5217615</span></li></ul></li><li><label class='ee-shut'>data_type: float<input type='checkbox' class='ee-toggle'></label><ul><li><span class='ee-k'>type:</span><span class='ee-v'>PixelType</span></li><li><span class='ee-k'>max:</span><span class='ee-v'>1</span></li><li><span class='ee-k'>min:</span><span class='ee-v'>-1</span></li><li><span class='ee-k'>precision:</span><span class='ee-v'>float</span></li></ul></li><li><label class='ee-shut'>dimensions: [7641, 7751]<input type='checkbox' class='ee-toggle'></label><ul><li><span class='ee-k'>0:</span><span class='ee-v'>7641</span></li><li><span class='ee-k'>1:</span><span class='ee-v'>7751</span></li></ul></li></ul></li></ul></li><li><label class='ee-shut'>properties: Object (112 properties)<input type='checkbox' class='ee-toggle'></label><ul><li><span class='ee-k'>CLOUD_COVER:</span><span class='ee-v'>29.5</span></li><li><span class='ee-k'>CLOUD_COVER_LAND:</span><span class='ee-v'>31.47</span></li><li><span class='ee-k'>COLLECTION_CATEGORY:</span><span class='ee-v'>T1</span></li><li><span class='ee-k'>COLLECTION_NUMBER:</span><span class='ee-v'>2</span></li><li><span class='ee-k'>DATA_SOURCE_ELEVATION:</span><span class='ee-v'>GLS2000</span></li><li><span class='ee-k'>DATA_SOURCE_TIRS_STRAY_LIGHT_CORRECTION:</span><span class='ee-v'>TIRS</span></li><li><span class='ee-k'>DATE_ACQUIRED:</span><span class='ee-v'>2022-07-11</span></li><li><span class='ee-k'>DATE_PRODUCT_GENERATED:</span><span class='ee-v'>1658464424000</span></li><li><span class='ee-k'>DATUM:</span><span class='ee-v'>WGS84</span></li><li><span class='ee-k'>EARTH_SUN_DISTANCE:</span><span class='ee-v'>1.0165918</span></li><li><span class='ee-k'>ELLIPSOID:</span><span class='ee-v'>WGS84</span></li><li><span class='ee-k'>GEOMETRIC_RMSE_MODEL:</span><span class='ee-v'>5.717</span></li><li><span class='ee-k'>GEOMETRIC_RMSE_MODEL_X:</span><span class='ee-v'>4.155</span></li><li><span class='ee-k'>GEOMETRIC_RMSE_MODEL_Y:</span><span class='ee-v'>3.927</span></li><li><span class='ee-k'>GEOMETRIC_RMSE_VERIFY:</span><span class='ee-v'>4.034</span></li><li><span class='ee-k'>GRID_CELL_SIZE_PANCHROMATIC:</span><span class='ee-v'>15</span></li><li><span class='ee-k'>GRID_CELL_SIZE_REFLECTIVE:</span><span class='ee-v'>30</span></li><li><span class='ee-k'>GRID_CELL_SIZE_THERMAL:</span><span class='ee-v'>30</span></li><li><span class='ee-k'>GROUND_CONTROL_POINTS_MODEL:</span><span class='ee-v'>502</span></li><li><span class='ee-k'>GROUND_CONTROL_POINTS_VERIFY:</span><span class='ee-v'>113</span></li><li><span class='ee-k'>GROUND_CONTROL_POINTS_VERSION:</span><span class='ee-v'>5</span></li><li><span class='ee-k'>IMAGE_QUALITY_OLI:</span><span class='ee-v'>9</span></li><li><span class='ee-k'>IMAGE_QUALITY_TIRS:</span><span class='ee-v'>9</span></li><li><span class='ee-k'>K1_CONSTANT_BAND_10:</span><span class='ee-v'>774.8853</span></li><li><span class='ee-k'>K1_CONSTANT_BAND_11:</span><span class='ee-v'>480.8883</span></li><li><span class='ee-k'>K2_CONSTANT_BAND_10:</span><span class='ee-v'>1321.0789</span></li><li><span class='ee-k'>K2_CONSTANT_BAND_11:</span><span class='ee-v'>1201.1442</span></li><li><span class='ee-k'>LANDSAT_PRODUCT_ID:</span><span class='ee-v'>LC08_L1TP_192028_20220711_20220722_02_T1</span></li><li><span class='ee-k'>LANDSAT_SCENE_ID:</span><span class='ee-v'>LC81920282022192LGN00</span></li><li><span class='ee-k'>MAP_PROJECTION:</span><span class='ee-v'>UTM</span></li><li><span class='ee-k'>NADIR_OFFNADIR:</span><span class='ee-v'>NADIR</span></li><li><span class='ee-k'>ORIENTATION:</span><span class='ee-v'>NORTH_UP</span></li><li><span class='ee-k'>PANCHROMATIC_LINES:</span><span class='ee-v'>15501</span></li><li><span class='ee-k'>PANCHROMATIC_SAMPLES:</span><span class='ee-v'>15281</span></li><li><span class='ee-k'>PROCESSING_LEVEL:</span><span class='ee-v'>L1TP</span></li><li><span class='ee-k'>PROCESSING_SOFTWARE_VERSION:</span><span class='ee-v'>LPGS_16.1.0</span></li><li><span class='ee-k'>RADIANCE_ADD_BAND_1:</span><span class='ee-v'>-60.74628</span></li><li><span class='ee-k'>RADIANCE_ADD_BAND_10:</span><span class='ee-v'>0.1</span></li><li><span class='ee-k'>RADIANCE_ADD_BAND_11:</span><span class='ee-v'>0.1</span></li><li><span class='ee-k'>RADIANCE_ADD_BAND_2:</span><span class='ee-v'>-62.20493</span></li><li><span class='ee-k'>RADIANCE_ADD_BAND_3:</span><span class='ee-v'>-57.32131</span></li><li><span class='ee-k'>RADIANCE_ADD_BAND_4:</span><span class='ee-v'>-48.33656</span></li><li><span class='ee-k'>RADIANCE_ADD_BAND_5:</span><span class='ee-v'>-29.57956</span></li><li><span class='ee-k'>RADIANCE_ADD_BAND_6:</span><span class='ee-v'>-7.35617</span></li><li><span class='ee-k'>RADIANCE_ADD_BAND_7:</span><span class='ee-v'>-2.47942</span></li><li><span class='ee-k'>RADIANCE_ADD_BAND_8:</span><span class='ee-v'>-54.70368</span></li><li><span class='ee-k'>RADIANCE_ADD_BAND_9:</span><span class='ee-v'>-11.56036</span></li><li><span class='ee-k'>RADIANCE_MULT_BAND_1:</span><span class='ee-v'>0.012149</span></li><li><span class='ee-k'>RADIANCE_MULT_BAND_10:</span><span class='ee-v'>0.0003342</span></li><li><span class='ee-k'>RADIANCE_MULT_BAND_11:</span><span class='ee-v'>0.0003342</span></li><li><span class='ee-k'>RADIANCE_MULT_BAND_2:</span><span class='ee-v'>0.012441</span></li><li><span class='ee-k'>RADIANCE_MULT_BAND_3:</span><span class='ee-v'>0.011464</span></li><li><span class='ee-k'>RADIANCE_MULT_BAND_4:</span><span class='ee-v'>0.0096673</span></li><li><span class='ee-k'>RADIANCE_MULT_BAND_5:</span><span class='ee-v'>0.0059159</span></li><li><span class='ee-k'>RADIANCE_MULT_BAND_6:</span><span class='ee-v'>0.0014712</span></li><li><span class='ee-k'>RADIANCE_MULT_BAND_7:</span><span class='ee-v'>0.00049588</span></li><li><span class='ee-k'>RADIANCE_MULT_BAND_8:</span><span class='ee-v'>0.010941</span></li><li><span class='ee-k'>RADIANCE_MULT_BAND_9:</span><span class='ee-v'>0.0023121</span></li><li><span class='ee-k'>REFLECTANCE_ADD_BAND_1:</span><span class='ee-v'>-0.1</span></li><li><span class='ee-k'>REFLECTANCE_ADD_BAND_2:</span><span class='ee-v'>-0.1</span></li><li><span class='ee-k'>REFLECTANCE_ADD_BAND_3:</span><span class='ee-v'>-0.1</span></li><li><span class='ee-k'>REFLECTANCE_ADD_BAND_4:</span><span class='ee-v'>-0.1</span></li><li><span class='ee-k'>REFLECTANCE_ADD_BAND_5:</span><span class='ee-v'>-0.1</span></li><li><span class='ee-k'>REFLECTANCE_ADD_BAND_6:</span><span class='ee-v'>-0.1</span></li><li><span class='ee-k'>REFLECTANCE_ADD_BAND_7:</span><span class='ee-v'>-0.1</span></li><li><span class='ee-k'>REFLECTANCE_ADD_BAND_8:</span><span class='ee-v'>-0.1</span></li><li><span class='ee-k'>REFLECTANCE_ADD_BAND_9:</span><span class='ee-v'>-0.1</span></li><li><span class='ee-k'>REFLECTANCE_MULT_BAND_1:</span><span class='ee-v'>2e-05</span></li><li><span class='ee-k'>REFLECTANCE_MULT_BAND_2:</span><span class='ee-v'>2e-05</span></li><li><span class='ee-k'>REFLECTANCE_MULT_BAND_3:</span><span class='ee-v'>2e-05</span></li><li><span class='ee-k'>REFLECTANCE_MULT_BAND_4:</span><span class='ee-v'>2e-05</span></li><li><span class='ee-k'>REFLECTANCE_MULT_BAND_5:</span><span class='ee-v'>2e-05</span></li><li><span class='ee-k'>REFLECTANCE_MULT_BAND_6:</span><span class='ee-v'>2e-05</span></li><li><span class='ee-k'>REFLECTANCE_MULT_BAND_7:</span><span class='ee-v'>2e-05</span></li><li><span class='ee-k'>REFLECTANCE_MULT_BAND_8:</span><span class='ee-v'>2e-05</span></li><li><span class='ee-k'>REFLECTANCE_MULT_BAND_9:</span><span class='ee-v'>2e-05</span></li><li><span class='ee-k'>REFLECTIVE_LINES:</span><span class='ee-v'>7751</span></li><li><span class='ee-k'>REFLECTIVE_SAMPLES:</span><span class='ee-v'>7641</span></li><li><span class='ee-k'>REQUEST_ID:</span><span class='ee-v'>1554924_00620</span></li><li><span class='ee-k'>RESAMPLING_OPTION:</span><span class='ee-v'>CUBIC_CONVOLUTION</span></li><li><span class='ee-k'>ROLL_ANGLE:</span><span class='ee-v'>-0.001</span></li><li><span class='ee-k'>SATURATION_BAND_1:</span><span class='ee-v'>Y</span></li><li><span class='ee-k'>SATURATION_BAND_2:</span><span class='ee-v'>Y</span></li><li><span class='ee-k'>SATURATION_BAND_3:</span><span class='ee-v'>Y</span></li><li><span class='ee-k'>SATURATION_BAND_4:</span><span class='ee-v'>Y</span></li><li><span class='ee-k'>SATURATION_BAND_5:</span><span class='ee-v'>Y</span></li><li><span class='ee-k'>SATURATION_BAND_6:</span><span class='ee-v'>Y</span></li><li><span class='ee-k'>SATURATION_BAND_7:</span><span class='ee-v'>Y</span></li><li><span class='ee-k'>SATURATION_BAND_8:</span><span class='ee-v'>N</span></li><li><span class='ee-k'>SATURATION_BAND_9:</span><span class='ee-v'>N</span></li><li><span class='ee-k'>SCENE_CENTER_TIME:</span><span class='ee-v'>09:58:35.8800449Z</span></li><li><span class='ee-k'>SENSOR_ID:</span><span class='ee-v'>OLI_TIRS</span></li><li><span class='ee-k'>SPACECRAFT_ID:</span><span class='ee-v'>LANDSAT_8</span></li><li><span class='ee-k'>STATION_ID:</span><span class='ee-v'>LGN</span></li><li><span class='ee-k'>SUN_AZIMUTH:</span><span class='ee-v'>139.64403082</span></li><li><span class='ee-k'>SUN_ELEVATION:</span><span class='ee-v'>61.20265206</span></li><li><span class='ee-k'>TARGET_WRS_PATH:</span><span class='ee-v'>192</span></li><li><span class='ee-k'>TARGET_WRS_ROW:</span><span class='ee-v'>28</span></li><li><span class='ee-k'>THERMAL_LINES:</span><span class='ee-v'>7751</span></li><li><span class='ee-k'>THERMAL_SAMPLES:</span><span class='ee-v'>7641</span></li><li><span class='ee-k'>TIRS_SSM_MODEL:</span><span class='ee-v'>FINAL</span></li><li><span class='ee-k'>TIRS_SSM_POSITION_STATUS:</span><span class='ee-v'>ESTIMATED</span></li><li><span class='ee-k'>TRUNCATION_OLI:</span><span class='ee-v'>UPPER</span></li><li><span class='ee-k'>UTM_ZONE:</span><span class='ee-v'>32</span></li><li><span class='ee-k'>WRS_PATH:</span><span class='ee-v'>192</span></li><li><span class='ee-k'>WRS_ROW:</span><span class='ee-v'>28</span></li><li><span class='ee-k'>WRS_TYPE:</span><span class='ee-v'>2</span></li><li><span class='ee-k'>system:asset_size:</span><span class='ee-v'>1343776465</span></li><li><label class='ee-shut'>system:footprint: LinearRing (22 vertices)<input type='checkbox' class='ee-toggle'></label><ul><li><span class='ee-k'>type:</span><span class='ee-v'>LinearRing</span></li><li><label class='ee-shut'>coordinates: List (22 elements)<input type='checkbox' class='ee-toggle'></label><ul><li><label class='ee-shut'>0: [13.083424476753272, 45.358968511298194]<input type='checkbox' class='ee-toggle'></label><ul><li><span class='ee-k'>0:</span><span class='ee-v'>13.083424476753272</span></li><li><span class='ee-k'>1:</span><span class='ee-v'>45.358968511298194</span></li></ul></li><li><label class='ee-shut'>1: [13.098881390782257, 45.39880134517222]<input type='checkbox' class='ee-toggle'></label><ul><li><span class='ee-k'>0:</span><span class='ee-v'>13.098881390782257</span></li><li><span class='ee-k'>1:</span><span class='ee-v'>45.39880134517222</span></li></ul></li><li><label class='ee-shut'>2: [13.15998902879309, 45.556306077262846]<input type='checkbox' class='ee-toggle'></label><ul><li><span class='ee-k'>0:</span><span class='ee-v'>13.15998902879309</span></li><li><span class='ee-k'>1:</span><span class='ee-v'>45.556306077262846</span></li></ul></li><li><label class='ee-shut'>3: [13.266244840017029, 45.827823904710726]<input type='checkbox' class='ee-toggle'></label><ul><li><span class='ee-k'>0:</span><span class='ee-v'>13.266244840017029</span></li><li><span class='ee-k'>1:</span><span class='ee-v'>45.827823904710726</span></li></ul></li><li><label class='ee-shut'>4: [13.382115217763562, 46.12052090680563]<input type='checkbox' class='ee-toggle'></label><ul><li><span class='ee-k'>0:</span><span class='ee-v'>13.382115217763562</span></li><li><span class='ee-k'>1:</span><span class='ee-v'>46.12052090680563</span></li></ul></li><li><label class='ee-shut'>5: [13.570796979584644, 46.59373102762212]<input type='checkbox' class='ee-toggle'></label><ul><li><span class='ee-k'>0:</span><span class='ee-v'>13.570796979584644</span></li><li><span class='ee-k'>1:</span><span class='ee-v'>46.59373102762212</span></li></ul></li><li><label class='ee-shut'>6: [13.594256791812226, 46.65558540669538]<input type='checkbox' class='ee-toggle'></label><ul><li><span class='ee-k'>0:</span><span class='ee-v'>13.594256791812226</span></li><li><span class='ee-k'>1:</span><span class='ee-v'>46.65558540669538</span></li></ul></li><li><label class='ee-shut'>7: [13.594424580266686, 46.65756170007252]<input type='checkbox' class='ee-toggle'></label><ul><li><span class='ee-k'>0:</span><span class='ee-v'>13.594424580266686</span></li><li><span class='ee-k'>1:</span><span class='ee-v'>46.65756170007252</span></li></ul></li><li><label class='ee-shut'>8: [11.207075476849596, 47.08476276893444]<input type='checkbox' class='ee-toggle'></label><ul><li><span class='ee-k'>0:</span><span class='ee-v'>11.207075476849596</span></li><li><span class='ee-k'>1:</span><span class='ee-v'>47.08476276893444</span></li></ul></li><li><label class='ee-shut'>9: [11.172592083327022, 47.0905037327652]<input type='checkbox' class='ee-toggle'></label><ul><li><span class='ee-k'>0:</span><span class='ee-v'>11.172592083327022</span></li><li><span class='ee-k'>1:</span><span class='ee-v'>47.0905037327652</span></li></ul></li><li><label class='ee-shut'>10: [11.012672356634202, 46.65047012911686]<input type='checkbox' class='ee-toggle'></label><ul><li><span class='ee-k'>0:</span><span class='ee-v'>11.012672356634202</span></li><li><span class='ee-k'>1:</span><span class='ee-v'>46.65047012911686</span></li></ul></li><li><label class='ee-shut'>11: [10.789269424603361, 46.01650956294183]<input type='checkbox' class='ee-toggle'></label><ul><li><span class='ee-k'>0:</span><span class='ee-v'>10.789269424603361</span></li><li><span class='ee-k'>1:</span><span class='ee-v'>46.01650956294183</span></li></ul></li><li><label class='ee-shut'>12: [10.57099138818042, 45.38159446542598]<input type='checkbox' class='ee-toggle'></label><ul><li><span class='ee-k'>0:</span><span class='ee-v'>10.57099138818042</span></li><li><span class='ee-k'>1:</span><span class='ee-v'>45.38159446542598</span></li></ul></li><li><label class='ee-shut'>13: [10.61587241603976, 45.37390535545524]<input type='checkbox' class='ee-toggle'></label><ul><li><span class='ee-k'>0:</span><span class='ee-v'>10.61587241603976</span></li><li><span class='ee-k'>1:</span><span class='ee-v'>45.37390535545524</span></li></ul></li><li><label class='ee-shut'>14: [10.873598344198296, 45.3294609265254]<input type='checkbox' class='ee-toggle'></label><ul><li><span class='ee-k'>0:</span><span class='ee-v'>10.873598344198296</span></li><li><span class='ee-k'>1:</span><span class='ee-v'>45.3294609265254</span></li></ul></li><li><label class='ee-shut'>15: [11.89510336838004, 45.146904053551616]<input type='checkbox' class='ee-toggle'></label><ul><li><span class='ee-k'>0:</span><span class='ee-v'>11.89510336838004</span></li><li><span class='ee-k'>1:</span><span class='ee-v'>45.146904053551616</span></li></ul></li><li><label class='ee-shut'>16: [12.655329973074874, 45.00436378916591]<input type='checkbox' class='ee-toggle'></label><ul><li><span class='ee-k'>0:</span><span class='ee-v'>12.655329973074874</span></li><li><span class='ee-k'>1:</span><span class='ee-v'>45.00436378916591</span></li></ul></li><li><label class='ee-shut'>17: [12.904450175720692, 44.95640804018466]<input type='checkbox' class='ee-toggle'></label><ul><li><span class='ee-k'>0:</span><span class='ee-v'>12.904450175720692</span></li><li><span class='ee-k'>1:</span><span class='ee-v'>44.95640804018466</span></li></ul></li><li><label class='ee-shut'>18: [12.926593206380796, 44.952163331422526]<input type='checkbox' class='ee-toggle'></label><ul><li><span class='ee-k'>0:</span><span class='ee-v'>12.926593206380796</span></li><li><span class='ee-k'>1:</span><span class='ee-v'>44.952163331422526</span></li></ul></li><li><label class='ee-shut'>19: [12.930218383555488, 44.96156785821809]<input type='checkbox' class='ee-toggle'></label><ul><li><span class='ee-k'>0:</span><span class='ee-v'>12.930218383555488</span></li><li><span class='ee-k'>1:</span><span class='ee-v'>44.96156785821809</span></li></ul></li><li><label class='ee-shut'>20: [13.007521526528706, 45.162768667764354]<input type='checkbox' class='ee-toggle'></label><ul><li><span class='ee-k'>0:</span><span class='ee-v'>13.007521526528706</span></li><li><span class='ee-k'>1:</span><span class='ee-v'>45.162768667764354</span></li></ul></li><li><label class='ee-shut'>21: [13.083424476753272, 45.358968511298194]<input type='checkbox' class='ee-toggle'></label><ul><li><span class='ee-k'>0:</span><span class='ee-v'>13.083424476753272</span></li><li><span class='ee-k'>1:</span><span class='ee-v'>45.358968511298194</span></li></ul></li></ul></li></ul></li><li><span class='ee-k'>system:index:</span><span class='ee-v'>LC08_192028_20220711</span></li><li><span class='ee-k'>system:time_end:</span><span class='ee-v'>1657533515880</span></li><li><span class='ee-k'>system:time_start:</span><span class='ee-v'>1657533515880</span></li></ul></li></ul></li><li><label class='ee-shut'>2: Image LANDSAT/LC08/C02/T1_TOA/LC08_193028_20220702 (18 bands)<input type='checkbox' class='ee-toggle'></label><ul><li><span class='ee-k'>type:</span><span class='ee-v'>Image</span></li><li><span class='ee-k'>id:</span><span class='ee-v'>LANDSAT/LC08/C02/T1_TOA/LC08_193028_20220702</span></li><li><span class='ee-k'>version:</span><span class='ee-v'>1673734775139334</span></li><li><label class='ee-shut'>bands: List (18 elements)<input type='checkbox' class='ee-toggle'></label><ul><li><label class='ee-shut'>0: \"B1\", float, EPSG:32632, 7731x7841 px<input type='checkbox' class='ee-toggle'></label><ul><li><span class='ee-k'>id:</span><span class='ee-v'>B1</span></li><li><span class='ee-k'>crs:</span><span class='ee-v'>EPSG:32632</span></li><li><label class='ee-shut'>crs_transform: [30, 0, 500385, 0, -30, 5215515]<input type='checkbox' class='ee-toggle'></label><ul><li><span class='ee-k'>0:</span><span class='ee-v'>30</span></li><li><span class='ee-k'>1:</span><span class='ee-v'>0</span></li><li><span class='ee-k'>2:</span><span class='ee-v'>500385</span></li><li><span class='ee-k'>3:</span><span class='ee-v'>0</span></li><li><span class='ee-k'>4:</span><span class='ee-v'>-30</span></li><li><span class='ee-k'>5:</span><span class='ee-v'>5215515</span></li></ul></li><li><label class='ee-shut'>data_type: float<input type='checkbox' class='ee-toggle'></label><ul><li><span class='ee-k'>type:</span><span class='ee-v'>PixelType</span></li><li><span class='ee-k'>precision:</span><span class='ee-v'>float</span></li></ul></li><li><label class='ee-shut'>dimensions: [7731, 7841]<input type='checkbox' class='ee-toggle'></label><ul><li><span class='ee-k'>0:</span><span class='ee-v'>7731</span></li><li><span class='ee-k'>1:</span><span class='ee-v'>7841</span></li></ul></li></ul></li><li><label class='ee-shut'>1: \"B2\", float, EPSG:32632, 7731x7841 px<input type='checkbox' class='ee-toggle'></label><ul><li><span class='ee-k'>id:</span><span class='ee-v'>B2</span></li><li><span class='ee-k'>crs:</span><span class='ee-v'>EPSG:32632</span></li><li><label class='ee-shut'>crs_transform: [30, 0, 500385, 0, -30, 5215515]<input type='checkbox' class='ee-toggle'></label><ul><li><span class='ee-k'>0:</span><span class='ee-v'>30</span></li><li><span class='ee-k'>1:</span><span class='ee-v'>0</span></li><li><span class='ee-k'>2:</span><span class='ee-v'>500385</span></li><li><span class='ee-k'>3:</span><span class='ee-v'>0</span></li><li><span class='ee-k'>4:</span><span class='ee-v'>-30</span></li><li><span class='ee-k'>5:</span><span class='ee-v'>5215515</span></li></ul></li><li><label class='ee-shut'>data_type: float<input type='checkbox' class='ee-toggle'></label><ul><li><span class='ee-k'>type:</span><span class='ee-v'>PixelType</span></li><li><span class='ee-k'>precision:</span><span class='ee-v'>float</span></li></ul></li><li><label class='ee-shut'>dimensions: [7731, 7841]<input type='checkbox' class='ee-toggle'></label><ul><li><span class='ee-k'>0:</span><span class='ee-v'>7731</span></li><li><span class='ee-k'>1:</span><span class='ee-v'>7841</span></li></ul></li></ul></li><li><label class='ee-shut'>2: \"B3\", float, EPSG:32632, 7731x7841 px<input type='checkbox' class='ee-toggle'></label><ul><li><span class='ee-k'>id:</span><span class='ee-v'>B3</span></li><li><span class='ee-k'>crs:</span><span class='ee-v'>EPSG:32632</span></li><li><label class='ee-shut'>crs_transform: [30, 0, 500385, 0, -30, 5215515]<input type='checkbox' class='ee-toggle'></label><ul><li><span class='ee-k'>0:</span><span class='ee-v'>30</span></li><li><span class='ee-k'>1:</span><span class='ee-v'>0</span></li><li><span class='ee-k'>2:</span><span class='ee-v'>500385</span></li><li><span class='ee-k'>3:</span><span class='ee-v'>0</span></li><li><span class='ee-k'>4:</span><span class='ee-v'>-30</span></li><li><span class='ee-k'>5:</span><span class='ee-v'>5215515</span></li></ul></li><li><label class='ee-shut'>data_type: float<input type='checkbox' class='ee-toggle'></label><ul><li><span class='ee-k'>type:</span><span class='ee-v'>PixelType</span></li><li><span class='ee-k'>precision:</span><span class='ee-v'>float</span></li></ul></li><li><label class='ee-shut'>dimensions: [7731, 7841]<input type='checkbox' class='ee-toggle'></label><ul><li><span class='ee-k'>0:</span><span class='ee-v'>7731</span></li><li><span class='ee-k'>1:</span><span class='ee-v'>7841</span></li></ul></li></ul></li><li><label class='ee-shut'>3: \"B4\", float, EPSG:32632, 7731x7841 px<input type='checkbox' class='ee-toggle'></label><ul><li><span class='ee-k'>id:</span><span class='ee-v'>B4</span></li><li><span class='ee-k'>crs:</span><span class='ee-v'>EPSG:32632</span></li><li><label class='ee-shut'>crs_transform: [30, 0, 500385, 0, -30, 5215515]<input type='checkbox' class='ee-toggle'></label><ul><li><span class='ee-k'>0:</span><span class='ee-v'>30</span></li><li><span class='ee-k'>1:</span><span class='ee-v'>0</span></li><li><span class='ee-k'>2:</span><span class='ee-v'>500385</span></li><li><span class='ee-k'>3:</span><span class='ee-v'>0</span></li><li><span class='ee-k'>4:</span><span class='ee-v'>-30</span></li><li><span class='ee-k'>5:</span><span class='ee-v'>5215515</span></li></ul></li><li><label class='ee-shut'>data_type: float<input type='checkbox' class='ee-toggle'></label><ul><li><span class='ee-k'>type:</span><span class='ee-v'>PixelType</span></li><li><span class='ee-k'>precision:</span><span class='ee-v'>float</span></li></ul></li><li><label class='ee-shut'>dimensions: [7731, 7841]<input type='checkbox' class='ee-toggle'></label><ul><li><span class='ee-k'>0:</span><span class='ee-v'>7731</span></li><li><span class='ee-k'>1:</span><span class='ee-v'>7841</span></li></ul></li></ul></li><li><label class='ee-shut'>4: \"B5\", float, EPSG:32632, 7731x7841 px<input type='checkbox' class='ee-toggle'></label><ul><li><span class='ee-k'>id:</span><span class='ee-v'>B5</span></li><li><span class='ee-k'>crs:</span><span class='ee-v'>EPSG:32632</span></li><li><label class='ee-shut'>crs_transform: [30, 0, 500385, 0, -30, 5215515]<input type='checkbox' class='ee-toggle'></label><ul><li><span class='ee-k'>0:</span><span class='ee-v'>30</span></li><li><span class='ee-k'>1:</span><span class='ee-v'>0</span></li><li><span class='ee-k'>2:</span><span class='ee-v'>500385</span></li><li><span class='ee-k'>3:</span><span class='ee-v'>0</span></li><li><span class='ee-k'>4:</span><span class='ee-v'>-30</span></li><li><span class='ee-k'>5:</span><span class='ee-v'>5215515</span></li></ul></li><li><label class='ee-shut'>data_type: float<input type='checkbox' class='ee-toggle'></label><ul><li><span class='ee-k'>type:</span><span class='ee-v'>PixelType</span></li><li><span class='ee-k'>precision:</span><span class='ee-v'>float</span></li></ul></li><li><label class='ee-shut'>dimensions: [7731, 7841]<input type='checkbox' class='ee-toggle'></label><ul><li><span class='ee-k'>0:</span><span class='ee-v'>7731</span></li><li><span class='ee-k'>1:</span><span class='ee-v'>7841</span></li></ul></li></ul></li><li><label class='ee-shut'>5: \"B6\", float, EPSG:32632, 7731x7841 px<input type='checkbox' class='ee-toggle'></label><ul><li><span class='ee-k'>id:</span><span class='ee-v'>B6</span></li><li><span class='ee-k'>crs:</span><span class='ee-v'>EPSG:32632</span></li><li><label class='ee-shut'>crs_transform: [30, 0, 500385, 0, -30, 5215515]<input type='checkbox' class='ee-toggle'></label><ul><li><span class='ee-k'>0:</span><span class='ee-v'>30</span></li><li><span class='ee-k'>1:</span><span class='ee-v'>0</span></li><li><span class='ee-k'>2:</span><span class='ee-v'>500385</span></li><li><span class='ee-k'>3:</span><span class='ee-v'>0</span></li><li><span class='ee-k'>4:</span><span class='ee-v'>-30</span></li><li><span class='ee-k'>5:</span><span class='ee-v'>5215515</span></li></ul></li><li><label class='ee-shut'>data_type: float<input type='checkbox' class='ee-toggle'></label><ul><li><span class='ee-k'>type:</span><span class='ee-v'>PixelType</span></li><li><span class='ee-k'>precision:</span><span class='ee-v'>float</span></li></ul></li><li><label class='ee-shut'>dimensions: [7731, 7841]<input type='checkbox' class='ee-toggle'></label><ul><li><span class='ee-k'>0:</span><span class='ee-v'>7731</span></li><li><span class='ee-k'>1:</span><span class='ee-v'>7841</span></li></ul></li></ul></li><li><label class='ee-shut'>6: \"B7\", float, EPSG:32632, 7731x7841 px<input type='checkbox' class='ee-toggle'></label><ul><li><span class='ee-k'>id:</span><span class='ee-v'>B7</span></li><li><span class='ee-k'>crs:</span><span class='ee-v'>EPSG:32632</span></li><li><label class='ee-shut'>crs_transform: [30, 0, 500385, 0, -30, 5215515]<input type='checkbox' class='ee-toggle'></label><ul><li><span class='ee-k'>0:</span><span class='ee-v'>30</span></li><li><span class='ee-k'>1:</span><span class='ee-v'>0</span></li><li><span class='ee-k'>2:</span><span class='ee-v'>500385</span></li><li><span class='ee-k'>3:</span><span class='ee-v'>0</span></li><li><span class='ee-k'>4:</span><span class='ee-v'>-30</span></li><li><span class='ee-k'>5:</span><span class='ee-v'>5215515</span></li></ul></li><li><label class='ee-shut'>data_type: float<input type='checkbox' class='ee-toggle'></label><ul><li><span class='ee-k'>type:</span><span class='ee-v'>PixelType</span></li><li><span class='ee-k'>precision:</span><span class='ee-v'>float</span></li></ul></li><li><label class='ee-shut'>dimensions: [7731, 7841]<input type='checkbox' class='ee-toggle'></label><ul><li><span class='ee-k'>0:</span><span class='ee-v'>7731</span></li><li><span class='ee-k'>1:</span><span class='ee-v'>7841</span></li></ul></li></ul></li><li><label class='ee-shut'>7: \"B8\", float, EPSG:32632, 15461x15681 px<input type='checkbox' class='ee-toggle'></label><ul><li><span class='ee-k'>id:</span><span class='ee-v'>B8</span></li><li><span class='ee-k'>crs:</span><span class='ee-v'>EPSG:32632</span></li><li><label class='ee-shut'>crs_transform: [15, 0, 500392.5, 0, -15, 5215507.5]<input type='checkbox' class='ee-toggle'></label><ul><li><span class='ee-k'>0:</span><span class='ee-v'>15</span></li><li><span class='ee-k'>1:</span><span class='ee-v'>0</span></li><li><span class='ee-k'>2:</span><span class='ee-v'>500392.5</span></li><li><span class='ee-k'>3:</span><span class='ee-v'>0</span></li><li><span class='ee-k'>4:</span><span class='ee-v'>-15</span></li><li><span class='ee-k'>5:</span><span class='ee-v'>5215507.5</span></li></ul></li><li><label class='ee-shut'>data_type: float<input type='checkbox' class='ee-toggle'></label><ul><li><span class='ee-k'>type:</span><span class='ee-v'>PixelType</span></li><li><span class='ee-k'>precision:</span><span class='ee-v'>float</span></li></ul></li><li><label class='ee-shut'>dimensions: [15461, 15681]<input type='checkbox' class='ee-toggle'></label><ul><li><span class='ee-k'>0:</span><span class='ee-v'>15461</span></li><li><span class='ee-k'>1:</span><span class='ee-v'>15681</span></li></ul></li></ul></li><li><label class='ee-shut'>8: \"B9\", float, EPSG:32632, 7731x7841 px<input type='checkbox' class='ee-toggle'></label><ul><li><span class='ee-k'>id:</span><span class='ee-v'>B9</span></li><li><span class='ee-k'>crs:</span><span class='ee-v'>EPSG:32632</span></li><li><label class='ee-shut'>crs_transform: [30, 0, 500385, 0, -30, 5215515]<input type='checkbox' class='ee-toggle'></label><ul><li><span class='ee-k'>0:</span><span class='ee-v'>30</span></li><li><span class='ee-k'>1:</span><span class='ee-v'>0</span></li><li><span class='ee-k'>2:</span><span class='ee-v'>500385</span></li><li><span class='ee-k'>3:</span><span class='ee-v'>0</span></li><li><span class='ee-k'>4:</span><span class='ee-v'>-30</span></li><li><span class='ee-k'>5:</span><span class='ee-v'>5215515</span></li></ul></li><li><label class='ee-shut'>data_type: float<input type='checkbox' class='ee-toggle'></label><ul><li><span class='ee-k'>type:</span><span class='ee-v'>PixelType</span></li><li><span class='ee-k'>precision:</span><span class='ee-v'>float</span></li></ul></li><li><label class='ee-shut'>dimensions: [7731, 7841]<input type='checkbox' class='ee-toggle'></label><ul><li><span class='ee-k'>0:</span><span class='ee-v'>7731</span></li><li><span class='ee-k'>1:</span><span class='ee-v'>7841</span></li></ul></li></ul></li><li><label class='ee-shut'>9: \"B10\", float, EPSG:32632, 7731x7841 px<input type='checkbox' class='ee-toggle'></label><ul><li><span class='ee-k'>id:</span><span class='ee-v'>B10</span></li><li><span class='ee-k'>crs:</span><span class='ee-v'>EPSG:32632</span></li><li><label class='ee-shut'>crs_transform: [30, 0, 500385, 0, -30, 5215515]<input type='checkbox' class='ee-toggle'></label><ul><li><span class='ee-k'>0:</span><span class='ee-v'>30</span></li><li><span class='ee-k'>1:</span><span class='ee-v'>0</span></li><li><span class='ee-k'>2:</span><span class='ee-v'>500385</span></li><li><span class='ee-k'>3:</span><span class='ee-v'>0</span></li><li><span class='ee-k'>4:</span><span class='ee-v'>-30</span></li><li><span class='ee-k'>5:</span><span class='ee-v'>5215515</span></li></ul></li><li><label class='ee-shut'>data_type: float<input type='checkbox' class='ee-toggle'></label><ul><li><span class='ee-k'>type:</span><span class='ee-v'>PixelType</span></li><li><span class='ee-k'>precision:</span><span class='ee-v'>float</span></li></ul></li><li><label class='ee-shut'>dimensions: [7731, 7841]<input type='checkbox' class='ee-toggle'></label><ul><li><span class='ee-k'>0:</span><span class='ee-v'>7731</span></li><li><span class='ee-k'>1:</span><span class='ee-v'>7841</span></li></ul></li></ul></li><li><label class='ee-shut'>10: \"B11\", float, EPSG:32632, 7731x7841 px<input type='checkbox' class='ee-toggle'></label><ul><li><span class='ee-k'>id:</span><span class='ee-v'>B11</span></li><li><span class='ee-k'>crs:</span><span class='ee-v'>EPSG:32632</span></li><li><label class='ee-shut'>crs_transform: [30, 0, 500385, 0, -30, 5215515]<input type='checkbox' class='ee-toggle'></label><ul><li><span class='ee-k'>0:</span><span class='ee-v'>30</span></li><li><span class='ee-k'>1:</span><span class='ee-v'>0</span></li><li><span class='ee-k'>2:</span><span class='ee-v'>500385</span></li><li><span class='ee-k'>3:</span><span class='ee-v'>0</span></li><li><span class='ee-k'>4:</span><span class='ee-v'>-30</span></li><li><span class='ee-k'>5:</span><span class='ee-v'>5215515</span></li></ul></li><li><label class='ee-shut'>data_type: float<input type='checkbox' class='ee-toggle'></label><ul><li><span class='ee-k'>type:</span><span class='ee-v'>PixelType</span></li><li><span class='ee-k'>precision:</span><span class='ee-v'>float</span></li></ul></li><li><label class='ee-shut'>dimensions: [7731, 7841]<input type='checkbox' class='ee-toggle'></label><ul><li><span class='ee-k'>0:</span><span class='ee-v'>7731</span></li><li><span class='ee-k'>1:</span><span class='ee-v'>7841</span></li></ul></li></ul></li><li><label class='ee-shut'>11: \"QA_PIXEL\", unsigned int16, EPSG:32632, 7731x7841 px<input type='checkbox' class='ee-toggle'></label><ul><li><span class='ee-k'>id:</span><span class='ee-v'>QA_PIXEL</span></li><li><span class='ee-k'>crs:</span><span class='ee-v'>EPSG:32632</span></li><li><label class='ee-shut'>crs_transform: [30, 0, 500385, 0, -30, 5215515]<input type='checkbox' class='ee-toggle'></label><ul><li><span class='ee-k'>0:</span><span class='ee-v'>30</span></li><li><span class='ee-k'>1:</span><span class='ee-v'>0</span></li><li><span class='ee-k'>2:</span><span class='ee-v'>500385</span></li><li><span class='ee-k'>3:</span><span class='ee-v'>0</span></li><li><span class='ee-k'>4:</span><span class='ee-v'>-30</span></li><li><span class='ee-k'>5:</span><span class='ee-v'>5215515</span></li></ul></li><li><label class='ee-shut'>data_type: unsigned int16<input type='checkbox' class='ee-toggle'></label><ul><li><span class='ee-k'>type:</span><span class='ee-v'>PixelType</span></li><li><span class='ee-k'>max:</span><span class='ee-v'>65535</span></li><li><span class='ee-k'>min:</span><span class='ee-v'>0</span></li><li><span class='ee-k'>precision:</span><span class='ee-v'>int</span></li></ul></li><li><label class='ee-shut'>dimensions: [7731, 7841]<input type='checkbox' class='ee-toggle'></label><ul><li><span class='ee-k'>0:</span><span class='ee-v'>7731</span></li><li><span class='ee-k'>1:</span><span class='ee-v'>7841</span></li></ul></li></ul></li><li><label class='ee-shut'>12: \"QA_RADSAT\", unsigned int16, EPSG:32632, 7731x7841 px<input type='checkbox' class='ee-toggle'></label><ul><li><span class='ee-k'>id:</span><span class='ee-v'>QA_RADSAT</span></li><li><span class='ee-k'>crs:</span><span class='ee-v'>EPSG:32632</span></li><li><label class='ee-shut'>crs_transform: [30, 0, 500385, 0, -30, 5215515]<input type='checkbox' class='ee-toggle'></label><ul><li><span class='ee-k'>0:</span><span class='ee-v'>30</span></li><li><span class='ee-k'>1:</span><span class='ee-v'>0</span></li><li><span class='ee-k'>2:</span><span class='ee-v'>500385</span></li><li><span class='ee-k'>3:</span><span class='ee-v'>0</span></li><li><span class='ee-k'>4:</span><span class='ee-v'>-30</span></li><li><span class='ee-k'>5:</span><span class='ee-v'>5215515</span></li></ul></li><li><label class='ee-shut'>data_type: unsigned int16<input type='checkbox' class='ee-toggle'></label><ul><li><span class='ee-k'>type:</span><span class='ee-v'>PixelType</span></li><li><span class='ee-k'>max:</span><span class='ee-v'>65535</span></li><li><span class='ee-k'>min:</span><span class='ee-v'>0</span></li><li><span class='ee-k'>precision:</span><span class='ee-v'>int</span></li></ul></li><li><label class='ee-shut'>dimensions: [7731, 7841]<input type='checkbox' class='ee-toggle'></label><ul><li><span class='ee-k'>0:</span><span class='ee-v'>7731</span></li><li><span class='ee-k'>1:</span><span class='ee-v'>7841</span></li></ul></li></ul></li><li><label class='ee-shut'>13: \"SAA\", signed int16, EPSG:32632, 7731x7841 px<input type='checkbox' class='ee-toggle'></label><ul><li><span class='ee-k'>id:</span><span class='ee-v'>SAA</span></li><li><span class='ee-k'>crs:</span><span class='ee-v'>EPSG:32632</span></li><li><label class='ee-shut'>crs_transform: [30, 0, 500385, 0, -30, 5215515]<input type='checkbox' class='ee-toggle'></label><ul><li><span class='ee-k'>0:</span><span class='ee-v'>30</span></li><li><span class='ee-k'>1:</span><span class='ee-v'>0</span></li><li><span class='ee-k'>2:</span><span class='ee-v'>500385</span></li><li><span class='ee-k'>3:</span><span class='ee-v'>0</span></li><li><span class='ee-k'>4:</span><span class='ee-v'>-30</span></li><li><span class='ee-k'>5:</span><span class='ee-v'>5215515</span></li></ul></li><li><label class='ee-shut'>data_type: signed int16<input type='checkbox' class='ee-toggle'></label><ul><li><span class='ee-k'>type:</span><span class='ee-v'>PixelType</span></li><li><span class='ee-k'>max:</span><span class='ee-v'>32767</span></li><li><span class='ee-k'>min:</span><span class='ee-v'>-32768</span></li><li><span class='ee-k'>precision:</span><span class='ee-v'>int</span></li></ul></li><li><label class='ee-shut'>dimensions: [7731, 7841]<input type='checkbox' class='ee-toggle'></label><ul><li><span class='ee-k'>0:</span><span class='ee-v'>7731</span></li><li><span class='ee-k'>1:</span><span class='ee-v'>7841</span></li></ul></li></ul></li><li><label class='ee-shut'>14: \"SZA\", signed int16, EPSG:32632, 7731x7841 px<input type='checkbox' class='ee-toggle'></label><ul><li><span class='ee-k'>id:</span><span class='ee-v'>SZA</span></li><li><span class='ee-k'>crs:</span><span class='ee-v'>EPSG:32632</span></li><li><label class='ee-shut'>crs_transform: [30, 0, 500385, 0, -30, 5215515]<input type='checkbox' class='ee-toggle'></label><ul><li><span class='ee-k'>0:</span><span class='ee-v'>30</span></li><li><span class='ee-k'>1:</span><span class='ee-v'>0</span></li><li><span class='ee-k'>2:</span><span class='ee-v'>500385</span></li><li><span class='ee-k'>3:</span><span class='ee-v'>0</span></li><li><span class='ee-k'>4:</span><span class='ee-v'>-30</span></li><li><span class='ee-k'>5:</span><span class='ee-v'>5215515</span></li></ul></li><li><label class='ee-shut'>data_type: signed int16<input type='checkbox' class='ee-toggle'></label><ul><li><span class='ee-k'>type:</span><span class='ee-v'>PixelType</span></li><li><span class='ee-k'>max:</span><span class='ee-v'>32767</span></li><li><span class='ee-k'>min:</span><span class='ee-v'>-32768</span></li><li><span class='ee-k'>precision:</span><span class='ee-v'>int</span></li></ul></li><li><label class='ee-shut'>dimensions: [7731, 7841]<input type='checkbox' class='ee-toggle'></label><ul><li><span class='ee-k'>0:</span><span class='ee-v'>7731</span></li><li><span class='ee-k'>1:</span><span class='ee-v'>7841</span></li></ul></li></ul></li><li><label class='ee-shut'>15: \"VAA\", signed int16, EPSG:32632, 7731x7841 px<input type='checkbox' class='ee-toggle'></label><ul><li><span class='ee-k'>id:</span><span class='ee-v'>VAA</span></li><li><span class='ee-k'>crs:</span><span class='ee-v'>EPSG:32632</span></li><li><label class='ee-shut'>crs_transform: [30, 0, 500385, 0, -30, 5215515]<input type='checkbox' class='ee-toggle'></label><ul><li><span class='ee-k'>0:</span><span class='ee-v'>30</span></li><li><span class='ee-k'>1:</span><span class='ee-v'>0</span></li><li><span class='ee-k'>2:</span><span class='ee-v'>500385</span></li><li><span class='ee-k'>3:</span><span class='ee-v'>0</span></li><li><span class='ee-k'>4:</span><span class='ee-v'>-30</span></li><li><span class='ee-k'>5:</span><span class='ee-v'>5215515</span></li></ul></li><li><label class='ee-shut'>data_type: signed int16<input type='checkbox' class='ee-toggle'></label><ul><li><span class='ee-k'>type:</span><span class='ee-v'>PixelType</span></li><li><span class='ee-k'>max:</span><span class='ee-v'>32767</span></li><li><span class='ee-k'>min:</span><span class='ee-v'>-32768</span></li><li><span class='ee-k'>precision:</span><span class='ee-v'>int</span></li></ul></li><li><label class='ee-shut'>dimensions: [7731, 7841]<input type='checkbox' class='ee-toggle'></label><ul><li><span class='ee-k'>0:</span><span class='ee-v'>7731</span></li><li><span class='ee-k'>1:</span><span class='ee-v'>7841</span></li></ul></li></ul></li><li><label class='ee-shut'>16: \"VZA\", signed int16, EPSG:32632, 7731x7841 px<input type='checkbox' class='ee-toggle'></label><ul><li><span class='ee-k'>id:</span><span class='ee-v'>VZA</span></li><li><span class='ee-k'>crs:</span><span class='ee-v'>EPSG:32632</span></li><li><label class='ee-shut'>crs_transform: [30, 0, 500385, 0, -30, 5215515]<input type='checkbox' class='ee-toggle'></label><ul><li><span class='ee-k'>0:</span><span class='ee-v'>30</span></li><li><span class='ee-k'>1:</span><span class='ee-v'>0</span></li><li><span class='ee-k'>2:</span><span class='ee-v'>500385</span></li><li><span class='ee-k'>3:</span><span class='ee-v'>0</span></li><li><span class='ee-k'>4:</span><span class='ee-v'>-30</span></li><li><span class='ee-k'>5:</span><span class='ee-v'>5215515</span></li></ul></li><li><label class='ee-shut'>data_type: signed int16<input type='checkbox' class='ee-toggle'></label><ul><li><span class='ee-k'>type:</span><span class='ee-v'>PixelType</span></li><li><span class='ee-k'>max:</span><span class='ee-v'>32767</span></li><li><span class='ee-k'>min:</span><span class='ee-v'>-32768</span></li><li><span class='ee-k'>precision:</span><span class='ee-v'>int</span></li></ul></li><li><label class='ee-shut'>dimensions: [7731, 7841]<input type='checkbox' class='ee-toggle'></label><ul><li><span class='ee-k'>0:</span><span class='ee-v'>7731</span></li><li><span class='ee-k'>1:</span><span class='ee-v'>7841</span></li></ul></li></ul></li><li><label class='ee-shut'>17: \"NDVI\", float, EPSG:32632, 7731x7841 px<input type='checkbox' class='ee-toggle'></label><ul><li><span class='ee-k'>id:</span><span class='ee-v'>NDVI</span></li><li><span class='ee-k'>crs:</span><span class='ee-v'>EPSG:32632</span></li><li><label class='ee-shut'>crs_transform: [30, 0, 500385, 0, -30, 5215515]<input type='checkbox' class='ee-toggle'></label><ul><li><span class='ee-k'>0:</span><span class='ee-v'>30</span></li><li><span class='ee-k'>1:</span><span class='ee-v'>0</span></li><li><span class='ee-k'>2:</span><span class='ee-v'>500385</span></li><li><span class='ee-k'>3:</span><span class='ee-v'>0</span></li><li><span class='ee-k'>4:</span><span class='ee-v'>-30</span></li><li><span class='ee-k'>5:</span><span class='ee-v'>5215515</span></li></ul></li><li><label class='ee-shut'>data_type: float<input type='checkbox' class='ee-toggle'></label><ul><li><span class='ee-k'>type:</span><span class='ee-v'>PixelType</span></li><li><span class='ee-k'>max:</span><span class='ee-v'>1</span></li><li><span class='ee-k'>min:</span><span class='ee-v'>-1</span></li><li><span class='ee-k'>precision:</span><span class='ee-v'>float</span></li></ul></li><li><label class='ee-shut'>dimensions: [7731, 7841]<input type='checkbox' class='ee-toggle'></label><ul><li><span class='ee-k'>0:</span><span class='ee-v'>7731</span></li><li><span class='ee-k'>1:</span><span class='ee-v'>7841</span></li></ul></li></ul></li></ul></li><li><label class='ee-shut'>properties: Object (112 properties)<input type='checkbox' class='ee-toggle'></label><ul><li><span class='ee-k'>CLOUD_COVER:</span><span class='ee-v'>4.65</span></li><li><span class='ee-k'>CLOUD_COVER_LAND:</span><span class='ee-v'>4.65</span></li><li><span class='ee-k'>COLLECTION_CATEGORY:</span><span class='ee-v'>T1</span></li><li><span class='ee-k'>COLLECTION_NUMBER:</span><span class='ee-v'>2</span></li><li><span class='ee-k'>DATA_SOURCE_ELEVATION:</span><span class='ee-v'>GLS2000</span></li><li><span class='ee-k'>DATA_SOURCE_TIRS_STRAY_LIGHT_CORRECTION:</span><span class='ee-v'>TIRS</span></li><li><span class='ee-k'>DATE_ACQUIRED:</span><span class='ee-v'>2022-07-02</span></li><li><span class='ee-k'>DATE_PRODUCT_GENERATED:</span><span class='ee-v'>1657250716000</span></li><li><span class='ee-k'>DATUM:</span><span class='ee-v'>WGS84</span></li><li><span class='ee-k'>EARTH_SUN_DISTANCE:</span><span class='ee-v'>1.0167055</span></li><li><span class='ee-k'>ELLIPSOID:</span><span class='ee-v'>WGS84</span></li><li><span class='ee-k'>GEOMETRIC_RMSE_MODEL:</span><span class='ee-v'>5.442</span></li><li><span class='ee-k'>GEOMETRIC_RMSE_MODEL_X:</span><span class='ee-v'>3.882</span></li><li><span class='ee-k'>GEOMETRIC_RMSE_MODEL_Y:</span><span class='ee-v'>3.815</span></li><li><span class='ee-k'>GEOMETRIC_RMSE_VERIFY:</span><span class='ee-v'>3.202</span></li><li><span class='ee-k'>GRID_CELL_SIZE_PANCHROMATIC:</span><span class='ee-v'>15</span></li><li><span class='ee-k'>GRID_CELL_SIZE_REFLECTIVE:</span><span class='ee-v'>30</span></li><li><span class='ee-k'>GRID_CELL_SIZE_THERMAL:</span><span class='ee-v'>30</span></li><li><span class='ee-k'>GROUND_CONTROL_POINTS_MODEL:</span><span class='ee-v'>723</span></li><li><span class='ee-k'>GROUND_CONTROL_POINTS_VERIFY:</span><span class='ee-v'>198</span></li><li><span class='ee-k'>GROUND_CONTROL_POINTS_VERSION:</span><span class='ee-v'>5</span></li><li><span class='ee-k'>IMAGE_QUALITY_OLI:</span><span class='ee-v'>9</span></li><li><span class='ee-k'>IMAGE_QUALITY_TIRS:</span><span class='ee-v'>9</span></li><li><span class='ee-k'>K1_CONSTANT_BAND_10:</span><span class='ee-v'>774.8853</span></li><li><span class='ee-k'>K1_CONSTANT_BAND_11:</span><span class='ee-v'>480.8883</span></li><li><span class='ee-k'>K2_CONSTANT_BAND_10:</span><span class='ee-v'>1321.0789</span></li><li><span class='ee-k'>K2_CONSTANT_BAND_11:</span><span class='ee-v'>1201.1442</span></li><li><span class='ee-k'>LANDSAT_PRODUCT_ID:</span><span class='ee-v'>LC08_L1TP_193028_20220702_20220708_02_T1</span></li><li><span class='ee-k'>LANDSAT_SCENE_ID:</span><span class='ee-v'>LC81930282022183LGN00</span></li><li><span class='ee-k'>MAP_PROJECTION:</span><span class='ee-v'>UTM</span></li><li><span class='ee-k'>NADIR_OFFNADIR:</span><span class='ee-v'>NADIR</span></li><li><span class='ee-k'>ORIENTATION:</span><span class='ee-v'>NORTH_UP</span></li><li><span class='ee-k'>PANCHROMATIC_LINES:</span><span class='ee-v'>15681</span></li><li><span class='ee-k'>PANCHROMATIC_SAMPLES:</span><span class='ee-v'>15461</span></li><li><span class='ee-k'>PROCESSING_LEVEL:</span><span class='ee-v'>L1TP</span></li><li><span class='ee-k'>PROCESSING_SOFTWARE_VERSION:</span><span class='ee-v'>LPGS_16.1.0</span></li><li><span class='ee-k'>RADIANCE_ADD_BAND_1:</span><span class='ee-v'>-60.73269</span></li><li><span class='ee-k'>RADIANCE_ADD_BAND_10:</span><span class='ee-v'>0.1</span></li><li><span class='ee-k'>RADIANCE_ADD_BAND_11:</span><span class='ee-v'>0.1</span></li><li><span class='ee-k'>RADIANCE_ADD_BAND_2:</span><span class='ee-v'>-62.19102</span></li><li><span class='ee-k'>RADIANCE_ADD_BAND_3:</span><span class='ee-v'>-57.30849</span></li><li><span class='ee-k'>RADIANCE_ADD_BAND_4:</span><span class='ee-v'>-48.32575</span></li><li><span class='ee-k'>RADIANCE_ADD_BAND_5:</span><span class='ee-v'>-29.57295</span></li><li><span class='ee-k'>RADIANCE_ADD_BAND_6:</span><span class='ee-v'>-7.35452</span></li><li><span class='ee-k'>RADIANCE_ADD_BAND_7:</span><span class='ee-v'>-2.47887</span></li><li><span class='ee-k'>RADIANCE_ADD_BAND_8:</span><span class='ee-v'>-54.69145</span></li><li><span class='ee-k'>RADIANCE_ADD_BAND_9:</span><span class='ee-v'>-11.55778</span></li><li><span class='ee-k'>RADIANCE_MULT_BAND_1:</span><span class='ee-v'>0.012147</span></li><li><span class='ee-k'>RADIANCE_MULT_BAND_10:</span><span class='ee-v'>0.0003342</span></li><li><span class='ee-k'>RADIANCE_MULT_BAND_11:</span><span class='ee-v'>0.0003342</span></li><li><span class='ee-k'>RADIANCE_MULT_BAND_2:</span><span class='ee-v'>0.012438</span></li><li><span class='ee-k'>RADIANCE_MULT_BAND_3:</span><span class='ee-v'>0.011462</span></li><li><span class='ee-k'>RADIANCE_MULT_BAND_4:</span><span class='ee-v'>0.0096651</span></li><li><span class='ee-k'>RADIANCE_MULT_BAND_5:</span><span class='ee-v'>0.0059146</span></li><li><span class='ee-k'>RADIANCE_MULT_BAND_6:</span><span class='ee-v'>0.0014709</span></li><li><span class='ee-k'>RADIANCE_MULT_BAND_7:</span><span class='ee-v'>0.00049577</span></li><li><span class='ee-k'>RADIANCE_MULT_BAND_8:</span><span class='ee-v'>0.010938</span></li><li><span class='ee-k'>RADIANCE_MULT_BAND_9:</span><span class='ee-v'>0.0023116</span></li><li><span class='ee-k'>REFLECTANCE_ADD_BAND_1:</span><span class='ee-v'>-0.1</span></li><li><span class='ee-k'>REFLECTANCE_ADD_BAND_2:</span><span class='ee-v'>-0.1</span></li><li><span class='ee-k'>REFLECTANCE_ADD_BAND_3:</span><span class='ee-v'>-0.1</span></li><li><span class='ee-k'>REFLECTANCE_ADD_BAND_4:</span><span class='ee-v'>-0.1</span></li><li><span class='ee-k'>REFLECTANCE_ADD_BAND_5:</span><span class='ee-v'>-0.1</span></li><li><span class='ee-k'>REFLECTANCE_ADD_BAND_6:</span><span class='ee-v'>-0.1</span></li><li><span class='ee-k'>REFLECTANCE_ADD_BAND_7:</span><span class='ee-v'>-0.1</span></li><li><span class='ee-k'>REFLECTANCE_ADD_BAND_8:</span><span class='ee-v'>-0.1</span></li><li><span class='ee-k'>REFLECTANCE_ADD_BAND_9:</span><span class='ee-v'>-0.1</span></li><li><span class='ee-k'>REFLECTANCE_MULT_BAND_1:</span><span class='ee-v'>2e-05</span></li><li><span class='ee-k'>REFLECTANCE_MULT_BAND_2:</span><span class='ee-v'>2e-05</span></li><li><span class='ee-k'>REFLECTANCE_MULT_BAND_3:</span><span class='ee-v'>2e-05</span></li><li><span class='ee-k'>REFLECTANCE_MULT_BAND_4:</span><span class='ee-v'>2e-05</span></li><li><span class='ee-k'>REFLECTANCE_MULT_BAND_5:</span><span class='ee-v'>2e-05</span></li><li><span class='ee-k'>REFLECTANCE_MULT_BAND_6:</span><span class='ee-v'>2e-05</span></li><li><span class='ee-k'>REFLECTANCE_MULT_BAND_7:</span><span class='ee-v'>2e-05</span></li><li><span class='ee-k'>REFLECTANCE_MULT_BAND_8:</span><span class='ee-v'>2e-05</span></li><li><span class='ee-k'>REFLECTANCE_MULT_BAND_9:</span><span class='ee-v'>2e-05</span></li><li><span class='ee-k'>REFLECTIVE_LINES:</span><span class='ee-v'>7841</span></li><li><span class='ee-k'>REFLECTIVE_SAMPLES:</span><span class='ee-v'>7731</span></li><li><span class='ee-k'>REQUEST_ID:</span><span class='ee-v'>1550859_03524</span></li><li><span class='ee-k'>RESAMPLING_OPTION:</span><span class='ee-v'>CUBIC_CONVOLUTION</span></li><li><span class='ee-k'>ROLL_ANGLE:</span><span class='ee-v'>-0.001</span></li><li><span class='ee-k'>SATURATION_BAND_1:</span><span class='ee-v'>Y</span></li><li><span class='ee-k'>SATURATION_BAND_2:</span><span class='ee-v'>Y</span></li><li><span class='ee-k'>SATURATION_BAND_3:</span><span class='ee-v'>Y</span></li><li><span class='ee-k'>SATURATION_BAND_4:</span><span class='ee-v'>Y</span></li><li><span class='ee-k'>SATURATION_BAND_5:</span><span class='ee-v'>Y</span></li><li><span class='ee-k'>SATURATION_BAND_6:</span><span class='ee-v'>Y</span></li><li><span class='ee-k'>SATURATION_BAND_7:</span><span class='ee-v'>Y</span></li><li><span class='ee-k'>SATURATION_BAND_8:</span><span class='ee-v'>N</span></li><li><span class='ee-k'>SATURATION_BAND_9:</span><span class='ee-v'>N</span></li><li><span class='ee-k'>SCENE_CENTER_TIME:</span><span class='ee-v'>10:04:47.4893590Z</span></li><li><span class='ee-k'>SENSOR_ID:</span><span class='ee-v'>OLI_TIRS</span></li><li><span class='ee-k'>SPACECRAFT_ID:</span><span class='ee-v'>LANDSAT_8</span></li><li><span class='ee-k'>STATION_ID:</span><span class='ee-v'>LGN</span></li><li><span class='ee-k'>SUN_AZIMUTH:</span><span class='ee-v'>139.26847316</span></li><li><span class='ee-k'>SUN_ELEVATION:</span><span class='ee-v'>62.18451018</span></li><li><span class='ee-k'>TARGET_WRS_PATH:</span><span class='ee-v'>193</span></li><li><span class='ee-k'>TARGET_WRS_ROW:</span><span class='ee-v'>28</span></li><li><span class='ee-k'>THERMAL_LINES:</span><span class='ee-v'>7841</span></li><li><span class='ee-k'>THERMAL_SAMPLES:</span><span class='ee-v'>7731</span></li><li><span class='ee-k'>TIRS_SSM_MODEL:</span><span class='ee-v'>FINAL</span></li><li><span class='ee-k'>TIRS_SSM_POSITION_STATUS:</span><span class='ee-v'>ESTIMATED</span></li><li><span class='ee-k'>TRUNCATION_OLI:</span><span class='ee-v'>UPPER</span></li><li><span class='ee-k'>UTM_ZONE:</span><span class='ee-v'>32</span></li><li><span class='ee-k'>WRS_PATH:</span><span class='ee-v'>193</span></li><li><span class='ee-k'>WRS_ROW:</span><span class='ee-v'>28</span></li><li><span class='ee-k'>WRS_TYPE:</span><span class='ee-v'>2</span></li><li><span class='ee-k'>system:asset_size:</span><span class='ee-v'>1300790117</span></li><li><label class='ee-shut'>system:footprint: LinearRing (21 vertices)<input type='checkbox' class='ee-toggle'></label><ul><li><span class='ee-k'>type:</span><span class='ee-v'>LinearRing</span></li><li><label class='ee-shut'>coordinates: List (21 elements)<input type='checkbox' class='ee-toggle'></label><ul><li><label class='ee-shut'>0: [11.363905354854564, 44.95248721475615]<input type='checkbox' class='ee-toggle'></label><ul><li><span class='ee-k'>0:</span><span class='ee-v'>11.363905354854564</span></li><li><span class='ee-k'>1:</span><span class='ee-v'>44.95248721475615</span></li></ul></li><li><label class='ee-shut'>1: [11.364852921626639, 44.95374010992008]<input type='checkbox' class='ee-toggle'></label><ul><li><span class='ee-k'>0:</span><span class='ee-v'>11.364852921626639</span></li><li><span class='ee-k'>1:</span><span class='ee-v'>44.95374010992008</span></li></ul></li><li><label class='ee-shut'>2: [11.408051670705001, 45.066281281118044]<input type='checkbox' class='ee-toggle'></label><ul><li><span class='ee-k'>0:</span><span class='ee-v'>11.408051670705001</span></li><li><span class='ee-k'>1:</span><span class='ee-v'>45.066281281118044</span></li></ul></li><li><label class='ee-shut'>3: [11.50312813160788, 45.31254211162319]<input type='checkbox' class='ee-toggle'></label><ul><li><span class='ee-k'>0:</span><span class='ee-v'>11.50312813160788</span></li><li><span class='ee-k'>1:</span><span class='ee-v'>45.31254211162319</span></li></ul></li><li><label class='ee-shut'>4: [11.534824415545701, 45.394296966096185]<input type='checkbox' class='ee-toggle'></label><ul><li><span class='ee-k'>0:</span><span class='ee-v'>11.534824415545701</span></li><li><span class='ee-k'>1:</span><span class='ee-v'>45.394296966096185</span></li></ul></li><li><label class='ee-shut'>5: [11.579115226996674, 45.508342139589566]<input type='checkbox' class='ee-toggle'></label><ul><li><span class='ee-k'>0:</span><span class='ee-v'>11.579115226996674</span></li><li><span class='ee-k'>1:</span><span class='ee-v'>45.508342139589566</span></li></ul></li><li><label class='ee-shut'>6: [11.702109731299883, 45.82296130824305]<input type='checkbox' class='ee-toggle'></label><ul><li><span class='ee-k'>0:</span><span class='ee-v'>11.702109731299883</span></li><li><span class='ee-k'>1:</span><span class='ee-v'>45.82296130824305</span></li></ul></li><li><label class='ee-shut'>7: [11.757602581377315, 45.96430220831149]<input type='checkbox' class='ee-toggle'></label><ul><li><span class='ee-k'>0:</span><span class='ee-v'>11.757602581377315</span></li><li><span class='ee-k'>1:</span><span class='ee-v'>45.96430220831149</span></li></ul></li><li><label class='ee-shut'>8: [11.778899756325597, 46.01846540364143]<input type='checkbox' class='ee-toggle'></label><ul><li><span class='ee-k'>0:</span><span class='ee-v'>11.778899756325597</span></li><li><span class='ee-k'>1:</span><span class='ee-v'>46.01846540364143</span></li></ul></li><li><label class='ee-shut'>9: [11.958495154091503, 46.47324791217289]<input type='checkbox' class='ee-toggle'></label><ul><li><span class='ee-k'>0:</span><span class='ee-v'>11.958495154091503</span></li><li><span class='ee-k'>1:</span><span class='ee-v'>46.47324791217289</span></li></ul></li><li><label class='ee-shut'>10: [12.028437954110473, 46.648486206275024]<input type='checkbox' class='ee-toggle'></label><ul><li><span class='ee-k'>0:</span><span class='ee-v'>12.028437954110473</span></li><li><span class='ee-k'>1:</span><span class='ee-v'>46.648486206275024</span></li></ul></li><li><label class='ee-shut'>11: [12.030552331786748, 46.65817702765534]<input type='checkbox' class='ee-toggle'></label><ul><li><span class='ee-k'>0:</span><span class='ee-v'>12.030552331786748</span></li><li><span class='ee-k'>1:</span><span class='ee-v'>46.65817702765534</span></li></ul></li><li><label class='ee-shut'>12: [9.609828589000859, 47.09088652234504]<input type='checkbox' class='ee-toggle'></label><ul><li><span class='ee-k'>0:</span><span class='ee-v'>9.609828589000859</span></li><li><span class='ee-k'>1:</span><span class='ee-v'>47.09088652234504</span></li></ul></li><li><label class='ee-shut'>13: [9.570714695652466, 46.988832504903215]<input type='checkbox' class='ee-toggle'></label><ul><li><span class='ee-k'>0:</span><span class='ee-v'>9.570714695652466</span></li><li><span class='ee-k'>1:</span><span class='ee-v'>46.988832504903215</span></li></ul></li><li><label class='ee-shut'>14: [9.565843608396449, 46.975897409771974]<input type='checkbox' class='ee-toggle'></label><ul><li><span class='ee-k'>0:</span><span class='ee-v'>9.565843608396449</span></li><li><span class='ee-k'>1:</span><span class='ee-v'>46.975897409771974</span></li></ul></li><li><label class='ee-shut'>15: [9.00941984217884, 45.38377393122789]<input type='checkbox' class='ee-toggle'></label><ul><li><span class='ee-k'>0:</span><span class='ee-v'>9.00941984217884</span></li><li><span class='ee-k'>1:</span><span class='ee-v'>45.38377393122789</span></li></ul></li><li><label class='ee-shut'>16: [9.00941947087015, 45.38175088835398]<input type='checkbox' class='ee-toggle'></label><ul><li><span class='ee-k'>0:</span><span class='ee-v'>9.00941947087015</span></li><li><span class='ee-k'>1:</span><span class='ee-v'>45.38175088835398</span></li></ul></li><li><label class='ee-shut'>17: [9.02048584869135, 45.37979965352883]<input type='checkbox' class='ee-toggle'></label><ul><li><span class='ee-k'>0:</span><span class='ee-v'>9.02048584869135</span></li><li><span class='ee-k'>1:</span><span class='ee-v'>45.37979965352883</span></li></ul></li><li><label class='ee-shut'>18: [10.650112066313582, 45.08838108039191]<input type='checkbox' class='ee-toggle'></label><ul><li><span class='ee-k'>0:</span><span class='ee-v'>10.650112066313582</span></li><li><span class='ee-k'>1:</span><span class='ee-v'>45.08838108039191</span></li></ul></li><li><label class='ee-shut'>19: [11.342912893077308, 44.95652561661812]<input type='checkbox' class='ee-toggle'></label><ul><li><span class='ee-k'>0:</span><span class='ee-v'>11.342912893077308</span></li><li><span class='ee-k'>1:</span><span class='ee-v'>44.95652561661812</span></li></ul></li><li><label class='ee-shut'>20: [11.363905354854564, 44.95248721475615]<input type='checkbox' class='ee-toggle'></label><ul><li><span class='ee-k'>0:</span><span class='ee-v'>11.363905354854564</span></li><li><span class='ee-k'>1:</span><span class='ee-v'>44.95248721475615</span></li></ul></li></ul></li></ul></li><li><span class='ee-k'>system:index:</span><span class='ee-v'>LC08_193028_20220702</span></li><li><span class='ee-k'>system:time_end:</span><span class='ee-v'>1656756287489</span></li><li><span class='ee-k'>system:time_start:</span><span class='ee-v'>1656756287489</span></li></ul></li></ul></li><li><label class='ee-shut'>3: Image LANDSAT/LC08/C02/T1_TOA/LC08_193028_20220718 (18 bands)<input type='checkbox' class='ee-toggle'></label><ul><li><span class='ee-k'>type:</span><span class='ee-v'>Image</span></li><li><span class='ee-k'>id:</span><span class='ee-v'>LANDSAT/LC08/C02/T1_TOA/LC08_193028_20220718</span></li><li><span class='ee-k'>version:</span><span class='ee-v'>1673734775139334</span></li><li><label class='ee-shut'>bands: List (18 elements)<input type='checkbox' class='ee-toggle'></label><ul><li><label class='ee-shut'>0: \"B1\", float, EPSG:32632, 7741x7841 px<input type='checkbox' class='ee-toggle'></label><ul><li><span class='ee-k'>id:</span><span class='ee-v'>B1</span></li><li><span class='ee-k'>crs:</span><span class='ee-v'>EPSG:32632</span></li><li><label class='ee-shut'>crs_transform: [30, 0, 501885, 0, -30, 5215515]<input type='checkbox' class='ee-toggle'></label><ul><li><span class='ee-k'>0:</span><span class='ee-v'>30</span></li><li><span class='ee-k'>1:</span><span class='ee-v'>0</span></li><li><span class='ee-k'>2:</span><span class='ee-v'>501885</span></li><li><span class='ee-k'>3:</span><span class='ee-v'>0</span></li><li><span class='ee-k'>4:</span><span class='ee-v'>-30</span></li><li><span class='ee-k'>5:</span><span class='ee-v'>5215515</span></li></ul></li><li><label class='ee-shut'>data_type: float<input type='checkbox' class='ee-toggle'></label><ul><li><span class='ee-k'>type:</span><span class='ee-v'>PixelType</span></li><li><span class='ee-k'>precision:</span><span class='ee-v'>float</span></li></ul></li><li><label class='ee-shut'>dimensions: [7741, 7841]<input type='checkbox' class='ee-toggle'></label><ul><li><span class='ee-k'>0:</span><span class='ee-v'>7741</span></li><li><span class='ee-k'>1:</span><span class='ee-v'>7841</span></li></ul></li></ul></li><li><label class='ee-shut'>1: \"B2\", float, EPSG:32632, 7741x7841 px<input type='checkbox' class='ee-toggle'></label><ul><li><span class='ee-k'>id:</span><span class='ee-v'>B2</span></li><li><span class='ee-k'>crs:</span><span class='ee-v'>EPSG:32632</span></li><li><label class='ee-shut'>crs_transform: [30, 0, 501885, 0, -30, 5215515]<input type='checkbox' class='ee-toggle'></label><ul><li><span class='ee-k'>0:</span><span class='ee-v'>30</span></li><li><span class='ee-k'>1:</span><span class='ee-v'>0</span></li><li><span class='ee-k'>2:</span><span class='ee-v'>501885</span></li><li><span class='ee-k'>3:</span><span class='ee-v'>0</span></li><li><span class='ee-k'>4:</span><span class='ee-v'>-30</span></li><li><span class='ee-k'>5:</span><span class='ee-v'>5215515</span></li></ul></li><li><label class='ee-shut'>data_type: float<input type='checkbox' class='ee-toggle'></label><ul><li><span class='ee-k'>type:</span><span class='ee-v'>PixelType</span></li><li><span class='ee-k'>precision:</span><span class='ee-v'>float</span></li></ul></li><li><label class='ee-shut'>dimensions: [7741, 7841]<input type='checkbox' class='ee-toggle'></label><ul><li><span class='ee-k'>0:</span><span class='ee-v'>7741</span></li><li><span class='ee-k'>1:</span><span class='ee-v'>7841</span></li></ul></li></ul></li><li><label class='ee-shut'>2: \"B3\", float, EPSG:32632, 7741x7841 px<input type='checkbox' class='ee-toggle'></label><ul><li><span class='ee-k'>id:</span><span class='ee-v'>B3</span></li><li><span class='ee-k'>crs:</span><span class='ee-v'>EPSG:32632</span></li><li><label class='ee-shut'>crs_transform: [30, 0, 501885, 0, -30, 5215515]<input type='checkbox' class='ee-toggle'></label><ul><li><span class='ee-k'>0:</span><span class='ee-v'>30</span></li><li><span class='ee-k'>1:</span><span class='ee-v'>0</span></li><li><span class='ee-k'>2:</span><span class='ee-v'>501885</span></li><li><span class='ee-k'>3:</span><span class='ee-v'>0</span></li><li><span class='ee-k'>4:</span><span class='ee-v'>-30</span></li><li><span class='ee-k'>5:</span><span class='ee-v'>5215515</span></li></ul></li><li><label class='ee-shut'>data_type: float<input type='checkbox' class='ee-toggle'></label><ul><li><span class='ee-k'>type:</span><span class='ee-v'>PixelType</span></li><li><span class='ee-k'>precision:</span><span class='ee-v'>float</span></li></ul></li><li><label class='ee-shut'>dimensions: [7741, 7841]<input type='checkbox' class='ee-toggle'></label><ul><li><span class='ee-k'>0:</span><span class='ee-v'>7741</span></li><li><span class='ee-k'>1:</span><span class='ee-v'>7841</span></li></ul></li></ul></li><li><label class='ee-shut'>3: \"B4\", float, EPSG:32632, 7741x7841 px<input type='checkbox' class='ee-toggle'></label><ul><li><span class='ee-k'>id:</span><span class='ee-v'>B4</span></li><li><span class='ee-k'>crs:</span><span class='ee-v'>EPSG:32632</span></li><li><label class='ee-shut'>crs_transform: [30, 0, 501885, 0, -30, 5215515]<input type='checkbox' class='ee-toggle'></label><ul><li><span class='ee-k'>0:</span><span class='ee-v'>30</span></li><li><span class='ee-k'>1:</span><span class='ee-v'>0</span></li><li><span class='ee-k'>2:</span><span class='ee-v'>501885</span></li><li><span class='ee-k'>3:</span><span class='ee-v'>0</span></li><li><span class='ee-k'>4:</span><span class='ee-v'>-30</span></li><li><span class='ee-k'>5:</span><span class='ee-v'>5215515</span></li></ul></li><li><label class='ee-shut'>data_type: float<input type='checkbox' class='ee-toggle'></label><ul><li><span class='ee-k'>type:</span><span class='ee-v'>PixelType</span></li><li><span class='ee-k'>precision:</span><span class='ee-v'>float</span></li></ul></li><li><label class='ee-shut'>dimensions: [7741, 7841]<input type='checkbox' class='ee-toggle'></label><ul><li><span class='ee-k'>0:</span><span class='ee-v'>7741</span></li><li><span class='ee-k'>1:</span><span class='ee-v'>7841</span></li></ul></li></ul></li><li><label class='ee-shut'>4: \"B5\", float, EPSG:32632, 7741x7841 px<input type='checkbox' class='ee-toggle'></label><ul><li><span class='ee-k'>id:</span><span class='ee-v'>B5</span></li><li><span class='ee-k'>crs:</span><span class='ee-v'>EPSG:32632</span></li><li><label class='ee-shut'>crs_transform: [30, 0, 501885, 0, -30, 5215515]<input type='checkbox' class='ee-toggle'></label><ul><li><span class='ee-k'>0:</span><span class='ee-v'>30</span></li><li><span class='ee-k'>1:</span><span class='ee-v'>0</span></li><li><span class='ee-k'>2:</span><span class='ee-v'>501885</span></li><li><span class='ee-k'>3:</span><span class='ee-v'>0</span></li><li><span class='ee-k'>4:</span><span class='ee-v'>-30</span></li><li><span class='ee-k'>5:</span><span class='ee-v'>5215515</span></li></ul></li><li><label class='ee-shut'>data_type: float<input type='checkbox' class='ee-toggle'></label><ul><li><span class='ee-k'>type:</span><span class='ee-v'>PixelType</span></li><li><span class='ee-k'>precision:</span><span class='ee-v'>float</span></li></ul></li><li><label class='ee-shut'>dimensions: [7741, 7841]<input type='checkbox' class='ee-toggle'></label><ul><li><span class='ee-k'>0:</span><span class='ee-v'>7741</span></li><li><span class='ee-k'>1:</span><span class='ee-v'>7841</span></li></ul></li></ul></li><li><label class='ee-shut'>5: \"B6\", float, EPSG:32632, 7741x7841 px<input type='checkbox' class='ee-toggle'></label><ul><li><span class='ee-k'>id:</span><span class='ee-v'>B6</span></li><li><span class='ee-k'>crs:</span><span class='ee-v'>EPSG:32632</span></li><li><label class='ee-shut'>crs_transform: [30, 0, 501885, 0, -30, 5215515]<input type='checkbox' class='ee-toggle'></label><ul><li><span class='ee-k'>0:</span><span class='ee-v'>30</span></li><li><span class='ee-k'>1:</span><span class='ee-v'>0</span></li><li><span class='ee-k'>2:</span><span class='ee-v'>501885</span></li><li><span class='ee-k'>3:</span><span class='ee-v'>0</span></li><li><span class='ee-k'>4:</span><span class='ee-v'>-30</span></li><li><span class='ee-k'>5:</span><span class='ee-v'>5215515</span></li></ul></li><li><label class='ee-shut'>data_type: float<input type='checkbox' class='ee-toggle'></label><ul><li><span class='ee-k'>type:</span><span class='ee-v'>PixelType</span></li><li><span class='ee-k'>precision:</span><span class='ee-v'>float</span></li></ul></li><li><label class='ee-shut'>dimensions: [7741, 7841]<input type='checkbox' class='ee-toggle'></label><ul><li><span class='ee-k'>0:</span><span class='ee-v'>7741</span></li><li><span class='ee-k'>1:</span><span class='ee-v'>7841</span></li></ul></li></ul></li><li><label class='ee-shut'>6: \"B7\", float, EPSG:32632, 7741x7841 px<input type='checkbox' class='ee-toggle'></label><ul><li><span class='ee-k'>id:</span><span class='ee-v'>B7</span></li><li><span class='ee-k'>crs:</span><span class='ee-v'>EPSG:32632</span></li><li><label class='ee-shut'>crs_transform: [30, 0, 501885, 0, -30, 5215515]<input type='checkbox' class='ee-toggle'></label><ul><li><span class='ee-k'>0:</span><span class='ee-v'>30</span></li><li><span class='ee-k'>1:</span><span class='ee-v'>0</span></li><li><span class='ee-k'>2:</span><span class='ee-v'>501885</span></li><li><span class='ee-k'>3:</span><span class='ee-v'>0</span></li><li><span class='ee-k'>4:</span><span class='ee-v'>-30</span></li><li><span class='ee-k'>5:</span><span class='ee-v'>5215515</span></li></ul></li><li><label class='ee-shut'>data_type: float<input type='checkbox' class='ee-toggle'></label><ul><li><span class='ee-k'>type:</span><span class='ee-v'>PixelType</span></li><li><span class='ee-k'>precision:</span><span class='ee-v'>float</span></li></ul></li><li><label class='ee-shut'>dimensions: [7741, 7841]<input type='checkbox' class='ee-toggle'></label><ul><li><span class='ee-k'>0:</span><span class='ee-v'>7741</span></li><li><span class='ee-k'>1:</span><span class='ee-v'>7841</span></li></ul></li></ul></li><li><label class='ee-shut'>7: \"B8\", float, EPSG:32632, 15481x15681 px<input type='checkbox' class='ee-toggle'></label><ul><li><span class='ee-k'>id:</span><span class='ee-v'>B8</span></li><li><span class='ee-k'>crs:</span><span class='ee-v'>EPSG:32632</span></li><li><label class='ee-shut'>crs_transform: [15, 0, 501892.5, 0, -15, 5215507.5]<input type='checkbox' class='ee-toggle'></label><ul><li><span class='ee-k'>0:</span><span class='ee-v'>15</span></li><li><span class='ee-k'>1:</span><span class='ee-v'>0</span></li><li><span class='ee-k'>2:</span><span class='ee-v'>501892.5</span></li><li><span class='ee-k'>3:</span><span class='ee-v'>0</span></li><li><span class='ee-k'>4:</span><span class='ee-v'>-15</span></li><li><span class='ee-k'>5:</span><span class='ee-v'>5215507.5</span></li></ul></li><li><label class='ee-shut'>data_type: float<input type='checkbox' class='ee-toggle'></label><ul><li><span class='ee-k'>type:</span><span class='ee-v'>PixelType</span></li><li><span class='ee-k'>precision:</span><span class='ee-v'>float</span></li></ul></li><li><label class='ee-shut'>dimensions: [15481, 15681]<input type='checkbox' class='ee-toggle'></label><ul><li><span class='ee-k'>0:</span><span class='ee-v'>15481</span></li><li><span class='ee-k'>1:</span><span class='ee-v'>15681</span></li></ul></li></ul></li><li><label class='ee-shut'>8: \"B9\", float, EPSG:32632, 7741x7841 px<input type='checkbox' class='ee-toggle'></label><ul><li><span class='ee-k'>id:</span><span class='ee-v'>B9</span></li><li><span class='ee-k'>crs:</span><span class='ee-v'>EPSG:32632</span></li><li><label class='ee-shut'>crs_transform: [30, 0, 501885, 0, -30, 5215515]<input type='checkbox' class='ee-toggle'></label><ul><li><span class='ee-k'>0:</span><span class='ee-v'>30</span></li><li><span class='ee-k'>1:</span><span class='ee-v'>0</span></li><li><span class='ee-k'>2:</span><span class='ee-v'>501885</span></li><li><span class='ee-k'>3:</span><span class='ee-v'>0</span></li><li><span class='ee-k'>4:</span><span class='ee-v'>-30</span></li><li><span class='ee-k'>5:</span><span class='ee-v'>5215515</span></li></ul></li><li><label class='ee-shut'>data_type: float<input type='checkbox' class='ee-toggle'></label><ul><li><span class='ee-k'>type:</span><span class='ee-v'>PixelType</span></li><li><span class='ee-k'>precision:</span><span class='ee-v'>float</span></li></ul></li><li><label class='ee-shut'>dimensions: [7741, 7841]<input type='checkbox' class='ee-toggle'></label><ul><li><span class='ee-k'>0:</span><span class='ee-v'>7741</span></li><li><span class='ee-k'>1:</span><span class='ee-v'>7841</span></li></ul></li></ul></li><li><label class='ee-shut'>9: \"B10\", float, EPSG:32632, 7741x7841 px<input type='checkbox' class='ee-toggle'></label><ul><li><span class='ee-k'>id:</span><span class='ee-v'>B10</span></li><li><span class='ee-k'>crs:</span><span class='ee-v'>EPSG:32632</span></li><li><label class='ee-shut'>crs_transform: [30, 0, 501885, 0, -30, 5215515]<input type='checkbox' class='ee-toggle'></label><ul><li><span class='ee-k'>0:</span><span class='ee-v'>30</span></li><li><span class='ee-k'>1:</span><span class='ee-v'>0</span></li><li><span class='ee-k'>2:</span><span class='ee-v'>501885</span></li><li><span class='ee-k'>3:</span><span class='ee-v'>0</span></li><li><span class='ee-k'>4:</span><span class='ee-v'>-30</span></li><li><span class='ee-k'>5:</span><span class='ee-v'>5215515</span></li></ul></li><li><label class='ee-shut'>data_type: float<input type='checkbox' class='ee-toggle'></label><ul><li><span class='ee-k'>type:</span><span class='ee-v'>PixelType</span></li><li><span class='ee-k'>precision:</span><span class='ee-v'>float</span></li></ul></li><li><label class='ee-shut'>dimensions: [7741, 7841]<input type='checkbox' class='ee-toggle'></label><ul><li><span class='ee-k'>0:</span><span class='ee-v'>7741</span></li><li><span class='ee-k'>1:</span><span class='ee-v'>7841</span></li></ul></li></ul></li><li><label class='ee-shut'>10: \"B11\", float, EPSG:32632, 7741x7841 px<input type='checkbox' class='ee-toggle'></label><ul><li><span class='ee-k'>id:</span><span class='ee-v'>B11</span></li><li><span class='ee-k'>crs:</span><span class='ee-v'>EPSG:32632</span></li><li><label class='ee-shut'>crs_transform: [30, 0, 501885, 0, -30, 5215515]<input type='checkbox' class='ee-toggle'></label><ul><li><span class='ee-k'>0:</span><span class='ee-v'>30</span></li><li><span class='ee-k'>1:</span><span class='ee-v'>0</span></li><li><span class='ee-k'>2:</span><span class='ee-v'>501885</span></li><li><span class='ee-k'>3:</span><span class='ee-v'>0</span></li><li><span class='ee-k'>4:</span><span class='ee-v'>-30</span></li><li><span class='ee-k'>5:</span><span class='ee-v'>5215515</span></li></ul></li><li><label class='ee-shut'>data_type: float<input type='checkbox' class='ee-toggle'></label><ul><li><span class='ee-k'>type:</span><span class='ee-v'>PixelType</span></li><li><span class='ee-k'>precision:</span><span class='ee-v'>float</span></li></ul></li><li><label class='ee-shut'>dimensions: [7741, 7841]<input type='checkbox' class='ee-toggle'></label><ul><li><span class='ee-k'>0:</span><span class='ee-v'>7741</span></li><li><span class='ee-k'>1:</span><span class='ee-v'>7841</span></li></ul></li></ul></li><li><label class='ee-shut'>11: \"QA_PIXEL\", unsigned int16, EPSG:32632, 7741x7841 px<input type='checkbox' class='ee-toggle'></label><ul><li><span class='ee-k'>id:</span><span class='ee-v'>QA_PIXEL</span></li><li><span class='ee-k'>crs:</span><span class='ee-v'>EPSG:32632</span></li><li><label class='ee-shut'>crs_transform: [30, 0, 501885, 0, -30, 5215515]<input type='checkbox' class='ee-toggle'></label><ul><li><span class='ee-k'>0:</span><span class='ee-v'>30</span></li><li><span class='ee-k'>1:</span><span class='ee-v'>0</span></li><li><span class='ee-k'>2:</span><span class='ee-v'>501885</span></li><li><span class='ee-k'>3:</span><span class='ee-v'>0</span></li><li><span class='ee-k'>4:</span><span class='ee-v'>-30</span></li><li><span class='ee-k'>5:</span><span class='ee-v'>5215515</span></li></ul></li><li><label class='ee-shut'>data_type: unsigned int16<input type='checkbox' class='ee-toggle'></label><ul><li><span class='ee-k'>type:</span><span class='ee-v'>PixelType</span></li><li><span class='ee-k'>max:</span><span class='ee-v'>65535</span></li><li><span class='ee-k'>min:</span><span class='ee-v'>0</span></li><li><span class='ee-k'>precision:</span><span class='ee-v'>int</span></li></ul></li><li><label class='ee-shut'>dimensions: [7741, 7841]<input type='checkbox' class='ee-toggle'></label><ul><li><span class='ee-k'>0:</span><span class='ee-v'>7741</span></li><li><span class='ee-k'>1:</span><span class='ee-v'>7841</span></li></ul></li></ul></li><li><label class='ee-shut'>12: \"QA_RADSAT\", unsigned int16, EPSG:32632, 7741x7841 px<input type='checkbox' class='ee-toggle'></label><ul><li><span class='ee-k'>id:</span><span class='ee-v'>QA_RADSAT</span></li><li><span class='ee-k'>crs:</span><span class='ee-v'>EPSG:32632</span></li><li><label class='ee-shut'>crs_transform: [30, 0, 501885, 0, -30, 5215515]<input type='checkbox' class='ee-toggle'></label><ul><li><span class='ee-k'>0:</span><span class='ee-v'>30</span></li><li><span class='ee-k'>1:</span><span class='ee-v'>0</span></li><li><span class='ee-k'>2:</span><span class='ee-v'>501885</span></li><li><span class='ee-k'>3:</span><span class='ee-v'>0</span></li><li><span class='ee-k'>4:</span><span class='ee-v'>-30</span></li><li><span class='ee-k'>5:</span><span class='ee-v'>5215515</span></li></ul></li><li><label class='ee-shut'>data_type: unsigned int16<input type='checkbox' class='ee-toggle'></label><ul><li><span class='ee-k'>type:</span><span class='ee-v'>PixelType</span></li><li><span class='ee-k'>max:</span><span class='ee-v'>65535</span></li><li><span class='ee-k'>min:</span><span class='ee-v'>0</span></li><li><span class='ee-k'>precision:</span><span class='ee-v'>int</span></li></ul></li><li><label class='ee-shut'>dimensions: [7741, 7841]<input type='checkbox' class='ee-toggle'></label><ul><li><span class='ee-k'>0:</span><span class='ee-v'>7741</span></li><li><span class='ee-k'>1:</span><span class='ee-v'>7841</span></li></ul></li></ul></li><li><label class='ee-shut'>13: \"SAA\", signed int16, EPSG:32632, 7741x7841 px<input type='checkbox' class='ee-toggle'></label><ul><li><span class='ee-k'>id:</span><span class='ee-v'>SAA</span></li><li><span class='ee-k'>crs:</span><span class='ee-v'>EPSG:32632</span></li><li><label class='ee-shut'>crs_transform: [30, 0, 501885, 0, -30, 5215515]<input type='checkbox' class='ee-toggle'></label><ul><li><span class='ee-k'>0:</span><span class='ee-v'>30</span></li><li><span class='ee-k'>1:</span><span class='ee-v'>0</span></li><li><span class='ee-k'>2:</span><span class='ee-v'>501885</span></li><li><span class='ee-k'>3:</span><span class='ee-v'>0</span></li><li><span class='ee-k'>4:</span><span class='ee-v'>-30</span></li><li><span class='ee-k'>5:</span><span class='ee-v'>5215515</span></li></ul></li><li><label class='ee-shut'>data_type: signed int16<input type='checkbox' class='ee-toggle'></label><ul><li><span class='ee-k'>type:</span><span class='ee-v'>PixelType</span></li><li><span class='ee-k'>max:</span><span class='ee-v'>32767</span></li><li><span class='ee-k'>min:</span><span class='ee-v'>-32768</span></li><li><span class='ee-k'>precision:</span><span class='ee-v'>int</span></li></ul></li><li><label class='ee-shut'>dimensions: [7741, 7841]<input type='checkbox' class='ee-toggle'></label><ul><li><span class='ee-k'>0:</span><span class='ee-v'>7741</span></li><li><span class='ee-k'>1:</span><span class='ee-v'>7841</span></li></ul></li></ul></li><li><label class='ee-shut'>14: \"SZA\", signed int16, EPSG:32632, 7741x7841 px<input type='checkbox' class='ee-toggle'></label><ul><li><span class='ee-k'>id:</span><span class='ee-v'>SZA</span></li><li><span class='ee-k'>crs:</span><span class='ee-v'>EPSG:32632</span></li><li><label class='ee-shut'>crs_transform: [30, 0, 501885, 0, -30, 5215515]<input type='checkbox' class='ee-toggle'></label><ul><li><span class='ee-k'>0:</span><span class='ee-v'>30</span></li><li><span class='ee-k'>1:</span><span class='ee-v'>0</span></li><li><span class='ee-k'>2:</span><span class='ee-v'>501885</span></li><li><span class='ee-k'>3:</span><span class='ee-v'>0</span></li><li><span class='ee-k'>4:</span><span class='ee-v'>-30</span></li><li><span class='ee-k'>5:</span><span class='ee-v'>5215515</span></li></ul></li><li><label class='ee-shut'>data_type: signed int16<input type='checkbox' class='ee-toggle'></label><ul><li><span class='ee-k'>type:</span><span class='ee-v'>PixelType</span></li><li><span class='ee-k'>max:</span><span class='ee-v'>32767</span></li><li><span class='ee-k'>min:</span><span class='ee-v'>-32768</span></li><li><span class='ee-k'>precision:</span><span class='ee-v'>int</span></li></ul></li><li><label class='ee-shut'>dimensions: [7741, 7841]<input type='checkbox' class='ee-toggle'></label><ul><li><span class='ee-k'>0:</span><span class='ee-v'>7741</span></li><li><span class='ee-k'>1:</span><span class='ee-v'>7841</span></li></ul></li></ul></li><li><label class='ee-shut'>15: \"VAA\", signed int16, EPSG:32632, 7741x7841 px<input type='checkbox' class='ee-toggle'></label><ul><li><span class='ee-k'>id:</span><span class='ee-v'>VAA</span></li><li><span class='ee-k'>crs:</span><span class='ee-v'>EPSG:32632</span></li><li><label class='ee-shut'>crs_transform: [30, 0, 501885, 0, -30, 5215515]<input type='checkbox' class='ee-toggle'></label><ul><li><span class='ee-k'>0:</span><span class='ee-v'>30</span></li><li><span class='ee-k'>1:</span><span class='ee-v'>0</span></li><li><span class='ee-k'>2:</span><span class='ee-v'>501885</span></li><li><span class='ee-k'>3:</span><span class='ee-v'>0</span></li><li><span class='ee-k'>4:</span><span class='ee-v'>-30</span></li><li><span class='ee-k'>5:</span><span class='ee-v'>5215515</span></li></ul></li><li><label class='ee-shut'>data_type: signed int16<input type='checkbox' class='ee-toggle'></label><ul><li><span class='ee-k'>type:</span><span class='ee-v'>PixelType</span></li><li><span class='ee-k'>max:</span><span class='ee-v'>32767</span></li><li><span class='ee-k'>min:</span><span class='ee-v'>-32768</span></li><li><span class='ee-k'>precision:</span><span class='ee-v'>int</span></li></ul></li><li><label class='ee-shut'>dimensions: [7741, 7841]<input type='checkbox' class='ee-toggle'></label><ul><li><span class='ee-k'>0:</span><span class='ee-v'>7741</span></li><li><span class='ee-k'>1:</span><span class='ee-v'>7841</span></li></ul></li></ul></li><li><label class='ee-shut'>16: \"VZA\", signed int16, EPSG:32632, 7741x7841 px<input type='checkbox' class='ee-toggle'></label><ul><li><span class='ee-k'>id:</span><span class='ee-v'>VZA</span></li><li><span class='ee-k'>crs:</span><span class='ee-v'>EPSG:32632</span></li><li><label class='ee-shut'>crs_transform: [30, 0, 501885, 0, -30, 5215515]<input type='checkbox' class='ee-toggle'></label><ul><li><span class='ee-k'>0:</span><span class='ee-v'>30</span></li><li><span class='ee-k'>1:</span><span class='ee-v'>0</span></li><li><span class='ee-k'>2:</span><span class='ee-v'>501885</span></li><li><span class='ee-k'>3:</span><span class='ee-v'>0</span></li><li><span class='ee-k'>4:</span><span class='ee-v'>-30</span></li><li><span class='ee-k'>5:</span><span class='ee-v'>5215515</span></li></ul></li><li><label class='ee-shut'>data_type: signed int16<input type='checkbox' class='ee-toggle'></label><ul><li><span class='ee-k'>type:</span><span class='ee-v'>PixelType</span></li><li><span class='ee-k'>max:</span><span class='ee-v'>32767</span></li><li><span class='ee-k'>min:</span><span class='ee-v'>-32768</span></li><li><span class='ee-k'>precision:</span><span class='ee-v'>int</span></li></ul></li><li><label class='ee-shut'>dimensions: [7741, 7841]<input type='checkbox' class='ee-toggle'></label><ul><li><span class='ee-k'>0:</span><span class='ee-v'>7741</span></li><li><span class='ee-k'>1:</span><span class='ee-v'>7841</span></li></ul></li></ul></li><li><label class='ee-shut'>17: \"NDVI\", float, EPSG:32632, 7741x7841 px<input type='checkbox' class='ee-toggle'></label><ul><li><span class='ee-k'>id:</span><span class='ee-v'>NDVI</span></li><li><span class='ee-k'>crs:</span><span class='ee-v'>EPSG:32632</span></li><li><label class='ee-shut'>crs_transform: [30, 0, 501885, 0, -30, 5215515]<input type='checkbox' class='ee-toggle'></label><ul><li><span class='ee-k'>0:</span><span class='ee-v'>30</span></li><li><span class='ee-k'>1:</span><span class='ee-v'>0</span></li><li><span class='ee-k'>2:</span><span class='ee-v'>501885</span></li><li><span class='ee-k'>3:</span><span class='ee-v'>0</span></li><li><span class='ee-k'>4:</span><span class='ee-v'>-30</span></li><li><span class='ee-k'>5:</span><span class='ee-v'>5215515</span></li></ul></li><li><label class='ee-shut'>data_type: float<input type='checkbox' class='ee-toggle'></label><ul><li><span class='ee-k'>type:</span><span class='ee-v'>PixelType</span></li><li><span class='ee-k'>max:</span><span class='ee-v'>1</span></li><li><span class='ee-k'>min:</span><span class='ee-v'>-1</span></li><li><span class='ee-k'>precision:</span><span class='ee-v'>float</span></li></ul></li><li><label class='ee-shut'>dimensions: [7741, 7841]<input type='checkbox' class='ee-toggle'></label><ul><li><span class='ee-k'>0:</span><span class='ee-v'>7741</span></li><li><span class='ee-k'>1:</span><span class='ee-v'>7841</span></li></ul></li></ul></li></ul></li><li><label class='ee-shut'>properties: Object (112 properties)<input type='checkbox' class='ee-toggle'></label><ul><li><span class='ee-k'>CLOUD_COVER:</span><span class='ee-v'>8.99</span></li><li><span class='ee-k'>CLOUD_COVER_LAND:</span><span class='ee-v'>8.99</span></li><li><span class='ee-k'>COLLECTION_CATEGORY:</span><span class='ee-v'>T1</span></li><li><span class='ee-k'>COLLECTION_NUMBER:</span><span class='ee-v'>2</span></li><li><span class='ee-k'>DATA_SOURCE_ELEVATION:</span><span class='ee-v'>GLS2000</span></li><li><span class='ee-k'>DATA_SOURCE_TIRS_STRAY_LIGHT_CORRECTION:</span><span class='ee-v'>TIRS</span></li><li><span class='ee-k'>DATE_ACQUIRED:</span><span class='ee-v'>2022-07-18</span></li><li><span class='ee-k'>DATE_PRODUCT_GENERATED:</span><span class='ee-v'>1658821058000</span></li><li><span class='ee-k'>DATUM:</span><span class='ee-v'>WGS84</span></li><li><span class='ee-k'>EARTH_SUN_DISTANCE:</span><span class='ee-v'>1.0162867</span></li><li><span class='ee-k'>ELLIPSOID:</span><span class='ee-v'>WGS84</span></li><li><span class='ee-k'>GEOMETRIC_RMSE_MODEL:</span><span class='ee-v'>5.231</span></li><li><span class='ee-k'>GEOMETRIC_RMSE_MODEL_X:</span><span class='ee-v'>3.646</span></li><li><span class='ee-k'>GEOMETRIC_RMSE_MODEL_Y:</span><span class='ee-v'>3.75</span></li><li><span class='ee-k'>GEOMETRIC_RMSE_VERIFY:</span><span class='ee-v'>3.135</span></li><li><span class='ee-k'>GRID_CELL_SIZE_PANCHROMATIC:</span><span class='ee-v'>15</span></li><li><span class='ee-k'>GRID_CELL_SIZE_REFLECTIVE:</span><span class='ee-v'>30</span></li><li><span class='ee-k'>GRID_CELL_SIZE_THERMAL:</span><span class='ee-v'>30</span></li><li><span class='ee-k'>GROUND_CONTROL_POINTS_MODEL:</span><span class='ee-v'>675</span></li><li><span class='ee-k'>GROUND_CONTROL_POINTS_VERIFY:</span><span class='ee-v'>176</span></li><li><span class='ee-k'>GROUND_CONTROL_POINTS_VERSION:</span><span class='ee-v'>5</span></li><li><span class='ee-k'>IMAGE_QUALITY_OLI:</span><span class='ee-v'>9</span></li><li><span class='ee-k'>IMAGE_QUALITY_TIRS:</span><span class='ee-v'>9</span></li><li><span class='ee-k'>K1_CONSTANT_BAND_10:</span><span class='ee-v'>774.8853</span></li><li><span class='ee-k'>K1_CONSTANT_BAND_11:</span><span class='ee-v'>480.8883</span></li><li><span class='ee-k'>K2_CONSTANT_BAND_10:</span><span class='ee-v'>1321.0789</span></li><li><span class='ee-k'>K2_CONSTANT_BAND_11:</span><span class='ee-v'>1201.1442</span></li><li><span class='ee-k'>LANDSAT_PRODUCT_ID:</span><span class='ee-v'>LC08_L1TP_193028_20220718_20220726_02_T1</span></li><li><span class='ee-k'>LANDSAT_SCENE_ID:</span><span class='ee-v'>LC81930282022199LGN00</span></li><li><span class='ee-k'>MAP_PROJECTION:</span><span class='ee-v'>UTM</span></li><li><span class='ee-k'>NADIR_OFFNADIR:</span><span class='ee-v'>NADIR</span></li><li><span class='ee-k'>ORIENTATION:</span><span class='ee-v'>NORTH_UP</span></li><li><span class='ee-k'>PANCHROMATIC_LINES:</span><span class='ee-v'>15681</span></li><li><span class='ee-k'>PANCHROMATIC_SAMPLES:</span><span class='ee-v'>15481</span></li><li><span class='ee-k'>PROCESSING_LEVEL:</span><span class='ee-v'>L1TP</span></li><li><span class='ee-k'>PROCESSING_SOFTWARE_VERSION:</span><span class='ee-v'>LPGS_16.1.0</span></li><li><span class='ee-k'>RADIANCE_ADD_BAND_1:</span><span class='ee-v'>-60.78275</span></li><li><span class='ee-k'>RADIANCE_ADD_BAND_10:</span><span class='ee-v'>0.1</span></li><li><span class='ee-k'>RADIANCE_ADD_BAND_11:</span><span class='ee-v'>0.1</span></li><li><span class='ee-k'>RADIANCE_ADD_BAND_2:</span><span class='ee-v'>-62.24228</span></li><li><span class='ee-k'>RADIANCE_ADD_BAND_3:</span><span class='ee-v'>-57.35573</span></li><li><span class='ee-k'>RADIANCE_ADD_BAND_4:</span><span class='ee-v'>-48.36558</span></li><li><span class='ee-k'>RADIANCE_ADD_BAND_5:</span><span class='ee-v'>-29.59732</span></li><li><span class='ee-k'>RADIANCE_ADD_BAND_6:</span><span class='ee-v'>-7.36059</span></li><li><span class='ee-k'>RADIANCE_ADD_BAND_7:</span><span class='ee-v'>-2.48091</span></li><li><span class='ee-k'>RADIANCE_ADD_BAND_8:</span><span class='ee-v'>-54.73653</span></li><li><span class='ee-k'>RADIANCE_ADD_BAND_9:</span><span class='ee-v'>-11.56731</span></li><li><span class='ee-k'>RADIANCE_MULT_BAND_1:</span><span class='ee-v'>0.012157</span></li><li><span class='ee-k'>RADIANCE_MULT_BAND_10:</span><span class='ee-v'>0.0003342</span></li><li><span class='ee-k'>RADIANCE_MULT_BAND_11:</span><span class='ee-v'>0.0003342</span></li><li><span class='ee-k'>RADIANCE_MULT_BAND_2:</span><span class='ee-v'>0.012448</span></li><li><span class='ee-k'>RADIANCE_MULT_BAND_3:</span><span class='ee-v'>0.011471</span></li><li><span class='ee-k'>RADIANCE_MULT_BAND_4:</span><span class='ee-v'>0.0096731</span></li><li><span class='ee-k'>RADIANCE_MULT_BAND_5:</span><span class='ee-v'>0.0059195</span></li><li><span class='ee-k'>RADIANCE_MULT_BAND_6:</span><span class='ee-v'>0.0014721</span></li><li><span class='ee-k'>RADIANCE_MULT_BAND_7:</span><span class='ee-v'>0.00049618</span></li><li><span class='ee-k'>RADIANCE_MULT_BAND_8:</span><span class='ee-v'>0.010947</span></li><li><span class='ee-k'>RADIANCE_MULT_BAND_9:</span><span class='ee-v'>0.0023135</span></li><li><span class='ee-k'>REFLECTANCE_ADD_BAND_1:</span><span class='ee-v'>-0.1</span></li><li><span class='ee-k'>REFLECTANCE_ADD_BAND_2:</span><span class='ee-v'>-0.1</span></li><li><span class='ee-k'>REFLECTANCE_ADD_BAND_3:</span><span class='ee-v'>-0.1</span></li><li><span class='ee-k'>REFLECTANCE_ADD_BAND_4:</span><span class='ee-v'>-0.1</span></li><li><span class='ee-k'>REFLECTANCE_ADD_BAND_5:</span><span class='ee-v'>-0.1</span></li><li><span class='ee-k'>REFLECTANCE_ADD_BAND_6:</span><span class='ee-v'>-0.1</span></li><li><span class='ee-k'>REFLECTANCE_ADD_BAND_7:</span><span class='ee-v'>-0.1</span></li><li><span class='ee-k'>REFLECTANCE_ADD_BAND_8:</span><span class='ee-v'>-0.1</span></li><li><span class='ee-k'>REFLECTANCE_ADD_BAND_9:</span><span class='ee-v'>-0.1</span></li><li><span class='ee-k'>REFLECTANCE_MULT_BAND_1:</span><span class='ee-v'>2e-05</span></li><li><span class='ee-k'>REFLECTANCE_MULT_BAND_2:</span><span class='ee-v'>2e-05</span></li><li><span class='ee-k'>REFLECTANCE_MULT_BAND_3:</span><span class='ee-v'>2e-05</span></li><li><span class='ee-k'>REFLECTANCE_MULT_BAND_4:</span><span class='ee-v'>2e-05</span></li><li><span class='ee-k'>REFLECTANCE_MULT_BAND_5:</span><span class='ee-v'>2e-05</span></li><li><span class='ee-k'>REFLECTANCE_MULT_BAND_6:</span><span class='ee-v'>2e-05</span></li><li><span class='ee-k'>REFLECTANCE_MULT_BAND_7:</span><span class='ee-v'>2e-05</span></li><li><span class='ee-k'>REFLECTANCE_MULT_BAND_8:</span><span class='ee-v'>2e-05</span></li><li><span class='ee-k'>REFLECTANCE_MULT_BAND_9:</span><span class='ee-v'>2e-05</span></li><li><span class='ee-k'>REFLECTIVE_LINES:</span><span class='ee-v'>7841</span></li><li><span class='ee-k'>REFLECTIVE_SAMPLES:</span><span class='ee-v'>7741</span></li><li><span class='ee-k'>REQUEST_ID:</span><span class='ee-v'>1556554_04323</span></li><li><span class='ee-k'>RESAMPLING_OPTION:</span><span class='ee-v'>CUBIC_CONVOLUTION</span></li><li><span class='ee-k'>ROLL_ANGLE:</span><span class='ee-v'>-0.001</span></li><li><span class='ee-k'>SATURATION_BAND_1:</span><span class='ee-v'>Y</span></li><li><span class='ee-k'>SATURATION_BAND_2:</span><span class='ee-v'>Y</span></li><li><span class='ee-k'>SATURATION_BAND_3:</span><span class='ee-v'>Y</span></li><li><span class='ee-k'>SATURATION_BAND_4:</span><span class='ee-v'>Y</span></li><li><span class='ee-k'>SATURATION_BAND_5:</span><span class='ee-v'>Y</span></li><li><span class='ee-k'>SATURATION_BAND_6:</span><span class='ee-v'>Y</span></li><li><span class='ee-k'>SATURATION_BAND_7:</span><span class='ee-v'>Y</span></li><li><span class='ee-k'>SATURATION_BAND_8:</span><span class='ee-v'>N</span></li><li><span class='ee-k'>SATURATION_BAND_9:</span><span class='ee-v'>N</span></li><li><span class='ee-k'>SCENE_CENTER_TIME:</span><span class='ee-v'>10:04:48.2418820Z</span></li><li><span class='ee-k'>SENSOR_ID:</span><span class='ee-v'>OLI_TIRS</span></li><li><span class='ee-k'>SPACECRAFT_ID:</span><span class='ee-v'>LANDSAT_8</span></li><li><span class='ee-k'>STATION_ID:</span><span class='ee-v'>LGN</span></li><li><span class='ee-k'>SUN_AZIMUTH:</span><span class='ee-v'>140.42660804</span></li><li><span class='ee-k'>SUN_ELEVATION:</span><span class='ee-v'>60.17000722</span></li><li><span class='ee-k'>TARGET_WRS_PATH:</span><span class='ee-v'>193</span></li><li><span class='ee-k'>TARGET_WRS_ROW:</span><span class='ee-v'>28</span></li><li><span class='ee-k'>THERMAL_LINES:</span><span class='ee-v'>7841</span></li><li><span class='ee-k'>THERMAL_SAMPLES:</span><span class='ee-v'>7741</span></li><li><span class='ee-k'>TIRS_SSM_MODEL:</span><span class='ee-v'>FINAL</span></li><li><span class='ee-k'>TIRS_SSM_POSITION_STATUS:</span><span class='ee-v'>ESTIMATED</span></li><li><span class='ee-k'>TRUNCATION_OLI:</span><span class='ee-v'>UPPER</span></li><li><span class='ee-k'>UTM_ZONE:</span><span class='ee-v'>32</span></li><li><span class='ee-k'>WRS_PATH:</span><span class='ee-v'>193</span></li><li><span class='ee-k'>WRS_ROW:</span><span class='ee-v'>28</span></li><li><span class='ee-k'>WRS_TYPE:</span><span class='ee-v'>2</span></li><li><span class='ee-k'>system:asset_size:</span><span class='ee-v'>1310646353</span></li><li><label class='ee-shut'>system:footprint: LinearRing (20 vertices)<input type='checkbox' class='ee-toggle'></label><ul><li><span class='ee-k'>type:</span><span class='ee-v'>LinearRing</span></li><li><label class='ee-shut'>coordinates: List (20 elements)<input type='checkbox' class='ee-toggle'></label><ul><li><label class='ee-shut'>0: [11.378380950994456, 44.953690688015065]<input type='checkbox' class='ee-toggle'></label><ul><li><span class='ee-k'>0:</span><span class='ee-v'>11.378380950994456</span></li><li><span class='ee-k'>1:</span><span class='ee-v'>44.953690688015065</span></li></ul></li><li><label class='ee-shut'>1: [11.384767175836426, 44.95254222292919]<input type='checkbox' class='ee-toggle'></label><ul><li><span class='ee-k'>0:</span><span class='ee-v'>11.384767175836426</span></li><li><span class='ee-k'>1:</span><span class='ee-v'>44.95254222292919</span></li></ul></li><li><label class='ee-shut'>2: [11.409825235435138, 45.01785479231266]<input type='checkbox' class='ee-toggle'></label><ul><li><span class='ee-k'>0:</span><span class='ee-v'>11.409825235435138</span></li><li><span class='ee-k'>1:</span><span class='ee-v'>45.01785479231266</span></li></ul></li><li><label class='ee-shut'>3: [11.499371698655967, 45.25024808751513]<input type='checkbox' class='ee-toggle'></label><ul><li><span class='ee-k'>0:</span><span class='ee-v'>11.499371698655967</span></li><li><span class='ee-k'>1:</span><span class='ee-v'>45.25024808751513</span></li></ul></li><li><label class='ee-shut'>4: [11.563591287103895, 45.415933053109285]<input type='checkbox' class='ee-toggle'></label><ul><li><span class='ee-k'>0:</span><span class='ee-v'>11.563591287103895</span></li><li><span class='ee-k'>1:</span><span class='ee-v'>45.415933053109285</span></li></ul></li><li><label class='ee-shut'>5: [11.598817440400428, 45.506680134947494]<input type='checkbox' class='ee-toggle'></label><ul><li><span class='ee-k'>0:</span><span class='ee-v'>11.598817440400428</span></li><li><span class='ee-k'>1:</span><span class='ee-v'>45.506680134947494</span></li></ul></li><li><label class='ee-shut'>6: [11.715717254659568, 45.80588677471964]<input type='checkbox' class='ee-toggle'></label><ul><li><span class='ee-k'>0:</span><span class='ee-v'>11.715717254659568</span></li><li><span class='ee-k'>1:</span><span class='ee-v'>45.80588677471964</span></li></ul></li><li><label class='ee-shut'>7: [11.792865424246111, 46.00219792595291]<input type='checkbox' class='ee-toggle'></label><ul><li><span class='ee-k'>0:</span><span class='ee-v'>11.792865424246111</span></li><li><span class='ee-k'>1:</span><span class='ee-v'>46.00219792595291</span></li></ul></li><li><label class='ee-shut'>8: [11.935192569337607, 46.36328069424584]<input type='checkbox' class='ee-toggle'></label><ul><li><span class='ee-k'>0:</span><span class='ee-v'>11.935192569337607</span></li><li><span class='ee-k'>1:</span><span class='ee-v'>46.36328069424584</span></li></ul></li><li><label class='ee-shut'>9: [11.974507670445215, 46.462302163147676]<input type='checkbox' class='ee-toggle'></label><ul><li><span class='ee-k'>0:</span><span class='ee-v'>11.974507670445215</span></li><li><span class='ee-k'>1:</span><span class='ee-v'>46.462302163147676</span></li></ul></li><li><label class='ee-shut'>10: [12.043982722169938, 46.637428699400814]<input type='checkbox' class='ee-toggle'></label><ul><li><span class='ee-k'>0:</span><span class='ee-v'>12.043982722169938</span></li><li><span class='ee-k'>1:</span><span class='ee-v'>46.637428699400814</span></li></ul></li><li><label class='ee-shut'>11: [12.050434258588167, 46.656341381160736]<input type='checkbox' class='ee-toggle'></label><ul><li><span class='ee-k'>0:</span><span class='ee-v'>12.050434258588167</span></li><li><span class='ee-k'>1:</span><span class='ee-v'>46.656341381160736</span></li></ul></li><li><label class='ee-shut'>12: [12.050541638146063, 46.65824878374234]<input type='checkbox' class='ee-toggle'></label><ul><li><span class='ee-k'>0:</span><span class='ee-v'>12.050541638146063</span></li><li><span class='ee-k'>1:</span><span class='ee-v'>46.65824878374234</span></li></ul></li><li><label class='ee-shut'>13: [10.574841519524842, 46.92890263382717]<input type='checkbox' class='ee-toggle'></label><ul><li><span class='ee-k'>0:</span><span class='ee-v'>10.574841519524842</span></li><li><span class='ee-k'>1:</span><span class='ee-v'>46.92890263382717</span></li></ul></li><li><label class='ee-shut'>14: [9.629658778494418, 47.09095735236211]<input type='checkbox' class='ee-toggle'></label><ul><li><span class='ee-k'>0:</span><span class='ee-v'>9.629658778494418</span></li><li><span class='ee-k'>1:</span><span class='ee-v'>47.09095735236211</span></li></ul></li><li><label class='ee-shut'>15: [9.58467205793682, 46.973079445837925]<input type='checkbox' class='ee-toggle'></label><ul><li><span class='ee-k'>0:</span><span class='ee-v'>9.58467205793682</span></li><li><span class='ee-k'>1:</span><span class='ee-v'>46.973079445837925</span></li></ul></li><li><label class='ee-shut'>16: [9.02870336265282, 45.382029593029664]<input type='checkbox' class='ee-toggle'></label><ul><li><span class='ee-k'>0:</span><span class='ee-v'>9.02870336265282</span></li><li><span class='ee-k'>1:</span><span class='ee-v'>45.382029593029664</span></li></ul></li><li><label class='ee-shut'>17: [9.043159036891065, 45.37947788159184]<input type='checkbox' class='ee-toggle'></label><ul><li><span class='ee-k'>0:</span><span class='ee-v'>9.043159036891065</span></li><li><span class='ee-k'>1:</span><span class='ee-v'>45.37947788159184</span></li></ul></li><li><label class='ee-shut'>18: [10.9124035322807, 45.04297043492326]<input type='checkbox' class='ee-toggle'></label><ul><li><span class='ee-k'>0:</span><span class='ee-v'>10.9124035322807</span></li><li><span class='ee-k'>1:</span><span class='ee-v'>45.04297043492326</span></li></ul></li><li><label class='ee-shut'>19: [11.378380950994456, 44.953690688015065]<input type='checkbox' class='ee-toggle'></label><ul><li><span class='ee-k'>0:</span><span class='ee-v'>11.378380950994456</span></li><li><span class='ee-k'>1:</span><span class='ee-v'>44.953690688015065</span></li></ul></li></ul></li></ul></li><li><span class='ee-k'>system:index:</span><span class='ee-v'>LC08_193028_20220718</span></li><li><span class='ee-k'>system:time_end:</span><span class='ee-v'>1658138688241</span></li><li><span class='ee-k'>system:time_start:</span><span class='ee-v'>1658138688241</span></li></ul></li></ul></li></ul></li></ul></li></ul></div><script>function toggleHeader() {\n",
       "    const parent = this.parentElement;\n",
       "    parent.className = parent.className === \"ee-open\" ? \"ee-shut\" : \"ee-open\";\n",
       "}\n",
       "\n",
       "for (let c of document.getElementsByClassName(\"ee-toggle\")) {\n",
       "    c.onclick = toggleHeader;\n",
       "}</script></div>"
      ],
      "text/plain": [
       "<ee.imagecollection.ImageCollection at 0x7f40c7245c10>"
      ]
     },
     "execution_count": 112,
     "metadata": {},
     "output_type": "execute_result"
    }
   ],
   "source": [
    "withNDVI"
   ]
  },
  {
   "cell_type": "code",
   "execution_count": 113,
   "id": "99806794",
   "metadata": {
    "scrolled": true
   },
   "outputs": [
    {
     "data": {
      "application/vnd.jupyter.widget-view+json": {
       "model_id": "167a9a9e9c2b46a0b11d8eca61c3b600",
       "version_major": 2,
       "version_minor": 0
      },
      "text/plain": [
       "Map(center=[46.076, 11.21], controls=(WidgetControl(options=['position', 'transparent_bg'], widget=HBox(childr…"
      ]
     },
     "metadata": {},
     "output_type": "display_data"
    }
   ],
   "source": [
    "\n",
    "Map = geemap.Map(center=(46.076, 11.21), zoom=10)\n",
    "#add layer to map\n",
    "Map.addLayer(l2sp_first, l2sp_vis, 'ST_B10', True, 0.9)\n",
    "Map.addLayer(geometry,  {},'geometry');\n",
    "Map.addLayer(withNDVI.first().select('NDVI'),  ndvi_vis,'NDVI');\n",
    "\n",
    "Map"
   ]
  },
  {
   "cell_type": "markdown",
   "id": "29ef8983",
   "metadata": {},
   "source": [
    "# Check out TOA products"
   ]
  },
  {
   "cell_type": "code",
   "execution_count": 103,
   "id": "d8fe4ded",
   "metadata": {},
   "outputs": [],
   "source": [
    "point = ee.Geometry.Point([-122.292, 37.9018])\n",
    "\n",
    "#// Import the Landsat 8 TOA image collection.\n",
    "l8 = ee.ImageCollection('LANDSAT/LC08/C02/T1_TOA');\n",
    "\n",
    "#// Get the least cloudy image in 2015.\n",
    "image = ee.Image(\n",
    "  l8.filterBounds(point)\n",
    "    .filterDate('2015-01-01', '2015-12-31')\n",
    "    .sort('CLOUD_COVER')\n",
    "    .first())"
   ]
  },
  {
   "cell_type": "code",
   "execution_count": 104,
   "id": "1604354c",
   "metadata": {},
   "outputs": [],
   "source": [
    "#// Compute the Normalized Difference Vegetation Index (NDVI).\n",
    "nir = image.select('B5');\n",
    "red = image.select('B4');\n",
    "ndvi = nir.subtract(red).divide(nir.add(red)).rename('NDVI');\n",
    "\n",
    "#// Display the result.\n",
    "Map.centerObject(image, 9);\n",
    "ndviParams = {min: -1, max: 1, 'palette': ['blue', 'white', 'green']}\n",
    "Map.addLayer(ndvi, ndviParams, 'NDVI image')\n",
    "Map"
   ]
  },
  {
   "cell_type": "markdown",
   "id": "dcf1719e",
   "metadata": {},
   "source": [
    "# FOR TIME BEING IS EASIER TO PROCESS THEM ALL IN EE AND EXPORT THE GeoTIFF"
   ]
  },
  {
   "cell_type": "markdown",
   "id": "383376b2",
   "metadata": {},
   "source": [
    "exported 4 tiles with the bands addede LST, NDVI & NDWI!!\n",
    "\n",
    "downloadede zip for now, let's see if visible"
   ]
  },
  {
   "cell_type": "code",
   "execution_count": 9,
   "id": "cbbc0961",
   "metadata": {},
   "outputs": [
    {
     "data": {
      "text/plain": [
       "'/home/beber/fbk_sandbox/swiss_uhi/tn_uhi'"
      ]
     },
     "execution_count": 9,
     "metadata": {},
     "output_type": "execute_result"
    }
   ],
   "source": [
    "pwd"
   ]
  },
  {
   "cell_type": "code",
   "execution_count": 10,
   "id": "91ae2bb1",
   "metadata": {},
   "outputs": [],
   "source": [
    "lst_gee_tiles = 'data/raw/landsat_gee_tiles/gee_uhi-20230118T151928Z-001/gee_uhi/'"
   ]
  },
  {
   "cell_type": "code",
   "execution_count": 11,
   "id": "a40295d9",
   "metadata": {},
   "outputs": [],
   "source": [
    "tile0 = 'uhi_LC08_192028_20220625.tif'"
   ]
  },
  {
   "cell_type": "code",
   "execution_count": 12,
   "id": "913e1e7a",
   "metadata": {
    "scrolled": true
   },
   "outputs": [
    {
     "name": "stdout",
     "output_type": "stream",
     "text": [
      "total 157886\r\n",
      "-rw-rw-r-- 1 beber    12495 gen 19 16:47 id_a.csv\r\n",
      "-rw-rw-r-- 1 beber 40117654 gen 18 07:18 \u001b[0m\u001b[01;35muhi_LC08_192028_20220625.tif\u001b[0m\r\n",
      "-rw-rw-r-- 1 beber     7348 gen 20 15:36 uhi_LC08_192028_20220625.tif.aux.xml\r\n",
      "-rw-rw-r-- 1 beber 40794631 gen 18 07:18 \u001b[01;35muhi_LC08_192028_20220711.tif\u001b[0m\r\n",
      "-rw-rw-r-- 1 beber 42320418 gen 18 07:18 \u001b[01;35muhi_LC08_193028_20220702.tif\u001b[0m\r\n",
      "-rw-rw-r-- 1 beber 38256999 gen 18 07:18 \u001b[01;35muhi_LC08_193028_20220718.tif\u001b[0m\r\n"
     ]
    }
   ],
   "source": [
    "ll {lst_gee_tiles}"
   ]
  },
  {
   "cell_type": "code",
   "execution_count": 134,
   "id": "779d5fd0",
   "metadata": {},
   "outputs": [],
   "source": [
    "import geemap.colormaps as cm"
   ]
  },
  {
   "cell_type": "code",
   "execution_count": 148,
   "id": "dcce588e",
   "metadata": {
    "scrolled": true
   },
   "outputs": [
    {
     "data": {
      "application/vnd.jupyter.widget-view+json": {
       "model_id": "3e4d1d3a26164458961d09f383a634c0",
       "version_major": 2,
       "version_minor": 0
      },
      "text/plain": [
       "Map(center=[46.076, 11.21], controls=(WidgetControl(options=['position', 'transparent_bg'], widget=HBox(childr…"
      ]
     },
     "metadata": {},
     "output_type": "display_data"
    }
   ],
   "source": [
    "\n",
    "Map = geemap.Map(center=(46.076, 11.21), zoom=10)\n",
    "#add layer to map\n",
    "Map.addLayer(l2sp_first, l2sp_vis, 'ST_B10', True, 0.9)\n",
    "Map.addLayer(geometry,  {},'geometry');\n",
    "Map.addLayer(withNDVI.first().select('NDVI'),  ndvi_vis,'NDVI');\n",
    "Map.add_raster(lst_gee_tiles+tile0,[4,3,2],colormap = 'terrain')\n",
    "Map"
   ]
  },
  {
   "cell_type": "markdown",
   "id": "119d953d",
   "metadata": {},
   "source": [
    "!mamba install -c conda-forge xarray_leaflet\n"
   ]
  },
  {
   "cell_type": "code",
   "execution_count": 159,
   "id": "7c1fa099",
   "metadata": {},
   "outputs": [],
   "source": [
    "# read in local image\n",
    "locImage = ee.Image.loadGeoTIFF(lst_gee_tiles+tile0)"
   ]
  },
  {
   "cell_type": "code",
   "execution_count": 162,
   "id": "b91e9042",
   "metadata": {
    "scrolled": true
   },
   "outputs": [
    {
     "ename": "EEException",
     "evalue": "Image.loadGeoTIFF: Invalid GCS URL: \"data/raw/landsat_gee_tiles/gee_uhi-20230118T151928Z-001/gee_uhi/uhi_LC08_192028_20220625.tif\". Expected something of the form \"gs://bucket/path/to/object\".",
     "output_type": "error",
     "traceback": [
      "\u001b[0;31m---------------------------------------------------------------------------\u001b[0m",
      "\u001b[0;31mHttpError\u001b[0m                                 Traceback (most recent call last)",
      "\u001b[0;32m~/mambaforge/envs/uhi/lib/python3.7/site-packages/ee/data.py\u001b[0m in \u001b[0;36m_execute_cloud_call\u001b[0;34m(call, num_retries)\u001b[0m\n\u001b[1;32m    327\u001b[0m   \u001b[0;32mtry\u001b[0m\u001b[0;34m:\u001b[0m\u001b[0;34m\u001b[0m\u001b[0;34m\u001b[0m\u001b[0m\n\u001b[0;32m--> 328\u001b[0;31m     \u001b[0;32mreturn\u001b[0m \u001b[0mcall\u001b[0m\u001b[0;34m.\u001b[0m\u001b[0mexecute\u001b[0m\u001b[0;34m(\u001b[0m\u001b[0mnum_retries\u001b[0m\u001b[0;34m=\u001b[0m\u001b[0mnum_retries\u001b[0m\u001b[0;34m)\u001b[0m\u001b[0;34m\u001b[0m\u001b[0;34m\u001b[0m\u001b[0m\n\u001b[0m\u001b[1;32m    329\u001b[0m   \u001b[0;32mexcept\u001b[0m \u001b[0mgoogleapiclient\u001b[0m\u001b[0;34m.\u001b[0m\u001b[0merrors\u001b[0m\u001b[0;34m.\u001b[0m\u001b[0mHttpError\u001b[0m \u001b[0;32mas\u001b[0m \u001b[0me\u001b[0m\u001b[0;34m:\u001b[0m\u001b[0;34m\u001b[0m\u001b[0;34m\u001b[0m\u001b[0m\n",
      "\u001b[0;32m~/mambaforge/envs/uhi/lib/python3.7/site-packages/googleapiclient/_helpers.py\u001b[0m in \u001b[0;36mpositional_wrapper\u001b[0;34m(*args, **kwargs)\u001b[0m\n\u001b[1;32m    129\u001b[0m                     \u001b[0mlogger\u001b[0m\u001b[0;34m.\u001b[0m\u001b[0mwarning\u001b[0m\u001b[0;34m(\u001b[0m\u001b[0mmessage\u001b[0m\u001b[0;34m)\u001b[0m\u001b[0;34m\u001b[0m\u001b[0;34m\u001b[0m\u001b[0m\n\u001b[0;32m--> 130\u001b[0;31m             \u001b[0;32mreturn\u001b[0m \u001b[0mwrapped\u001b[0m\u001b[0;34m(\u001b[0m\u001b[0;34m*\u001b[0m\u001b[0margs\u001b[0m\u001b[0;34m,\u001b[0m \u001b[0;34m**\u001b[0m\u001b[0mkwargs\u001b[0m\u001b[0;34m)\u001b[0m\u001b[0;34m\u001b[0m\u001b[0;34m\u001b[0m\u001b[0m\n\u001b[0m\u001b[1;32m    131\u001b[0m \u001b[0;34m\u001b[0m\u001b[0m\n",
      "\u001b[0;32m~/mambaforge/envs/uhi/lib/python3.7/site-packages/googleapiclient/http.py\u001b[0m in \u001b[0;36mexecute\u001b[0;34m(self, http, num_retries)\u001b[0m\n\u001b[1;32m    937\u001b[0m         \u001b[0;32mif\u001b[0m \u001b[0mresp\u001b[0m\u001b[0;34m.\u001b[0m\u001b[0mstatus\u001b[0m \u001b[0;34m>=\u001b[0m \u001b[0;36m300\u001b[0m\u001b[0;34m:\u001b[0m\u001b[0;34m\u001b[0m\u001b[0;34m\u001b[0m\u001b[0m\n\u001b[0;32m--> 938\u001b[0;31m             \u001b[0;32mraise\u001b[0m \u001b[0mHttpError\u001b[0m\u001b[0;34m(\u001b[0m\u001b[0mresp\u001b[0m\u001b[0;34m,\u001b[0m \u001b[0mcontent\u001b[0m\u001b[0;34m,\u001b[0m \u001b[0muri\u001b[0m\u001b[0;34m=\u001b[0m\u001b[0mself\u001b[0m\u001b[0;34m.\u001b[0m\u001b[0muri\u001b[0m\u001b[0;34m)\u001b[0m\u001b[0;34m\u001b[0m\u001b[0;34m\u001b[0m\u001b[0m\n\u001b[0m\u001b[1;32m    939\u001b[0m         \u001b[0;32mreturn\u001b[0m \u001b[0mself\u001b[0m\u001b[0;34m.\u001b[0m\u001b[0mpostproc\u001b[0m\u001b[0;34m(\u001b[0m\u001b[0mresp\u001b[0m\u001b[0;34m,\u001b[0m \u001b[0mcontent\u001b[0m\u001b[0;34m)\u001b[0m\u001b[0;34m\u001b[0m\u001b[0;34m\u001b[0m\u001b[0m\n",
      "\u001b[0;31mHttpError\u001b[0m: <HttpError 400 when requesting https://earthengine.googleapis.com/v1alpha/projects/earthengine-legacy/value:compute?prettyPrint=false&alt=json returned \"Image.loadGeoTIFF: Invalid GCS URL: \"data/raw/landsat_gee_tiles/gee_uhi-20230118T151928Z-001/gee_uhi/uhi_LC08_192028_20220625.tif\". Expected something of the form \"gs://bucket/path/to/object\".\". Details: \"Image.loadGeoTIFF: Invalid GCS URL: \"data/raw/landsat_gee_tiles/gee_uhi-20230118T151928Z-001/gee_uhi/uhi_LC08_192028_20220625.tif\". Expected something of the form \"gs://bucket/path/to/object\".\">",
      "\nDuring handling of the above exception, another exception occurred:\n",
      "\u001b[0;31mEEException\u001b[0m                               Traceback (most recent call last)",
      "\u001b[0;32m/tmp/ipykernel_3522947/679461411.py\u001b[0m in \u001b[0;36m<module>\u001b[0;34m\u001b[0m\n\u001b[0;32m----> 1\u001b[0;31m \u001b[0mlocImage\u001b[0m\u001b[0;34m.\u001b[0m\u001b[0mbandNames\u001b[0m\u001b[0;34m(\u001b[0m\u001b[0;34m)\u001b[0m\u001b[0;34m.\u001b[0m\u001b[0mgetInfo\u001b[0m\u001b[0;34m(\u001b[0m\u001b[0;34m)\u001b[0m\u001b[0;34m\u001b[0m\u001b[0;34m\u001b[0m\u001b[0m\n\u001b[0m",
      "\u001b[0;32m~/mambaforge/envs/uhi/lib/python3.7/site-packages/ee/computedobject.py\u001b[0m in \u001b[0;36mgetInfo\u001b[0;34m(self)\u001b[0m\n\u001b[1;32m     96\u001b[0m       \u001b[0mThe\u001b[0m \u001b[0mobject\u001b[0m \u001b[0mcan\u001b[0m \u001b[0mevaluate\u001b[0m \u001b[0mto\u001b[0m \u001b[0manything\u001b[0m\u001b[0;34m.\u001b[0m\u001b[0;34m\u001b[0m\u001b[0;34m\u001b[0m\u001b[0m\n\u001b[1;32m     97\u001b[0m     \"\"\"\n\u001b[0;32m---> 98\u001b[0;31m     \u001b[0;32mreturn\u001b[0m \u001b[0mdata\u001b[0m\u001b[0;34m.\u001b[0m\u001b[0mcomputeValue\u001b[0m\u001b[0;34m(\u001b[0m\u001b[0mself\u001b[0m\u001b[0;34m)\u001b[0m\u001b[0;34m\u001b[0m\u001b[0;34m\u001b[0m\u001b[0m\n\u001b[0m\u001b[1;32m     99\u001b[0m \u001b[0;34m\u001b[0m\u001b[0m\n\u001b[1;32m    100\u001b[0m   \u001b[0;32mdef\u001b[0m \u001b[0mencode\u001b[0m\u001b[0;34m(\u001b[0m\u001b[0mself\u001b[0m\u001b[0;34m,\u001b[0m \u001b[0mencoder\u001b[0m\u001b[0;34m)\u001b[0m\u001b[0;34m:\u001b[0m\u001b[0;34m\u001b[0m\u001b[0;34m\u001b[0m\u001b[0m\n",
      "\u001b[0;32m~/mambaforge/envs/uhi/lib/python3.7/site-packages/ee/data.py\u001b[0m in \u001b[0;36mcomputeValue\u001b[0;34m(obj)\u001b[0m\n\u001b[1;32m    766\u001b[0m           \u001b[0mbody\u001b[0m\u001b[0;34m=\u001b[0m\u001b[0mbody\u001b[0m\u001b[0;34m,\u001b[0m\u001b[0;34m\u001b[0m\u001b[0;34m\u001b[0m\u001b[0m\n\u001b[1;32m    767\u001b[0m           \u001b[0mproject\u001b[0m\u001b[0;34m=\u001b[0m\u001b[0m_get_projects_path\u001b[0m\u001b[0;34m(\u001b[0m\u001b[0;34m)\u001b[0m\u001b[0;34m,\u001b[0m\u001b[0;34m\u001b[0m\u001b[0;34m\u001b[0m\u001b[0m\n\u001b[0;32m--> 768\u001b[0;31m           prettyPrint=False))['result']\n\u001b[0m\u001b[1;32m    769\u001b[0m \u001b[0;34m\u001b[0m\u001b[0m\n\u001b[1;32m    770\u001b[0m \u001b[0;34m\u001b[0m\u001b[0m\n",
      "\u001b[0;32m~/mambaforge/envs/uhi/lib/python3.7/site-packages/ee/data.py\u001b[0m in \u001b[0;36m_execute_cloud_call\u001b[0;34m(call, num_retries)\u001b[0m\n\u001b[1;32m    328\u001b[0m     \u001b[0;32mreturn\u001b[0m \u001b[0mcall\u001b[0m\u001b[0;34m.\u001b[0m\u001b[0mexecute\u001b[0m\u001b[0;34m(\u001b[0m\u001b[0mnum_retries\u001b[0m\u001b[0;34m=\u001b[0m\u001b[0mnum_retries\u001b[0m\u001b[0;34m)\u001b[0m\u001b[0;34m\u001b[0m\u001b[0;34m\u001b[0m\u001b[0m\n\u001b[1;32m    329\u001b[0m   \u001b[0;32mexcept\u001b[0m \u001b[0mgoogleapiclient\u001b[0m\u001b[0;34m.\u001b[0m\u001b[0merrors\u001b[0m\u001b[0;34m.\u001b[0m\u001b[0mHttpError\u001b[0m \u001b[0;32mas\u001b[0m \u001b[0me\u001b[0m\u001b[0;34m:\u001b[0m\u001b[0;34m\u001b[0m\u001b[0;34m\u001b[0m\u001b[0m\n\u001b[0;32m--> 330\u001b[0;31m     \u001b[0;32mraise\u001b[0m \u001b[0m_translate_cloud_exception\u001b[0m\u001b[0;34m(\u001b[0m\u001b[0me\u001b[0m\u001b[0;34m)\u001b[0m\u001b[0;34m\u001b[0m\u001b[0;34m\u001b[0m\u001b[0m\n\u001b[0m\u001b[1;32m    331\u001b[0m \u001b[0;34m\u001b[0m\u001b[0m\n\u001b[1;32m    332\u001b[0m \u001b[0;34m\u001b[0m\u001b[0m\n",
      "\u001b[0;31mEEException\u001b[0m: Image.loadGeoTIFF: Invalid GCS URL: \"data/raw/landsat_gee_tiles/gee_uhi-20230118T151928Z-001/gee_uhi/uhi_LC08_192028_20220625.tif\". Expected something of the form \"gs://bucket/path/to/object\"."
     ]
    }
   ],
   "source": [
    "locImage.bandNames().getInfo()"
   ]
  },
  {
   "cell_type": "markdown",
   "id": "4725a218",
   "metadata": {},
   "source": [
    "# Read LST processed tiles in GEE and convert to SUHI style\n",
    "## actually, read in multy-band gdal, save , NDVI, NDWI, LST computed in GEE editor and go ahead"
   ]
  },
  {
   "cell_type": "markdown",
   "id": "b0bc939c",
   "metadata": {},
   "source": [
    "1. read tile\n",
    "2. trim tile\n",
    "3. get landsat feature\n",
    "4. "
   ]
  },
  {
   "cell_type": "code",
   "execution_count": null,
   "id": "2478a060",
   "metadata": {
    "collapsed": true
   },
   "outputs": [],
   "source": []
  },
  {
   "cell_type": "code",
   "execution_count": 2,
   "id": "74769b51",
   "metadata": {},
   "outputs": [],
   "source": [
    "lst_gee_tiles = 'data/raw/landsat_gee_tiles/gee_uhi-20230118T151928Z-001/'\n",
    "#gee_uhi/"
   ]
  },
  {
   "cell_type": "code",
   "execution_count": 3,
   "id": "5650ef99",
   "metadata": {},
   "outputs": [],
   "source": [
    "tile0 = 'uhi_LC08_192028_20220625.tif'"
   ]
  },
  {
   "cell_type": "code",
   "execution_count": 4,
   "id": "8b359a01",
   "metadata": {},
   "outputs": [
    {
     "data": {
      "text/plain": [
       "{'SR_B1': 1,\n",
       " 'SR_B2': 2,\n",
       " 'SR_B3': 3,\n",
       " 'SR_B4': 4,\n",
       " 'SR_B5': 5,\n",
       " 'SR_B6': 6,\n",
       " 'SR_B7': 7,\n",
       " 'QA_PIXEL': 8,\n",
       " 'NDVI': 9,\n",
       " 'NDWI': 10,\n",
       " 'FVC': 11,\n",
       " 'TPW': 12,\n",
       " 'TPWpos': 13,\n",
       " 'EM': 14,\n",
       " 'B10': 15,\n",
       " 'B11': 16,\n",
       " 'LST': 17}"
      ]
     },
     "execution_count": 4,
     "metadata": {},
     "output_type": "execute_result"
    }
   ],
   "source": [
    "from osgeo import gdal\n",
    "tile = gdal.Open(lst_gee_tiles+tile0, gdal.GA_ReadOnly) \n",
    "bands = {tile.GetRasterBand(i).GetDescription(): i for i in range(1, tile.RasterCount + 1)}\n",
    "bands"
   ]
  },
  {
   "cell_type": "code",
   "execution_count": 12,
   "id": "ecbb4659",
   "metadata": {},
   "outputs": [],
   "source": [
    "# bandsa 9,10,17\n",
    "NDVI = tile.GetRasterBand(9)\n",
    "NDWI = tile.GetRasterBand(10)\n",
    "LST = tile.GetRasterBand(17)"
   ]
  },
  {
   "cell_type": "code",
   "execution_count": null,
   "id": "dca95a59",
   "metadata": {},
   "outputs": [],
   "source": [
    "# save tile by hand for now"
   ]
  },
  {
   "cell_type": "code",
   "execution_count": 20,
   "id": "2f0e5f9b",
   "metadata": {},
   "outputs": [
    {
     "name": "stdout",
     "output_type": "stream",
     "text": [
      "Input file size is 1020, 1324\n",
      "0...10...20...30...40...50...60...70...80...90...100 - done.\n"
     ]
    }
   ],
   "source": [
    "# bad way\n",
    "!gdal_translate -b 9 {lst_gee_tiles+tile0} ndvi.tif\n"
   ]
  },
  {
   "cell_type": "code",
   "execution_count": 21,
   "id": "be37e16f",
   "metadata": {},
   "outputs": [
    {
     "name": "stdout",
     "output_type": "stream",
     "text": [
      "Input file size is 1020, 1324\n",
      "0...10...20...30...40...50...60...70...80...90...100 - done.\n"
     ]
    }
   ],
   "source": [
    "!gdal_translate -b 10 {lst_gee_tiles+tile0} ndwi.tif\n"
   ]
  },
  {
   "cell_type": "code",
   "execution_count": 22,
   "id": "1ed3d5ea",
   "metadata": {},
   "outputs": [
    {
     "name": "stdout",
     "output_type": "stream",
     "text": [
      "Input file size is 1020, 1324\n",
      "0...10...20...30...40...50...60...70...80...90...100 - done.\n"
     ]
    }
   ],
   "source": [
    "!gdal_translate -b 17 {lst_gee_tiles+tile0} lst.tif\n"
   ]
  },
  {
   "cell_type": "code",
   "execution_count": null,
   "id": "a8e9da04",
   "metadata": {},
   "outputs": [],
   "source": []
  },
  {
   "cell_type": "code",
   "execution_count": 18,
   "id": "34cf6794",
   "metadata": {},
   "outputs": [],
   "source": [
    "# # simplified from  https://here.isnew.info/how-to-save-a-numpy-array-as-a-geotiff-file-using-gdal.html\n",
    "# def write_geotiff(filename, out_ds, in_ds):\n",
    "#     #if arr.dtype == np.float32:\n",
    "#     #    arr_type = gdal.GDT_Float32\n",
    "#     #else:\n",
    "#     #    arr_type = gdal.GDT_Int32#\n",
    "#     #\n",
    "#     #driver = gdal.GetDriverByName(\"GTiff\")\n",
    "#     #out_ds = driver.Create(filename, arr.shape[1], arr.shape[0], 1, arr_type)\n",
    "#     #out_ds.SetProjection(in_ds.GetProjection())\n",
    "#     #out_ds.SetGeoTransform(in_ds.GetGeoTransform())\n",
    "#     band = out_ds#.GetRasterBand(1)\n",
    "#     band.WriteRaster()#rray(arr)\n",
    "#     band.FlushCache()\n",
    "#     band.ComputeStatistics(False)"
   ]
  },
  {
   "cell_type": "code",
   "execution_count": 19,
   "id": "92b0b898",
   "metadata": {},
   "outputs": [
    {
     "ename": "TypeError",
     "evalue": "WriteRaster() missing 5 required positional arguments: 'xoff', 'yoff', 'xsize', 'ysize', and 'buf_string'",
     "output_type": "error",
     "traceback": [
      "\u001b[0;31m---------------------------------------------------------------------------\u001b[0m",
      "\u001b[0;31mTypeError\u001b[0m                                 Traceback (most recent call last)",
      "\u001b[0;32m/tmp/ipykernel_1849614/4079727973.py\u001b[0m in \u001b[0;36m<module>\u001b[0;34m\u001b[0m\n\u001b[0;32m----> 1\u001b[0;31m \u001b[0mwrite_geotiff\u001b[0m\u001b[0;34m(\u001b[0m\u001b[0;34m\"ndvi.tiff\"\u001b[0m\u001b[0;34m,\u001b[0m \u001b[0mNDVI\u001b[0m\u001b[0;34m,\u001b[0m \u001b[0mtile\u001b[0m\u001b[0;34m)\u001b[0m\u001b[0;34m\u001b[0m\u001b[0;34m\u001b[0m\u001b[0m\n\u001b[0m",
      "\u001b[0;32m/tmp/ipykernel_1849614/867164980.py\u001b[0m in \u001b[0;36mwrite_geotiff\u001b[0;34m(filename, out_ds, in_ds)\u001b[0m\n\u001b[1;32m     11\u001b[0m     \u001b[0;31m#out_ds.SetGeoTransform(in_ds.GetGeoTransform())\u001b[0m\u001b[0;34m\u001b[0m\u001b[0;34m\u001b[0m\u001b[0;34m\u001b[0m\u001b[0m\n\u001b[1;32m     12\u001b[0m     \u001b[0mband\u001b[0m \u001b[0;34m=\u001b[0m \u001b[0mout_ds\u001b[0m\u001b[0;31m#.GetRasterBand(1)\u001b[0m\u001b[0;34m\u001b[0m\u001b[0;34m\u001b[0m\u001b[0m\n\u001b[0;32m---> 13\u001b[0;31m     \u001b[0mband\u001b[0m\u001b[0;34m.\u001b[0m\u001b[0mWriteRaster\u001b[0m\u001b[0;34m(\u001b[0m\u001b[0;34m)\u001b[0m\u001b[0;31m#rray(arr)\u001b[0m\u001b[0;34m\u001b[0m\u001b[0;34m\u001b[0m\u001b[0m\n\u001b[0m\u001b[1;32m     14\u001b[0m     \u001b[0mband\u001b[0m\u001b[0;34m.\u001b[0m\u001b[0mFlushCache\u001b[0m\u001b[0;34m(\u001b[0m\u001b[0;34m)\u001b[0m\u001b[0;34m\u001b[0m\u001b[0;34m\u001b[0m\u001b[0m\n\u001b[1;32m     15\u001b[0m     \u001b[0mband\u001b[0m\u001b[0;34m.\u001b[0m\u001b[0mComputeStatistics\u001b[0m\u001b[0;34m(\u001b[0m\u001b[0;32mFalse\u001b[0m\u001b[0;34m)\u001b[0m\u001b[0;34m\u001b[0m\u001b[0;34m\u001b[0m\u001b[0m\n",
      "\u001b[0;31mTypeError\u001b[0m: WriteRaster() missing 5 required positional arguments: 'xoff', 'yoff', 'xsize', 'ysize', and 'buf_string'"
     ]
    }
   ],
   "source": [
    "# write_geotiff(\"ndvi.tiff\", NDVI, tile)"
   ]
  },
  {
   "cell_type": "code",
   "execution_count": 223,
   "id": "2a944de1",
   "metadata": {
    "scrolled": true
   },
   "outputs": [
    {
     "name": "stdout",
     "output_type": "stream",
     "text": [
      "Driver: GTiff/GeoTIFF\n",
      "Files: data/raw/landsat_gee_tiles/gee_uhi-20230118T151928Z-001/uhi_LC08_192028_20220625.tif\n",
      "Size is 1020, 1324\n",
      "Coordinate System is:\n",
      "PROJCRS[\"WGS 84 / UTM zone 32N\",\n",
      "    BASEGEOGCRS[\"WGS 84\",\n",
      "        DATUM[\"World Geodetic System 1984\",\n",
      "            ELLIPSOID[\"WGS 84\",6378137,298.257223563,\n",
      "                LENGTHUNIT[\"metre\",1]]],\n",
      "        PRIMEM[\"Greenwich\",0,\n",
      "            ANGLEUNIT[\"degree\",0.0174532925199433]],\n",
      "        ID[\"EPSG\",4326]],\n",
      "    CONVERSION[\"UTM zone 32N\",\n",
      "        METHOD[\"Transverse Mercator\",\n",
      "            ID[\"EPSG\",9807]],\n",
      "        PARAMETER[\"Latitude of natural origin\",0,\n",
      "            ANGLEUNIT[\"degree\",0.0174532925199433],\n",
      "            ID[\"EPSG\",8801]],\n",
      "        PARAMETER[\"Longitude of natural origin\",9,\n",
      "            ANGLEUNIT[\"degree\",0.0174532925199433],\n",
      "            ID[\"EPSG\",8802]],\n",
      "        PARAMETER[\"Scale factor at natural origin\",0.9996,\n",
      "            SCALEUNIT[\"unity\",1],\n",
      "            ID[\"EPSG\",8805]],\n",
      "        PARAMETER[\"False easting\",500000,\n",
      "            LENGTHUNIT[\"metre\",1],\n",
      "            ID[\"EPSG\",8806]],\n",
      "        PARAMETER[\"False northing\",0,\n",
      "            LENGTHUNIT[\"metre\",1],\n",
      "            ID[\"EPSG\",8807]]],\n",
      "    CS[Cartesian,2],\n",
      "        AXIS[\"(E)\",east,\n",
      "            ORDER[1],\n",
      "            LENGTHUNIT[\"metre\",1]],\n",
      "        AXIS[\"(N)\",north,\n",
      "            ORDER[2],\n",
      "            LENGTHUNIT[\"metre\",1]],\n",
      "    USAGE[\n",
      "        SCOPE[\"Engineering survey, topographic mapping.\"],\n",
      "        AREA[\"Between 6°E and 12°E, northern hemisphere between equator and 84°N, onshore and offshore. Algeria. Austria. Cameroon. Denmark. Equatorial Guinea. France. Gabon. Germany. Italy. Libya. Liechtenstein. Monaco. Netherlands. Niger. Nigeria. Norway. Sao Tome and Principe. Svalbard. Sweden. Switzerland. Tunisia. Vatican City State.\"],\n",
      "        BBOX[0,6,84,12]],\n",
      "    ID[\"EPSG\",32632]]\n",
      "Data axis to CRS axis mapping: 1,2\n",
      "Origin = (650805.000000000000000,5124495.000000000000000)\n",
      "Pixel Size = (30.000000000000000,-30.000000000000000)\n",
      "Metadata:\n",
      "  AREA_OR_POINT=Area\n",
      "Image Structure Metadata:\n",
      "  COMPRESSION=LZW\n",
      "  INTERLEAVE=PIXEL\n",
      "Corner Coordinates:\n",
      "Upper Left  (  650805.000, 5124495.000) ( 10d57'24.04\"E, 46d15'26.23\"N)\n",
      "Lower Left  (  650805.000, 5084775.000) ( 10d56'38.70\"E, 45d54' 0.01\"N)\n",
      "Upper Right (  681405.000, 5124495.000) ( 11d21'12.23\"E, 46d14'59.29\"N)\n",
      "Lower Right (  681405.000, 5084775.000) ( 11d20'17.72\"E, 45d53'33.41\"N)\n",
      "Center      (  666105.000, 5104635.000) ( 11d 8'53.12\"E, 46d 4'30.36\"N)\n",
      "Band 1 Block=256x256 Type=Float32, ColorInterp=Gray\n",
      "  Description = SR_B1\n",
      "Band 2 Block=256x256 Type=Float32, ColorInterp=Undefined\n",
      "  Description = SR_B2\n",
      "Band 3 Block=256x256 Type=Float32, ColorInterp=Undefined\n",
      "  Description = SR_B3\n",
      "Band 4 Block=256x256 Type=Float32, ColorInterp=Undefined\n",
      "  Description = SR_B4\n",
      "Band 5 Block=256x256 Type=Float32, ColorInterp=Undefined\n",
      "  Description = SR_B5\n",
      "Band 6 Block=256x256 Type=Float32, ColorInterp=Undefined\n",
      "  Description = SR_B6\n",
      "Band 7 Block=256x256 Type=Float32, ColorInterp=Undefined\n",
      "  Description = SR_B7\n",
      "Band 8 Block=256x256 Type=Float32, ColorInterp=Undefined\n",
      "  Description = QA_PIXEL\n",
      "Band 9 Block=256x256 Type=Float32, ColorInterp=Undefined\n",
      "  Description = NDVI\n",
      "Band 10 Block=256x256 Type=Float32, ColorInterp=Undefined\n",
      "  Description = NDWI\n",
      "Band 11 Block=256x256 Type=Float32, ColorInterp=Undefined\n",
      "  Description = FVC\n",
      "Band 12 Block=256x256 Type=Float32, ColorInterp=Undefined\n",
      "  Description = TPW\n",
      "Band 13 Block=256x256 Type=Float32, ColorInterp=Undefined\n",
      "  Description = TPWpos\n",
      "Band 14 Block=256x256 Type=Float32, ColorInterp=Undefined\n",
      "  Description = EM\n",
      "Band 15 Block=256x256 Type=Float32, ColorInterp=Undefined\n",
      "  Description = B10\n",
      "Band 16 Block=256x256 Type=Float32, ColorInterp=Undefined\n",
      "  Description = B11\n",
      "Band 17 Block=256x256 Type=Float32, ColorInterp=Undefined\n",
      "  Description = LST\n",
      "\n"
     ]
    }
   ],
   "source": [
    "print(gdal.Info(tile))"
   ]
  },
  {
   "cell_type": "code",
   "execution_count": 226,
   "id": "8cb427f0",
   "metadata": {},
   "outputs": [
    {
     "data": {
      "text/plain": [
       "<osgeo.gdal.Dataset; proxy of <Swig Object of type 'GDALDatasetShadow *' at 0x7f3ff8bed870> >"
      ]
     },
     "execution_count": 226,
     "metadata": {},
     "output_type": "execute_result"
    }
   ],
   "source": [
    "#the LST, NDVI, & NDWI bands are already maske by cloud 'to be checkd if all works fine'\n",
    "# work with 1 tile at time\n",
    "tile"
   ]
  },
  {
   "cell_type": "code",
   "execution_count": null,
   "id": "2b08f369",
   "metadata": {},
   "outputs": [],
   "source": [
    "# HARD CODED WAY"
   ]
  },
  {
   "cell_type": "code",
   "execution_count": 5,
   "id": "973aab01",
   "metadata": {},
   "outputs": [],
   "source": [
    "# create xarray dataset\n",
    "import xarray as xr\n",
    "import salem\n",
    "#\n",
    "band_filepaths = [lst_gee_tiles+ 'ndvi.tif',lst_gee_tiles+ 'ndwi.tif',lst_gee_tiles + 'lst.tif']\n",
    "bands = ['NDVI','NDWI','LST']\n",
    "landsat_ds = xr.Dataset({\n",
    "            band: salem.open_xr_dataset(band_filepath)['data']\n",
    "            for band, band_filepath in zip(bands, band_filepaths)})"
   ]
  },
  {
   "cell_type": "code",
   "execution_count": 31,
   "id": "20624fd0",
   "metadata": {},
   "outputs": [
    {
     "data": {
      "text/html": [
       "<pre>&lt;xarray.DataArray &#x27;data&#x27; (y: 1324, x: 1020)&gt;\n",
       "array([[       nan,        nan,        nan, ..., 0.8048707 , 0.8888638 ,\n",
       "        0.9013791 ],\n",
       "       [       nan,        nan,        nan, ..., 0.86361486, 0.8970087 ,\n",
       "        0.8764331 ],\n",
       "       [       nan,        nan,        nan, ..., 0.9027986 , 0.87685364,\n",
       "        0.74143517],\n",
       "       ...,\n",
       "       [0.48180324, 0.44410402, 0.49264583, ..., 0.44545367, 0.5815552 ,\n",
       "        0.46408772],\n",
       "       [0.55219376, 0.51125515, 0.4442132 , ..., 0.4858432 , 0.68229514,\n",
       "        0.56441754],\n",
       "       [0.82780725, 0.6952672 , 0.68056   , ...,        nan, 0.39365643,\n",
       "        0.53230804]], dtype=float32)\n",
       "Coordinates:\n",
       "  * x        (x) float64 6.508e+05 6.508e+05 6.509e+05 ... 6.813e+05 6.814e+05\n",
       "  * y        (y) float64 5.124e+06 5.124e+06 5.124e+06 ... 5.085e+06 5.085e+06\n",
       "Attributes:\n",
       "    pyproj_srs:  +proj=utm +zone=32 +datum=WGS84 +units=m +no_defs</pre>"
      ],
      "text/plain": [
       "<xarray.DataArray 'data' (y: 1324, x: 1020)>\n",
       "array([[       nan,        nan,        nan, ..., 0.8048707 , 0.8888638 ,\n",
       "        0.9013791 ],\n",
       "       [       nan,        nan,        nan, ..., 0.86361486, 0.8970087 ,\n",
       "        0.8764331 ],\n",
       "       [       nan,        nan,        nan, ..., 0.9027986 , 0.87685364,\n",
       "        0.74143517],\n",
       "       ...,\n",
       "       [0.48180324, 0.44410402, 0.49264583, ..., 0.44545367, 0.5815552 ,\n",
       "        0.46408772],\n",
       "       [0.55219376, 0.51125515, 0.4442132 , ..., 0.4858432 , 0.68229514,\n",
       "        0.56441754],\n",
       "       [0.82780725, 0.6952672 , 0.68056   , ...,        nan, 0.39365643,\n",
       "        0.53230804]], dtype=float32)\n",
       "Coordinates:\n",
       "  * x        (x) float64 6.508e+05 6.508e+05 6.509e+05 ... 6.813e+05 6.814e+05\n",
       "  * y        (y) float64 5.124e+06 5.124e+06 5.124e+06 ... 5.085e+06 5.085e+06\n",
       "Attributes:\n",
       "    pyproj_srs:  +proj=utm +zone=32 +datum=WGS84 +units=m +no_defs"
      ]
     },
     "execution_count": 31,
     "metadata": {},
     "output_type": "execute_result"
    }
   ],
   "source": [
    "#salem.open_xr_dataset(band_filepaths[0])['data']"
   ]
  },
  {
   "cell_type": "code",
   "execution_count": 6,
   "id": "cbc58cf2",
   "metadata": {},
   "outputs": [
    {
     "data": {
      "text/html": [
       "<pre>&lt;xarray.Dataset&gt;\n",
       "Dimensions:  (x: 1020, y: 1324)\n",
       "Coordinates:\n",
       "  * x        (x) float64 6.508e+05 6.508e+05 6.509e+05 ... 6.813e+05 6.814e+05\n",
       "  * y        (y) float64 5.124e+06 5.124e+06 5.124e+06 ... 5.085e+06 5.085e+06\n",
       "Data variables:\n",
       "    NDVI     (y, x) float32 nan nan nan nan ... nan nan 0.39365643 0.53230804\n",
       "    NDWI     (y, x) float32 nan nan nan nan ... nan nan -0.44075912 -0.5371736\n",
       "    LST      (y, x) float32 nan nan nan nan nan ... nan nan 304.90234 305.16245</pre>"
      ],
      "text/plain": [
       "<xarray.Dataset>\n",
       "Dimensions:  (x: 1020, y: 1324)\n",
       "Coordinates:\n",
       "  * x        (x) float64 6.508e+05 6.508e+05 6.509e+05 ... 6.813e+05 6.814e+05\n",
       "  * y        (y) float64 5.124e+06 5.124e+06 5.124e+06 ... 5.085e+06 5.085e+06\n",
       "Data variables:\n",
       "    NDVI     (y, x) float32 nan nan nan nan ... nan nan 0.39365643 0.53230804\n",
       "    NDWI     (y, x) float32 nan nan nan nan ... nan nan -0.44075912 -0.5371736\n",
       "    LST      (y, x) float32 nan nan nan nan nan ... nan nan 304.90234 305.16245"
      ]
     },
     "execution_count": 6,
     "metadata": {},
     "output_type": "execute_result"
    }
   ],
   "source": [
    "landsat_ds"
   ]
  },
  {
   "cell_type": "code",
   "execution_count": 7,
   "id": "a36f8275",
   "metadata": {},
   "outputs": [
    {
     "ename": "RuntimeError",
     "evalue": "dataset Grid not understood.",
     "output_type": "error",
     "traceback": [
      "\u001b[0;31m---------------------------------------------------------------------------\u001b[0m",
      "\u001b[0;31mRuntimeError\u001b[0m                              Traceback (most recent call last)",
      "\u001b[0;32m/tmp/ipykernel_4174752/3772507493.py\u001b[0m in \u001b[0;36m<module>\u001b[0;34m\u001b[0m\n\u001b[0;32m----> 1\u001b[0;31m \u001b[0mlandsat_ds\u001b[0m\u001b[0;34m.\u001b[0m\u001b[0msalem\u001b[0m\u001b[0;34m.\u001b[0m\u001b[0mquick_map\u001b[0m\u001b[0;34m(\u001b[0m\u001b[0;34m'LST'\u001b[0m\u001b[0;34m)\u001b[0m\u001b[0;34m\u001b[0m\u001b[0;34m\u001b[0m\u001b[0m\n\u001b[0m",
      "\u001b[0;32m~/mambaforge/envs/uhi/lib/python3.7/site-packages/xarray/core/extensions.py\u001b[0m in \u001b[0;36m__get__\u001b[0;34m(self, obj, cls)\u001b[0m\n\u001b[1;32m     34\u001b[0m \u001b[0;34m\u001b[0m\u001b[0m\n\u001b[1;32m     35\u001b[0m         \u001b[0;32mtry\u001b[0m\u001b[0;34m:\u001b[0m\u001b[0;34m\u001b[0m\u001b[0;34m\u001b[0m\u001b[0m\n\u001b[0;32m---> 36\u001b[0;31m             \u001b[0maccessor_obj\u001b[0m \u001b[0;34m=\u001b[0m \u001b[0mself\u001b[0m\u001b[0;34m.\u001b[0m\u001b[0m_accessor\u001b[0m\u001b[0;34m(\u001b[0m\u001b[0mobj\u001b[0m\u001b[0;34m)\u001b[0m\u001b[0;34m\u001b[0m\u001b[0;34m\u001b[0m\u001b[0m\n\u001b[0m\u001b[1;32m     37\u001b[0m         \u001b[0;32mexcept\u001b[0m \u001b[0mAttributeError\u001b[0m\u001b[0;34m:\u001b[0m\u001b[0;34m\u001b[0m\u001b[0;34m\u001b[0m\u001b[0m\n\u001b[1;32m     38\u001b[0m             \u001b[0;31m# __getattr__ on data object will swallow any AttributeErrors\u001b[0m\u001b[0;34m\u001b[0m\u001b[0;34m\u001b[0m\u001b[0;34m\u001b[0m\u001b[0m\n",
      "\u001b[0;32m~/mambaforge/envs/uhi/lib/python3.7/site-packages/salem/sio.py\u001b[0m in \u001b[0;36m__init__\u001b[0;34m(self, xarray_obj)\u001b[0m\n\u001b[1;32m    405\u001b[0m         \u001b[0mself\u001b[0m\u001b[0;34m.\u001b[0m\u001b[0mgrid\u001b[0m \u001b[0;34m=\u001b[0m \u001b[0mgrid_from_dataset\u001b[0m\u001b[0;34m(\u001b[0m\u001b[0mxarray_obj\u001b[0m\u001b[0;34m)\u001b[0m\u001b[0;34m\u001b[0m\u001b[0;34m\u001b[0m\u001b[0m\n\u001b[1;32m    406\u001b[0m         \u001b[0;32mif\u001b[0m \u001b[0mself\u001b[0m\u001b[0;34m.\u001b[0m\u001b[0mgrid\u001b[0m \u001b[0;32mis\u001b[0m \u001b[0;32mNone\u001b[0m\u001b[0;34m:\u001b[0m\u001b[0;34m\u001b[0m\u001b[0;34m\u001b[0m\u001b[0m\n\u001b[0;32m--> 407\u001b[0;31m             \u001b[0;32mraise\u001b[0m \u001b[0mRuntimeError\u001b[0m\u001b[0;34m(\u001b[0m\u001b[0;34m'dataset Grid not understood.'\u001b[0m\u001b[0;34m)\u001b[0m\u001b[0;34m\u001b[0m\u001b[0;34m\u001b[0m\u001b[0m\n\u001b[0m\u001b[1;32m    408\u001b[0m \u001b[0;34m\u001b[0m\u001b[0m\n\u001b[1;32m    409\u001b[0m         \u001b[0mdn\u001b[0m \u001b[0;34m=\u001b[0m \u001b[0mxarray_obj\u001b[0m\u001b[0;34m.\u001b[0m\u001b[0mdims\u001b[0m\u001b[0;34m.\u001b[0m\u001b[0mkeys\u001b[0m\u001b[0;34m(\u001b[0m\u001b[0;34m)\u001b[0m\u001b[0;34m\u001b[0m\u001b[0;34m\u001b[0m\u001b[0m\n",
      "\u001b[0;31mRuntimeError\u001b[0m: dataset Grid not understood."
     ]
    }
   ],
   "source": [
    "landsat_ds.salem.quick_map('LST')"
   ]
  },
  {
   "cell_type": "code",
   "execution_count": 8,
   "id": "f1b715ae",
   "metadata": {},
   "outputs": [],
   "source": [
    " # projection attributes need to be set before any geo-transformation\n",
    "proj_attrs = landsat_ds[bands[0]].attrs.copy()\n",
    "landsat_ds.attrs = proj_attrs"
   ]
  },
  {
   "cell_type": "code",
   "execution_count": 9,
   "id": "c39bc08d",
   "metadata": {},
   "outputs": [
    {
     "data": {
      "text/plain": [
       "{'pyproj_srs': '+proj=utm +zone=32 +datum=WGS84 +units=m +no_defs'}"
      ]
     },
     "execution_count": 9,
     "metadata": {},
     "output_type": "execute_result"
    }
   ],
   "source": [
    "proj_attrs"
   ]
  },
  {
   "cell_type": "markdown",
   "id": "e81ad45c",
   "metadata": {},
   "source": [
    "# next steps\n",
    "\n",
    "1. clip or register\n",
    "2. set coordinates\n",
    "3. set time axis with date\n",
    "4. return landsat_feature_ds\n"
   ]
  },
  {
   "cell_type": "markdown",
   "id": "f01979f6",
   "metadata": {},
   "source": [
    "in the code the following is passed:\n",
    "\n",
    "<code>\n",
    "landsat_features_kws = dict(landsat_features=['lst', 'ndwi'],\n",
    "                                ref_geom=ref_geom,\n",
    "                                water_bodies_geom=None,\n",
    "                                crs=crs)\n",
    "ref_ds = suhi.get_landsat_features_ds(landsat_tiles[0],\n",
    "                                          **landsat_features_kws)\n",
    "datasets.append(ref_ds)\n",
    "for landsat_tile in landsat_tiles[1:]:\n",
    "    ds = suhi.get_landsat_features_ds(landsat_tile,\n",
    "                                          ref_ds=ref_ds,\n",
    "                                          **landsat_features_kws)\n",
    "datasets.append(ds)<code>"
   ]
  },
  {
   "cell_type": "code",
   "execution_count": null,
   "id": "89bee56f",
   "metadata": {},
   "outputs": [],
   "source": [
    "# clip \n",
    "# crop/align to the reference extent\n",
    "if ref_ds is None:\n",
    "    landsat_ds = geo_utils.clip_ds_to_extent(landsat_ds, geom=ref_geom,\n",
    "                                                 crs=crs, roi=roi,\n",
    "                                                 subset_kws=subset_kws,\n",
    "                                                 roi_kws=roi_kws)\n",
    "else:\n",
    "    landsat_ds = ref_ds.salem.transform(landsat_ds, interp='linear')\n"
   ]
  },
  {
   "cell_type": "code",
   "execution_count": 10,
   "id": "272e43fb",
   "metadata": {},
   "outputs": [],
   "source": [
    "from swiss_uhi_utils import geo_utils"
   ]
  },
  {
   "cell_type": "code",
   "execution_count": 10,
   "id": "959f6818",
   "metadata": {},
   "outputs": [
    {
     "data": {
      "text/plain": [
       "<module 'swiss_uhi_utils.geo_utils' from '/home/beber/mambaforge/envs/uhi/lib/python3.7/site-packages/swiss_uhi_utils/geo_utils.py'>"
      ]
     },
     "execution_count": 10,
     "metadata": {},
     "output_type": "execute_result"
    }
   ],
   "source": [
    "geo_utils"
   ]
  },
  {
   "cell_type": "code",
   "execution_count": 11,
   "id": "073c0f4e",
   "metadata": {},
   "outputs": [
    {
     "data": {
      "text/plain": [
       "'/home/beber/fbk_sandbox/swiss_uhi/tn_uhi'"
      ]
     },
     "execution_count": 11,
     "metadata": {},
     "output_type": "execute_result"
    }
   ],
   "source": [
    "pwd"
   ]
  },
  {
   "cell_type": "code",
   "execution_count": 11,
   "id": "289bb53c",
   "metadata": {},
   "outputs": [
    {
     "data": {
      "text/plain": [
       "<AxesSubplot:>"
      ]
     },
     "execution_count": 11,
     "metadata": {},
     "output_type": "execute_result"
    },
    {
     "data": {
      "image/png": "[encoded data removed]",
      "text/plain": [
       "<Figure size 640x480 with 1 Axes>"
      ]
     },
     "metadata": {},
     "output_type": "display_data"
    }
   ],
   "source": [
    "import geopandas as gpd\n",
    "buffer_dist = 2000\n",
    "agglom_extent_filepath = 'data/raw/agglom-extent/agglom-extent.shp'\n",
    "agglom_extent_gdf = gpd.read_file(agglom_extent_filepath)\n",
    "crs = agglom_extent_gdf.crs\n",
    "ref_geom = agglom_extent_gdf.loc[0]['geometry'].buffer(buffer_dist)\n",
    "agglom_extent_gdf.plot()"
   ]
  },
  {
   "cell_type": "code",
   "execution_count": 12,
   "id": "aeb67b2c",
   "metadata": {},
   "outputs": [
    {
     "name": "stderr",
     "output_type": "stream",
     "text": [
      "/home/beber/mambaforge/envs/uhi/lib/python3.7/site-packages/pyproj/crs/crs.py:53: FutureWarning: '+init=<authority>:<code>' syntax is deprecated. '<authority>:<code>' is the preferred initialization method. When making the change, be mindful of axis order changes: https://pyproj4.github.io/pyproj/stable/gotchas.html#axis-order-changes-in-proj-6\n",
      "  return _prepare_from_string(\" \".join(pjargs))\n"
     ]
    }
   ],
   "source": [
    "#just to be sure reproject agglom_extent_gdf from 4326 to 32632\n",
    "agglom_extent_gdf = agglom_extent_gdf.to_crs('EPSG:32632')"
   ]
  },
  {
   "cell_type": "code",
   "execution_count": 13,
   "id": "2a990252",
   "metadata": {},
   "outputs": [
    {
     "data": {
      "text/plain": [
       "<AxesSubplot:>"
      ]
     },
     "execution_count": 13,
     "metadata": {},
     "output_type": "execute_result"
    },
    {
     "data": {
      "image/png": "[encoded data removed]",
      "text/plain": [
       "<Figure size 640x480 with 1 Axes>"
      ]
     },
     "metadata": {},
     "output_type": "display_data"
    }
   ],
   "source": [
    "crs = agglom_extent_gdf.crs\n",
    "ref_geom = agglom_extent_gdf.loc[0]['geometry'].buffer(buffer_dist)\n",
    "agglom_extent_gdf.plot()"
   ]
  },
  {
   "cell_type": "code",
   "execution_count": 14,
   "id": "d568dae0",
   "metadata": {},
   "outputs": [
    {
     "data": {
      "text/html": [
       "<div>\n",
       "<style scoped>\n",
       "    .dataframe tbody tr th:only-of-type {\n",
       "        vertical-align: middle;\n",
       "    }\n",
       "\n",
       "    .dataframe tbody tr th {\n",
       "        vertical-align: top;\n",
       "    }\n",
       "\n",
       "    .dataframe thead th {\n",
       "        text-align: right;\n",
       "    }\n",
       "</style>\n",
       "<table border=\"1\" class=\"dataframe\">\n",
       "  <thead>\n",
       "    <tr style=\"text-align: right;\">\n",
       "      <th></th>\n",
       "      <th>FID</th>\n",
       "      <th>geometry</th>\n",
       "    </tr>\n",
       "  </thead>\n",
       "  <tbody>\n",
       "    <tr>\n",
       "      <th>0</th>\n",
       "      <td>0</td>\n",
       "      <td>POLYGON ((659521.741 5088078.543, 661207.655 5...</td>\n",
       "    </tr>\n",
       "  </tbody>\n",
       "</table>\n",
       "</div>"
      ],
      "text/plain": [
       "   FID                                           geometry\n",
       "0    0  POLYGON ((659521.741 5088078.543, 661207.655 5..."
      ]
     },
     "execution_count": 14,
     "metadata": {},
     "output_type": "execute_result"
    }
   ],
   "source": [
    "agglom_extent_gdf"
   ]
  },
  {
   "cell_type": "code",
   "execution_count": 15,
   "id": "01ba53f1",
   "metadata": {},
   "outputs": [
    {
     "data": {
      "image/svg+xml": [
       "<svg xmlns=\"http://www.w3.org/2000/svg\" xmlns:xlink=\"http://www.w3.org/1999/xlink\" width=\"300\" height=\"300\" viewBox=\"655663.0270700593 5083295.1885301545 17766.982605307363 42729.161813295446\" preserveAspectRatio=\"xMinYMin meet\"><g transform=\"matrix(1,0,0,-1,0,10209319.538873605)\"><path fill-rule=\"evenodd\" fill=\"#66cc99\" stroke=\"#555555\" stroke-width=\"284.86107875530297\" opacity=\"0.6\" d=\"M 658515.274962536,5086350.241925175 L 658352.5129163599,5086455.920345223 L 658200.758980562,5086576.875523322 L 658061.4418961451,5086711.968684247 L 657935.8733129845,5086859.927945742 L 657825.2354408362,5087019.360293105 L 657730.5699190068,5087188.764694217 L 657652.7680094715,5087366.546231536 L 657592.5622057746,5087551.031118019 L 657550.5193367096,5087740.48245557 L 657527.0352297102,5087933.11658769 L 657522.3309841922,5088127.119892335 L 657536.4508899357,5088320.665856904 L 657569.2620101036,5088511.932274585 L 657620.4554328213,5088699.118400165 L 657689.5491795377,5088880.461903781 L 657775.8927427818,5089054.2554629985 L 659145.1813499138,5091504.333012142 L 658829.0330262338,5094172.475168999 L 658815.2308809874,5094388.665696347 L 658824.8920825145,5094605.080817154 L 658857.9032835619,5094819.181503593 L 659377.8849491773,5097293.160328113 L 659956.1793575591,5101204.540267226 L 659985.967998433,5101362.080544763 L 660028.2801323947,5101516.728485232 L 660627.7075893464,5103406.4767881185 L 659085.3021602149,5107074.825030002 L 659015.8064918057,5107267.0591531955 L 657332.4199065948,5112791.618960045 L 657284.8172045067,5112980.329772459 L 657255.7817921088,5113172.7738755 L 657245.5886186998,5113367.1289299335 L 657254.3342079949,5113561.554500875 L 657281.9357440997,5113754.209485687 L 657328.1318557314,5113943.269548202 L 657392.4850912595,5114126.944394181 L 657474.3860611315,5114303.494724404 L 657573.0592084546,5114471.2487048805 L 657687.5701530906,5114628.617798182 L 659208.0363460672,5116517.623974479 L 659464.1380873751,5117896.449854555 L 658148.5899905295,5120365.788289527 L 658064.3607330335,5120544.677401324 L 657998.2070667809,5120731.00929494 L 657950.7755757562,5120922.96276794 L 657922.5298539553,5121118.661672734 L 657913.7459742306,5121316.193253992 L 657924.5097899637,5121513.62684386 L 657954.716095937,5121709.032732249 L 658004.0696566058,5121900.501027763 L 658072.0880917225,5122086.160324922 L 658158.1065911063,5122264.195995227 L 658261.2844124788,5122432.867923284 L 658380.6130988543,5122590.5275146365 L 658514.9263351681,5122735.633809084 L 658662.9113478062,5122866.7685419815 L 658823.1217356154,5122982.650006313 L 658993.9916069862,5123082.14558006 L 659173.8508848303,5123164.282796416 L 660877.9725931721,5123842.835126047 L 661085.6953418452,5123912.625262629 L 661299.8064384349,5123959.271182039 L 664148.5038234856,5124418.103842847 L 664348.9113892223,5124440.090378463 L 664550.5142551116,5124441.788794809 L 664751.2638033838,5124423.181833171 L 664949.1200873841,5124384.458570982 L 665142.0725607964,5124326.012500483 L 665328.160508112,5124248.437530184 L 665505.4929687341,5124152.521949789 L 665672.2679522572,5124039.240419856 L 665826.7907496636,5123909.744067651 L 665967.4911543634,5123765.348789784 L 668386.7919754675,5121018.138406273 L 668508.6482268651,5120865.3142761905 L 668615.0049789308,5120701.325245978 L 668704.8464140517,5120527.737581452 L 668777.3144530706,5120346.209225372 L 668831.7169508348,5120158.473962364 L 668867.5343069019,5119966.3248594655 L 668884.4244282647,5119771.597140483 L 668882.2259966956,5119576.150657683 L 668860.9600095025,5119381.852128278 L 668820.829578984,5119190.55730533 L 668762.2179924943,5119004.093253382 L 668024.9729845594,5117005.751567646 L 667977.7683180041,5115166.475322565 L 668122.7185399306,5112968.729372689 L 668264.6344305458,5112119.268605595 L 668287.6365765759,5111921.357775214 L 668290.8328756469,5111722.140358364 L 668216.0331650852,5109509.2195725385 L 669264.2249729342,5107867.533283827 L 670921.2760905966,5106506.137201198 L 671058.8163352585,5106382.033140477 L 671184.283479952,5106245.73518601 L 671296.6010436522,5106098.412744834 L 671394.8053659006,5105941.329811703 L 671478.0538748053,5105775.834124284 L 671545.6323161252,5105603.345599859 L 671596.9608814173,5105425.344152746 L 671631.5991826681,5105243.356996947 L 671829.2472203482,5103858.404914492 L 671847.4481267262,5103662.072731806 L 671846.2283082643,5103464.902472908 L 671825.5996208654,5103268.81051436 L 671785.7625629887,5103075.702752291 L 671727.1043269238,5102887.456078236 L 671650.1950355152,5102705.900136868 L 671555.7822009097,5102532.799542955 L 671444.7834591868,5102369.836730366 L 671318.2776514881,5102218.595599817 L 671177.4943383276,5102080.546124314 L 671023.8018490023,5101957.030061892 L 670858.6939822526,5101849.247914537 L 670683.7754874354,5101758.247260023 L 670500.7464673234,5101684.912570087 L 670311.3858541265,5101629.956613896 L 669697.7806127324,5101484.247614605 L 669676.7426574134,5101429.278782455 L 669243.1279834751,5100465.05075013 L 669001.0212005049,5098222.545156476 L 668969.4023352222,5098023.905185483 L 668917.991352344,5097829.445674126 L 668847.3082429965,5097641.133463235 L 667770.5757718311,5095159.608793071 L 667693.1062081757,5095000.696323686 L 667601.9059639821,5094849.245930231 L 667497.6876484603,5094706.440997093 L 666782.9037159199,5093812.805235535 L 666025.7055848024,5092428.858643721 L 665937.1045568921,5091081.703440871 L 665978.031812258,5089058.645457857 L 665972.9440334158,5088870.012413535 L 665950.1010331486,5088682.698483882 L 665909.7061616204,5088498.371152056 L 665852.1190171175,5088318.671314295 L 665777.852244876,5088145.19867252 L 665687.5669734749,5087979.497493672 L 665582.0669294179,5087823.042862524 L 664527.4067020344,5086407.923079857 L 664388.5776343874,5086241.320613206 L 664232.5262566938,5086090.728915434 L 664061.08733881,5085957.91856436 L 663876.2765691805,5085844.451074096 L 662536.6482104267,5085118.888462264 L 662351.9423577768,5085030.757045285 L 662159.1970915827,5084961.962706697 L 661960.4306185504,5084913.225781679 L 661757.7241925377,5084885.056587245 L 661553.2003220576,5084877.7500787955 L 661349.0005458108,5084891.382761681 L 661147.2630089562,5084925.81189013 L 660950.1000749139,5084980.676961913 L 660759.5762071261,5085055.403493113 L 660577.6863523701,5085149.209033454 L 658515.274962536,5086350.241925175 z\" /></g></svg>"
      ],
      "text/plain": [
       "<shapely.geometry.polygon.Polygon at 0x7fa401bfa650>"
      ]
     },
     "execution_count": 15,
     "metadata": {},
     "output_type": "execute_result"
    }
   ],
   "source": [
    "ref_geom"
   ]
  },
  {
   "cell_type": "code",
   "execution_count": 16,
   "id": "efb6f90e",
   "metadata": {},
   "outputs": [
    {
     "data": {
      "text/plain": [
       "'EPSG:32632'"
      ]
     },
     "execution_count": 16,
     "metadata": {},
     "output_type": "execute_result"
    }
   ],
   "source": [
    "crs"
   ]
  },
  {
   "cell_type": "code",
   "execution_count": 17,
   "id": "40a73c6b",
   "metadata": {},
   "outputs": [],
   "source": [
    "# first time need to make a ds_ref\n",
    "# for the first tile\n",
    "\n",
    "ref_ds = None\n",
    "if ref_ds is None:\n",
    "    landsat_ds = geo_utils.clip_ds_to_extent(landsat_ds, geom=ref_geom,\n",
    "                                                 crs=crs, roi=False,\n",
    "                                                 subset_kws=None,\n",
    "                                                 roi_kws=None)\n",
    "    \n",
    "else:\n",
    "    landsat_ds = ref_ds.salem.transform(landsat_ds, interp='linear')\n"
   ]
  },
  {
   "cell_type": "code",
   "execution_count": 18,
   "id": "512371bb",
   "metadata": {},
   "outputs": [
    {
     "data": {
      "text/html": [
       "<pre>&lt;xarray.Dataset&gt;\n",
       "Dimensions:  (x: 487, y: 1319)\n",
       "Coordinates:\n",
       "  * x        (x) float64 6.573e+05 6.573e+05 6.573e+05 ... 6.718e+05 6.718e+05\n",
       "  * y        (y) float64 5.124e+06 5.124e+06 5.124e+06 ... 5.085e+06 5.085e+06\n",
       "Data variables:\n",
       "    NDVI     (y, x) float32 0.82674646 0.7752773 0.71800596 ... nan nan\n",
       "    NDWI     (y, x) float32 -0.7666657 -0.7277764 -0.67663103 ... nan nan\n",
       "    LST      (y, x) float32 300.50348 300.96823 301.3617 ... 290.91714 nan nan\n",
       "Attributes:\n",
       "    pyproj_srs:  +proj=utm +zone=32 +datum=WGS84 +units=m +no_defs</pre>"
      ],
      "text/plain": [
       "<xarray.Dataset>\n",
       "Dimensions:  (x: 487, y: 1319)\n",
       "Coordinates:\n",
       "  * x        (x) float64 6.573e+05 6.573e+05 6.573e+05 ... 6.718e+05 6.718e+05\n",
       "  * y        (y) float64 5.124e+06 5.124e+06 5.124e+06 ... 5.085e+06 5.085e+06\n",
       "Data variables:\n",
       "    NDVI     (y, x) float32 0.82674646 0.7752773 0.71800596 ... nan nan\n",
       "    NDWI     (y, x) float32 -0.7666657 -0.7277764 -0.67663103 ... nan nan\n",
       "    LST      (y, x) float32 300.50348 300.96823 301.3617 ... 290.91714 nan nan\n",
       "Attributes:\n",
       "    pyproj_srs:  +proj=utm +zone=32 +datum=WGS84 +units=m +no_defs"
      ]
     },
     "execution_count": 18,
     "metadata": {},
     "output_type": "execute_result"
    }
   ],
   "source": [
    "landsat_ds"
   ]
  },
  {
   "cell_type": "code",
   "execution_count": 19,
   "id": "88466806",
   "metadata": {},
   "outputs": [],
   "source": [
    "dims = ('y', 'x')\n",
    "coords = {\n",
    "        'x': landsat_ds.salem.grid.x_coord,\n",
    "        'y': landsat_ds.salem.grid.y_coord\n",
    "    }"
   ]
  },
  {
   "cell_type": "code",
   "execution_count": null,
   "id": "367b1457",
   "metadata": {},
   "outputs": [],
   "source": [
    "# landsat_features_ds = xr.Dataset(\n",
    "#         {\n",
    "#             landsat_feature_key: xr.DataArray(\n",
    "#                 landsat_features_dict[landsat_feature_key], dims=dims,\n",
    "#                 coords=coords, attrs=proj_attrs)\n",
    "#             for landsat_feature_key in landsat_features_dict\n",
    "#         }, attrs=proj_attrs)"
   ]
  },
  {
   "cell_type": "code",
   "execution_count": 20,
   "id": "7bfd88dd",
   "metadata": {},
   "outputs": [
    {
     "data": {
      "text/plain": [
       "{'pyproj_srs': '+proj=utm +zone=32 +datum=WGS84 +units=m +no_defs'}"
      ]
     },
     "execution_count": 20,
     "metadata": {},
     "output_type": "execute_result"
    }
   ],
   "source": [
    "proj_attrs"
   ]
  },
  {
   "cell_type": "code",
   "execution_count": 22,
   "id": "c0886098",
   "metadata": {},
   "outputs": [],
   "source": [
    "# # assemble the final dataset\n",
    "#     dims = ('y', 'x')\n",
    "#     coords = {\n",
    "#         'x': landsat_ds.salem.grid.x_coord,\n",
    "#         'y': landsat_ds.salem.grid.y_coord\n",
    "#     }\n",
    "#     landsat_features_ds = xr.Dataset(\n",
    "#         {\n",
    "#             landsat_feature_key: xr.DataArray(\n",
    "#                 landsat_features_dict[landsat_feature_key], dims=dims,\n",
    "#                 coords=coords, attrs=proj_attrs)\n",
    "#             for landsat_feature_key in landsat_features_dict\n",
    "#         }, attrs=proj_attrs)\n",
    "    # add the date\n",
    "landsat_features_ds = landsat_ds.copy()\n",
    "landsat_features_ds = landsat_features_ds.assign_coords({\n",
    "        'time':\n",
    "        pd.to_datetime(pd.to_datetime('20220706'))\n",
    "    })\n",
    "\n"
   ]
  },
  {
   "cell_type": "code",
   "execution_count": 23,
   "id": "fb2e5fee",
   "metadata": {},
   "outputs": [
    {
     "data": {
      "text/html": [
       "<pre>&lt;xarray.Dataset&gt;\n",
       "Dimensions:  (x: 487, y: 1319)\n",
       "Coordinates:\n",
       "  * x        (x) float64 6.573e+05 6.573e+05 6.573e+05 ... 6.718e+05 6.718e+05\n",
       "  * y        (y) float64 5.124e+06 5.124e+06 5.124e+06 ... 5.085e+06 5.085e+06\n",
       "    time     datetime64[ns] 2022-07-06\n",
       "Data variables:\n",
       "    NDVI     (y, x) float32 0.82674646 0.7752773 0.71800596 ... nan nan\n",
       "    NDWI     (y, x) float32 -0.7666657 -0.7277764 -0.67663103 ... nan nan\n",
       "    LST      (y, x) float32 300.50348 300.96823 301.3617 ... 290.91714 nan nan\n",
       "Attributes:\n",
       "    pyproj_srs:  +proj=utm +zone=32 +datum=WGS84 +units=m +no_defs</pre>"
      ],
      "text/plain": [
       "<xarray.Dataset>\n",
       "Dimensions:  (x: 487, y: 1319)\n",
       "Coordinates:\n",
       "  * x        (x) float64 6.573e+05 6.573e+05 6.573e+05 ... 6.718e+05 6.718e+05\n",
       "  * y        (y) float64 5.124e+06 5.124e+06 5.124e+06 ... 5.085e+06 5.085e+06\n",
       "    time     datetime64[ns] 2022-07-06\n",
       "Data variables:\n",
       "    NDVI     (y, x) float32 0.82674646 0.7752773 0.71800596 ... nan nan\n",
       "    NDWI     (y, x) float32 -0.7666657 -0.7277764 -0.67663103 ... nan nan\n",
       "    LST      (y, x) float32 300.50348 300.96823 301.3617 ... 290.91714 nan nan\n",
       "Attributes:\n",
       "    pyproj_srs:  +proj=utm +zone=32 +datum=WGS84 +units=m +no_defs"
      ]
     },
     "execution_count": 23,
     "metadata": {},
     "output_type": "execute_result"
    }
   ],
   "source": [
    "landsat_features_ds"
   ]
  },
  {
   "cell_type": "code",
   "execution_count": 24,
   "id": "45043cd6",
   "metadata": {},
   "outputs": [],
   "source": [
    "datasets = []\n",
    "datasets.append(landsat_features_ds)"
   ]
  },
  {
   "cell_type": "code",
   "execution_count": 43,
   "id": "c003aa44",
   "metadata": {},
   "outputs": [
    {
     "ename": "NameError",
     "evalue": "name 'datasets' is not defined",
     "output_type": "error",
     "traceback": [
      "\u001b[0;31m---------------------------------------------------------------------------\u001b[0m",
      "\u001b[0;31mNameError\u001b[0m                                 Traceback (most recent call last)",
      "\u001b[0;32m/tmp/ipykernel_25732/1104227315.py\u001b[0m in \u001b[0;36m<module>\u001b[0;34m\u001b[0m\n\u001b[0;32m----> 1\u001b[0;31m \u001b[0mdatasets\u001b[0m\u001b[0;34m\u001b[0m\u001b[0;34m\u001b[0m\u001b[0m\n\u001b[0m",
      "\u001b[0;31mNameError\u001b[0m: name 'datasets' is not defined"
     ]
    }
   ],
   "source": [
    "datasets"
   ]
  },
  {
   "cell_type": "markdown",
   "id": "8bc7dbc3",
   "metadata": {},
   "source": [
    "# tile 1"
   ]
  },
  {
   "cell_type": "code",
   "execution_count": 1,
   "id": "e28c9181",
   "metadata": {},
   "outputs": [],
   "source": [
    "\n",
    "datasets = []"
   ]
  },
  {
   "cell_type": "code",
   "execution_count": 2,
   "id": "deb31735",
   "metadata": {},
   "outputs": [],
   "source": [
    "import pandas as pd"
   ]
  },
  {
   "cell_type": "code",
   "execution_count": 63,
   "id": "ff14af5f",
   "metadata": {},
   "outputs": [],
   "source": [
    "# now let's do it for the other tiles\n",
    "tile0 = 'uhi_LC08_193028_20220718.tif'\n",
    "data = '20220718'"
   ]
  },
  {
   "cell_type": "code",
   "execution_count": 64,
   "id": "7d3a9942",
   "metadata": {},
   "outputs": [],
   "source": [
    "lst_gee_tiles = 'data/raw/landsat_gee_tiles/gee_uhi-20230118T151928Z-001/gee_uhi/'"
   ]
  },
  {
   "cell_type": "code",
   "execution_count": 65,
   "id": "3bead846",
   "metadata": {},
   "outputs": [
    {
     "name": "stdout",
     "output_type": "stream",
     "text": [
      "Input file size is 1020, 1324\n",
      "0...10...20...30...40...50...60...70...80...90...100 - done.\n"
     ]
    }
   ],
   "source": [
    "# bad way\n",
    "!gdal_translate -b 9 {lst_gee_tiles+tile0} ndvi.tif\n"
   ]
  },
  {
   "cell_type": "code",
   "execution_count": 66,
   "id": "dbbe7805",
   "metadata": {},
   "outputs": [
    {
     "name": "stdout",
     "output_type": "stream",
     "text": [
      "Input file size is 1020, 1324\n",
      "0...10...20...30...40...50...60...70...80...90...100 - done.\n"
     ]
    }
   ],
   "source": [
    "!gdal_translate -b 10 {lst_gee_tiles+tile0} ndwi.tif\n"
   ]
  },
  {
   "cell_type": "code",
   "execution_count": 67,
   "id": "c1a5f70e",
   "metadata": {},
   "outputs": [
    {
     "name": "stdout",
     "output_type": "stream",
     "text": [
      "Input file size is 1020, 1324\n",
      "0...10...20...30...40...50...60...70...80...90...100 - done.\n"
     ]
    }
   ],
   "source": [
    "!gdal_translate -b 17 {lst_gee_tiles+tile0} lst.tif\n"
   ]
  },
  {
   "cell_type": "code",
   "execution_count": 68,
   "id": "cab383af",
   "metadata": {},
   "outputs": [],
   "source": [
    "! mv *.tif {lst_gee_tiles}"
   ]
  },
  {
   "cell_type": "code",
   "execution_count": 69,
   "id": "dc24cd9f",
   "metadata": {},
   "outputs": [],
   "source": [
    "# to be run only from second tile\n",
    "landsat_ds_old = landsat_ds.copy()"
   ]
  },
  {
   "cell_type": "code",
   "execution_count": 70,
   "id": "2b6f0e8e",
   "metadata": {},
   "outputs": [],
   "source": [
    "# create xarray dataset\n",
    "import xarray as xr\n",
    "import salem\n",
    "#\n",
    "band_filepaths = [lst_gee_tiles+ 'ndvi.tif',lst_gee_tiles+ 'ndwi.tif',lst_gee_tiles + 'lst.tif']\n",
    "bands = ['NDVI','NDWI','LST']\n",
    "landsat_ds = xr.Dataset({\n",
    "            band: salem.open_xr_dataset(band_filepath)['data']\n",
    "            for band, band_filepath in zip(bands, band_filepaths)})"
   ]
  },
  {
   "cell_type": "code",
   "execution_count": 71,
   "id": "2bb7e9f2",
   "metadata": {},
   "outputs": [],
   "source": [
    "# needed to force the pyproj, since otherwise  >> https://salem.readthedocs.io/en/v0.2.3/faq.html#why-is-my-dataset-not-supported-dataset-grid-not-understood-error\n",
    "#solution>> https://salem.readthedocs.io/en/latest/xarray_acc.html#custom-projection\n",
    "\n",
    "landsat_ds.attrs['pyproj_srs'] = 'epsg:32632'"
   ]
  },
  {
   "cell_type": "code",
   "execution_count": 46,
   "id": "4697c081",
   "metadata": {},
   "outputs": [],
   "source": [
    "from swiss_uhi_utils import geo_utils"
   ]
  },
  {
   "cell_type": "code",
   "execution_count": 47,
   "id": "cdfe43c1",
   "metadata": {},
   "outputs": [
    {
     "data": {
      "text/plain": [
       "<AxesSubplot:>"
      ]
     },
     "execution_count": 47,
     "metadata": {},
     "output_type": "execute_result"
    },
    {
     "data": {
      "image/png": "[encoded data removed]",
      "text/plain": [
       "<Figure size 640x480 with 1 Axes>"
      ]
     },
     "metadata": {},
     "output_type": "display_data"
    }
   ],
   "source": [
    "import geopandas as gpd\n",
    "buffer_dist = 2000\n",
    "agglom_extent_filepath = 'data/raw/agglom-extent/agglom-extent.shp'\n",
    "agglom_extent_gdf = gpd.read_file(agglom_extent_filepath)\n",
    "#crs = agglom_extent_gdf.crs\n",
    "#ref_geom = agglom_extent_gdf.loc[0]['geometry'].buffer(buffer_dist)\n",
    "agglom_extent_gdf.plot()"
   ]
  },
  {
   "cell_type": "code",
   "execution_count": 48,
   "id": "a7830042",
   "metadata": {},
   "outputs": [
    {
     "name": "stderr",
     "output_type": "stream",
     "text": [
      "/home/beber/mambaforge/envs/uhi/lib/python3.7/site-packages/pyproj/crs/crs.py:53: FutureWarning: '+init=<authority>:<code>' syntax is deprecated. '<authority>:<code>' is the preferred initialization method. When making the change, be mindful of axis order changes: https://pyproj4.github.io/pyproj/stable/gotchas.html#axis-order-changes-in-proj-6\n",
      "  return _prepare_from_string(\" \".join(pjargs))\n"
     ]
    }
   ],
   "source": [
    "#just to be sure reproject agglom_extent_gdf from 4326 to 32632\n",
    "agglom_extent_gdf = agglom_extent_gdf.to_crs('EPSG:32632')"
   ]
  },
  {
   "cell_type": "code",
   "execution_count": 49,
   "id": "17670aa0",
   "metadata": {},
   "outputs": [
    {
     "data": {
      "text/plain": [
       "<AxesSubplot:>"
      ]
     },
     "execution_count": 49,
     "metadata": {},
     "output_type": "execute_result"
    },
    {
     "data": {
      "image/png": "[encoded data removed]",
      "text/plain": [
       "<Figure size 640x480 with 1 Axes>"
      ]
     },
     "metadata": {},
     "output_type": "display_data"
    }
   ],
   "source": [
    "crs = agglom_extent_gdf.crs\n",
    "ref_geom = agglom_extent_gdf.loc[0]['geometry'].buffer(buffer_dist)\n",
    "agglom_extent_gdf.plot()"
   ]
  },
  {
   "cell_type": "code",
   "execution_count": 50,
   "id": "07bf651b",
   "metadata": {},
   "outputs": [
    {
     "data": {
      "text/plain": [
       "'EPSG:32632'"
      ]
     },
     "execution_count": 50,
     "metadata": {},
     "output_type": "execute_result"
    }
   ],
   "source": [
    "crs"
   ]
  },
  {
   "cell_type": "code",
   "execution_count": 51,
   "id": "75ddfe9e",
   "metadata": {},
   "outputs": [
    {
     "data": {
      "image/svg+xml": [
       "<svg xmlns=\"http://www.w3.org/2000/svg\" xmlns:xlink=\"http://www.w3.org/1999/xlink\" width=\"300\" height=\"300\" viewBox=\"655663.0270700593 5083295.1885301545 17766.982605307363 42729.161813295446\" preserveAspectRatio=\"xMinYMin meet\"><g transform=\"matrix(1,0,0,-1,0,10209319.538873605)\"><path fill-rule=\"evenodd\" fill=\"#66cc99\" stroke=\"#555555\" stroke-width=\"284.86107875530297\" opacity=\"0.6\" d=\"M 658515.274962536,5086350.241925175 L 658352.5129163599,5086455.920345223 L 658200.758980562,5086576.875523322 L 658061.4418961451,5086711.968684247 L 657935.8733129845,5086859.927945742 L 657825.2354408362,5087019.360293105 L 657730.5699190068,5087188.764694217 L 657652.7680094715,5087366.546231536 L 657592.5622057746,5087551.031118019 L 657550.5193367096,5087740.48245557 L 657527.0352297102,5087933.11658769 L 657522.3309841922,5088127.119892335 L 657536.4508899357,5088320.665856904 L 657569.2620101036,5088511.932274585 L 657620.4554328213,5088699.118400165 L 657689.5491795377,5088880.461903781 L 657775.8927427818,5089054.2554629985 L 659145.1813499138,5091504.333012142 L 658829.0330262338,5094172.475168999 L 658815.2308809874,5094388.665696347 L 658824.8920825145,5094605.080817154 L 658857.9032835619,5094819.181503593 L 659377.8849491773,5097293.160328113 L 659956.1793575591,5101204.540267226 L 659985.967998433,5101362.080544763 L 660028.2801323947,5101516.728485232 L 660627.7075893464,5103406.4767881185 L 659085.3021602149,5107074.825030002 L 659015.8064918057,5107267.0591531955 L 657332.4199065948,5112791.618960045 L 657284.8172045067,5112980.329772459 L 657255.7817921088,5113172.7738755 L 657245.5886186998,5113367.1289299335 L 657254.3342079949,5113561.554500875 L 657281.9357440997,5113754.209485687 L 657328.1318557314,5113943.269548202 L 657392.4850912595,5114126.944394181 L 657474.3860611315,5114303.494724404 L 657573.0592084546,5114471.2487048805 L 657687.5701530906,5114628.617798182 L 659208.0363460672,5116517.623974479 L 659464.1380873751,5117896.449854555 L 658148.5899905295,5120365.788289527 L 658064.3607330335,5120544.677401324 L 657998.2070667809,5120731.00929494 L 657950.7755757562,5120922.96276794 L 657922.5298539553,5121118.661672734 L 657913.7459742306,5121316.193253992 L 657924.5097899637,5121513.62684386 L 657954.716095937,5121709.032732249 L 658004.0696566058,5121900.501027763 L 658072.0880917225,5122086.160324922 L 658158.1065911063,5122264.195995227 L 658261.2844124788,5122432.867923284 L 658380.6130988543,5122590.5275146365 L 658514.9263351681,5122735.633809084 L 658662.9113478062,5122866.7685419815 L 658823.1217356154,5122982.650006313 L 658993.9916069862,5123082.14558006 L 659173.8508848303,5123164.282796416 L 660877.9725931721,5123842.835126047 L 661085.6953418452,5123912.625262629 L 661299.8064384349,5123959.271182039 L 664148.5038234856,5124418.103842847 L 664348.9113892223,5124440.090378463 L 664550.5142551116,5124441.788794809 L 664751.2638033838,5124423.181833171 L 664949.1200873841,5124384.458570982 L 665142.0725607964,5124326.012500483 L 665328.160508112,5124248.437530184 L 665505.4929687341,5124152.521949789 L 665672.2679522572,5124039.240419856 L 665826.7907496636,5123909.744067651 L 665967.4911543634,5123765.348789784 L 668386.7919754675,5121018.138406273 L 668508.6482268651,5120865.3142761905 L 668615.0049789308,5120701.325245978 L 668704.8464140517,5120527.737581452 L 668777.3144530706,5120346.209225372 L 668831.7169508348,5120158.473962364 L 668867.5343069019,5119966.3248594655 L 668884.4244282647,5119771.597140483 L 668882.2259966956,5119576.150657683 L 668860.9600095025,5119381.852128278 L 668820.829578984,5119190.55730533 L 668762.2179924943,5119004.093253382 L 668024.9729845594,5117005.751567646 L 667977.7683180041,5115166.475322565 L 668122.7185399306,5112968.729372689 L 668264.6344305458,5112119.268605595 L 668287.6365765759,5111921.357775214 L 668290.8328756469,5111722.140358364 L 668216.0331650852,5109509.2195725385 L 669264.2249729342,5107867.533283827 L 670921.2760905966,5106506.137201198 L 671058.8163352585,5106382.033140477 L 671184.283479952,5106245.73518601 L 671296.6010436522,5106098.412744834 L 671394.8053659006,5105941.329811703 L 671478.0538748053,5105775.834124284 L 671545.6323161252,5105603.345599859 L 671596.9608814173,5105425.344152746 L 671631.5991826681,5105243.356996947 L 671829.2472203482,5103858.404914492 L 671847.4481267262,5103662.072731806 L 671846.2283082643,5103464.902472908 L 671825.5996208654,5103268.81051436 L 671785.7625629887,5103075.702752291 L 671727.1043269238,5102887.456078236 L 671650.1950355152,5102705.900136868 L 671555.7822009097,5102532.799542955 L 671444.7834591868,5102369.836730366 L 671318.2776514881,5102218.595599817 L 671177.4943383276,5102080.546124314 L 671023.8018490023,5101957.030061892 L 670858.6939822526,5101849.247914537 L 670683.7754874354,5101758.247260023 L 670500.7464673234,5101684.912570087 L 670311.3858541265,5101629.956613896 L 669697.7806127324,5101484.247614605 L 669676.7426574134,5101429.278782455 L 669243.1279834751,5100465.05075013 L 669001.0212005049,5098222.545156476 L 668969.4023352222,5098023.905185483 L 668917.991352344,5097829.445674126 L 668847.3082429965,5097641.133463235 L 667770.5757718311,5095159.608793071 L 667693.1062081757,5095000.696323686 L 667601.9059639821,5094849.245930231 L 667497.6876484603,5094706.440997093 L 666782.9037159199,5093812.805235535 L 666025.7055848024,5092428.858643721 L 665937.1045568921,5091081.703440871 L 665978.031812258,5089058.645457857 L 665972.9440334158,5088870.012413535 L 665950.1010331486,5088682.698483882 L 665909.7061616204,5088498.371152056 L 665852.1190171175,5088318.671314295 L 665777.852244876,5088145.19867252 L 665687.5669734749,5087979.497493672 L 665582.0669294179,5087823.042862524 L 664527.4067020344,5086407.923079857 L 664388.5776343874,5086241.320613206 L 664232.5262566938,5086090.728915434 L 664061.08733881,5085957.91856436 L 663876.2765691805,5085844.451074096 L 662536.6482104267,5085118.888462264 L 662351.9423577768,5085030.757045285 L 662159.1970915827,5084961.962706697 L 661960.4306185504,5084913.225781679 L 661757.7241925377,5084885.056587245 L 661553.2003220576,5084877.7500787955 L 661349.0005458108,5084891.382761681 L 661147.2630089562,5084925.81189013 L 660950.1000749139,5084980.676961913 L 660759.5762071261,5085055.403493113 L 660577.6863523701,5085149.209033454 L 658515.274962536,5086350.241925175 z\" /></g></svg>"
      ],
      "text/plain": [
       "<shapely.geometry.polygon.Polygon at 0x7f3b72f39e50>"
      ]
     },
     "execution_count": 51,
     "metadata": {},
     "output_type": "execute_result"
    }
   ],
   "source": [
    "ref_geom"
   ]
  },
  {
   "cell_type": "code",
   "execution_count": 52,
   "id": "0160b0c5",
   "metadata": {},
   "outputs": [
    {
     "data": {
      "text/plain": [
       "{'pyproj_srs': 'epsg:32632'}"
      ]
     },
     "execution_count": 52,
     "metadata": {},
     "output_type": "execute_result"
    }
   ],
   "source": [
    "landsat_ds.attrs"
   ]
  },
  {
   "cell_type": "code",
   "execution_count": 53,
   "id": "208dc9c5",
   "metadata": {},
   "outputs": [
    {
     "data": {
      "text/plain": [
       "'0.2.4'"
      ]
     },
     "execution_count": 53,
     "metadata": {},
     "output_type": "execute_result"
    }
   ],
   "source": [
    "salem.version.version"
   ]
  },
  {
   "cell_type": "code",
   "execution_count": 72,
   "id": "9efe80ef",
   "metadata": {},
   "outputs": [],
   "source": [
    "from swiss_uhi_utils import geo_utils\n",
    "# first time need to make a ds_ref\n",
    "# for the first tile\n",
    "\n",
    "ref_ds = landsat_ds_old #None #after first tile not None\n",
    "if ref_ds is None:\n",
    "    landsat_ds = geo_utils.clip_ds_to_extent(landsat_ds, geom=ref_geom,\n",
    "                                                 crs=crs, roi=False,\n",
    "                                                 subset_kws=None,\n",
    "                                                 roi_kws=None)\n",
    "    \n",
    "else:\n",
    "    landsat_ds = ref_ds.salem.transform(landsat_ds, interp='linear')\n"
   ]
  },
  {
   "cell_type": "code",
   "execution_count": 73,
   "id": "6e16c375",
   "metadata": {},
   "outputs": [],
   "source": [
    "landsat_features_ds = landsat_ds.copy()\n",
    "landsat_features_ds = landsat_features_ds.assign_coords({\n",
    "        'time':\n",
    "        pd.to_datetime(pd.to_datetime(data, format = '%Y%m%d'))\n",
    "    })"
   ]
  },
  {
   "cell_type": "code",
   "execution_count": 74,
   "id": "b5703d00",
   "metadata": {},
   "outputs": [],
   "source": [
    "\n",
    "datasets.append(landsat_features_ds)"
   ]
  },
  {
   "cell_type": "code",
   "execution_count": 75,
   "id": "81cf6009",
   "metadata": {},
   "outputs": [
    {
     "data": {
      "text/plain": [
       "[<xarray.Dataset>\n",
       " Dimensions:  (x: 487, y: 1319)\n",
       " Coordinates:\n",
       "   * x        (x) float64 6.573e+05 6.573e+05 6.573e+05 ... 6.718e+05 6.718e+05\n",
       "   * y        (y) float64 5.124e+06 5.124e+06 5.124e+06 ... 5.085e+06 5.085e+06\n",
       "     time     datetime64[ns] 2022-06-25\n",
       " Data variables:\n",
       "     NDVI     (y, x) float32 0.82674646 0.7752773 0.71800596 ... nan nan\n",
       "     NDWI     (y, x) float32 -0.7666657 -0.7277764 -0.67663103 ... nan nan\n",
       "     LST      (y, x) float32 300.50348 300.96823 301.3617 ... 290.91714 nan nan\n",
       " Attributes:\n",
       "     pyproj_srs:  epsg:32632,\n",
       " <xarray.Dataset>\n",
       " Dimensions:  (x: 487, y: 1319)\n",
       " Coordinates:\n",
       "   * x        (x) float64 6.573e+05 6.573e+05 6.573e+05 ... 6.718e+05 6.718e+05\n",
       "   * y        (y) float64 5.124e+06 5.124e+06 5.124e+06 ... 5.085e+06 5.085e+06\n",
       "     time     datetime64[ns] 2022-07-02\n",
       " Data variables:\n",
       "     NDVI     (y, x) float32 0.8233043 0.8340537 ... 1.0009882 0.96210927\n",
       "     NDWI     (y, x) float32 -0.76083535 -0.76821685 ... -0.866932 -0.8567729\n",
       "     LST      (y, x) float32 302.04376 302.21887 ... 293.58908 293.44934\n",
       " Attributes:\n",
       "     pyproj_srs:  +proj=utm +zone=32 +datum=WGS84 +units=m +no_defs,\n",
       " <xarray.Dataset>\n",
       " Dimensions:  (x: 487, y: 1319)\n",
       " Coordinates:\n",
       "   * x        (x) float64 6.573e+05 6.573e+05 6.573e+05 ... 6.718e+05 6.718e+05\n",
       "   * y        (y) float64 5.124e+06 5.124e+06 5.124e+06 ... 5.085e+06 5.085e+06\n",
       "     time     datetime64[ns] 2022-07-11\n",
       " Data variables:\n",
       "     NDVI     (y, x) float32 0.84007615 0.80730885 ... 0.8402541 0.86918014\n",
       "     NDWI     (y, x) float32 -0.7613705 -0.74217296 ... -0.7624538 -0.7822934\n",
       "     LST      (y, x) float32 302.8776 303.22922 303.7268 ... 294.27002 294.32553\n",
       " Attributes:\n",
       "     pyproj_srs:  +proj=utm +zone=32 +datum=WGS84 +units=m +no_defs,\n",
       " <xarray.Dataset>\n",
       " Dimensions:  (x: 487, y: 1319)\n",
       " Coordinates:\n",
       "   * x        (x) float64 6.573e+05 6.573e+05 6.573e+05 ... 6.718e+05 6.718e+05\n",
       "   * y        (y) float64 5.124e+06 5.124e+06 5.124e+06 ... 5.085e+06 5.085e+06\n",
       "     time     datetime64[ns] 2022-07-18\n",
       " Data variables:\n",
       "     NDVI     (y, x) float32 0.84151834 0.8160198 0.7026226 ... nan nan nan\n",
       "     NDWI     (y, x) float32 -0.7747562 -0.75308985 -0.6710536 ... nan nan nan\n",
       "     LST      (y, x) float32 303.7379 304.04202 304.55566 ... nan nan nan\n",
       " Attributes:\n",
       "     pyproj_srs:  +proj=utm +zone=32 +datum=WGS84 +units=m +no_defs]"
      ]
     },
     "execution_count": 75,
     "metadata": {},
     "output_type": "execute_result"
    }
   ],
   "source": [
    "datasets"
   ]
  },
  {
   "cell_type": "code",
   "execution_count": 95,
   "id": "6b33a451",
   "metadata": {},
   "outputs": [
    {
     "data": {
      "text/html": [
       "<pre>&lt;xarray.Dataset&gt;\n",
       "Dimensions:  (time: 4, x: 487, y: 1319)\n",
       "Coordinates:\n",
       "  * y        (y) float64 5.124e+06 5.124e+06 5.124e+06 ... 5.085e+06 5.085e+06\n",
       "  * x        (x) float64 6.573e+05 6.573e+05 6.573e+05 ... 6.718e+05 6.718e+05\n",
       "  * time     (time) datetime64[ns] 2022-06-25 2022-07-02 2022-07-11 2022-07-18\n",
       "Data variables:\n",
       "    NDVI     (time, y, x) float32 0.82674646 0.7752773 0.71800596 ... nan nan\n",
       "    NDWI     (time, y, x) float32 -0.7666657 -0.7277764 -0.67663103 ... nan nan\n",
       "    LST      (time, y, x) float32 300.50348 300.96823 301.3617 ... nan nan nan\n",
       "Attributes:\n",
       "    pyproj_srs:  epsg:32632</pre>"
      ],
      "text/plain": [
       "<xarray.Dataset>\n",
       "Dimensions:  (time: 4, x: 487, y: 1319)\n",
       "Coordinates:\n",
       "  * y        (y) float64 5.124e+06 5.124e+06 5.124e+06 ... 5.085e+06 5.085e+06\n",
       "  * x        (x) float64 6.573e+05 6.573e+05 6.573e+05 ... 6.718e+05 6.718e+05\n",
       "  * time     (time) datetime64[ns] 2022-06-25 2022-07-02 2022-07-11 2022-07-18\n",
       "Data variables:\n",
       "    NDVI     (time, y, x) float32 0.82674646 0.7752773 0.71800596 ... nan nan\n",
       "    NDWI     (time, y, x) float32 -0.7666657 -0.7277764 -0.67663103 ... nan nan\n",
       "    LST      (time, y, x) float32 300.50348 300.96823 301.3617 ... nan nan nan\n",
       "Attributes:\n",
       "    pyproj_srs:  epsg:32632"
      ]
     },
     "execution_count": 95,
     "metadata": {},
     "output_type": "execute_result"
    }
   ],
   "source": [
    "agglom_landsat_ds"
   ]
  },
  {
   "cell_type": "code",
   "execution_count": 87,
   "id": "f0679ad2",
   "metadata": {},
   "outputs": [
    {
     "data": {
      "text/html": [
       "<pre>&lt;xarray.Dataset&gt;\n",
       "Dimensions:  (time: 4, x: 487, y: 1319)\n",
       "Coordinates:\n",
       "  * y        (y) float64 5.124e+06 5.124e+06 5.124e+06 ... 5.085e+06 5.085e+06\n",
       "  * x        (x) float64 6.573e+05 6.573e+05 6.573e+05 ... 6.718e+05 6.718e+05\n",
       "  * time     (time) datetime64[ns] 2022-06-25 2022-07-02 2022-07-11 2022-07-18\n",
       "Data variables:\n",
       "    NDVI     (time, y, x) float32 0.82674646 0.7752773 0.71800596 ... nan nan\n",
       "    NDWI     (time, y, x) float32 -0.7666657 -0.7277764 -0.67663103 ... nan nan\n",
       "    LST      (time, y, x) float32 300.50348 300.96823 301.3617 ... nan nan nan\n",
       "Attributes:\n",
       "    pyproj_srs:  epsg:32632</pre>"
      ],
      "text/plain": [
       "<xarray.Dataset>\n",
       "Dimensions:  (time: 4, x: 487, y: 1319)\n",
       "Coordinates:\n",
       "  * y        (y) float64 5.124e+06 5.124e+06 5.124e+06 ... 5.085e+06 5.085e+06\n",
       "  * x        (x) float64 6.573e+05 6.573e+05 6.573e+05 ... 6.718e+05 6.718e+05\n",
       "  * time     (time) datetime64[ns] 2022-06-25 2022-07-02 2022-07-11 2022-07-18\n",
       "Data variables:\n",
       "    NDVI     (time, y, x) float32 0.82674646 0.7752773 0.71800596 ... nan nan\n",
       "    NDWI     (time, y, x) float32 -0.7666657 -0.7277764 -0.67663103 ... nan nan\n",
       "    LST      (time, y, x) float32 300.50348 300.96823 301.3617 ... nan nan nan\n",
       "Attributes:\n",
       "    pyproj_srs:  epsg:32632"
      ]
     },
     "execution_count": 87,
     "metadata": {},
     "output_type": "execute_result"
    }
   ],
   "source": [
    "abb =  agglom_landsat_ds.copy()\n",
    "abb"
   ]
  },
  {
   "cell_type": "code",
   "execution_count": 89,
   "id": "eef793dd",
   "metadata": {},
   "outputs": [],
   "source": [
    "abb['LST'] = abb.LST - 273.15"
   ]
  },
  {
   "cell_type": "code",
   "execution_count": 90,
   "id": "41381afa",
   "metadata": {},
   "outputs": [
    {
     "data": {
      "text/html": [
       "<pre>&lt;xarray.Dataset&gt;\n",
       "Dimensions:  (time: 4, x: 487, y: 1319)\n",
       "Coordinates:\n",
       "  * y        (y) float64 5.124e+06 5.124e+06 5.124e+06 ... 5.085e+06 5.085e+06\n",
       "  * x        (x) float64 6.573e+05 6.573e+05 6.573e+05 ... 6.718e+05 6.718e+05\n",
       "  * time     (time) datetime64[ns] 2022-06-25 2022-07-02 2022-07-11 2022-07-18\n",
       "Data variables:\n",
       "    NDVI     (time, y, x) float32 0.82674646 0.7752773 0.71800596 ... nan nan\n",
       "    NDWI     (time, y, x) float32 -0.7666657 -0.7277764 -0.67663103 ... nan nan\n",
       "    LST      (time, y, x) float32 27.353485 27.818237 28.2117 ... nan nan nan\n",
       "Attributes:\n",
       "    pyproj_srs:  epsg:32632</pre>"
      ],
      "text/plain": [
       "<xarray.Dataset>\n",
       "Dimensions:  (time: 4, x: 487, y: 1319)\n",
       "Coordinates:\n",
       "  * y        (y) float64 5.124e+06 5.124e+06 5.124e+06 ... 5.085e+06 5.085e+06\n",
       "  * x        (x) float64 6.573e+05 6.573e+05 6.573e+05 ... 6.718e+05 6.718e+05\n",
       "  * time     (time) datetime64[ns] 2022-06-25 2022-07-02 2022-07-11 2022-07-18\n",
       "Data variables:\n",
       "    NDVI     (time, y, x) float32 0.82674646 0.7752773 0.71800596 ... nan nan\n",
       "    NDWI     (time, y, x) float32 -0.7666657 -0.7277764 -0.67663103 ... nan nan\n",
       "    LST      (time, y, x) float32 27.353485 27.818237 28.2117 ... nan nan nan\n",
       "Attributes:\n",
       "    pyproj_srs:  epsg:32632"
      ]
     },
     "execution_count": 90,
     "metadata": {},
     "output_type": "execute_result"
    }
   ],
   "source": [
    "abb\n"
   ]
  },
  {
   "cell_type": "code",
   "execution_count": 97,
   "id": "dbc0039d",
   "metadata": {},
   "outputs": [],
   "source": [
    "# Convert Kelvin to celsius\n",
    "agglom_landsat_ds['LST'] = agglom_landsat_ds.LST - 273.15"
   ]
  },
  {
   "cell_type": "code",
   "execution_count": 98,
   "id": "f43fa60f",
   "metadata": {},
   "outputs": [
    {
     "data": {
      "text/html": [
       "<pre>&lt;xarray.Dataset&gt;\n",
       "Dimensions:  (time: 4, x: 487, y: 1319)\n",
       "Coordinates:\n",
       "  * y        (y) float64 5.124e+06 5.124e+06 5.124e+06 ... 5.085e+06 5.085e+06\n",
       "  * x        (x) float64 6.573e+05 6.573e+05 6.573e+05 ... 6.718e+05 6.718e+05\n",
       "  * time     (time) datetime64[ns] 2022-06-25 2022-07-02 2022-07-11 2022-07-18\n",
       "Data variables:\n",
       "    NDVI     (time, y, x) float32 0.82674646 0.7752773 0.71800596 ... nan nan\n",
       "    NDWI     (time, y, x) float32 -0.7666657 -0.7277764 -0.67663103 ... nan nan\n",
       "    LST      (time, y, x) float32 27.353485 27.818237 28.2117 ... nan nan nan\n",
       "Attributes:\n",
       "    pyproj_srs:  epsg:32632</pre>"
      ],
      "text/plain": [
       "<xarray.Dataset>\n",
       "Dimensions:  (time: 4, x: 487, y: 1319)\n",
       "Coordinates:\n",
       "  * y        (y) float64 5.124e+06 5.124e+06 5.124e+06 ... 5.085e+06 5.085e+06\n",
       "  * x        (x) float64 6.573e+05 6.573e+05 6.573e+05 ... 6.718e+05 6.718e+05\n",
       "  * time     (time) datetime64[ns] 2022-06-25 2022-07-02 2022-07-11 2022-07-18\n",
       "Data variables:\n",
       "    NDVI     (time, y, x) float32 0.82674646 0.7752773 0.71800596 ... nan nan\n",
       "    NDWI     (time, y, x) float32 -0.7666657 -0.7277764 -0.67663103 ... nan nan\n",
       "    LST      (time, y, x) float32 27.353485 27.818237 28.2117 ... nan nan nan\n",
       "Attributes:\n",
       "    pyproj_srs:  epsg:32632"
      ]
     },
     "execution_count": 98,
     "metadata": {},
     "output_type": "execute_result"
    }
   ],
   "source": [
    "agglom_landsat_ds"
   ]
  },
  {
   "cell_type": "code",
   "execution_count": 99,
   "id": "a56f24cf",
   "metadata": {},
   "outputs": [],
   "source": [
    "# save dataset to nc file\n",
    "import xarray as xr\n",
    "import os\n",
    "from os import path\n",
    "dst_filepath = lst_gee_tiles + 'landsat-features.nc'\n",
    "#uncomment in order to reuse datasets\n",
    "#agglom_landsat_ds = xr.concat(datasets, dim='time')\n",
    "if path.exists(dst_filepath):\n",
    "    os.remove(dst_filepath)\n",
    "agglom_landsat_ds.to_netcdf(dst_filepath)\n",
    "    #logger.info(\"dumped landsat features dataset to %s\", dst_filepath)"
   ]
  },
  {
   "cell_type": "code",
   "execution_count": null,
   "id": "522e8444",
   "metadata": {},
   "outputs": [],
   "source": []
  }
 ],
 "metadata": {
  "kernelspec": {
   "display_name": "Py_uhi",
   "language": "python",
   "name": "uhi"
  },
  "language_info": {
   "codemirror_mode": {
    "name": "ipython",
    "version": 3
   },
   "file_extension": ".py",
   "mimetype": "text/x-python",
   "name": "python",
   "nbconvert_exporter": "python",
   "pygments_lexer": "ipython3",
   "version": "3.7.12"
  }
 },
 "nbformat": 4,
 "nbformat_minor": 5
}
